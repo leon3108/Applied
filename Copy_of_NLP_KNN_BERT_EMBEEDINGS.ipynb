{
  "cells": [
    {
      "cell_type": "markdown",
      "metadata": {
        "id": "view-in-github",
        "colab_type": "text"
      },
      "source": [
        "<a href=\"https://colab.research.google.com/github/leon3108/Applied/blob/main/Copy_of_NLP_KNN_BERT_EMBEEDINGS.ipynb\" target=\"_parent\"><img src=\"https://colab.research.google.com/assets/colab-badge.svg\" alt=\"Open In Colab\"/></a>"
      ]
    },
    {
      "cell_type": "markdown",
      "metadata": {
        "id": "mQ_5cOKU6kXs"
      },
      "source": []
    },
    {
      "cell_type": "markdown",
      "metadata": {
        "id": "JZj2oO4Z6kXw"
      },
      "source": [
        "# BERT Embeeding Natural Language Processing </a>\n",
        "\n",
        "## K Nearest Neighbors Model for a Classification Problem: Classify Product Reviews as Positive or Negative\n",
        "\n",
        "In this notebook, we use the K Nearest Neighbors method to build a classifier to predict the __isPositive__ field of our review dataset (that is very similar to the final project dataset).\n",
        "\n",
        "\n",
        "1. <a href=\"#1\">Reading the dataset</a>\n",
        "2. <a href=\"#2\">Exploratory data analysis</a>\n",
        "3. <a href=\"#3\">Text Processing: Stop words removal and stemming</a>\n",
        "4. <a href=\"#4\">Train - Validation Split</a>\n",
        "5. <a href=\"#5\">Data processing with Pipeline</a>\n",
        "6. <a href=\"#6\">Train the classifier</a>\n",
        "7. <a href=\"#7\">Test the classifier</a> Find more details on the KNN Classifier here: https://scikit-learn.org/stable/modules/generated/sklearn.neighbors.KNeighborsClassifier.html\n",
        "8. <a href=\"#8\">Ideas for improvement</a>\n",
        "\n",
        "Overall dataset schema:\n",
        "* __reviewText:__ Text of the review\n",
        "* __summary:__ Summary of the review\n",
        "* __verified:__ Whether the purchase was verified (True or False)\n",
        "* __time:__ UNIX timestamp for the review\n",
        "* __log_votes:__ Logarithm-adjusted votes log(1+votes). *This field is a processed version of the votes field. People can click on the \"helpful\" button when they find a customer review helpful. This increases the vote by 1. __log_votes__ is calculated like this log(1+votes). This formulation helps us get a smaller range for votes.*\n",
        "* __isPositive:__ Whether the review is positive or negative (1 or 0)\n"
      ]
    },
    {
      "cell_type": "markdown",
      "metadata": {
        "id": "zQegYSTv6kXz"
      },
      "source": [
        "## 1. <a name=\"1\">Reading the dataset</a>\n",
        "(<a href=\"#0\">Go to top</a>)\n",
        "\n",
        "We will use the __pandas__ library to read our dataset."
      ]
    },
    {
      "cell_type": "code",
      "execution_count": 2,
      "metadata": {
        "colab": {
          "base_uri": "https://localhost:8080/"
        },
        "id": "S_8_A8GV6kXz",
        "outputId": "75be60f4-5afe-4a23-f445-7edb8145ec30"
      },
      "outputs": [
        {
          "output_type": "stream",
          "name": "stdout",
          "text": [
            "The shape of the dataset is: (70000, 6)\n"
          ]
        }
      ],
      "source": [
        "import pandas as pd\n",
        "\n",
        "df = pd.read_csv('https://raw.githubusercontent.com/aws-samples/aws-machine-learning-university-accelerated-nlp/master/data/examples/AMAZON-REVIEW-DATA-CLASSIFICATION.csv')\n",
        "\n",
        "print('The shape of the dataset is:', df.shape)"
      ]
    },
    {
      "cell_type": "code",
      "source": [
        "# IMDB Dataset\n",
        "df = pd.read_csv('https://raw.githubusercontent.com/aws-samples/aws-machine-learning-university-accelerated-nlp/master/data/final_project/imdb_train.csv', header=0)\n",
        "\n",
        "train_df = pd.read_csv('https://raw.githubusercontent.com/aws-samples/aws-machine-learning-university-accelerated-nlp/master/data/final_project/imdb_train.csv', header=0)\n",
        "# train_df.head()\n",
        "\n",
        "test_df = pd.read_csv('https://raw.githubusercontent.com/aws-samples/aws-machine-learning-university-accelerated-nlp/master/data/final_project/imdb_test.csv', header=0)\n",
        "# test_df.head()\n"
      ],
      "metadata": {
        "id": "XdQMWR0_XlHi"
      },
      "execution_count": 3,
      "outputs": []
    },
    {
      "cell_type": "markdown",
      "source": [],
      "metadata": {
        "id": "yQs0WMhPXkx9"
      }
    },
    {
      "cell_type": "markdown",
      "metadata": {
        "id": "EPBFmtxM6kX0"
      },
      "source": [
        "Let's look at the first 10 rows of the dataset."
      ]
    },
    {
      "cell_type": "code",
      "execution_count": 4,
      "metadata": {
        "colab": {
          "base_uri": "https://localhost:8080/",
          "height": 363
        },
        "id": "gDl86DDk6kX0",
        "outputId": "3af38817-6713-4550-e410-8ef8de521736"
      },
      "outputs": [
        {
          "output_type": "execute_result",
          "data": {
            "text/plain": [
              "                                                text  label\n",
              "0  This movie makes me want to throw up every tim...      0\n",
              "1  Listening to the director's commentary confirm...      0\n",
              "2  One of the best Tarzan films is also one of it...      1\n",
              "3  Valentine is now one of my favorite slasher fi...      1\n",
              "4  No mention if Ann Rivers Siddons adapted the m...      0\n",
              "5  Several years ago the Navy kept a studied dist...      1\n",
              "6  This is a masterpiece footage in B/W 35mm film...      1\n",
              "7  Such a long awaited movie.. But it has disappo...      0\n",
              "8  When two writers make a screenplay of a horror...      1\n",
              "9  Make no mistake, Maureen O'Sullivan is easily ...      1"
            ],
            "text/html": [
              "\n",
              "  <div id=\"df-e5cfbc22-ae54-475c-9655-f0e3f0543b1d\" class=\"colab-df-container\">\n",
              "    <div>\n",
              "<style scoped>\n",
              "    .dataframe tbody tr th:only-of-type {\n",
              "        vertical-align: middle;\n",
              "    }\n",
              "\n",
              "    .dataframe tbody tr th {\n",
              "        vertical-align: top;\n",
              "    }\n",
              "\n",
              "    .dataframe thead th {\n",
              "        text-align: right;\n",
              "    }\n",
              "</style>\n",
              "<table border=\"1\" class=\"dataframe\">\n",
              "  <thead>\n",
              "    <tr style=\"text-align: right;\">\n",
              "      <th></th>\n",
              "      <th>text</th>\n",
              "      <th>label</th>\n",
              "    </tr>\n",
              "  </thead>\n",
              "  <tbody>\n",
              "    <tr>\n",
              "      <th>0</th>\n",
              "      <td>This movie makes me want to throw up every tim...</td>\n",
              "      <td>0</td>\n",
              "    </tr>\n",
              "    <tr>\n",
              "      <th>1</th>\n",
              "      <td>Listening to the director's commentary confirm...</td>\n",
              "      <td>0</td>\n",
              "    </tr>\n",
              "    <tr>\n",
              "      <th>2</th>\n",
              "      <td>One of the best Tarzan films is also one of it...</td>\n",
              "      <td>1</td>\n",
              "    </tr>\n",
              "    <tr>\n",
              "      <th>3</th>\n",
              "      <td>Valentine is now one of my favorite slasher fi...</td>\n",
              "      <td>1</td>\n",
              "    </tr>\n",
              "    <tr>\n",
              "      <th>4</th>\n",
              "      <td>No mention if Ann Rivers Siddons adapted the m...</td>\n",
              "      <td>0</td>\n",
              "    </tr>\n",
              "    <tr>\n",
              "      <th>5</th>\n",
              "      <td>Several years ago the Navy kept a studied dist...</td>\n",
              "      <td>1</td>\n",
              "    </tr>\n",
              "    <tr>\n",
              "      <th>6</th>\n",
              "      <td>This is a masterpiece footage in B/W 35mm film...</td>\n",
              "      <td>1</td>\n",
              "    </tr>\n",
              "    <tr>\n",
              "      <th>7</th>\n",
              "      <td>Such a long awaited movie.. But it has disappo...</td>\n",
              "      <td>0</td>\n",
              "    </tr>\n",
              "    <tr>\n",
              "      <th>8</th>\n",
              "      <td>When two writers make a screenplay of a horror...</td>\n",
              "      <td>1</td>\n",
              "    </tr>\n",
              "    <tr>\n",
              "      <th>9</th>\n",
              "      <td>Make no mistake, Maureen O'Sullivan is easily ...</td>\n",
              "      <td>1</td>\n",
              "    </tr>\n",
              "  </tbody>\n",
              "</table>\n",
              "</div>\n",
              "    <div class=\"colab-df-buttons\">\n",
              "\n",
              "  <div class=\"colab-df-container\">\n",
              "    <button class=\"colab-df-convert\" onclick=\"convertToInteractive('df-e5cfbc22-ae54-475c-9655-f0e3f0543b1d')\"\n",
              "            title=\"Convert this dataframe to an interactive table.\"\n",
              "            style=\"display:none;\">\n",
              "\n",
              "  <svg xmlns=\"http://www.w3.org/2000/svg\" height=\"24px\" viewBox=\"0 -960 960 960\">\n",
              "    <path d=\"M120-120v-720h720v720H120Zm60-500h600v-160H180v160Zm220 220h160v-160H400v160Zm0 220h160v-160H400v160ZM180-400h160v-160H180v160Zm440 0h160v-160H620v160ZM180-180h160v-160H180v160Zm440 0h160v-160H620v160Z\"/>\n",
              "  </svg>\n",
              "    </button>\n",
              "\n",
              "  <style>\n",
              "    .colab-df-container {\n",
              "      display:flex;\n",
              "      gap: 12px;\n",
              "    }\n",
              "\n",
              "    .colab-df-convert {\n",
              "      background-color: #E8F0FE;\n",
              "      border: none;\n",
              "      border-radius: 50%;\n",
              "      cursor: pointer;\n",
              "      display: none;\n",
              "      fill: #1967D2;\n",
              "      height: 32px;\n",
              "      padding: 0 0 0 0;\n",
              "      width: 32px;\n",
              "    }\n",
              "\n",
              "    .colab-df-convert:hover {\n",
              "      background-color: #E2EBFA;\n",
              "      box-shadow: 0px 1px 2px rgba(60, 64, 67, 0.3), 0px 1px 3px 1px rgba(60, 64, 67, 0.15);\n",
              "      fill: #174EA6;\n",
              "    }\n",
              "\n",
              "    .colab-df-buttons div {\n",
              "      margin-bottom: 4px;\n",
              "    }\n",
              "\n",
              "    [theme=dark] .colab-df-convert {\n",
              "      background-color: #3B4455;\n",
              "      fill: #D2E3FC;\n",
              "    }\n",
              "\n",
              "    [theme=dark] .colab-df-convert:hover {\n",
              "      background-color: #434B5C;\n",
              "      box-shadow: 0px 1px 3px 1px rgba(0, 0, 0, 0.15);\n",
              "      filter: drop-shadow(0px 1px 2px rgba(0, 0, 0, 0.3));\n",
              "      fill: #FFFFFF;\n",
              "    }\n",
              "  </style>\n",
              "\n",
              "    <script>\n",
              "      const buttonEl =\n",
              "        document.querySelector('#df-e5cfbc22-ae54-475c-9655-f0e3f0543b1d button.colab-df-convert');\n",
              "      buttonEl.style.display =\n",
              "        google.colab.kernel.accessAllowed ? 'block' : 'none';\n",
              "\n",
              "      async function convertToInteractive(key) {\n",
              "        const element = document.querySelector('#df-e5cfbc22-ae54-475c-9655-f0e3f0543b1d');\n",
              "        const dataTable =\n",
              "          await google.colab.kernel.invokeFunction('convertToInteractive',\n",
              "                                                    [key], {});\n",
              "        if (!dataTable) return;\n",
              "\n",
              "        const docLinkHtml = 'Like what you see? Visit the ' +\n",
              "          '<a target=\"_blank\" href=https://colab.research.google.com/notebooks/data_table.ipynb>data table notebook</a>'\n",
              "          + ' to learn more about interactive tables.';\n",
              "        element.innerHTML = '';\n",
              "        dataTable['output_type'] = 'display_data';\n",
              "        await google.colab.output.renderOutput(dataTable, element);\n",
              "        const docLink = document.createElement('div');\n",
              "        docLink.innerHTML = docLinkHtml;\n",
              "        element.appendChild(docLink);\n",
              "      }\n",
              "    </script>\n",
              "  </div>\n",
              "\n",
              "\n",
              "<div id=\"df-29896340-8e16-44d3-9f7f-7c8819e99932\">\n",
              "  <button class=\"colab-df-quickchart\" onclick=\"quickchart('df-29896340-8e16-44d3-9f7f-7c8819e99932')\"\n",
              "            title=\"Suggest charts.\"\n",
              "            style=\"display:none;\">\n",
              "\n",
              "<svg xmlns=\"http://www.w3.org/2000/svg\" height=\"24px\"viewBox=\"0 0 24 24\"\n",
              "     width=\"24px\">\n",
              "    <g>\n",
              "        <path d=\"M19 3H5c-1.1 0-2 .9-2 2v14c0 1.1.9 2 2 2h14c1.1 0 2-.9 2-2V5c0-1.1-.9-2-2-2zM9 17H7v-7h2v7zm4 0h-2V7h2v10zm4 0h-2v-4h2v4z\"/>\n",
              "    </g>\n",
              "</svg>\n",
              "  </button>\n",
              "\n",
              "<style>\n",
              "  .colab-df-quickchart {\n",
              "      --bg-color: #E8F0FE;\n",
              "      --fill-color: #1967D2;\n",
              "      --hover-bg-color: #E2EBFA;\n",
              "      --hover-fill-color: #174EA6;\n",
              "      --disabled-fill-color: #AAA;\n",
              "      --disabled-bg-color: #DDD;\n",
              "  }\n",
              "\n",
              "  [theme=dark] .colab-df-quickchart {\n",
              "      --bg-color: #3B4455;\n",
              "      --fill-color: #D2E3FC;\n",
              "      --hover-bg-color: #434B5C;\n",
              "      --hover-fill-color: #FFFFFF;\n",
              "      --disabled-bg-color: #3B4455;\n",
              "      --disabled-fill-color: #666;\n",
              "  }\n",
              "\n",
              "  .colab-df-quickchart {\n",
              "    background-color: var(--bg-color);\n",
              "    border: none;\n",
              "    border-radius: 50%;\n",
              "    cursor: pointer;\n",
              "    display: none;\n",
              "    fill: var(--fill-color);\n",
              "    height: 32px;\n",
              "    padding: 0;\n",
              "    width: 32px;\n",
              "  }\n",
              "\n",
              "  .colab-df-quickchart:hover {\n",
              "    background-color: var(--hover-bg-color);\n",
              "    box-shadow: 0 1px 2px rgba(60, 64, 67, 0.3), 0 1px 3px 1px rgba(60, 64, 67, 0.15);\n",
              "    fill: var(--button-hover-fill-color);\n",
              "  }\n",
              "\n",
              "  .colab-df-quickchart-complete:disabled,\n",
              "  .colab-df-quickchart-complete:disabled:hover {\n",
              "    background-color: var(--disabled-bg-color);\n",
              "    fill: var(--disabled-fill-color);\n",
              "    box-shadow: none;\n",
              "  }\n",
              "\n",
              "  .colab-df-spinner {\n",
              "    border: 2px solid var(--fill-color);\n",
              "    border-color: transparent;\n",
              "    border-bottom-color: var(--fill-color);\n",
              "    animation:\n",
              "      spin 1s steps(1) infinite;\n",
              "  }\n",
              "\n",
              "  @keyframes spin {\n",
              "    0% {\n",
              "      border-color: transparent;\n",
              "      border-bottom-color: var(--fill-color);\n",
              "      border-left-color: var(--fill-color);\n",
              "    }\n",
              "    20% {\n",
              "      border-color: transparent;\n",
              "      border-left-color: var(--fill-color);\n",
              "      border-top-color: var(--fill-color);\n",
              "    }\n",
              "    30% {\n",
              "      border-color: transparent;\n",
              "      border-left-color: var(--fill-color);\n",
              "      border-top-color: var(--fill-color);\n",
              "      border-right-color: var(--fill-color);\n",
              "    }\n",
              "    40% {\n",
              "      border-color: transparent;\n",
              "      border-right-color: var(--fill-color);\n",
              "      border-top-color: var(--fill-color);\n",
              "    }\n",
              "    60% {\n",
              "      border-color: transparent;\n",
              "      border-right-color: var(--fill-color);\n",
              "    }\n",
              "    80% {\n",
              "      border-color: transparent;\n",
              "      border-right-color: var(--fill-color);\n",
              "      border-bottom-color: var(--fill-color);\n",
              "    }\n",
              "    90% {\n",
              "      border-color: transparent;\n",
              "      border-bottom-color: var(--fill-color);\n",
              "    }\n",
              "  }\n",
              "</style>\n",
              "\n",
              "  <script>\n",
              "    async function quickchart(key) {\n",
              "      const quickchartButtonEl =\n",
              "        document.querySelector('#' + key + ' button');\n",
              "      quickchartButtonEl.disabled = true;  // To prevent multiple clicks.\n",
              "      quickchartButtonEl.classList.add('colab-df-spinner');\n",
              "      try {\n",
              "        const charts = await google.colab.kernel.invokeFunction(\n",
              "            'suggestCharts', [key], {});\n",
              "      } catch (error) {\n",
              "        console.error('Error during call to suggestCharts:', error);\n",
              "      }\n",
              "      quickchartButtonEl.classList.remove('colab-df-spinner');\n",
              "      quickchartButtonEl.classList.add('colab-df-quickchart-complete');\n",
              "    }\n",
              "    (() => {\n",
              "      let quickchartButtonEl =\n",
              "        document.querySelector('#df-29896340-8e16-44d3-9f7f-7c8819e99932 button');\n",
              "      quickchartButtonEl.style.display =\n",
              "        google.colab.kernel.accessAllowed ? 'block' : 'none';\n",
              "    })();\n",
              "  </script>\n",
              "</div>\n",
              "    </div>\n",
              "  </div>\n"
            ]
          },
          "metadata": {},
          "execution_count": 4
        }
      ],
      "source": [
        "df.head(10)"
      ]
    },
    {
      "cell_type": "markdown",
      "metadata": {
        "id": "U-YR1KDK6kX1"
      },
      "source": [
        "## 2. <a name=\"2\">Exploratory data analysis</a>\n",
        "(<a href=\"#0\">Go to top</a>)"
      ]
    },
    {
      "cell_type": "markdown",
      "metadata": {
        "id": "2PkN79Hq6kX2"
      },
      "source": [
        "Let's look at the distribution of __isPositive__ field."
      ]
    },
    {
      "cell_type": "code",
      "execution_count": 5,
      "metadata": {
        "colab": {
          "base_uri": "https://localhost:8080/"
        },
        "id": "FOn08ElQ6kX2",
        "outputId": "c9a00dbe-6d05-49b4-d523-b688bc2774b1"
      },
      "outputs": [
        {
          "output_type": "execute_result",
          "data": {
            "text/plain": [
              "0    12500\n",
              "1    12500\n",
              "Name: label, dtype: int64"
            ]
          },
          "metadata": {},
          "execution_count": 5
        }
      ],
      "source": [
        "df[\"label\"].value_counts()"
      ]
    },
    {
      "cell_type": "markdown",
      "metadata": {
        "id": "_490eTrz6kX3"
      },
      "source": [
        "We can check the number of missing values for each columm below."
      ]
    },
    {
      "cell_type": "code",
      "execution_count": 6,
      "metadata": {
        "colab": {
          "base_uri": "https://localhost:8080/"
        },
        "id": "DfTf3m5Z6kX3",
        "outputId": "383d1c71-58c8-41d7-cbbc-905644f51704"
      },
      "outputs": [
        {
          "output_type": "stream",
          "name": "stdout",
          "text": [
            "text     0\n",
            "label    0\n",
            "dtype: int64\n"
          ]
        }
      ],
      "source": [
        "print(df.isna().sum())"
      ]
    },
    {
      "cell_type": "markdown",
      "metadata": {
        "id": "4OhbbhJv6kX3"
      },
      "source": [
        "We have missing values in our text fields."
      ]
    },
    {
      "cell_type": "markdown",
      "metadata": {
        "id": "q_xhqPbl6kX4"
      },
      "source": [
        "## 3. <a name=\"3\">Text Processing: Stop words removal and stemming</a>\n",
        "(<a href=\"#0\">Go to top</a>)"
      ]
    },
    {
      "cell_type": "code",
      "execution_count": 7,
      "metadata": {
        "colab": {
          "base_uri": "https://localhost:8080/"
        },
        "id": "JhbQl7nE6kX4",
        "outputId": "f8720793-1c27-4079-eeb3-626916496a04"
      },
      "outputs": [
        {
          "output_type": "stream",
          "name": "stdout",
          "text": [
            "text     0\n",
            "label    0\n",
            "dtype: int64\n"
          ]
        }
      ],
      "source": [
        "df=df.dropna()\n",
        "print(df.isna().sum())"
      ]
    },
    {
      "cell_type": "code",
      "source": [
        "!pip install transformers torch scikit-learn\n"
      ],
      "metadata": {
        "id": "GQwJuMQIPHVH",
        "outputId": "068d15b8-c9a4-4b08-d81a-7b7123ea0933",
        "colab": {
          "base_uri": "https://localhost:8080/"
        }
      },
      "execution_count": 8,
      "outputs": [
        {
          "output_type": "stream",
          "name": "stdout",
          "text": [
            "Collecting transformers\n",
            "  Downloading transformers-4.34.1-py3-none-any.whl (7.7 MB)\n",
            "\u001b[2K     \u001b[90m━━━━━━━━━━━━━━━━━━━━━━━━━━━━━━━━━━━━━━━━\u001b[0m \u001b[32m7.7/7.7 MB\u001b[0m \u001b[31m52.7 MB/s\u001b[0m eta \u001b[36m0:00:00\u001b[0m\n",
            "\u001b[?25hRequirement already satisfied: torch in /usr/local/lib/python3.10/dist-packages (2.0.1+cu118)\n",
            "Requirement already satisfied: scikit-learn in /usr/local/lib/python3.10/dist-packages (1.2.2)\n",
            "Requirement already satisfied: filelock in /usr/local/lib/python3.10/dist-packages (from transformers) (3.12.4)\n",
            "Collecting huggingface-hub<1.0,>=0.16.4 (from transformers)\n",
            "  Downloading huggingface_hub-0.18.0-py3-none-any.whl (301 kB)\n",
            "\u001b[2K     \u001b[90m━━━━━━━━━━━━━━━━━━━━━━━━━━━━━━━━━━━━━━━━\u001b[0m \u001b[32m302.0/302.0 kB\u001b[0m \u001b[31m39.2 MB/s\u001b[0m eta \u001b[36m0:00:00\u001b[0m\n",
            "\u001b[?25hRequirement already satisfied: numpy>=1.17 in /usr/local/lib/python3.10/dist-packages (from transformers) (1.23.5)\n",
            "Requirement already satisfied: packaging>=20.0 in /usr/local/lib/python3.10/dist-packages (from transformers) (23.2)\n",
            "Requirement already satisfied: pyyaml>=5.1 in /usr/local/lib/python3.10/dist-packages (from transformers) (6.0.1)\n",
            "Requirement already satisfied: regex!=2019.12.17 in /usr/local/lib/python3.10/dist-packages (from transformers) (2023.6.3)\n",
            "Requirement already satisfied: requests in /usr/local/lib/python3.10/dist-packages (from transformers) (2.31.0)\n",
            "Collecting tokenizers<0.15,>=0.14 (from transformers)\n",
            "  Downloading tokenizers-0.14.1-cp310-cp310-manylinux_2_17_x86_64.manylinux2014_x86_64.whl (3.8 MB)\n",
            "\u001b[2K     \u001b[90m━━━━━━━━━━━━━━━━━━━━━━━━━━━━━━━━━━━━━━━━\u001b[0m \u001b[32m3.8/3.8 MB\u001b[0m \u001b[31m106.0 MB/s\u001b[0m eta \u001b[36m0:00:00\u001b[0m\n",
            "\u001b[?25hCollecting safetensors>=0.3.1 (from transformers)\n",
            "  Downloading safetensors-0.4.0-cp310-cp310-manylinux_2_17_x86_64.manylinux2014_x86_64.whl (1.3 MB)\n",
            "\u001b[2K     \u001b[90m━━━━━━━━━━━━━━━━━━━━━━━━━━━━━━━━━━━━━━━━\u001b[0m \u001b[32m1.3/1.3 MB\u001b[0m \u001b[31m89.7 MB/s\u001b[0m eta \u001b[36m0:00:00\u001b[0m\n",
            "\u001b[?25hRequirement already satisfied: tqdm>=4.27 in /usr/local/lib/python3.10/dist-packages (from transformers) (4.66.1)\n",
            "Requirement already satisfied: typing-extensions in /usr/local/lib/python3.10/dist-packages (from torch) (4.5.0)\n",
            "Requirement already satisfied: sympy in /usr/local/lib/python3.10/dist-packages (from torch) (1.12)\n",
            "Requirement already satisfied: networkx in /usr/local/lib/python3.10/dist-packages (from torch) (3.1)\n",
            "Requirement already satisfied: jinja2 in /usr/local/lib/python3.10/dist-packages (from torch) (3.1.2)\n",
            "Requirement already satisfied: triton==2.0.0 in /usr/local/lib/python3.10/dist-packages (from torch) (2.0.0)\n",
            "Requirement already satisfied: cmake in /usr/local/lib/python3.10/dist-packages (from triton==2.0.0->torch) (3.27.7)\n",
            "Requirement already satisfied: lit in /usr/local/lib/python3.10/dist-packages (from triton==2.0.0->torch) (17.0.2)\n",
            "Requirement already satisfied: scipy>=1.3.2 in /usr/local/lib/python3.10/dist-packages (from scikit-learn) (1.11.3)\n",
            "Requirement already satisfied: joblib>=1.1.1 in /usr/local/lib/python3.10/dist-packages (from scikit-learn) (1.3.2)\n",
            "Requirement already satisfied: threadpoolctl>=2.0.0 in /usr/local/lib/python3.10/dist-packages (from scikit-learn) (3.2.0)\n",
            "Requirement already satisfied: fsspec>=2023.5.0 in /usr/local/lib/python3.10/dist-packages (from huggingface-hub<1.0,>=0.16.4->transformers) (2023.6.0)\n",
            "Collecting huggingface-hub<1.0,>=0.16.4 (from transformers)\n",
            "  Downloading huggingface_hub-0.17.3-py3-none-any.whl (295 kB)\n",
            "\u001b[2K     \u001b[90m━━━━━━━━━━━━━━━━━━━━━━━━━━━━━━━━━━━━━━━━\u001b[0m \u001b[32m295.0/295.0 kB\u001b[0m \u001b[31m35.0 MB/s\u001b[0m eta \u001b[36m0:00:00\u001b[0m\n",
            "\u001b[?25hRequirement already satisfied: MarkupSafe>=2.0 in /usr/local/lib/python3.10/dist-packages (from jinja2->torch) (2.1.3)\n",
            "Requirement already satisfied: charset-normalizer<4,>=2 in /usr/local/lib/python3.10/dist-packages (from requests->transformers) (3.3.0)\n",
            "Requirement already satisfied: idna<4,>=2.5 in /usr/local/lib/python3.10/dist-packages (from requests->transformers) (3.4)\n",
            "Requirement already satisfied: urllib3<3,>=1.21.1 in /usr/local/lib/python3.10/dist-packages (from requests->transformers) (2.0.6)\n",
            "Requirement already satisfied: certifi>=2017.4.17 in /usr/local/lib/python3.10/dist-packages (from requests->transformers) (2023.7.22)\n",
            "Requirement already satisfied: mpmath>=0.19 in /usr/local/lib/python3.10/dist-packages (from sympy->torch) (1.3.0)\n",
            "Installing collected packages: safetensors, huggingface-hub, tokenizers, transformers\n",
            "Successfully installed huggingface-hub-0.17.3 safetensors-0.4.0 tokenizers-0.14.1 transformers-4.34.1\n"
          ]
        }
      ]
    },
    {
      "cell_type": "markdown",
      "metadata": {
        "id": "sWoF6MMK6kX4"
      },
      "source": []
    },
    {
      "cell_type": "markdown",
      "metadata": {
        "id": "3krg9A7C6kX6"
      },
      "source": [
        "## 4. <a name=\"4\">Train - Validation Split</a>\n",
        "(<a href=\"#0\">Go to top</a>)\n",
        "\n",
        "Let's split our dataset into training (90%) and validation (10%)."
      ]
    },
    {
      "cell_type": "code",
      "execution_count": 9,
      "metadata": {
        "id": "Vbz_bVgA6kX6"
      },
      "outputs": [],
      "source": [
        "import pandas as pd\n",
        "from sklearn.model_selection import train_test_split\n",
        "\n",
        "# Split the dataset into train and test sets\n",
        "train_data, test_data, train_labels, test_labels = train_test_split(df[\"text\"], df['label'], test_size=0.1, random_state=42)"
      ]
    },
    {
      "cell_type": "markdown",
      "metadata": {
        "id": "f-7CVs0K6kX7"
      },
      "source": [
        "## Use BERT for text embeddings:\n",
        "(<a href=\"#0\">Go to top</a>)\n",
        "\n",
        "You can use the Hugging Face Transformers library to load a pre-trained BERT model and tokenize your text dat"
      ]
    },
    {
      "cell_type": "code",
      "source": [
        "import torch\n",
        "\n",
        "device = torch.device(\"cuda\" if torch.cuda.is_available() else \"cpu\")\n",
        "print(device)"
      ],
      "metadata": {
        "id": "SSjzHfGtpZx5",
        "outputId": "325afc2d-7e99-4620-98b6-09d3d2f17634",
        "colab": {
          "base_uri": "https://localhost:8080/"
        }
      },
      "execution_count": 10,
      "outputs": [
        {
          "output_type": "stream",
          "name": "stdout",
          "text": [
            "cuda\n"
          ]
        }
      ]
    },
    {
      "cell_type": "code",
      "source": [
        "from transformers import RobertaTokenizer, RobertaModel\n",
        "import torch\n",
        "from tqdm import tqdm\n",
        "\n",
        "\n",
        "# Move the model to GPU if available\n",
        "device = torch.device(\"cuda\" if torch.cuda.is_available() else \"cpu\")\n",
        "# model.to(device)\n",
        "# BERT-based Classifier\n",
        "# Load BERT tokenizer and model, move to GPU\n",
        "tokenizer = RobertaTokenizer.from_pretrained(\"roberta-base\")\n",
        "bert_model = RobertaModel.from_pretrained(\"roberta-base\").to(device)\n",
        "\n",
        "# Tokenize and encode the text data, move to GPU\n",
        "max_length = 128\n",
        "X_train_tokens = tokenizer(list(train_data), truncation=True, padding=True, max_length=max_length, return_tensors=\"pt\", add_special_tokens=True).to(device)\n",
        "X_test_tokens = tokenizer(list(test_data), truncation=True, padding=True, max_length=max_length, return_tensors=\"pt\", add_special_tokens=True).to(device)\n",
        "\n",
        "# Calculate BERT embeddings for the text data\n",
        "def get_bert_embeddings(tokens):\n",
        "    embeddings = []\n",
        "    for i in tqdm(range(len(tokens['input_ids']))):\n",
        "        with torch.no_grad():\n",
        "            output = bert_model(input_ids=tokens['input_ids'][i].unsqueeze(0), attention_mask=tokens['attention_mask'][i].unsqueeze(0))\n",
        "        embeddings.append(output[0].squeeze().mean(dim=0).cpu().numpy())\n",
        "    return embeddings\n",
        "\n",
        "X_train_bert_embeddings = get_bert_embeddings(X_train_tokens)\n",
        "X_test_bert_embeddings = get_bert_embeddings(X_test_tokens)"
      ],
      "metadata": {
        "id": "wAus6Mrmrw62",
        "outputId": "26f1516d-ec7e-4ff5-8bcd-dded9196db90",
        "colab": {
          "base_uri": "https://localhost:8080/",
          "height": 206,
          "referenced_widgets": [
            "3d83ead2106741f3a45006c44fe12505",
            "0195ac10654d40aeaa6e22189b2cb0e8",
            "555775b4fe6a4d23949a3d1dda451676",
            "0d98de64cf6742189ae540c58e33eaac",
            "7ec8339ff6ab4b4dbd0751b6c58c3299",
            "1a4f9abd123b42109a197e81905534c9",
            "d3ec43423a5442f4b23241f7509a5bc2",
            "4a969076124b4aaa87bfa105f81bb05e",
            "6b8363df12444cffa2273de8560af883",
            "c5def37700c7408b9ea4e984643c431d",
            "09001b1683204d47b9317ede63931bf6",
            "c4a60736da7744a99deabd93069dd2e8",
            "426231d500854bca8918e453d177db3b",
            "e6552f5017a64673b67f958977680d29",
            "8b7d848b461a4f52b42ee0fa6dbf2df3",
            "bf5b2e420fdc49ff98ea149582b3d75c",
            "fdb8654d41ed46878a82f6ab70e55cf9",
            "fbd4f7a9c5b8482192688826c5586626",
            "4ef43445de294317a2b0ccc3a8598175",
            "f28d7029d0774dddb73c8403fd6de36e",
            "fd615feabb45440aaaef73d2e4d4f23c",
            "9a54548d221e4378a76756b52ee3fb36",
            "0d454a959984404eb36a5b5c9838cf72",
            "2afa370de76a418fa1733938c89b895c",
            "1090779dafd54139add525bb65d8a648",
            "2d2543e04e504865bbc8f90693a37ff3",
            "1b05f83c05e84ebf84085f88892199c9",
            "1da534d6163747debbb0532c24d84a4d",
            "2dfb6fafa473413a9348840aec6e651f",
            "5caf5439e74b41afa67d6d85386e1431",
            "759cc0a800ff463eacf308f565f26592",
            "9cbd239f44a54bb99c6cf166b446a15f",
            "23b6dde2483b4f84ba80f14de51c646a"
          ]
        }
      },
      "execution_count": 13,
      "outputs": [
        {
          "output_type": "display_data",
          "data": {
            "text/plain": [
              "Downloading (…)olve/main/vocab.json:   0%|          | 0.00/899k [00:00<?, ?B/s]"
            ],
            "application/vnd.jupyter.widget-view+json": {
              "version_major": 2,
              "version_minor": 0,
              "model_id": "3d83ead2106741f3a45006c44fe12505"
            }
          },
          "metadata": {}
        },
        {
          "output_type": "display_data",
          "data": {
            "text/plain": [
              "Downloading (…)olve/main/merges.txt:   0%|          | 0.00/456k [00:00<?, ?B/s]"
            ],
            "application/vnd.jupyter.widget-view+json": {
              "version_major": 2,
              "version_minor": 0,
              "model_id": "c4a60736da7744a99deabd93069dd2e8"
            }
          },
          "metadata": {}
        },
        {
          "output_type": "display_data",
          "data": {
            "text/plain": [
              "Downloading model.safetensors:   0%|          | 0.00/499M [00:00<?, ?B/s]"
            ],
            "application/vnd.jupyter.widget-view+json": {
              "version_major": 2,
              "version_minor": 0,
              "model_id": "0d454a959984404eb36a5b5c9838cf72"
            }
          },
          "metadata": {}
        },
        {
          "output_type": "stream",
          "name": "stderr",
          "text": [
            "Some weights of RobertaModel were not initialized from the model checkpoint at roberta-base and are newly initialized: ['roberta.pooler.dense.bias', 'roberta.pooler.dense.weight']\n",
            "You should probably TRAIN this model on a down-stream task to be able to use it for predictions and inference.\n",
            "100%|██████████| 22500/22500 [04:42<00:00, 79.75it/s]\n",
            "100%|██████████| 2500/2500 [00:32<00:00, 77.53it/s]\n"
          ]
        }
      ]
    },
    {
      "cell_type": "markdown",
      "metadata": {
        "id": "_7pJ3wNt6kX7"
      },
      "source": [
        "## 6. <a name=\"6\">Train the classifier</a>\n",
        "(<a href=\"#0\">Go to top</a>)\n",
        "\n",
        "We train our classifier with __.fit()__ on our training dataset.\n",
        "Train a KNN model:\n",
        "Now that you have BERT embeddings for your text data, you can train a KNN model using scikit-learn.\n",
        "\n",
        "This code demonstrates how to use BERT for text embeddings and then train a KNN model for sentiment analysis of AWS product reviews. Make sure to replace 'your_dataset.csv' with the actual path to your dataset file and adjust other parameters as needed. You may also fine-tune the model and preprocessing steps to improve performance."
      ]
    },
    {
      "cell_type": "code",
      "execution_count": 14,
      "metadata": {
        "colab": {
          "base_uri": "https://localhost:8080/",
          "height": 74
        },
        "id": "Xo5AcZrO6kX8",
        "outputId": "8272be04-b496-46f7-fe19-10e4aea5ecdb"
      },
      "outputs": [
        {
          "output_type": "execute_result",
          "data": {
            "text/plain": [
              "LogisticRegression(max_iter=1000)"
            ],
            "text/html": [
              "<style>#sk-container-id-1 {color: black;background-color: white;}#sk-container-id-1 pre{padding: 0;}#sk-container-id-1 div.sk-toggleable {background-color: white;}#sk-container-id-1 label.sk-toggleable__label {cursor: pointer;display: block;width: 100%;margin-bottom: 0;padding: 0.3em;box-sizing: border-box;text-align: center;}#sk-container-id-1 label.sk-toggleable__label-arrow:before {content: \"▸\";float: left;margin-right: 0.25em;color: #696969;}#sk-container-id-1 label.sk-toggleable__label-arrow:hover:before {color: black;}#sk-container-id-1 div.sk-estimator:hover label.sk-toggleable__label-arrow:before {color: black;}#sk-container-id-1 div.sk-toggleable__content {max-height: 0;max-width: 0;overflow: hidden;text-align: left;background-color: #f0f8ff;}#sk-container-id-1 div.sk-toggleable__content pre {margin: 0.2em;color: black;border-radius: 0.25em;background-color: #f0f8ff;}#sk-container-id-1 input.sk-toggleable__control:checked~div.sk-toggleable__content {max-height: 200px;max-width: 100%;overflow: auto;}#sk-container-id-1 input.sk-toggleable__control:checked~label.sk-toggleable__label-arrow:before {content: \"▾\";}#sk-container-id-1 div.sk-estimator input.sk-toggleable__control:checked~label.sk-toggleable__label {background-color: #d4ebff;}#sk-container-id-1 div.sk-label input.sk-toggleable__control:checked~label.sk-toggleable__label {background-color: #d4ebff;}#sk-container-id-1 input.sk-hidden--visually {border: 0;clip: rect(1px 1px 1px 1px);clip: rect(1px, 1px, 1px, 1px);height: 1px;margin: -1px;overflow: hidden;padding: 0;position: absolute;width: 1px;}#sk-container-id-1 div.sk-estimator {font-family: monospace;background-color: #f0f8ff;border: 1px dotted black;border-radius: 0.25em;box-sizing: border-box;margin-bottom: 0.5em;}#sk-container-id-1 div.sk-estimator:hover {background-color: #d4ebff;}#sk-container-id-1 div.sk-parallel-item::after {content: \"\";width: 100%;border-bottom: 1px solid gray;flex-grow: 1;}#sk-container-id-1 div.sk-label:hover label.sk-toggleable__label {background-color: #d4ebff;}#sk-container-id-1 div.sk-serial::before {content: \"\";position: absolute;border-left: 1px solid gray;box-sizing: border-box;top: 0;bottom: 0;left: 50%;z-index: 0;}#sk-container-id-1 div.sk-serial {display: flex;flex-direction: column;align-items: center;background-color: white;padding-right: 0.2em;padding-left: 0.2em;position: relative;}#sk-container-id-1 div.sk-item {position: relative;z-index: 1;}#sk-container-id-1 div.sk-parallel {display: flex;align-items: stretch;justify-content: center;background-color: white;position: relative;}#sk-container-id-1 div.sk-item::before, #sk-container-id-1 div.sk-parallel-item::before {content: \"\";position: absolute;border-left: 1px solid gray;box-sizing: border-box;top: 0;bottom: 0;left: 50%;z-index: -1;}#sk-container-id-1 div.sk-parallel-item {display: flex;flex-direction: column;z-index: 1;position: relative;background-color: white;}#sk-container-id-1 div.sk-parallel-item:first-child::after {align-self: flex-end;width: 50%;}#sk-container-id-1 div.sk-parallel-item:last-child::after {align-self: flex-start;width: 50%;}#sk-container-id-1 div.sk-parallel-item:only-child::after {width: 0;}#sk-container-id-1 div.sk-dashed-wrapped {border: 1px dashed gray;margin: 0 0.4em 0.5em 0.4em;box-sizing: border-box;padding-bottom: 0.4em;background-color: white;}#sk-container-id-1 div.sk-label label {font-family: monospace;font-weight: bold;display: inline-block;line-height: 1.2em;}#sk-container-id-1 div.sk-label-container {text-align: center;}#sk-container-id-1 div.sk-container {/* jupyter's `normalize.less` sets `[hidden] { display: none; }` but bootstrap.min.css set `[hidden] { display: none !important; }` so we also need the `!important` here to be able to override the default hidden behavior on the sphinx rendered scikit-learn.org. See: https://github.com/scikit-learn/scikit-learn/issues/21755 */display: inline-block !important;position: relative;}#sk-container-id-1 div.sk-text-repr-fallback {display: none;}</style><div id=\"sk-container-id-1\" class=\"sk-top-container\"><div class=\"sk-text-repr-fallback\"><pre>LogisticRegression(max_iter=1000)</pre><b>In a Jupyter environment, please rerun this cell to show the HTML representation or trust the notebook. <br />On GitHub, the HTML representation is unable to render, please try loading this page with nbviewer.org.</b></div><div class=\"sk-container\" hidden><div class=\"sk-item\"><div class=\"sk-estimator sk-toggleable\"><input class=\"sk-toggleable__control sk-hidden--visually\" id=\"sk-estimator-id-1\" type=\"checkbox\" checked><label for=\"sk-estimator-id-1\" class=\"sk-toggleable__label sk-toggleable__label-arrow\">LogisticRegression</label><div class=\"sk-toggleable__content\"><pre>LogisticRegression(max_iter=1000)</pre></div></div></div></div></div>"
            ]
          },
          "metadata": {},
          "execution_count": 14
        }
      ],
      "source": [
        "from sklearn.neighbors import KNeighborsClassifier\n",
        "from sklearn.ensemble import RandomForestClassifier\n",
        "from sklearn.ensemble import GradientBoostingClassifier\n",
        "from sklearn.naive_bayes import GaussianNB\n",
        "from sklearn.naive_bayes import MultinomialNB\n",
        "from sklearn.linear_model import LogisticRegression\n",
        "from sklearn.metrics import accuracy_score\n",
        "\n",
        "# Initialize and train the KNN classifier\n",
        "knn = KNeighborsClassifier(n_neighbors=10)\n",
        "knn.fit(X_train_bert_embeddings, train_labels)\n",
        "\n",
        "NB = GaussianNB()\n",
        "NB.fit(X_train_bert_embeddings, train_labels)\n",
        "\n",
        "# Train a classifier on BERT embeddings (you can use any classifier of your choice)\n",
        "# Here, we'll use Logistic Regression as an example\n",
        "lr = LogisticRegression(max_iter=1000)\n",
        "lr.fit(X_train_bert_embeddings, train_labels)\n",
        "\n",
        "#rf=RandomForestClassifier()\n",
        "#rf.fit(train_embeddings, train_labels)\n",
        "#xgb=GradientBoostingClassifier()\n",
        "#xgb.fit(train_embeddings, train_labels)\n",
        "\n"
      ]
    },
    {
      "cell_type": "markdown",
      "source": [
        "##Test the classifier\n",
        "(Go to top)\n",
        "\n",
        "To evaluate the KNN model's performance on sentiment classification, you can generate a classification report and a confusion matrix. Here's how you can do it using scikit-learn:\n",
        "|--|--|--|"
      ],
      "metadata": {
        "id": "ZNsTjnqWybyO"
      }
    },
    {
      "cell_type": "code",
      "source": [
        "from sklearn.metrics import classification_report, confusion_matrix\n",
        "\n",
        "# Make predictions on the test data\n",
        "predictions = knn.predict(X_test_bert_embeddings)\n",
        "\n",
        "# Calculate accuracy\n",
        "accuracy = accuracy_score(test_labels, predictions)\n",
        "print(f'KNN Accuracy: {accuracy * 100:.2f}%')\n",
        "#predictions = rf.predict(test_embeddings)\n",
        "predictions = NB.predict(X_test_bert_embeddings)\n",
        "accuracy = accuracy_score(test_labels, predictions)\n",
        "print(f'Naive Bais Accuracy: {accuracy * 100:.2f}%')\n",
        "\n",
        "#predictions = rf.predict(test_embeddings)\n",
        "predictions = lr.predict(X_test_bert_embeddings)\n",
        "accuracy = accuracy_score(test_labels, predictions)\n",
        "print(f'Logistic Regression Accuracy: {accuracy * 100:.2f}%')"
      ],
      "metadata": {
        "id": "ZEMJw7-1ybeR",
        "outputId": "7658fd2d-67d7-4265-b20c-559a845962f0",
        "colab": {
          "base_uri": "https://localhost:8080/"
        }
      },
      "execution_count": 15,
      "outputs": [
        {
          "output_type": "stream",
          "name": "stdout",
          "text": [
            "KNN Accuracy: 78.08%\n",
            "Naive Bais Accuracy: 78.00%\n",
            "Logistic Regression Accuracy: 85.80%\n"
          ]
        }
      ]
    },
    {
      "cell_type": "code",
      "source": [
        "from sklearn.metrics import classification_report, confusion_matrix\n",
        "\n",
        "# Make predictions on the test data\n",
        "predictions = knn.predict(X_test_bert_embeddings)\n",
        "# Create a classification report\n",
        "class_report = classification_report(test_labels, predictions, target_names=['negative', 'positive'])\n",
        "\n",
        "# Create a confusion matrix\n",
        "conf_matrix = confusion_matrix(test_labels, predictions)\n",
        "\n",
        "# Print the classification report and confusion matrix\n",
        "print(\"Classification Report:\")\n",
        "print(class_report)\n",
        "\n",
        "print(\"\\nConfusion Matrix:\")\n",
        "print(conf_matrix)\n",
        "\n",
        "#predictions = rf.predict(test_embeddings)\n",
        "predictions = NB.predict(X_test_bert_embeddings)\n",
        "# Create a classification report\n",
        "class_report = classification_report(test_labels, predictions, target_names=['negative', 'positive'])\n",
        "\n",
        "# Create a confusion matrix\n",
        "conf_matrix = confusion_matrix(test_labels, predictions)\n",
        "\n",
        "# Print the classification report and confusion matrix\n",
        "print(\"Classification Report:\")\n",
        "print(class_report)\n",
        "\n",
        "print(\"\\nConfusion Matrix:\")\n",
        "print(conf_matrix)\n",
        "\n",
        "#predictions = rf.predict(test_embeddings)\n",
        "predictions = lr.predict(X_test_bert_embeddings)\n",
        "# Create a classification report\n",
        "class_report = classification_report(test_labels, predictions, target_names=['negative', 'positive'])\n",
        "\n",
        "# Create a confusion matrix\n",
        "conf_matrix = confusion_matrix(test_labels, predictions)\n",
        "\n",
        "# Print the classification report and confusion matrix\n",
        "print(\"Classification Report:\")\n",
        "print(class_report)\n",
        "\n",
        "print(\"\\nConfusion Matrix:\")\n",
        "print(conf_matrix)\n",
        "\n",
        "\n"
      ],
      "metadata": {
        "id": "3nuXefLbywn3",
        "outputId": "c39d305f-93a6-44ca-8b97-0e4cd4835519",
        "colab": {
          "base_uri": "https://localhost:8080/"
        }
      },
      "execution_count": 16,
      "outputs": [
        {
          "output_type": "stream",
          "name": "stdout",
          "text": [
            "Classification Report:\n",
            "              precision    recall  f1-score   support\n",
            "\n",
            "    negative       0.72      0.89      0.80      1207\n",
            "    positive       0.87      0.68      0.76      1293\n",
            "\n",
            "    accuracy                           0.78      2500\n",
            "   macro avg       0.79      0.78      0.78      2500\n",
            "weighted avg       0.80      0.78      0.78      2500\n",
            "\n",
            "\n",
            "Confusion Matrix:\n",
            "[[1070  137]\n",
            " [ 411  882]]\n",
            "Classification Report:\n",
            "              precision    recall  f1-score   support\n",
            "\n",
            "    negative       0.77      0.77      0.77      1207\n",
            "    positive       0.79      0.79      0.79      1293\n",
            "\n",
            "    accuracy                           0.78      2500\n",
            "   macro avg       0.78      0.78      0.78      2500\n",
            "weighted avg       0.78      0.78      0.78      2500\n",
            "\n",
            "\n",
            "Confusion Matrix:\n",
            "[[ 932  275]\n",
            " [ 275 1018]]\n",
            "Classification Report:\n",
            "              precision    recall  f1-score   support\n",
            "\n",
            "    negative       0.85      0.85      0.85      1207\n",
            "    positive       0.86      0.86      0.86      1293\n",
            "\n",
            "    accuracy                           0.86      2500\n",
            "   macro avg       0.86      0.86      0.86      2500\n",
            "weighted avg       0.86      0.86      0.86      2500\n",
            "\n",
            "\n",
            "Confusion Matrix:\n",
            "[[1027  180]\n",
            " [ 175 1118]]\n"
          ]
        }
      ]
    },
    {
      "cell_type": "markdown",
      "source": [
        "****Best With BoW****\n",
        "TfidfVectorizer\n",
        "Max Features 100\n",
        "k = 10\n",
        "              precision    recall  f1-score   support\n",
        "\n",
        "    negative       0.66      0.76      0.70      12500\n",
        "    positive       0.71      0.60      0.65      12500\n",
        "\n",
        "    accuracy                           0.68      25000\n",
        "   macro avg       0.68      0.68      0.68      25000\n",
        "weighted avg       0.68      0.68      0.68      25000\n",
        "\n",
        "<br/>\n",
        "<br/>\n",
        "\n",
        "\n",
        "****With Bert****\n",
        "\n",
        "Classification Report:\n",
        "              precision    recall  f1-score   support\n",
        "\n",
        "    negative       0.72      0.87      0.79      1207\n",
        "    positive       0.85      0.68      0.75      1293\n",
        "\n",
        "    accuracy                           0.77      2500\n",
        "   macro avg       0.78      0.78      0.77      2500\n",
        "weighted avg       0.79      0.77      0.77      2500\n",
        "\n",
        "\n",
        "Confusion Matrix:\n",
        "[[1056  151]\n",
        " [ 418  875]]\n",
        "Classification Report:\n",
        "              precision    recall  f1-score   support\n",
        "\n",
        "    negative       0.71      0.77      0.74      1207\n",
        "    positive       0.77      0.71      0.74      1293\n",
        "\n",
        "    accuracy                           0.74      2500\n",
        "   macro avg       0.74      0.74      0.74      2500\n",
        "weighted avg       0.74      0.74      0.74      2500\n",
        "\n",
        "\n",
        "Confusion Matrix:\n",
        "[[929 278]\n",
        " [374 919]]\n",
        "Classification Report:\n",
        "              precision    recall  f1-score   support\n",
        "\n",
        "    negative       0.82      0.82      0.82      1207\n",
        "    positive       0.83      0.83      0.83      1293\n",
        "\n",
        "    accuracy                           0.83      2500\n",
        "   macro avg       0.83      0.83      0.83      2500\n",
        "weighted avg       0.83      0.83      0.83      2500\n",
        "\n",
        "\n",
        "Confusion Matrix:\n",
        "[[ 992  215]\n",
        " [ 216 1077]]\n",
        "\n",
        "<br/>\n",
        "<br/>\n",
        "<br/>\n",
        "\n",
        " ***With Roberta***\n",
        "\n",
        "KNN Accuracy: 78.08%\n",
        "\n",
        "Naive Bais Accuracy: 78.00%\n",
        "\n",
        "Logistic Regression Accuracy: 85.80%\n",
        "\n",
        "Classification Report:\n",
        "              precision    recall  f1-score   support\n",
        "\n",
        "    negative       0.72      0.89      0.80      1207\n",
        "    positive       0.87      0.68      0.76      1293\n",
        "\n",
        "    accuracy                           0.78      2500\n",
        "   macro avg       0.79      0.78      0.78      2500\n",
        "weighted avg       0.80      0.78      0.78      2500\n",
        "\n",
        "\n",
        "Confusion Matrix:\n",
        "[[1070  137]\n",
        " [ 411  882]]\n",
        "Classification Report:\n",
        "              precision    recall  f1-score   support\n",
        "\n",
        "    negative       0.77      0.77      0.77      1207\n",
        "    positive       0.79      0.79      0.79      1293\n",
        "\n",
        "    accuracy                           0.78      2500\n",
        "   macro avg       0.78      0.78      0.78      2500\n",
        "weighted avg       0.78      0.78      0.78      2500\n",
        "\n",
        "\n",
        "Confusion Matrix:\n",
        "[[ 932  275]\n",
        " [ 275 1018]]\n",
        "Classification Report:\n",
        "              precision    recall  f1-score   support\n",
        "\n",
        "    negative       0.85      0.85      0.85      1207\n",
        "    positive       0.86      0.86      0.86      1293\n",
        "\n",
        "    accuracy                           0.86      2500\n",
        "   macro avg       0.86      0.86      0.86      2500\n",
        "weighted avg       0.86      0.86      0.86      2500\n",
        "\n",
        "\n",
        "Confusion Matrix:\n",
        "[[1027  180]\n",
        " [ 175 1118]]"
      ],
      "metadata": {
        "id": "0AeYvWBKGJSj"
      }
    },
    {
      "cell_type": "code",
      "source": [
        "from transformers import pipeline\n",
        "\n",
        "classifier = pipeline(\"feature-extraction\")\n",
        "cl = classifier(\"I've been waiting for a HuggingFace course  my whole life.\")\n",
        "print(cl)"
      ],
      "metadata": {
        "colab": {
          "base_uri": "https://localhost:8080/"
        },
        "id": "bSF2flZ1L_uF",
        "outputId": "0c9cf06d-c14c-405e-82e5-97c7f7e64710"
      },
      "execution_count": 21,
      "outputs": [
        {
          "output_type": "stream",
          "name": "stderr",
          "text": [
            "No model was supplied, defaulted to distilbert-base-cased and revision 935ac13 (https://huggingface.co/distilbert-base-cased).\n",
            "Using a pipeline without specifying a model name and revision in production is not recommended.\n"
          ]
        },
        {
          "output_type": "stream",
          "name": "stdout",
          "text": [
            "[[[0.34841567277908325, 0.17586295306682587, -0.02909609116613865, -0.16489030420780182, -0.26146945357322693, -0.11878133565187454, 0.4164116680622101, -0.15681076049804688, 0.09240972995758057, -1.1160190105438232, -0.18134604394435883, -0.012234225869178772, -0.10304189473390579, -0.08109723776578903, -0.4432018995285034, 0.07643585652112961, 0.133864626288414, 0.14760109782218933, -0.1267905980348587, -0.224333718419075, 0.0298288706690073, -0.2123529314994812, 0.5039181709289551, -0.26784926652908325, 0.2697387933731079, 0.08961866050958633, 0.28673845529556274, 0.1971598118543625, -0.333369642496109, 0.3026839792728424, 0.006308895070105791, 0.11743327230215073, -0.03913762792944908, -0.0010521016083657742, -0.31574955582618713, 0.12717166543006897, -0.03555822744965553, -0.38847601413726807, -0.13536590337753296, -0.2928382158279419, -0.48132938146591187, 0.1862703412771225, 0.5725143551826477, -0.2594643831253052, 0.00269020046107471, -0.4819663166999817, 0.033089395612478256, -0.0025373422540724277, -0.02679889276623726, 0.09998437762260437, 0.0069063822738826275, 0.07481394708156586, -0.07183581590652466, 0.06088124215602875, 0.24416550993919373, 0.22603005170822144, -0.12304085493087769, 0.1581745594739914, -0.4721407890319824, 0.26043617725372314, -0.06207074970006943, 0.10060076415538788, 0.3166448771953583, -0.09610483795404434, -0.09285898506641388, 0.00520701427012682, -0.09812887758016586, 0.16131587326526642, -0.12377782166004181, -0.2371923327445984, -0.02053365856409073, 0.13093522191047668, 0.36332815885543823, 1.063826084136963, 0.25710436701774597, -0.30983176827430725, 0.5027034878730774, -0.013172630220651627, -0.05703183636069298, -0.04073099419474602, 0.10619281977415085, 0.09017860144376755, -0.1340334266424179, -0.18773247301578522, -0.08942434191703796, -0.15937349200248718, 0.11056874692440033, -0.049185920506715775, -0.15925946831703186, 0.1618431806564331, 0.23060716688632965, -0.09895145893096924, -0.33275604248046875, -0.0764676034450531, -0.14282549917697906, 0.29498881101608276, 0.15212592482566833, 0.005758113693445921, 6.160472393035889, -0.06692291796207428, -0.1213885024189949, 0.04725636541843414, 0.0743744820356369, -0.1880345195531845, 0.38693952560424805, -0.4534973204135895, -0.07804103940725327, -0.3990101218223572, 0.11506630480289459, 0.5373208522796631, 0.542428195476532, 0.01630243845283985, 0.11551164835691452, -0.11029409617185593, -0.17800715565681458, -0.3991980254650116, 0.08350972086191177, 0.15801165997982025, 0.2810840308666229, -0.21042115986347198, 0.13290540874004364, -0.02569505013525486, 0.9954732656478882, 0.18417759239673615, -0.16424071788787842, -0.09768310934305191, 0.03416426479816437, -0.1520712673664093, 0.11375083774328232, -0.3255111575126648, -0.4956751763820648, -0.2921476662158966, -0.1322721391916275, -0.10433999449014664, 0.156348317861557, 0.0794818103313446, -0.13809382915496826, 0.058495596051216125, -0.8753113150596619, 0.16019216179847717, 0.1541633903980255, -0.07340555638074875, 0.05506128817796707, -0.2015264630317688, -0.37575215101242065, 2.8050308227539062, -0.07884667813777924, 0.04720817878842354, -0.17156095802783966, -0.003537643002346158, 0.04712294042110443, -0.34559303522109985, -0.22818951308727264, 0.311348021030426, -0.22168655693531036, -0.1028546467423439, 0.1496819704771042, 0.06662632524967194, -0.030975092202425003, -0.05197463557124138, -0.9121355414390564, 0.1406538188457489, -0.19875796139240265, 0.40049439668655396, 0.07985140383243561, -0.2295192927122116, 0.13654884696006775, -0.7913185954093933, 0.03394937515258789, 0.20473307371139526, 0.07305599004030228, 0.04230090603232384, -2.428483486175537, 0.4233746826648712, 0.10076603293418884, 0.16550035774707794, -0.04331156611442566, 0.15419752895832062, 0.044565096497535706, -0.38604506850242615, -0.13846440613269806, 0.23581631481647491, 0.17827095091342926, 0.08744286745786667, -0.5176540017127991, 0.12307166308164597, 0.15928664803504944, -0.06978537887334824, -0.029120957478880882, 0.15058191120624542, 0.03981470316648483, -0.3912566900253296, 0.06003929674625397, 0.17714589834213257, 0.14266130328178406, 0.1870339810848236, -0.021522823721170425, -0.21942655742168427, -0.0216827392578125, 0.13507325947284698, -0.09722742438316345, -0.11209172755479813, -0.3071463704109192, 0.2938227653503418, 0.3576944172382355, 0.0265218373388052, -0.05154144763946533, 0.1368875354528427, 0.19631125032901764, -0.08937811106443405, -0.22221001982688904, -0.049749985337257385, 0.1491844803094864, 0.3831585943698883, 0.5326168537139893, -0.344730019569397, -0.09709200263023376, 0.0035411936696618795, 0.03952734172344208, -0.025293299928307533, -0.1401960849761963, 0.12345078587532043, -0.1880764663219452, -0.20343223214149475, -0.08094529807567596, 0.07970869541168213, 0.19525212049484253, 0.14482291042804718, 0.05109509080648422, -0.33812984824180603, 0.10802630335092545, 0.26128119230270386, 0.16376954317092896, -0.21358221769332886, -0.22626520693302155, 0.0033880395349115133, 0.04176582023501396, 0.06633975356817245, 0.042305752635002136, 0.23978020250797272, 0.03613666445016861, -0.0770668163895607, 0.47759726643562317, -0.1734832525253296, 0.05163686349987984, 0.08610402792692184, 0.29786190390586853, 0.13113801181316376, 0.034828316420316696, 0.14785082638263702, 0.6382682919502258, 0.0996580645442009, -0.26866137981414795, -0.30126050114631653, -0.3982292711734772, -0.07300787419080734, -0.09231360256671906, -1.2536213397979736, -0.4049474895000458, -0.11790332198143005, 0.09959454834461212, -3.0127182006835938, 0.10861080884933472, 0.16418839991092682, 0.1773616373538971, -0.05063050985336304, 0.3884179890155792, 0.18097613751888275, -0.38555172085762024, 0.0874883383512497, -0.41965654492378235, -0.11707611382007599, -0.6749254465103149, 0.12509694695472717, -0.06624634563922882, 0.18856078386306763, -0.14549040794372559, 0.022032203152775764, -0.20440824329853058, -0.3071889281272888, -0.28308114409446716, 0.020950892940163612, -0.21273870766162872, 0.39874592423439026, -0.2862924635410309, 0.497780978679657, 0.17658956348896027, 0.19194971024990082, 0.0954345092177391, 3.9288079738616943, 0.39463186264038086, -0.15710093080997467, 0.18829961121082306, -0.21118305623531342, 0.04292796924710274, -0.04642413184046745, -0.5049530863761902, -0.04149172082543373, 0.04601777344942093, 0.04289645329117775, -0.1484232246875763, -0.01759962923824787, -0.5084320306777954, -0.016543040052056313, -0.3509691059589386, 0.11992776393890381, -0.05054868012666702, 0.10416341572999954, -0.5519218444824219, -0.12969069182872772, 0.026544595137238503, 0.048391103744506836, 0.019363101571798325, 0.06939877569675446, -0.09146389365196228, -0.2456275075674057, -0.34333860874176025, 0.32668957114219666, -0.02033081278204918, -0.8714178800582886, 0.16577740013599396, 0.07488055527210236, -0.20679868757724762, -0.18220119178295135, 0.08570808172225952, -0.08360172063112259, -0.094593346118927, -0.1778365969657898, -0.13646651804447174, 0.021811900660395622, -0.20052796602249146, 0.17466731369495392, -0.38754990696907043, -0.16506214439868927, -0.03136493265628815, -0.251778781414032, -0.19598592817783356, 0.16010747849941254, 0.0817081406712532, 0.007166937459260225, -0.3262903094291687, -0.11636893451213837, -0.1065940111875534, 0.17616647481918335, 0.25496378540992737, 0.02978871949017048, 0.3452654182910919, 0.011296557262539864, 0.15748178958892822, 0.007079055532813072, 0.11290174722671509, 0.20222990214824677, 0.11108285188674927, 0.2751031816005707, 0.04037771001458168, -0.18310658633708954, -0.07798660546541214, -0.3587256073951721, 0.004861141089349985, 0.13260366022586823, 0.011100197210907936, -2.0101869106292725, 0.33181270956993103, 0.14637304842472076, -0.1297038048505783, -0.01567126251757145, -0.05867687240242958, -0.015998635441064835, -0.050651390105485916, 0.49126142263412476, 0.2454615980386734, 0.09472382068634033, 0.3489106297492981, -0.02627171017229557, -0.3388591706752777, 0.013630901463329792, 0.10025893896818161, 0.624518096446991, 0.13713067770004272, -0.2280687540769577, -0.31756725907325745, 0.046734198927879333, 0.22759178280830383, -0.11158429831266403, -0.06087790057063103, 0.10843969881534576, 0.10821234434843063, -0.3044600784778595, -0.018498409539461136, -0.08563433587551117, 0.31749236583709717, -0.18465286493301392, -0.1749648004770279, -0.2777741849422455, -0.1371026337146759, -0.08495672047138214, 0.009372088126838207, 0.1745057851076126, 0.3006163537502289, -0.1876588761806488, -0.12839476764202118, 0.013466601260006428, -0.12689000368118286, 0.17573592066764832, -0.2152509242296219, -0.20100867748260498, 0.1348201185464859, -0.0653197318315506, -1.5643272399902344, -0.11343345046043396, -0.11127987504005432, -0.26495838165283203, -0.21234968304634094, 0.23521916568279266, -0.03382302448153496, 0.06342967599630356, -0.01071989256888628, -0.019038844853639603, 0.37335965037345886, 0.4524640142917633, 0.20823004841804504, -0.035722747445106506, -0.14395390450954437, -0.40780311822891235, -0.10127846896648407, 0.19279733300209045, 0.06052146479487419, -0.1669204980134964, 0.07629051804542542, 0.16824311017990112, -0.6753262281417847, -0.10020134598016739, -0.09829197078943253, -0.49605774879455566, -0.1781769096851349, -0.3273512125015259, 0.005531602539122105, -0.185190811753273, 0.061040155589580536, 5.014241695404053, -0.26665958762168884, 0.13316884636878967, -0.019807888194918633, -0.20500364899635315, -0.14352929592132568, 0.10332749038934708, 0.007096439599990845, 0.7249153256416321, 0.14775294065475464, -0.1822860836982727, -0.32396355271339417, 0.044421132653951645, 0.07719826698303223, -0.42098844051361084, 0.36605218052864075, 0.08244200795888901, -0.16918615996837616, 0.09964951872825623, -0.06041869893670082, 0.052488382905721664, 0.01635468751192093, -0.010110707953572273, -0.32697057723999023, 0.2503419816493988, 0.21814164519309998, 0.024371672421693802, -0.08231967687606812, -0.17228542268276215, -0.1619281768798828, -0.2355511337518692, 0.18210095167160034, 0.196771040558815, 0.25265857577323914, -0.004481954965740442, -0.18129123747348785, 0.061734143644571304, 0.08474578708410263, 0.27311986684799194, 0.06348322331905365, 0.3088848292827606, 0.16682881116867065, 0.9545558094978333, 0.07497339695692062, 0.38391321897506714, 0.2893593907356262, -0.09807223826646805, -0.12092804163694382, 0.3012023866176605, 0.14346560835838318, -0.17743238806724548, 0.28833308815956116, 0.21704818308353424, -0.18720214068889618, -0.03678493574261665, 0.05431300029158592, 0.09440059214830399, -0.21692734956741333, -0.17073459923267365, -0.00916966050863266, -0.09639665484428406, -0.11717980355024338, -0.036417827010154724, -0.037825971841812134, 0.08721362799406052, -0.1895388811826706, 0.20548085868358612, -0.15649589896202087, -0.27068084478378296, -0.1825282722711563, -0.35707756876945496, 0.03169924393296242, -0.4181281626224518, 0.2364383190870285, 0.296646386384964, -0.03756057843565941, -0.3775532841682434, 0.050750382244586945, -0.13901180028915405, -0.112911157310009, -0.25314846634864807, -0.1443406641483307, -0.09194999933242798, -0.2759665548801422, 0.004702302161604166, 0.21656708419322968, -0.3811681270599365, -0.43997493386268616, -0.022279392927885056, 0.24959522485733032, -0.051871705800294876, -0.20912645757198334, -0.13035136461257935, 0.03186311200261116, -0.02722940593957901, 0.17547853291034698, -0.06777598708868027, -0.11387928575277328, -0.14619852602481842, 0.08139003068208694, 0.3447912633419037, 0.11475677788257599, 0.202273890376091, 0.08142596483230591, -0.03754096105694771, -0.08210428804159164, -0.17851178348064423, 0.1632985770702362, -0.04750308394432068, 0.052351199090480804, 0.290692001581192, 0.18183544278144836, 0.2428547441959381, -0.24302534759044647, -0.05349324643611908, 0.12792818248271942, -0.20284992456436157, -0.3325819969177246, -7.120068550109863, 0.25917497277259827, 0.1781255304813385, 0.3224194645881653, -0.20914198458194733, -0.11412963271141052, 0.17850808799266815, 0.2349800020456314, 0.33724871277809143, 0.17585071921348572, -0.2981261909008026, -0.22332005202770233, -1.9130595922470093, 0.035213351249694824, -0.04027083143591881, 0.2190081775188446, -0.07201351970434189, -0.7152369022369385, -0.023740412667393684, 0.5080270767211914, -0.15391099452972412, 0.25553828477859497, 0.21540357172489166, 0.10631690919399261, 0.06837550550699234, 0.07019378244876862, -0.03995908051729202, 0.0034935548901557922, 0.18150557577610016, -0.11296193301677704, 0.023441601544618607, -0.10783268511295319, 0.5535305142402649, -0.02940504066646099, -0.10505644232034683, -0.25878214836120605, -0.017480596899986267, -0.048554014414548874, 0.22582775354385376, -0.31316885352134705, -0.05773930624127388, 0.018875937908887863, 0.2084742784500122, 0.19816391170024872, -0.48166799545288086, -0.230189710855484, -0.47458556294441223, -2.1491763591766357, 0.1315021514892578, 0.007175150327384472, 0.26472532749176025, 0.05802898854017258, 0.07145918905735016, 0.0408259741961956, -0.17751671373844147, 0.1666615903377533, 0.08278590440750122, -0.005628455430269241, 0.32537052035331726, -0.043830756098032, -0.11446566134691238, 0.0003054600674659014, 0.5294016599655151, -0.07621386647224426, -0.1725083589553833, 0.058034442365169525, -0.39907699823379517, -0.17450575530529022, -0.2290661484003067, -0.4119732975959778, -0.18254739046096802, -0.017881017178297043, -0.1530599743127823, 0.17875032126903534, 0.13031676411628723, 0.3683329224586487, 0.002975045470520854, 0.08667503297328949, -0.012434259988367558, 0.007329314481467009, -0.2724687159061432, -0.07184566557407379, 0.42616739869117737, 0.3081895112991333, 0.01984921470284462, -0.1915472000837326, -0.06945238262414932, 0.39936724305152893, 0.05111641436815262, 0.08139924705028534, -0.003805525368079543, -0.06806954741477966, -0.012267679907381535, 0.0186939537525177, -0.18853919208049774, 0.1731574684381485, -0.25016969442367554, 0.15277361869812012, -0.3054598271846771, -0.20811204612255096, -0.09050469845533371, -0.05112934112548828, 0.16575287282466888, -0.5365301966667175, -0.02161475643515587, -0.1474044919013977, 2.421632766723633, 0.07920616120100021, -0.15796513855457306, -0.08149084448814392, -0.05667322129011154, 0.17255137860774994, 0.10465608537197113, 0.2687206268310547, 1.5928611755371094, 0.12964662909507751, -0.10268619656562805, 0.1240098774433136, 0.11338384449481964, -0.06598837673664093, 0.044979438185691833, 0.3786664605140686, -0.011343122459948063, 0.05962245166301727, -0.05405878275632858, 0.07938982546329498, 0.2962113916873932, -0.19720220565795898, 0.12371956557035446, -0.08698402345180511, -0.05076410993933678, 0.01676679588854313, -0.29944732785224915, -0.44342270493507385, 0.3658080995082855, -0.43496567010879517, 0.13280901312828064, 0.14793170988559723, -0.2385995090007782, 0.8310222625732422, -0.2650212347507477, 0.1897544413805008, 0.17091669142246246, -0.13268840312957764, 0.01707313396036625, -0.3333490788936615, -0.120503269135952, 0.0433596596121788, -0.4531949758529663, 0.5131009221076965, -0.15309202671051025, -0.06028155982494354, -0.18931405246257782, -0.3443286716938019, 0.24366046488285065, -0.0469505675137043, -0.1353607177734375, -0.3302941620349884, -0.14288389682769775, 0.25566044449806213, -0.16607443988323212, 0.14881663024425507, -0.5862895846366882, -0.20889155566692352, 0.22050409018993378, -0.17831780016422272, -0.1514650136232376, 0.2230144739151001, 0.07561270892620087, -0.07221716642379761, 0.03466115519404411, -0.06060326099395752, 0.0759103000164032, -0.10658696293830872, -0.09955698251724243, -0.17831888794898987, -0.022988619282841682, 0.11866386979818344, -2.22690749168396, -0.12210477143526077, 0.08767835795879364, -0.3513069152832031, -0.1944851279258728, -0.23620587587356567, 0.23464590311050415, 0.1184944361448288, 0.06469614803791046, 0.10521803051233292, -0.14621680974960327, 1.923890471458435, -0.26669931411743164, -0.04296468570828438, -0.2075420469045639, -0.14142367243766785, 0.1745866984128952, 0.23685386776924133, -0.0002597628044895828, -0.24884551763534546, -0.10898319631814957, 1.6242828369140625, 0.07682520151138306, 0.3139086663722992, 0.15953905880451202, -0.19772866368293762, 0.0353764109313488, 0.19997155666351318, 0.3180885314941406, -0.008032109588384628, -0.16997690498828888, 0.18113753199577332, 0.07199480384588242], [0.3867334723472595, -0.31979021430015564, 0.31164026260375977, -0.03546830266714096, -0.11819673329591751, 0.08971638232469559, 0.6350311636924744, -0.194037526845932, 0.3475128412246704, -0.5923173427581787, 0.24004510045051575, 0.5997232794761658, 0.06848905235528946, 0.377369225025177, -0.5867270231246948, 0.16909795999526978, -0.2929461896419525, 0.39456239342689514, 0.19548116624355316, -0.14638444781303406, -0.01980796828866005, -0.27875784039497375, 0.24152998626232147, -0.12588995695114136, -0.11474321782588959, 0.3389151692390442, 0.2898518443107605, 0.3100144565105438, -0.796973705291748, -0.1086660623550415, 0.23451410233974457, -0.0357423834502697, -0.175955131649971, 0.09898452460765839, -0.8631740212440491, -0.30823683738708496, 0.09081686288118362, 0.11196020990610123, 0.1861848384141922, -0.1297103762626648, -0.26413238048553467, -0.14650407433509827, 0.800515353679657, -0.20130066573619843, -0.018444042652845383, -0.24997524917125702, -0.21355290710926056, 0.4057311415672302, -0.3226475715637207, 0.017793649807572365, -0.06457721441984177, -0.452486515045166, -0.06940292567014694, -0.04579157009720802, -0.04092933610081673, -0.009843097999691963, -0.351148396730423, -0.2538236677646637, -0.36184337735176086, 0.21976999938488007, -0.09324202686548233, 0.07973458617925644, 0.4851304590702057, 0.03440855070948601, -0.23571550846099854, 0.08879390358924866, 0.026789598166942596, 0.09126091748476028, 0.01582445576786995, -0.11830839514732361, -0.028509750962257385, -0.1436726152896881, -0.04559796303510666, 0.876168966293335, -0.016349539160728455, -0.4650554060935974, 0.01649853028357029, 0.21980871260166168, -0.1488335132598877, -0.5383885502815247, 0.021751418709754944, -0.16839422285556793, -0.20376351475715637, 0.059370897710323334, -0.16409245133399963, 0.048223335295915604, 0.14036215841770172, -0.24816513061523438, -0.2691062092781067, 0.5397854447364807, 0.5963194966316223, 0.11092987656593323, -0.2514714002609253, 0.00320767262019217, 0.1514618992805481, 0.5389566421508789, 0.07713606208562851, -0.41731518507003784, 3.9072060585021973, 0.1723787933588028, 0.16037659347057343, 0.23139582574367523, -0.2931568920612335, -0.13841931521892548, 0.02452259324491024, -0.45980095863342285, 0.4079447388648987, -0.41273781657218933, -0.22849677503108978, 0.2795540690422058, 0.6827799677848816, -0.2612565755844116, 0.2438000738620758, -0.3536766767501831, -0.15988291800022125, -0.022731490433216095, 0.19359362125396729, 0.4045506417751312, 0.07946157455444336, -0.17862753570079803, 0.1711818426847458, 0.1608632206916809, 0.8768184781074524, 0.3163134753704071, -0.006213499698787928, -0.05301873758435249, 0.26481497287750244, 0.03226339444518089, 0.34605664014816284, -0.21199938654899597, -0.35969823598861694, -0.12540024518966675, 0.2113165706396103, -0.24715986847877502, 0.17826196551322937, 0.44259947538375854, -0.357757031917572, 0.4611360430717468, -0.9785057306289673, -0.11031976342201233, 0.10552714765071869, -0.4471481144428253, 0.2435770481824875, -0.12601026892662048, -0.35518166422843933, 2.1507930755615234, -0.3432216942310333, -0.23133330047130585, -0.4781515896320343, 0.10813722759485245, -0.3389359414577484, -0.29903507232666016, -0.23194992542266846, 0.19757510721683502, -0.24603062868118286, 0.15368767082691193, 0.19259525835514069, 0.23691946268081665, 0.3702498972415924, -0.36742740869522095, -0.871122419834137, -0.13673622906208038, -0.39309296011924744, 0.48515641689300537, -0.15258930623531342, -0.06023751199245453, 0.24856217205524445, -0.674232542514801, 0.09997565299272537, 0.19106647372245789, -0.2953760325908661, 0.20363056659698486, -2.1053383350372314, 0.591506838798523, -0.18429768085479736, 0.022876214236021042, -0.008756760507822037, -0.1270047277212143, -0.30825838446617126, -0.39294955134391785, 0.4405463635921478, -0.09078817814588547, 0.30982813239097595, -0.2369127720594406, -0.07825358957052231, -0.07833291590213776, 0.3688616454601288, 0.056365255266427994, -0.0427083782851696, 0.3830483853816986, 0.08412272483110428, -0.28173357248306274, 0.13652858138084412, 0.47416654229164124, 0.21012602746486664, -0.006141789257526398, -0.13609549403190613, -0.39737311005592346, 0.538205087184906, 0.5380967855453491, -0.1722124069929123, 0.3488575518131256, -0.35503360629081726, 0.22547200322151184, 0.3628673553466797, -0.012066086754202843, 0.558560848236084, -0.43751800060272217, -0.2584138512611389, -0.3782276213169098, -0.35639289021492004, -0.3477028012275696, -0.06702305376529694, 0.32112833857536316, 0.36143559217453003, -0.33552560210227966, -0.2748638689517975, -0.006525679491460323, -0.03917674720287323, 0.05245037004351616, 0.06817906349897385, -0.0766458585858345, 0.22323782742023468, 0.242579385638237, 0.10985033214092255, 0.23809188604354858, -0.08321814239025116, -0.19597052037715912, 0.12864047288894653, -0.14474265277385712, 0.2010613977909088, 0.3213964104652405, 0.2755935490131378, -0.11844049394130707, -0.5193177461624146, 0.07486165314912796, -0.23000146448612213, 0.08903302252292633, -0.3302713930606842, 0.5306717753410339, -0.28702762722969055, 0.14849971234798431, 0.9716390371322632, -0.1150917336344719, 0.42256754636764526, 0.10311610251665115, 0.30263862013816833, 0.019125500693917274, -0.304640531539917, 0.1555359661579132, 0.7950341105461121, -0.04684397578239441, -0.6241838335990906, -0.002203609561547637, 0.0184245016425848, 0.24626398086547852, -0.579210102558136, -1.018075942993164, -0.3035999536514282, -0.10672745853662491, -0.17762939631938934, -1.6578021049499512, 0.014210039749741554, -0.11445867270231247, 0.14845673739910126, -0.23998579382896423, 0.6559726595878601, 0.4546820819377899, -0.5676177144050598, 0.060641903430223465, -0.44443681836128235, -0.36181116104125977, -0.47622600197792053, -0.10958167910575867, -0.5996749997138977, 0.1027575209736824, -0.12472264468669891, 0.18168404698371887, -0.12108656018972397, -0.5679866075515747, -0.15559734404087067, -0.3128806948661804, -0.3762926757335663, 0.4730476438999176, -0.09318314492702484, 0.12531797587871552, 0.14678125083446503, 0.34254902601242065, -0.2671072483062744, 2.6419761180877686, 0.48495304584503174, -0.11204948276281357, -0.3576071858406067, -0.07148786634206772, 0.23178932070732117, -0.10791609436273575, -0.49398285150527954, 0.25872164964675903, 0.07999485731124878, 0.019916418939828873, 0.39374127984046936, -0.29075315594673157, -0.907643735408783, -0.3184727132320404, -0.4414505958557129, -0.1801484227180481, -0.36136505007743835, 0.26620543003082275, -0.637764036655426, 0.3425653576850891, -0.25403207540512085, 0.11545378714799881, -0.31489038467407227, -0.03067045472562313, -0.1991690993309021, -0.32021036744117737, -0.28169938921928406, 0.12783198058605194, -0.22680410742759705, -0.6266893148422241, 0.5718329548835754, -0.0020366681274026632, -0.24371187388896942, -0.10899416357278824, -0.3359026610851288, 0.04594898223876953, -0.5362964868545532, -0.3165976107120514, -0.04750895872712135, 0.023105984553694725, 0.11755084246397018, 0.1635599583387375, -0.4817698001861572, 0.1540382355451584, -0.21601226925849915, 0.05267377942800522, -0.14452393352985382, 0.11993595957756042, 0.06548326462507248, -0.17433971166610718, -0.11713016033172607, -0.09672826528549194, 0.020809123292565346, 0.023545222356915474, 0.019796254113316536, 0.15997299551963806, 0.012977547943592072, -0.3028729259967804, 0.18771451711654663, 0.20281116664409637, 0.09910571575164795, 0.3146909177303314, -0.3094604015350342, 0.3619409203529358, 0.3490202724933624, -0.17935951054096222, -0.1631399542093277, 0.051238272339105606, -0.10965758562088013, 0.04103648290038109, 0.11896391212940216, -1.5914082527160645, 0.5783179402351379, 0.37076660990715027, 0.04423835128545761, 0.0395800806581974, 0.2572861909866333, 0.14155319333076477, 0.253627747297287, 0.21460649371147156, 0.07666828483343124, -0.0792488306760788, 0.4944339990615845, 0.09253990650177002, -0.18406404554843903, -0.10099467635154724, -0.11177705973386765, -0.014443201944231987, 0.33327722549438477, -0.2620415985584259, -0.2508605420589447, 0.39656010270118713, 0.10758733004331589, 0.013170590624213219, -0.14289872348308563, 0.06583428382873535, 0.38952234387397766, -0.38061508536338806, 0.12469875812530518, 0.33538007736206055, 0.4588049352169037, -0.5427275896072388, -0.18354415893554688, -0.2894402742385864, -0.0016373872058466077, -0.10515322536230087, -0.0601794570684433, 0.7288755774497986, 0.0016567256534472108, -0.6572064161300659, -0.13459782302379608, 0.17038381099700928, 0.14228005707263947, 0.09923002123832703, 0.0775226503610611, -0.5536816120147705, -0.023856010288000107, 0.013141071423888206, -1.3469295501708984, -0.25430792570114136, -0.043327223509550095, -0.2740649878978729, 0.17905603349208832, 0.21332360804080963, -0.496517151594162, 0.03793942555785179, 0.28862032294273376, 0.32277247309684753, 0.2597428858280182, 0.6248691082000732, 0.3433637320995331, -0.027833759784698486, 0.0479278564453125, 0.02280290238559246, -0.21883633732795715, 0.043422944843769073, 0.1391320526599884, 0.01394541747868061, -0.31370487809181213, 0.18551644682884216, -0.44416865706443787, 0.5146690011024475, 0.10861052572727203, -0.6769211292266846, -0.382662296295166, 0.008089619688689709, 0.025986727327108383, -0.3925049304962158, -0.06492075324058533, 3.5203049182891846, -0.10140715539455414, 0.035090360790491104, 0.02607458084821701, -0.238810196518898, -0.3638816177845001, -0.1912117302417755, 0.1051321029663086, 0.5667001605033875, 0.22469817101955414, -0.16269788146018982, -0.08712289482355118, 0.1019294485449791, 0.4646470248699188, -0.36352968215942383, 0.4701833128929138, 0.03960724174976349, -0.35412031412124634, 0.1570904403924942, -0.10821159929037094, 0.21557408571243286, 0.024520060047507286, 0.05725792422890663, -0.5115158557891846, 0.2325592190027237, 0.018710140138864517, 0.05107467994093895, -0.4753221571445465, -0.0993540957570076, -0.22445200383663177, 0.3186374008655548, 0.07350094616413116, 0.10767489671707153, 0.49524638056755066, 0.5743883848190308, -0.3003220558166504, 0.24006733298301697, -0.11428075283765793, 0.10538845509290695, -0.4192892014980316, 0.15531186759471893, 0.44637516140937805, 1.1842416524887085, -0.07868381589651108, 0.6028444170951843, 0.056990932673215866, -0.41790011525154114, -0.4397040605545044, 0.21520650386810303, 0.18749596178531647, -0.1880401074886322, 0.39971017837524414, 0.3322354853153229, -0.182673841714859, 0.16682428121566772, 0.05625012144446373, 0.16530545055866241, 0.19888858497142792, 0.016035448759794235, 0.05136251449584961, -0.1401205211877823, -0.2149658203125, -0.3155450224876404, 0.061822064220905304, 0.037406135350465775, -0.39517083764076233, 0.28939372301101685, -0.11790356040000916, -0.3931463658809662, -0.14281216263771057, -0.434734046459198, -0.011584492400288582, -0.5431727766990662, 0.04082302376627922, 0.018650483340024948, -0.1540095955133438, -0.28128376603126526, -0.3014415204524994, -0.07699262350797653, 0.15733633935451508, -0.652677595615387, 0.09478731453418732, 0.21378567814826965, -0.5586564540863037, -0.13051190972328186, 0.2151559591293335, -0.2262534648180008, 0.024643555283546448, 0.40532952547073364, 0.37196651101112366, 0.33725300431251526, -0.5633149147033691, -0.002414887538179755, 0.07257505506277084, -0.3637349009513855, 0.4883953332901001, 0.13606902956962585, -0.1957918256521225, -0.13886649906635284, 0.023537814617156982, 0.7009954452514648, 0.09647367149591446, 0.3226228654384613, 0.13272210955619812, 0.08869464695453644, 0.20356440544128418, 0.3346309959888458, -0.049749650061130524, 0.14011967182159424, 0.5023735761642456, 0.286910742521286, 0.18959517776966095, 0.6267788410186768, -0.6936612725257874, 0.2500310242176056, 0.2364550679922104, -0.22287467122077942, -0.31672725081443787, -8.001472473144531, 0.15496096014976501, 0.5075122714042664, 0.8011116981506348, -0.19524192810058594, -0.28904327750205994, 0.26723554730415344, 0.44584015011787415, 0.4299376308917999, 0.2957474887371063, -0.26903295516967773, -0.40306079387664795, -1.56220281124115, -0.2291766107082367, 0.20634578168392181, -0.03924328461289406, 0.05818904936313629, -0.34926140308380127, 0.024190623313188553, 0.38099607825279236, -0.0670926570892334, 0.04496036469936371, 0.20177476108074188, 0.035907816141843796, 0.025583717972040176, 0.31062474846839905, -0.0002927517634816468, -0.3384225070476532, 0.5135273337364197, -0.21981637179851532, -0.036522045731544495, 0.007426219992339611, 0.3392799198627472, -0.07599277794361115, 0.3740170896053314, -0.15730084478855133, -0.22960485517978668, 0.24273592233657837, 0.3248973786830902, -0.16035452485084534, 0.2630673050880432, -0.08010957390069962, 0.08579019457101822, 0.34932592511177063, -0.6250983476638794, -0.35089224576950073, -0.334878534078598, -0.663860023021698, -0.09207409620285034, 0.03407176956534386, 0.23646359145641327, 0.04855358600616455, -0.0737016573548317, -0.022030167281627655, -0.18624742329120636, 0.12845498323440552, 0.19986769556999207, 0.576109766960144, 0.2619822919368744, 0.1817467361688614, -0.20838168263435364, -0.4646763503551483, 0.8077888488769531, -0.3991716802120209, -0.20356617867946625, 0.04805951192975044, -0.37329646944999695, -0.12702807784080505, 0.14523375034332275, -0.041976142674684525, -0.13524040579795837, 0.2809181213378906, 0.013590166345238686, 0.1757393628358841, -0.31006482243537903, 0.6915948987007141, 0.5913023352622986, -0.06770706921815872, 0.5062662363052368, 0.580477237701416, -0.4122890830039978, -0.09159868210554123, 0.41613808274269104, 0.4156978726387024, -0.21104715764522552, -0.08150069415569305, 0.04442790150642395, 0.36771851778030396, -0.17108063399791718, -0.11694566905498505, -0.17296229302883148, -0.2697540521621704, -0.27019190788269043, -0.14138945937156677, -0.05931137502193451, 0.33545738458633423, -0.3356960117816925, -0.18380427360534668, -0.13975639641284943, -0.03095589019358158, -0.38783445954322815, 0.2868853509426117, 0.5062887072563171, -0.5366745591163635, -0.05768453702330589, -0.30978354811668396, 1.6705886125564575, 0.13624700903892517, -0.19357876479625702, -0.6051374077796936, 0.16482050716876984, -0.2955606281757355, 0.3671983778476715, -0.08279914408922195, 1.235393762588501, -0.06937387585639954, -0.05499345436692238, 0.45566490292549133, 0.12730196118354797, 0.15522991120815277, -0.08111418783664703, 0.45839184522628784, 0.09890957921743393, 0.1504562795162201, -0.2073223888874054, -0.05079162120819092, 0.01691138744354248, -0.08692403882741928, -0.2651750147342682, -0.1622927486896515, 0.5542439818382263, 0.09520170837640762, -0.6564778685569763, -0.17739546298980713, 0.2064714878797531, -0.3114468455314636, 0.4395047724246979, -0.2478206902742386, -0.6697133183479309, 0.7382760643959045, -0.42522042989730835, 0.29058176279067993, -0.02894860878586769, 0.09503886848688126, 0.250800758600235, -0.24397292733192444, -0.0031651188619434834, -0.3794032335281372, -0.4203357398509979, 0.27278777956962585, -0.09850068390369415, 0.2158827930688858, -0.33110475540161133, -0.5335283279418945, 0.1117340698838234, 0.05417256057262421, -0.14702941477298737, 0.015376291237771511, -0.24519798159599304, 0.5193959474563599, -0.27758264541625977, 0.09373858571052551, -0.23657718300819397, -0.18049046397209167, 0.02349804900586605, -0.6549682021141052, -0.21301934123039246, 0.5367831587791443, -0.11956644803285599, -0.37617388367652893, -0.045468222349882126, 0.3858633041381836, -0.1360030323266983, 0.08182704448699951, -0.43581902980804443, -0.15922006964683533, -0.023715130984783173, -0.013541135005652905, -1.7524785995483398, 0.060855332762002945, 0.3191963732242584, -0.41931959986686707, -0.40241482853889465, 0.007700459100306034, 0.2167520374059677, 0.37733787298202515, -0.07029901444911957, -0.02332054078578949, -0.364247590303421, 1.3916186094284058, -0.20202742516994476, -0.06877636909484863, -0.30249616503715515, -0.16671784222126007, -0.15783827006816864, 0.41467490792274475, 0.0034356729593127966, -0.2178053855895996, -0.19184419512748718, 1.3919134140014648, 0.07226572930812836, 0.09836200624704361, -0.03867718204855919, -0.5258007645606995, -0.05539552494883537, -0.013005215674638748, 0.521059513092041, 0.44310152530670166, -0.11273019015789032, 0.19387859106063843, 0.05091501399874687], [0.10462195426225662, 0.11879575997591019, 0.02547336183488369, 0.13353455066680908, 0.13593532145023346, -0.0438399501144886, 0.575423002243042, -0.08780490607023239, -0.06932281702756882, -0.1986297369003296, 0.4241061210632324, 0.2250724583864212, 0.2987290322780609, 0.08354606479406357, -0.2534153461456299, 0.2108914703130722, -0.00747858127579093, 0.2626858055591583, 0.02158447541296482, -0.3320296108722687, -0.45039692521095276, -0.09983571618795395, -0.11665255576372147, 0.00776149146258831, 0.10742437839508057, -0.018953580409288406, 0.31989988684654236, 0.13236261904239655, -0.31882578134536743, -0.01574728824198246, -0.09633515030145645, 0.1504642367362976, -0.25829625129699707, 0.24657857418060303, -0.35307636857032776, -0.04159950837492943, 0.13677212595939636, -0.16989758610725403, 0.043762218207120895, 0.3498559296131134, 0.2095223367214203, 0.025330428034067154, 0.15628188848495483, 0.025189539417624474, -0.2778153717517853, -0.16268721222877502, -0.02531137876212597, -0.31906747817993164, 0.1113787293434143, 0.30312976241111755, 0.2104460746049881, -0.26658955216407776, 0.21184709668159485, 0.1510140299797058, 0.3107425570487976, -0.28461945056915283, -0.3674122095108032, 0.16041353344917297, -0.5387729406356812, 0.4829055368900299, -0.013482622802257538, 0.31384074687957764, 0.4367118179798126, 0.04180983453989029, -0.329712837934494, -0.3723371624946594, 0.016960609704256058, -0.2742842733860016, -0.15509538352489471, 0.027753639966249466, 0.3410451114177704, -0.0490683875977993, -0.3961026072502136, 0.18498702347278595, -0.03145205229520798, -0.3639431893825531, 0.18529191613197327, -0.1652044951915741, 0.09563151001930237, -0.5494241118431091, 0.40614423155784607, 0.03022264875471592, 0.2954966425895691, 0.345654159784317, 0.059609100222587585, -0.05580122768878937, -0.0663142129778862, -0.06517535448074341, -0.3258921504020691, 0.51724773645401, 0.4614375829696655, -0.005906563717871904, -0.060796599835157394, -0.17660021781921387, -0.0157926045358181, 0.5784546732902527, -0.01986796408891678, -0.17721323668956757, 0.78621506690979, 0.13960491120815277, 0.3181549310684204, 0.03756394982337952, 0.07312649488449097, -0.36170241236686707, 0.07734649628400803, -0.6496031284332275, -0.24524585902690887, -0.4480086863040924, 0.09832245856523514, 0.5136465430259705, 0.2670533061027527, 0.0774959847331047, 0.5546002388000488, -0.06256739795207977, -0.05596356466412544, -0.035428352653980255, 0.34941408038139343, 0.29925450682640076, 0.40402430295944214, -0.20479680597782135, 0.3385985791683197, 0.2650587260723114, -0.04995042830705643, 0.21072903275489807, -0.024141937494277954, -0.4166654348373413, 0.21782395243644714, -0.13381779193878174, 0.6135486960411072, 0.08848868310451508, -0.6944428086280823, -0.49950456619262695, 0.07781859487295151, -0.13751035928726196, 0.06352228671312332, 0.29787972569465637, -0.48123452067375183, 0.378024160861969, -1.7403050661087036, -0.3359552025794983, 0.21036328375339508, -0.029379401355981827, 0.36356788873672485, 0.0764625295996666, -0.3711974024772644, 0.624545156955719, -0.3250318467617035, 0.01724216155707836, -0.1987045556306839, 0.26347947120666504, -0.8082021474838257, -0.5405463576316833, -0.3010856509208679, -0.045543525367975235, -0.0680643692612648, -0.03711942955851555, 0.3570636212825775, -0.30642756819725037, 0.4252389967441559, -0.04324183613061905, -0.5072956681251526, 0.1528286635875702, -0.3656904101371765, 0.0642857775092125, 0.014322301372885704, -0.2946886122226715, 0.3335336446762085, -0.11474309861660004, -0.24556517601013184, 0.1891556978225708, 0.13024462759494781, 0.10542996227741241, -0.76765376329422, 0.10874727368354797, -0.10240478068590164, -0.011530929245054722, -0.11517064273357391, -0.09321288764476776, 0.3289130628108978, -0.005050292704254389, 0.11233434081077576, -0.09166232496500015, 0.013694136403501034, 0.06609141826629639, -0.22316673398017883, 0.04536713659763336, 0.12846265733242035, -0.4851989448070526, -0.07118049263954163, 0.08697696775197983, 0.16944703459739685, -0.2591637670993805, 0.12049552798271179, 0.2990800142288208, -0.04741305112838745, -0.07414945960044861, 0.0320071280002594, -0.3963072896003723, 0.12813590466976166, 0.020552534610033035, -0.26199406385421753, -0.09029771387577057, -0.4098218083381653, 0.31439411640167236, 0.027701660990715027, -0.12322566658258438, -0.18121187388896942, 0.24704284965991974, -0.7225447297096252, -0.5025553703308105, 0.14313602447509766, -0.23945994675159454, 0.33346033096313477, 0.2945422828197479, 0.3512168228626251, -0.059084970504045486, 0.01442071795463562, -0.07215555757284164, -0.20092949271202087, 0.4462844133377075, 0.45379531383514404, -0.2874094247817993, 0.32274723052978516, 0.3594677150249481, 0.26698774099349976, 0.3780567944049835, 0.4460277855396271, -0.05356086418032646, 0.15455874800682068, -0.5714701414108276, 0.06894399970769882, 0.34025317430496216, 0.32432952523231506, -0.23822876811027527, -0.18841059505939484, -0.23554688692092896, 0.013643776997923851, 0.11200927942991257, -0.4199926257133484, 0.021499227732419968, 0.10303128510713577, -0.11703947931528091, 0.4978064298629761, -0.35321977734565735, -0.03613358363509178, 0.5987338423728943, -0.16828666627407074, 0.32162708044052124, 0.0531427301466465, 0.11601071804761887, 0.3564629554748535, -0.17825327813625336, -0.5584580302238464, -0.07729340344667435, 0.0638388842344284, 0.27902811765670776, -0.23097577691078186, -0.1608964204788208, -0.24629224836826324, 0.2010062038898468, -0.010588866658508778, -0.1809036135673523, 0.06911211460828781, -0.24828281998634338, -0.42741069197654724, -0.24662864208221436, -0.06352825462818146, -0.08426591008901596, -0.36314818263053894, -0.12378236651420593, 0.30986398458480835, -0.027210496366024017, -0.32256054878234863, 0.30111390352249146, -0.5826835036277771, 0.5412943959236145, -0.04587545618414879, -0.31182390451431274, -0.30419450998306274, -0.5549436807632446, 0.05012197047472, -0.13892105221748352, 0.1579541265964508, 0.4762435853481293, -0.5416523814201355, 0.06827737390995026, 0.3422536253929138, 0.4369823932647705, -0.1015934869647026, -0.28670719265937805, 0.1921422779560089, -0.313660204410553, -0.006609337870031595, -0.33059161901474, 0.19977889955043793, 0.011224932968616486, -0.4265036880970001, -0.02149549126625061, 0.052848342806100845, 0.12201903760433197, 0.34045469760894775, 0.128962904214859, -0.3681698739528656, -0.10872519016265869, -0.18473704159259796, -0.03995408117771149, -0.12674883008003235, 0.5060226917266846, -0.06999296694993973, 0.4749423861503601, 0.05724559351801872, 0.11565154790878296, -0.062315184623003006, -0.1409558355808258, -0.05514535680413246, -0.04568703845143318, -0.15690115094184875, -0.23043327033519745, -0.30240872502326965, -0.07978226989507675, 0.3489682674407959, 0.19461527466773987, -0.17443814873695374, -0.1758081465959549, 0.3249736726284027, 0.10166127234697342, 0.12784264981746674, 0.0114862360060215, 0.3419226408004761, -0.3484072983264923, 0.08450619131326675, -0.18482883274555206, -0.14752702414989471, 0.17307215929031372, 0.014573363587260246, -0.019734779372811317, -0.13540677726268768, -0.049525510519742966, 0.37077558040618896, -0.0023465249687433243, -0.03777986019849777, 0.44577890634536743, 0.08200538903474808, -0.1758347898721695, 0.07263762503862381, 0.4107179343700409, 0.4294397830963135, 0.1104183942079544, 0.21154339611530304, 0.014393423683941364, 0.2097814679145813, 0.009873692877590656, 0.17341944575309753, -0.0864374116063118, 0.7151161432266235, 0.06953591853380203, 0.6098905205726624, -0.22413292527198792, -0.15794523060321808, 0.3731498420238495, -0.10498281568288803, -0.001376816420815885, 0.4484728276729584, 0.22714439034461975, 0.16610245406627655, 0.015879804268479347, 0.13061247766017914, 0.15152610838413239, -0.11793151497840881, 0.37582850456237793, 0.7039425373077393, -0.16517873108386993, 0.45122551918029785, -0.15041285753250122, 0.010197402909398079, 0.022527707740664482, -0.09421691298484802, -0.2683623731136322, 0.6065595149993896, -0.43088093400001526, -0.08288884907960892, 0.23983989655971527, 0.08307824283838272, 0.1098669171333313, 0.030653228983283043, 0.07151933759450912, 0.0035039118956774473, -0.42443493008613586, 0.39281368255615234, 0.07526583969593048, 0.4672536551952362, -0.1649702787399292, -0.1353081315755844, 0.1876598745584488, 0.11298537254333496, -0.26206448674201965, 0.20647865533828735, 0.3851592540740967, -0.002739248564466834, -0.5941469073295593, -0.02614998072385788, 0.1491752713918686, -0.23270219564437866, 0.16236187517642975, -0.6427881121635437, -0.221389040350914, -0.2839626669883728, 0.31932759284973145, -0.12736204266548157, 0.17588113248348236, -0.13684257864952087, -0.1188008040189743, 0.2110925167798996, 0.4561900794506073, -0.31642046570777893, -0.45698022842407227, 0.41540566086769104, 0.5686042904853821, 0.10192383825778961, 0.27026432752609253, 0.07606558501720428, -0.19785752892494202, -0.23616723716259003, 0.021932324394583702, 0.1332557648420334, 0.1288611739873886, 0.11965037137269974, -0.15957175195217133, 0.10958543419837952, 0.2385057657957077, -0.3409043848514557, 0.4003368318080902, -0.17076712846755981, -0.4613782465457916, -0.027517421171069145, 0.15976929664611816, -0.20004995167255402, -0.1719447672367096, -0.3843556046485901, 0.09980399161577225, 0.0379435159265995, -0.0008397800847887993, -0.1015753224492073, -0.5788670778274536, -0.3295649290084839, -0.20372247695922852, -0.40773165225982666, -0.179463729262352, 0.15010879933834076, 0.09845039993524551, -0.08258064091205597, -0.1520572304725647, 0.3976658582687378, -0.2592921853065491, 0.19454319775104523, -0.36241990327835083, -0.5074552297592163, 0.17770622670650482, 0.028729701414704323, 0.23128196597099304, 0.19983217120170593, 0.06491595506668091, -0.49014121294021606, 0.3853853940963745, -0.16628773510456085, -0.010975983925163746, 0.37481775879859924, 0.1181391030550003, -0.6125222444534302, 0.05168140307068825, 0.46601107716560364, 0.027039870619773865, 0.1284087896347046, 0.745771050453186, 0.13964366912841797, -0.16134880483150482, 0.38624992966651917, -0.04154506325721741, -0.3557857573032379, 0.27285051345825195, 0.10815708339214325, 0.4041297435760498, 0.19095151126384735, 0.1485312134027481, 0.1697233021259308, 0.28169262409210205, -0.13959738612174988, -0.051016490906476974, 0.08880747109651566, 0.3149454593658447, 0.20980048179626465, 0.22246965765953064, 0.038373857736587524, -0.07636257261037827, -0.3871517479419708, -0.18541978299617767, -0.3701375126838684, -0.2712056636810303, 0.17881712317466736, -0.3927809000015259, -0.437982439994812, -0.2386210560798645, 0.3668234944343567, 0.07523820549249649, -0.5806670784950256, 0.708288848400116, -0.0386795811355114, -0.16770978271961212, -0.17637751996517181, -0.18305915594100952, 0.18292339146137238, -0.9868781566619873, 0.12312474846839905, 0.19601306319236755, -0.41535118222236633, -0.09535136818885803, -0.14987970888614655, -0.1865384876728058, 0.033928874880075455, -0.16887271404266357, 0.39938923716545105, 0.04663052409887314, -0.19307303428649902, -0.1400948017835617, 0.4410317838191986, 0.20223110914230347, -0.4724504351615906, 0.17466235160827637, 0.034634921699762344, -0.07326056063175201, -0.48914647102355957, 0.074764184653759, 0.2146180421113968, -0.3268413245677948, 0.29931873083114624, -0.038593824952840805, -0.20998114347457886, -0.5574897527694702, 0.04177386686205864, 0.23777982592582703, -0.37832552194595337, 0.14079642295837402, 0.37986627221107483, 0.2495419681072235, 0.001982548274099827, 0.5720482468605042, 0.08658841997385025, 0.233205184340477, 0.10187365859746933, 0.08456584066152573, 0.09395280480384827, 0.3729249835014343, -0.7915574908256531, 0.3465883433818817, 0.2517249584197998, -0.30590179562568665, -0.32324060797691345, -9.053980827331543, -0.0077614253386855125, 0.2543122172355652, 0.4929425120353699, 0.4571358561515808, -0.1316145807504654, -0.4504612386226654, 0.10065384954214096, 0.2686508297920227, 0.15333296358585358, -0.1947406530380249, -0.14701537787914276, 0.24382853507995605, -0.43742069602012634, -0.06697425246238708, -0.09495405852794647, -0.5770288705825806, 0.12205223739147186, 0.1570393443107605, 0.46174076199531555, 0.015152422711253166, 0.39883291721343994, 0.36722004413604736, 0.073476143181324, 0.0753415897488594, 0.3174954056739807, -0.0961160808801651, -0.006186231970787048, 0.24201178550720215, -0.16732101142406464, 0.033735908567905426, -0.037599265575408936, 0.07447963207960129, -0.012739946134388447, 0.3896084129810333, -0.556514322757721, -0.22602704167366028, 0.1914966106414795, 0.31979984045028687, -0.562146782875061, -0.25332996249198914, 0.08032261580228806, -0.061215274035930634, 0.31441888213157654, 0.09706269204616547, -0.10150570422410965, 0.11131171137094498, 0.0294193122535944, -0.12679508328437805, 0.34403321146965027, 0.24621281027793884, -0.38997185230255127, -0.37183207273483276, -0.22084856033325195, -0.5857935547828674, -0.015045669861137867, 0.025292975828051567, 0.28150543570518494, 0.32952451705932617, 0.01421161089092493, 0.18784865736961365, 0.06175514683127403, 1.0420730113983154, -0.5682786703109741, -0.3367123007774353, 0.12912537157535553, -0.3097662031650543, -0.029722483828663826, -0.26456016302108765, -0.6953580379486084, -0.29014283418655396, 0.2868083417415619, 0.40956512093544006, 0.016314540058374405, -0.14144860208034515, 0.0031856258865445852, 0.013842840678989887, -0.0684855580329895, 0.04134899005293846, 0.2708699107170105, -0.01808260753750801, 0.33850419521331787, 0.7782880067825317, -0.011590791866183281, 0.04948455095291138, 0.09096013754606247, -0.11319278925657272, 0.2764572203159332, -0.38503003120422363, -0.18774129450321198, 0.1917375773191452, -0.3289583921432495, -0.28730735182762146, 0.1640232503414154, -0.24635779857635498, 0.39294639229774475, -0.48198458552360535, 0.030074449256062508, -0.3733674883842468, -0.05297967046499252, -0.1894492208957672, -0.2847040593624115, 0.026671340689063072, -0.22339336574077606, 0.21884967386722565, -0.2994979918003082, 0.14988593757152557, -0.1741001456975937, -0.2028435468673706, -0.1625674068927765, 0.027203401550650597, -0.0654086321592331, 0.5807805061340332, -0.028944101184606552, 0.5462639331817627, -0.060477498918771744, 0.17609356343746185, 0.26623839139938354, -0.18247847259044647, 0.2432660311460495, 0.05657852441072464, -0.04420305788516998, 0.19266873598098755, -0.10079111903905869, 0.06794338673353195, 0.10155248641967773, -0.07167360931634903, 0.07873715460300446, 0.24487468600273132, 0.016793247312307358, 0.23160351812839508, 0.2989717423915863, -0.5296237468719482, -0.3256627023220062, 0.2758617699146271, 0.1032571941614151, -0.026560181751847267, 0.19287575781345367, -0.40875551104545593, -0.007326360326260328, -0.28883859515190125, 0.33349359035491943, 0.0878823846578598, 0.4073854088783264, 0.43759626150131226, -0.21391694247722626, -0.4521520137786865, -0.5366441607475281, -0.28365275263786316, 0.543053925037384, -0.09472081065177917, 0.23396657407283783, -0.3648034930229187, 0.0359540730714798, 0.15666379034519196, -0.308931827545166, -0.042508143931627274, 0.3054981231689453, 0.4842607080936432, 0.033110447227954865, -0.21220676600933075, -0.044662684202194214, 0.33166295289993286, -0.036145612597465515, 0.05366916209459305, -0.3500484228134155, -0.21747329831123352, 0.46613842248916626, 0.17900396883487701, -0.1333853304386139, 0.21682514250278473, 0.004831796977669001, 0.13564276695251465, 0.2542411684989929, -0.09630521386861801, 0.5514003038406372, -0.19552528858184814, 0.05100935697555542, -0.1654360145330429, -0.08551714569330215, 0.22964543104171753, 0.044331274926662445, -0.28395652770996094, 0.01802654378116131, -0.15292617678642273, 0.20727093517780304, -0.043653130531311035, -0.04772252216935158, -0.3371327817440033, 0.0312744677066803, 0.012070680968463421, -0.06772059202194214, -0.24140198528766632, 0.4244888722896576, 0.16902635991573334, 0.747672975063324, -0.3306504189968109, 0.18401677906513214, 0.24991679191589355, 0.3962351083755493, 0.29937830567359924, -0.42119598388671875, 0.07473412901163101, -0.6751559972763062, 0.0145647544413805, -0.2905798554420471, 0.6040024161338806, 0.16735181212425232, 0.2989957332611084, 0.5471724271774292, -0.18225891888141632], [0.17933356761932373, 0.13586069643497467, -0.13261696696281433, -0.05377762392163277, 0.552213728427887, -0.020591644570231438, 0.545133113861084, 0.08193740993738174, -0.07988257706165314, 0.05758126825094223, 0.5684992074966431, 0.29911527037620544, 0.06346117705106735, 0.1756318062543869, -0.366981565952301, 0.013649970293045044, -0.7690230011940002, 0.28621014952659607, 0.23970946669578552, 0.06264452636241913, -0.09833607077598572, -0.14381897449493408, 0.03125452250242233, -0.044973570853471756, 0.14676885306835175, -0.38109084963798523, 0.18895860016345978, 0.825640082359314, -0.13927626609802246, 0.22809258103370667, -0.12113466113805771, 0.14868497848510742, 0.14239899814128876, 0.21783524751663208, -0.5906919836997986, -0.35502126812934875, -0.0983014702796936, -0.1846601366996765, -0.04920801520347595, -0.3368443250656128, 0.06976765394210815, 0.13231265544891357, -0.14469660818576813, 0.07434802502393723, -0.20850327610969543, -0.017504572868347168, 0.19945470988750458, -0.08498155325651169, -0.6000335216522217, -0.14851470291614532, -0.20833483338356018, 0.00915724877268076, 0.3718874156475067, 0.08902142196893692, 0.24607980251312256, -0.10574862360954285, -0.2277979850769043, 0.19301463663578033, -0.4191402494907379, 0.532488226890564, 0.024706711992621422, 0.5108670592308044, 0.19356891512870789, -0.05454396829009056, 0.3283727467060089, -0.08811143040657043, 0.12734927237033844, 0.10381191223859787, 0.17355956137180328, -0.2505694627761841, -0.07049711793661118, -0.19605141878128052, 0.18597140908241272, 0.1886446624994278, 0.2623674273490906, -0.8427892327308655, 0.10651184618473053, -0.32152464985847473, -0.5738306641578674, -0.832327127456665, 0.004128991160541773, -0.12210755050182343, 0.12997747957706451, -0.028259046375751495, 0.14323344826698303, 0.15104588866233826, -0.17564356327056885, -0.21237485110759735, -0.03095787763595581, 0.052362505346536636, -0.05370396003127098, -0.3885709345340729, -0.2107923924922943, -0.3864958584308624, 0.03766809403896332, 0.4835095703601837, -0.3085184693336487, -0.325172483921051, 0.3819354176521301, 0.27021247148513794, 0.14771872758865356, -0.25484487414360046, -0.6082829833030701, 0.180303156375885, 0.2167249619960785, 0.05435590445995331, -0.36133408546447754, -0.4252731502056122, -0.13259591162204742, 0.26608219742774963, 0.19812482595443726, -0.131167471408844, -0.2523779273033142, -0.23826737701892853, -0.1598910540342331, -0.014428002759814262, 0.5211959481239319, -0.30544397234916687, 0.2219526618719101, -0.20317643880844116, 0.0312948003411293, -0.06086810305714607, -0.2538800537586212, -0.19980022311210632, 0.037954408675432205, -0.08360225707292557, 0.02941330149769783, 0.3200233578681946, 0.27471309900283813, 0.3411271274089813, 0.030030151829123497, -0.31652411818504333, 0.2576294243335724, -0.031154343858361244, 0.276609867811203, 0.06392227113246918, -0.20856089890003204, 0.6568765640258789, -1.2044233083724976, -0.553387463092804, -0.23146682977676392, 0.027847468852996826, 0.43054041266441345, -0.026302622631192207, -0.16881930828094482, 0.4303814172744751, -0.12624219059944153, -0.267017126083374, -0.30161023139953613, 0.16852447390556335, -0.4405723214149475, -0.14018596708774567, 0.07061279565095901, 0.07115045189857483, -0.04286670684814453, 0.03708825632929802, 0.25037458539009094, 0.1279154270887375, 0.05364515632390976, -0.5525215864181519, -0.18834511935710907, 0.05400696396827698, -0.2291785180568695, 0.2100314050912857, 0.16044732928276062, 0.3304643929004669, -0.17752569913864136, 0.0721767321228981, -0.08645620197057724, 0.1946866512298584, 0.21388471126556396, 0.0560297854244709, -0.28375351428985596, 0.707278311252594, -0.10321305692195892, -0.4032861590385437, 0.18108323216438293, -0.07446566224098206, -0.1274493783712387, -0.5535582304000854, -0.2920079529285431, -0.12548337876796722, 0.17680171132087708, -0.46452176570892334, -0.005002634134143591, -0.025184370577335358, 0.45344099402427673, -0.06363506615161896, -0.22095659375190735, 0.131633460521698, 0.36822906136512756, -0.01947745308279991, -0.20881196856498718, 0.054358284920454025, -0.008368012495338917, -0.49356165528297424, -0.4197786748409271, -0.3378557562828064, 0.6437423229217529, 0.11355669796466827, -0.3212587833404541, 0.26444196701049805, -0.0823127031326294, 0.4474870264530182, 0.31703582406044006, -0.08859525620937347, 0.2983390688896179, 0.1774226874113083, -0.2540876269340515, -0.5100491046905518, -0.11114193499088287, -0.32049882411956787, 0.09444677084684372, -0.12186288088560104, -0.06404589861631393, -0.28035876154899597, -0.23542898893356323, -0.4785600006580353, -0.004991434048861265, 0.537020742893219, -0.4580639898777008, 0.26293134689331055, 0.1299862265586853, -0.3509417772293091, 0.07098495960235596, 0.041894469410181046, 0.17039090394973755, 0.024911172688007355, 0.22301700711250305, -0.2088853418827057, 0.16419492661952972, 0.4644840657711029, 0.5279151201248169, -0.29821667075157166, -0.01799754612147808, 0.11370210349559784, 0.1617719531059265, -0.012079020030796528, -0.5826976299285889, 0.16375797986984253, -0.17704269289970398, -0.19381390511989594, 0.2532999515533447, -0.27750134468078613, 0.19203519821166992, 0.1982611119747162, -0.07706432044506073, 0.32898959517478943, 0.3495660722255707, 0.533398449420929, 0.1331460326910019, -0.3418446183204651, -0.5156393051147461, 0.10502234101295471, 0.8264654874801636, 0.40451356768608093, -0.03367630019783974, -0.04681934788823128, -0.049627888947725296, -0.17695888876914978, 0.03343867138028145, 0.08630552142858505, -0.0775839164853096, -0.45934754610061646, -0.352922260761261, 0.07112959772348404, 0.25798869132995605, -0.10370989143848419, -0.5402816534042358, -0.050661515444517136, -0.15949243307113647, 0.24145394563674927, -0.06852206587791443, -0.003860978176817298, -0.4868982136249542, 0.341494619846344, 0.02603462152183056, -0.23882701992988586, 0.0379851832985878, -0.6047149896621704, 0.6398870348930359, -0.04878653585910797, 0.27730417251586914, 0.41001129150390625, -0.27605774998664856, 0.4912150204181671, 0.057302724570035934, 0.5466375350952148, 0.20141394436359406, -0.037470508366823196, -0.2906471788883209, -0.14931942522525787, -0.19057171046733856, 0.12104824185371399, -0.4291799068450928, -0.11727804690599442, -0.29816046357154846, 0.21686892211437225, -0.4772348999977112, 0.31695860624313354, 0.1608448326587677, 0.2946990430355072, -0.18269090354442596, 0.23232106864452362, -0.04389495402574539, -0.32294124364852905, 0.11363902688026428, 0.356107234954834, 0.6072158813476562, 0.18970490992069244, -0.06322146207094193, 0.3061971664428711, -0.05309847742319107, -0.5593820810317993, 0.3961794376373291, -0.14060360193252563, 0.03608034551143646, -0.4981174170970917, -0.4181140661239624, 0.03238213062286377, 0.022435959428548813, 0.22739717364311218, -0.35894542932510376, 0.0435972586274147, -0.18603502213954926, -0.3096238374710083, -0.21007807552814484, -0.049110881984233856, -0.09991398453712463, -0.14564336836338043, 0.0928468108177185, 0.0818280428647995, -0.3955438435077667, -0.03412404656410217, -0.07907485961914062, 0.1230836734175682, -0.5094119310379028, -0.2663085460662842, 0.2888243496417999, -0.16045348346233368, -0.0333825908601284, 0.0661071389913559, 0.17479872703552246, 0.5428840517997742, -0.12505580484867096, 0.6243770122528076, 0.16757120192050934, -0.2161811739206314, -0.3274051249027252, -0.1972806304693222, 0.20983271300792694, 0.3752562701702118, 0.43846696615219116, -0.2925434410572052, 0.6133816838264465, -0.24287931621074677, 0.656101405620575, -0.33300521969795227, -0.12771496176719666, 0.2018406242132187, -0.09320753812789917, 0.26122570037841797, 0.33727023005485535, 0.08652255684137344, 0.34171968698501587, -0.20260396599769592, -0.7441970109939575, -0.20598509907722473, -0.12602022290229797, -0.2761540710926056, 0.3580331802368164, -0.009017772041261196, 0.4427545368671417, -0.11159058660268784, 0.2869018316268921, -0.12195378541946411, -0.2278587371110916, 0.2440863847732544, 0.34115153551101685, -0.0694185122847557, 0.577552318572998, 0.22050689160823822, -0.25635164976119995, -0.5159819722175598, 0.10756629705429077, 0.34323152899742126, -0.0003417069383431226, -0.4317052364349365, 0.3648696839809418, 0.0472867377102375, -0.014665145426988602, -0.12808610498905182, 0.0035381074994802475, -0.18776115775108337, -0.5783549547195435, -0.2560456395149231, -0.44587603211402893, 0.34674060344696045, -0.24406187236309052, -0.4756176769733429, -0.11125334352254868, 0.0868491679430008, 0.10936559736728668, 0.42213207483291626, -0.24154599010944366, -0.20388171076774597, -0.1274385154247284, 0.16343839466571808, -0.2410324215888977, -0.26432520151138306, -0.2668244242668152, -0.633712649345398, -0.20954664051532745, 0.7435204982757568, -0.048756591975688934, -0.469879150390625, 0.46093136072158813, 0.10681349784135818, 0.18467819690704346, 0.8180286884307861, -0.6351803541183472, -0.06025584414601326, -0.23942871391773224, 0.06401670724153519, 0.1667315661907196, 0.3609311282634735, 0.15321986377239227, -0.3836929202079773, 0.051640674471855164, 0.07300829887390137, -0.2395259141921997, 0.46472522616386414, 0.02270296961069107, -0.46231529116630554, -0.23414957523345947, -0.10500391572713852, 0.11809190362691879, -0.15714144706726074, -0.43487033247947693, 0.558965265750885, 0.024385718628764153, 0.06299258768558502, 0.3482862114906311, -0.5822967290878296, -0.03327338024973869, -0.026364879682660103, -0.2643686532974243, -0.002092882990837097, 0.14051376283168793, -0.3131711483001709, -0.1496029496192932, -0.04745951294898987, 0.1834370344877243, -0.2687878906726837, 0.2824997305870056, -0.0038727016653865576, -0.15635791420936584, 0.27413830161094666, 0.20025724172592163, 0.24618950486183167, -0.22076578438282013, 0.19978521764278412, -0.12061747908592224, 0.5522645115852356, 0.16635197401046753, 0.2688637971878052, -0.384655624628067, 0.2283455729484558, -0.8144872784614563, 0.4778851866722107, 0.7240116596221924, -0.14462946355342865, 0.21382124722003937, 0.44067317247390747, -0.3979553282260895, 0.008716984651982784, 0.2268584817647934, 0.4214622676372528, -0.17061422765254974, 0.3183330297470093, 0.05904611572623253, 0.45414790511131287, 0.21067923307418823, 0.018688680604100227, 0.3015739917755127, -0.16474699974060059, 0.21686683595180511, -0.11725520342588425, -0.05279172211885452, 0.8036473393440247, 0.1734435111284256, 0.19495485723018646, -0.10328007489442825, 0.02215474285185337, -0.09595214575529099, -0.22035963833332062, 0.010098418220877647, -0.26639291644096375, -0.18112234771251678, -0.4236123263835907, 0.16945773363113403, -0.13337333500385284, 0.3576408326625824, 0.1337878406047821, -0.40902823209762573, 1.107825756072998, -0.009103613905608654, -0.3468632400035858, 0.07861515134572983, 0.07562152296304703, 0.05713866651058197, -0.912922739982605, -0.15844857692718506, 0.11815638840198517, 0.046912893652915955, -0.03636495769023895, 0.30115509033203125, -0.03326651453971863, 0.3510545790195465, -0.33480292558670044, 0.08319094032049179, 0.08717341721057892, -0.6764640808105469, -0.5112725496292114, -0.06283967941999435, 0.20183293521404266, 0.3027428090572357, -0.2974383533000946, 0.09137637913227081, 0.35873714089393616, -0.19002975523471832, 0.2100178748369217, -0.0054985033348202705, 0.07897434383630753, 0.45313844084739685, -0.571892499923706, 0.4305984079837799, -0.17286041378974915, -0.10064636170864105, 0.5564987063407898, -0.3394060432910919, 0.14156107604503632, 0.09154891967773438, 0.0850842222571373, 0.029192578047513962, 0.4483534097671509, 0.07253285497426987, 0.19709421694278717, 0.30579835176467896, 0.28239521384239197, 0.2968883812427521, 0.050347864627838135, -0.5481232404708862, 0.1567593216896057, -0.05600040778517723, -0.5083852410316467, -0.31298863887786865, -8.920555114746094, -0.3023664057254791, 0.1994575560092926, 0.2832883894443512, 0.10048076510429382, -0.11268635839223862, -0.41430503129959106, 0.21172772347927094, 0.6348499059677124, 0.21416661143302917, -0.05883006379008293, -0.47030502557754517, 0.15612877905368805, -0.3424561321735382, 0.03373797610402107, 0.3034569323062897, -0.27135711908340454, 0.3043469786643982, -0.11614782363176346, 0.20683175325393677, 0.00948307104408741, 0.3575344979763031, -0.22964216768741608, 0.4583524465560913, 0.403577983379364, 0.7232340574264526, 0.05115075409412384, 0.37760719656944275, 0.6479547619819641, -0.22956658899784088, -0.12041525542736053, 0.2530360519886017, 0.020121222361922264, 0.0616576261818409, 0.10964813083410263, -0.20962519943714142, 0.08213916420936584, 0.37524306774139404, 0.7559746503829956, -0.253202348947525, -0.5257133841514587, -0.0691191628575325, 0.2187514305114746, 0.3286472260951996, 0.013174791820347309, 0.30576327443122864, -0.2702241837978363, 0.041937455534935, -0.6884180307388306, 0.20318078994750977, 0.6358428001403809, -0.07918493449687958, 0.2052832543849945, 0.0660286545753479, -0.4272878170013428, 0.0625402182340622, 0.18554264307022095, 0.8725754022598267, 0.28953081369400024, 0.5893498659133911, -0.306030809879303, -0.06925627589225769, 0.6347129344940186, -0.5582106113433838, -0.673107385635376, -0.19574181735515594, 0.1040472462773323, -0.07565397024154663, -0.4406495988368988, -0.41504356265068054, -0.12524089217185974, -0.13078229129314423, 0.6818028688430786, -0.19599512219429016, -0.18652047216892242, -0.1776818186044693, -0.15884682536125183, -0.180961012840271, 0.35066452622413635, 0.834507167339325, -0.37609320878982544, 0.5974796414375305, 0.3107432723045349, -0.06238917261362076, -0.022142328321933746, -0.12384938448667526, -0.16475577652454376, 0.2515471279621124, -0.3601774275302887, 0.11330795288085938, 0.07655776292085648, -0.09116793423891068, -0.29676878452301025, 0.33695870637893677, -0.005949902348220348, 0.38185009360313416, -0.138279989361763, -0.057247065007686615, -0.1153937578201294, 0.19330963492393494, -0.428664892911911, 0.07467525452375412, 0.24820144474506378, -0.17365023493766785, -0.10437457263469696, -0.22269369661808014, -0.1071077287197113, 0.01397734321653843, 0.024432122707366943, -0.013606887310743332, -0.16651329398155212, 0.4509563446044922, 0.06619890034198761, -0.2186475694179535, 0.29102444648742676, 0.2726476192474365, 0.022239312529563904, -0.057275302708148956, 0.5594741702079773, 0.1514361947774887, -0.13542015850543976, -0.4276852011680603, 0.2129475623369217, -0.7337971925735474, 0.24368582665920258, 0.41784414649009705, -0.39283064007759094, -0.07451120764017105, 0.09595467895269394, -0.08021850138902664, 0.28897035121917725, 0.47296422719955444, -0.1116248369216919, -0.2293810099363327, 0.31967198848724365, -0.48006364703178406, 0.044851887971162796, 0.03624318912625313, 0.038396935909986496, 0.01666777767241001, -0.7623479962348938, 0.3100883364677429, 0.24334308505058289, 0.02719121240079403, 0.17787756025791168, -0.20371554791927338, -0.1291116327047348, -0.1280459761619568, 0.3176002502441406, 0.2625655233860016, -0.6794065237045288, 0.2166462540626526, 0.13139086961746216, 0.14374178647994995, 0.5462052822113037, -0.08205273002386093, 0.38338354229927063, 0.348812460899353, -0.47190022468566895, 0.09869710355997086, 0.1508324146270752, -0.08558828383684158, 0.085087351500988, -0.07110308110713959, 0.15290719270706177, -0.24469174444675446, -0.6180345416069031, 0.28576141595840454, -0.04541553184390068, 0.27183011174201965, 0.09617681801319122, -0.33038461208343506, -0.05446051433682442, 0.15283425152301788, -0.2181984782218933, -0.011719322763383389, -0.36068350076675415, -0.6226106286048889, -0.2266595959663391, -0.355387419462204, 0.2910882830619812, 0.19061152637004852, 0.2026364803314209, -0.30643826723098755, 0.11984265595674515, 0.30298832058906555, 0.057038385421037674, -0.22630704939365387, -0.02502170018851757, 0.5755023956298828, -0.010749740526080132, -0.23358237743377686, -0.14714284241199493, 0.335430383682251, 0.09598544985055923, 0.13545744121074677, 0.0406712144613266, -0.004299346823245287, -0.0978267639875412, 0.20861311256885529, 0.4979461133480072, -0.21311020851135254, 0.06531423330307007, -0.005488116294145584, 0.14008185267448425, -0.004088227637112141, 0.3165392279624939, 0.4287658929824829, 0.06998834758996964, 0.15590707957744598, 0.3031187653541565], [-0.10166805237531662, 0.22235916554927826, -0.4922107756137848, -0.15539047122001648, 0.477151095867157, -0.1663767695426941, 0.2401125580072403, -0.16738954186439514, 0.12438582628965378, -0.1522980034351349, 0.47348472476005554, 0.2571631371974945, -0.21068647503852844, 0.4673360288143158, -0.23086048662662506, -0.40139731764793396, -0.1662142276763916, 0.038994889706373215, 0.0005057945381850004, -0.4082586169242859, 0.058025624603033066, 0.11212503165006638, -0.02448168210685253, 0.424580454826355, 0.09850776195526123, -0.3059069514274597, 0.332061231136322, 0.6593219041824341, 3.881522570736706e-05, -0.11178948730230331, -0.07573993504047394, -0.3409787714481354, 0.40589869022369385, 0.06837902218103409, 0.012231742031872272, 0.28256848454475403, -0.0014850421575829387, 0.3513612747192383, 0.2781166434288025, -0.1677933782339096, 0.27960407733917236, 0.2962283492088318, -0.10932273417711258, 0.2092326432466507, 0.4163814187049866, -0.11037278920412064, 0.02208603173494339, -0.3466469645500183, 0.18610601127147675, -0.10895749926567078, -0.24834147095680237, -0.13735593855381012, -0.05917200446128845, -0.039342865347862244, 0.22605076432228088, -0.24659568071365356, 0.3105194866657257, -0.17655937373638153, -0.1012214943766594, 0.7402958273887634, -0.23749777674674988, 0.3809342086315155, 0.32524722814559937, -0.1601632684469223, 0.6295551061630249, -0.3937554657459259, -0.22822941839694977, -0.054199546575546265, 0.25010615587234497, -0.4142899215221405, 0.28356465697288513, -0.11446807533502579, -0.47093960642814636, 0.06413793563842773, 0.011316433548927307, -0.5672962069511414, 0.43221622705459595, -0.6134148836135864, 0.17251388728618622, -0.5180985927581787, 0.2697845697402954, 0.22846543788909912, 0.1667582243680954, 0.12563008069992065, -0.034669335931539536, -0.32076746225357056, -0.15620295703411102, 0.5768322348594666, -0.052710503339767456, 0.5046712756156921, -0.07188297808170319, -0.15180309116840363, 0.16547708213329315, -0.14716605842113495, -0.2747092843055725, 0.3435914218425751, -0.5256379842758179, 0.028845084831118584, 0.18804915249347687, 0.34455379843711853, 0.0020397042389959097, -0.30448198318481445, -0.3902219831943512, 0.35962650179862976, 0.05452680215239525, 0.24019089341163635, 0.39904871582984924, -0.32149451971054077, -0.39503049850463867, 0.10483474284410477, 0.45367997884750366, -0.029403287917375565, -0.1642363965511322, -0.12390848249197006, -0.05704354867339134, -0.02053503692150116, 0.5427938103675842, -0.3795366585254669, 0.8552863597869873, 0.017433825880289078, 0.44669514894485474, -0.6035643815994263, -0.07286612689495087, -0.16585804522037506, -0.14770637452602386, 0.017951935529708862, -0.14821752905845642, -0.0945727601647377, 0.74444180727005, -0.036301370710134506, -0.5302095413208008, -0.14981530606746674, 0.10439926385879517, -0.30881866812705994, 0.27646002173423767, -0.48797520995140076, -0.8319089412689209, 0.7536301016807556, -1.089017391204834, -0.3023613691329956, -0.4653097093105316, 0.3908948302268982, 0.15532450377941132, -0.3574942350387573, 0.28038936853408813, -0.12872852385044098, -0.26406165957450867, 0.1295829713344574, -0.4043903946876526, 0.14104034006595612, -0.7495753765106201, -0.41847869753837585, 0.09601388871669769, -0.20657411217689514, -0.09190063923597336, -0.16543874144554138, 0.29807206988334656, 0.4111805260181427, 0.6483309864997864, -0.19710588455200195, 0.008264000527560711, 0.5663328766822815, -0.3709079921245575, 0.6089513897895813, 0.09713544696569443, 0.11075925081968307, 0.05700111761689186, 0.056705765426158905, -0.3323093354701996, -0.06253350526094437, 0.6142747402191162, 0.07194315642118454, -0.1247304305434227, 0.3026827275753021, -0.4300343990325928, -0.604346752166748, -0.18012826144695282, 0.32471898198127747, -0.03314720839262009, -0.06758562475442886, -0.03338555619120598, -0.11186350882053375, -0.4617222547531128, -0.5937286019325256, 0.018980633467435837, -0.29425981640815735, 0.47788652777671814, -0.14794397354125977, -0.26627227663993835, 0.5803492665290833, 0.35457801818847656, -0.21597254276275635, -0.5000331997871399, -0.09198809415102005, -0.26865774393081665, 0.031613290309906006, -0.16566532850265503, -0.20934836566448212, 0.20035213232040405, 0.4273463785648346, -0.19244320690631866, 0.038647424429655075, -0.2622818052768707, 0.4308810830116272, -0.030934374779462814, -0.018282294273376465, -0.13180865347385406, 0.17950530350208282, -0.11144731938838959, -0.2185235172510147, 0.48863211274147034, -0.4363343417644501, -0.21765254437923431, 0.012156911194324493, -0.5937939286231995, -0.06536738574504852, 0.16862641274929047, -0.8400745391845703, 0.4038848280906677, 0.4721829891204834, 0.06480856239795685, -0.013162689283490181, 0.3318868577480316, -0.5405847430229187, -0.37252703309059143, 0.13366739451885223, 0.34512943029403687, 0.21720947325229645, 0.15152233839035034, -0.009384142234921455, 0.0707160159945488, 0.16557203233242035, 0.5768557786941528, -0.4012781083583832, -0.1209196001291275, 0.27329713106155396, 0.04278659075498581, -0.124128058552742, -0.3972722887992859, -0.2766956686973572, -0.1588876098394394, -0.6123648285865784, 0.0743735283613205, 0.11884227395057678, 0.3384914696216583, -0.15464124083518982, 0.17784522473812103, 0.40430083870887756, 0.21569430828094482, 0.15126100182533264, -0.22909952700138092, -0.12006058543920517, 0.38332417607307434, 0.024605507031083107, 1.0581135749816895, 0.01599932834506035, -0.07679197192192078, 0.6177999377250671, -0.23752930760383606, -0.7013788223266602, -0.12514105439186096, 0.6494103074073792, -0.024501385167241096, -0.12220937013626099, -0.8190992474555969, -0.11063899844884872, -0.25795894861221313, -0.48875951766967773, -0.5420814752578735, 0.10725092887878418, -0.2988816499710083, -0.16636867821216583, 0.14983627200126648, 0.19537054002285004, -0.4119492769241333, 0.006463677156716585, 0.4614216387271881, -0.23599526286125183, -0.07433698326349258, -0.2405935525894165, 0.8547981977462769, 0.5277780890464783, 0.2912474274635315, 0.2012498825788498, -0.13205978274345398, 0.07805434614419937, 0.17455410957336426, 0.48750805854797363, -0.35148394107818604, -0.5597747564315796, -0.21558299660682678, 0.1549697071313858, -0.6583559513092041, 0.05606044828891754, -0.18800196051597595, -0.49078169465065, -0.17295926809310913, 0.05795540660619736, -0.7599714398384094, 0.2648930549621582, 0.0744994655251503, 0.26408103108406067, 0.38125839829444885, 0.21088671684265137, 0.12536150217056274, -0.33541879057884216, -0.02450469322502613, -0.5707662105560303, 0.4747299253940582, 0.4198097884654999, 0.1907780021429062, 0.4084273874759674, 0.46198657155036926, -0.482442706823349, 0.065518319606781, -0.1758006066083908, -0.3465590476989746, -0.3940853178501129, -0.3808991014957428, -0.43290191888809204, 0.16655105352401733, 0.22943730652332306, -0.4782841205596924, 0.4007304310798645, -0.12050498276948929, 0.14221416413784027, -0.03098364919424057, 0.0986780971288681, 0.38008755445480347, -0.025574561208486557, -0.24839042127132416, 0.12296893447637558, -0.198666512966156, 0.1396368145942688, -0.1978803128004074, 0.03485839441418648, -0.026335079222917557, 0.11924342066049576, 0.5947034955024719, 0.12109418213367462, 0.2569003999233246, 0.21419434249401093, 0.3763212263584137, 0.2427825778722763, 0.5017302632331848, 0.652705192565918, -0.2058553397655487, 0.07948387414216995, -0.2937890291213989, -0.13836853206157684, 0.160886749625206, -0.1254589855670929, -0.0652228519320488, 0.09144239127635956, 0.5179195404052734, -0.6249718070030212, 0.3611859083175659, 0.03544039651751518, -0.46292635798454285, 0.20667454600334167, 0.18194140493869781, 0.6689008474349976, -0.1245967298746109, -0.2733563184738159, 0.03157687559723854, -0.20250269770622253, 0.18594449758529663, -0.17281582951545715, 0.1026684120297432, 0.29675397276878357, 0.1798381507396698, 0.24361878633499146, 0.4242543876171112, -0.25684383511543274, -0.4230082929134369, -0.4007790684700012, -0.21612732112407684, -0.06313581019639969, 0.14335493743419647, -0.2646946609020233, 0.2588488757610321, 0.14467117190361023, 0.025380896404385567, -0.07139196246862411, -0.33567014336586, -0.05240390822291374, 0.11574625223875046, -0.013626230880618095, 0.37801241874694824, 0.090987928211689, 0.24072188138961792, 0.03192658722400665, 0.058781348168849945, -0.1062462255358696, -0.3163575232028961, -0.042234182357788086, -0.3080616891384125, 0.2708934545516968, -0.11360012739896774, -0.47261419892311096, -0.17044368386268616, 0.4837636947631836, -0.03845151141285896, 0.22523033618927002, -0.6752491593360901, -0.6274183392524719, 0.13797441124916077, 0.18668891489505768, -0.03477898985147476, -0.03364963456988335, -0.12735885381698608, -0.8626139760017395, 0.1605844795703888, 0.5960198640823364, -0.22696520388126373, -0.2728983759880066, 0.28902554512023926, 0.15513981878757477, 0.475215882062912, 0.27487871050834656, -0.39532721042633057, -0.00876828283071518, 0.24246972799301147, -0.26611751317977905, 0.32531672716140747, -0.1522047370672226, 0.12578003108501434, -0.49456292390823364, -0.2513725757598877, 0.20446303486824036, -0.17042170464992523, 0.4115636944770813, -0.00856364518404007, -0.09054886549711227, -0.5209855437278748, 0.2871139347553253, 0.12231616675853729, 0.443922221660614, -0.5405674576759338, -0.09723030775785446, 0.14165465533733368, -0.3647864758968353, -0.05567670240998268, -0.391830176115036, -0.04802392050623894, -0.01731903664767742, -0.36928293108940125, -0.13899193704128265, 0.37595823407173157, -0.24276883900165558, 0.11805928498506546, 0.4005069136619568, 0.15143324434757233, -0.08011005818843842, 0.38870805501937866, -0.12025138735771179, -0.459837406873703, -0.009066518396139145, -0.30812594294548035, -0.48825231194496155, -0.7275123000144958, 0.1370898187160492, 0.2681291103363037, 0.450029581785202, 0.06103597953915596, -0.048913825303316116, 0.12610308825969696, 0.15018945932388306, -0.10912179201841354, -0.29360857605934143, 0.32613980770111084, -0.08401957899332047, 0.11333374679088593, 0.2811712920665741, -0.2210923731327057, 0.004577376879751682, -0.05071929097175598, 0.22032196819782257, -0.6214364767074585, -0.3114791512489319, -0.5668095350265503, 0.17922458052635193, -0.12156423181295395, 0.007972928695380688, 0.27144739031791687, 0.364593505859375, 0.157223179936409, -0.15406924486160278, 0.294750839471817, 0.9639589190483093, -0.34239816665649414, 0.1397876739501953, 0.2072826772928238, 0.08162683248519897, -0.28133270144462585, 0.11965478211641312, 0.08278480172157288, -0.5091022253036499, -0.32641783356666565, -0.05156220495700836, -0.025763900950551033, 0.0977943167090416, 0.29718339443206787, 0.10503998398780823, -0.22631748020648956, 1.2736839056015015, 0.707598865032196, 0.1415322721004486, -0.36034250259399414, -0.2556273937225342, 0.0593348853290081, -0.7405577898025513, -0.11264487355947495, 0.147968128323555, 0.11384627223014832, -0.019946418702602386, 0.615729570388794, 0.1767682433128357, 0.15450608730316162, -0.613448977470398, 0.3021474778652191, 0.25635719299316406, -0.1123569905757904, -0.32395830750465393, 0.07198723405599594, 0.4751288592815399, 0.2375694215297699, 0.6065741181373596, -0.05682669207453728, 0.41347646713256836, -0.14097478985786438, -0.07103317230939865, -0.05905533581972122, 0.012333336286246777, 0.9733189344406128, -0.7017676830291748, 0.05221046879887581, 0.14512823522090912, -0.03850070387125015, -0.15730781853199005, 0.17106236517429352, 0.33242008090019226, -0.08118095248937607, 0.06074976921081543, -0.27820777893066406, 0.583745539188385, 0.014942183159291744, -0.223115473985672, 0.27226942777633667, -0.006630425341427326, 0.5511080622673035, -0.043368108570575714, -0.22020596265792847, 0.04420721158385277, -0.48127153515815735, -0.3065827488899231, -0.08594715595245361, -8.649286270141602, -0.2976154088973999, 0.1648043692111969, 0.2652711868286133, 0.43490737676620483, 0.015030892565846443, -0.3741099536418915, -0.10069253295660019, -0.033835187554359436, 0.011691953055560589, -0.13767790794372559, -0.13624142110347748, 0.894498348236084, -0.24187560379505157, 0.3957522213459015, -0.19526030123233795, 0.08107820153236389, -0.3209860026836395, -0.016520528122782707, -0.1261536031961441, 0.06935959309339523, 0.1396818608045578, -0.18257810175418854, 0.898639976978302, -0.3776067793369293, 0.5770149230957031, -0.10595957189798355, 0.04166046157479286, 0.4974406957626343, -0.28177741169929504, 0.2999611496925354, 0.09079468995332718, -0.2493482530117035, -0.403882771730423, 0.22033126652240753, -0.20885208249092102, 0.40193456411361694, 0.1768357753753662, 0.7421601414680481, -0.45254945755004883, -0.48907265067100525, -0.10908811539411545, 0.15070819854736328, -0.004547914955765009, -0.2550993263721466, 0.1689292937517166, 0.011909164488315582, -0.3681468963623047, -0.3517032563686371, -0.023258281871676445, 0.5290434956550598, -0.0493222139775753, 0.6719046235084534, 0.10445325076580048, 0.18488481640815735, 0.06399381160736084, 0.03373733162879944, 0.5012568235397339, -0.06341158598661423, 0.07452820241451263, 0.021679984405636787, 0.08859516680240631, 0.6938392519950867, -0.38262784481048584, -0.28132379055023193, 0.14521712064743042, 0.08468828350305557, -0.1773962378501892, -0.03801765665411949, -0.5339091420173645, -0.5660465359687805, -0.17587661743164062, 0.4585835635662079, -0.8678529858589172, -0.430157870054245, -0.7124442458152771, -0.10832125693559647, 0.07270191609859467, 0.08121080696582794, 0.3633285164833069, -0.014516213908791542, 1.0427281856536865, 0.3735381066799164, -0.1482492983341217, -0.05002407729625702, -0.4385242760181427, -0.22668667137622833, 0.34962260723114014, 0.45754197239875793, -0.28072887659072876, -0.2823528051376343, 0.308849036693573, -0.1081901416182518, -0.12438968569040298, 0.40067705512046814, 0.5495615005493164, -0.1077113077044487, -0.07224489748477936, -0.11932330578565598, 0.5688419938087463, -0.5246154069900513, -0.1527750939130783, -0.3997834324836731, -0.6305064558982849, 0.14959017932415009, -0.19684508442878723, 0.03313962370157242, -0.2792535722255707, 0.07022063434123993, 0.06875528395175934, 0.025127040222287178, 0.6346110105514526, 0.5039241909980774, 0.06811046600341797, 0.4121726155281067, 0.7416127324104309, 0.3582657277584076, -0.18184737861156464, 0.5937931537628174, -0.315839022397995, -0.2806321680545807, 0.14751671254634857, -0.2594892680644989, -0.6109156012535095, 0.24795086681842804, 0.5461465716362, -0.42956677079200745, -0.1476401388645172, 0.17804116010665894, -0.02968500182032585, 0.13158436119556427, 0.062001053243875504, -0.23596033453941345, 0.3904777467250824, 0.0009502086904831231, -0.05840744078159332, -0.027602626010775566, 0.3233203589916229, -0.3347017168998718, -0.2852061688899994, -0.6746513843536377, -0.2561779320240021, 0.4662056267261505, 0.03677985817193985, 0.4474771022796631, 0.33734163641929626, -0.4047810435295105, -0.4811224341392517, 0.30775171518325806, -0.14729204773902893, -0.8657832741737366, 0.1596686691045761, 0.34746137261390686, 0.32835090160369873, 0.8383352756500244, 0.11395477503538132, 0.21809826791286469, 0.20195025205612183, -0.20912471413612366, -0.2954939007759094, 0.4461929500102997, -0.35771921277046204, 0.29774782061576843, -0.39959239959716797, -0.34857311844825745, -0.23646262288093567, -0.4223344922065735, 0.13535882532596588, -0.0876031294465065, 0.22050604224205017, 0.739743173122406, -0.3909584581851959, 0.10321822017431259, 0.2795124351978302, -0.14307764172554016, -0.8761810660362244, 0.22184687852859497, -0.5166146159172058, -0.20073659718036652, 0.7536506652832031, 0.6568033695220947, 0.7782573103904724, 0.13215754926204681, -0.5964499115943909, -0.4095345735549927, 0.23945026099681854, 0.45997196435928345, -0.4731726050376892, -0.15956975519657135, 0.16008341312408447, 0.27074649930000305, 0.2191174179315567, -0.5702279210090637, 0.42200708389282227, 0.4104613661766052, 0.058884572237730026, -0.008418948389589787, 0.4960588216781616, 0.15964137017726898, -0.4018748104572296, 0.028105806559324265, -0.23755048215389252, -0.04547547176480293, -0.4201807379722595, 0.1455301195383072, -0.022151296958327293, 0.23419389128684998, 0.6533190608024597, 0.2794944941997528, -0.35362908244132996, 0.28757134079933167], [-0.2366945892572403, 0.2733508050441742, 0.06520532816648483, -0.2199518382549286, -0.14687761664390564, -0.31067734956741333, 0.33762291073799133, -0.23380133509635925, -0.15205495059490204, -0.46085405349731445, -0.1426813006401062, 0.30857327580451965, -0.5343698263168335, 0.724032998085022, -0.505742073059082, -0.041592687368392944, -0.2621435821056366, 0.05555598437786102, -0.07838530093431473, -0.028593774884939194, -0.07303278148174286, -0.061100028455257416, -0.21085678040981293, -0.14110898971557617, 0.3916565775871277, 0.3472013771533966, 0.18098120391368866, 0.5852639079093933, 0.2974900007247925, 0.4991821050643921, 0.08545631170272827, -0.4821776747703552, -0.006503026466816664, 0.18661068379878998, 0.387082040309906, 0.20266245305538177, -0.26365774869918823, 0.0032368856482207775, 0.21521005034446716, -0.10416176915168762, 0.07494907081127167, 0.34044399857521057, -0.29318922758102417, -0.1308901458978653, 0.037724051624536514, -0.17271533608436584, -0.0562523789703846, -0.3389028012752533, 0.006260689347982407, -0.005780723877251148, 0.25415119528770447, -0.4484347403049469, -0.09765367209911346, 0.16266849637031555, 0.1551811248064041, -0.46594351530075073, 0.06903129816055298, -0.3190286159515381, 0.02249913476407528, 0.5054126381874084, -0.21086344122886658, 0.5794640779495239, -0.1007232666015625, -0.09404999762773514, 0.26032230257987976, -0.0013256696984171867, -0.12109944224357605, -0.06663926690816879, 0.24075473845005035, -0.009152919054031372, 0.2032936066389084, -0.18519793450832367, -0.23144479095935822, -0.12900763750076294, -0.3260064125061035, -0.26941466331481934, 0.30108144879341125, -0.4812310039997101, -0.04700043797492981, -0.4468316435813904, 0.2089027464389801, 0.5069785118103027, 0.41281843185424805, -0.06951155513525009, -0.40666091442108154, -0.20859040319919586, 0.038359541445970535, 0.4232628047466278, -0.16747456789016724, 0.5677964687347412, -0.2617661952972412, 0.15467967092990875, 0.15786032378673553, 0.09507447481155396, -0.14750434458255768, 0.3193833827972412, -0.27916115522384644, -0.323936402797699, -0.2712940573692322, 0.227471262216568, -0.1562877893447876, 0.277383953332901, -0.2647232711315155, 0.647774875164032, -0.049713898450136185, 0.32367855310440063, 0.30561038851737976, -0.17943161725997925, -0.4537861943244934, 0.3581361770629883, 0.25949493050575256, 0.2029532790184021, 0.023774391040205956, -0.20173045992851257, -0.5269293785095215, 0.17998141050338745, 0.23815973103046417, -0.5224984884262085, 0.6822128891944885, 0.007865933701395988, 0.7439383268356323, -0.09949151426553726, 0.025818850845098495, -0.02574765495955944, 0.07767675071954727, 0.08190310001373291, 0.22747570276260376, -0.09256988763809204, 0.3268694579601288, -0.09575705230236053, -0.40762221813201904, -0.003954108338803053, 0.38225045800209045, -0.232906311750412, 0.004083248786628246, 0.45724594593048096, -0.18545684218406677, 0.3363274335861206, -0.9341177940368652, -0.12585264444351196, -0.2838108539581299, 0.3690197467803955, 0.2454809695482254, -0.09413817524909973, 0.03594467043876648, 0.012638412415981293, -0.578342616558075, -0.32735535502433777, -0.4011611044406891, 0.0720183402299881, -0.2500529885292053, -0.47940242290496826, 0.20418283343315125, 0.4299418330192566, -0.48390519618988037, -0.3071986436843872, 0.20473234355449677, 0.16698899865150452, 0.15039660036563873, -0.2770330607891083, 0.16148443520069122, 0.17756466567516327, -0.5318015217781067, 0.26591840386390686, -0.06093185767531395, 0.3308800458908081, -0.10629723966121674, 0.16516515612602234, -0.1582978516817093, 0.1318160593509674, 0.1502135694026947, 0.22623476386070251, 0.007391762919723988, 0.1392543911933899, 0.09163748472929001, -0.5330593585968018, 0.3975451588630676, 0.11366724967956543, 0.8722832202911377, 0.009200876578688622, -0.0008291859412565827, -0.14203086495399475, -0.22205817699432373, -0.8613700270652771, -0.11630142480134964, 0.018652163445949554, 0.352263480424881, 0.04349159821867943, -0.27602049708366394, 0.14176437258720398, -0.07136010378599167, -0.057542137801647186, -0.10701204836368561, -0.11836425215005875, -0.15244534611701965, -0.009011752903461456, 0.01010188926011324, -0.19241991639137268, -0.24442365765571594, 0.006638693157583475, 0.01122046634554863, 0.07205554842948914, -0.25714004039764404, 0.44937264919281006, -0.20533929765224457, 0.07795676589012146, 0.006649775430560112, 0.07450903207063675, -0.10413115471601486, -0.4989319443702698, 0.04298422113060951, -0.4609890878200531, -0.3206125497817993, -0.04659302905201912, 0.012267384678125381, 0.20394492149353027, 0.1025669127702713, -0.32609468698501587, -0.3331068456172943, -0.12699975073337555, 0.0966825857758522, -0.06750288605690002, 0.7125124931335449, -0.4920189082622528, -0.4374212920665741, 0.045727502554655075, 0.06815214455127716, 0.2986188530921936, 0.3701057732105255, -0.06767786294221878, -0.02090764231979847, -0.009016190655529499, 0.16356591880321503, -0.25847741961479187, -0.07110650837421417, -0.142163947224617, -0.014261542819440365, -0.00987501721829176, -0.4211190342903137, 0.02605619467794895, 0.0026921427343040705, -0.1902630627155304, 0.34316709637641907, -0.011541733518242836, -0.06617991626262665, -0.10928214341402054, -0.41865402460098267, 0.35873737931251526, 0.7386354207992554, 0.08000683039426804, -0.3039660155773163, -0.18519245088100433, -0.11201786994934082, 0.08939389139413834, 0.3982356786727905, 0.22351549565792084, -0.20116548240184784, 0.34894952178001404, -0.14436395466327667, -0.6856206059455872, 0.15517494082450867, 0.315269410610199, -0.11299996823072433, -0.04894028976559639, -0.3241023123264313, -0.1001766100525856, 0.12650832533836365, 0.2932523488998413, -0.3430459201335907, 0.2952739894390106, -0.011979480274021626, -0.17347542941570282, -0.47647613286972046, 0.5630708932876587, -0.3410300314426422, 0.24015139043331146, 0.04992799088358879, -0.16309165954589844, -0.3190130591392517, -0.33507397770881653, 0.40280672907829285, 0.2492198646068573, 0.12189341336488724, -0.07331014424562454, -0.5314261317253113, -0.1080222949385643, 0.22793404757976532, 0.37228915095329285, -0.320872038602829, -0.13191954791545868, 0.32025283575057983, 0.01903504692018032, -0.5667529106140137, -0.10684265941381454, 0.36239930987358093, -0.11175532639026642, -0.5116958618164062, 0.2618944048881531, -0.25855717062950134, 0.2800523042678833, 0.04114240035414696, -0.10234798491001129, -0.17285269498825073, 0.12784802913665771, -0.3086780309677124, 0.5127577185630798, 0.06770569831132889, 0.04392794519662857, 0.22885662317276, 0.015365337021648884, 0.12038182467222214, -0.17977853119373322, 0.15512965619564056, -0.5194754600524902, -0.09432611614465714, -0.17230987548828125, -0.28021466732025146, -0.5566033124923706, -0.007500344887375832, -0.17367562651634216, -0.006795693654567003, 0.4012163281440735, -0.27428099513053894, 0.37842389941215515, 0.14094749093055725, 0.22681830823421478, 0.4698021411895752, -0.11109606176614761, 0.3672049343585968, -0.08388633280992508, -0.05913741886615753, -0.252758264541626, -0.08301537483930588, -0.34072327613830566, -0.188521608710289, -0.18687623739242554, 0.07187731564044952, 0.5201510190963745, -0.37532925605773926, 0.05536644533276558, 0.07738281786441803, 0.06535687297582626, 0.2891162037849426, -0.30175524950027466, 0.20044060051441193, 0.10458304733037949, 0.009461316280066967, 0.31026124954223633, -0.05143459886312485, -0.3316401541233063, 0.32748541235923767, -0.1511990875005722, 0.12322474271059036, 0.19954602420330048, 1.166266679763794, 0.24844497442245483, 0.04778645560145378, 0.02548675611615181, 0.4003627896308899, -0.159071147441864, 0.08985359966754913, 0.2668434679508209, -0.17057543992996216, -0.01131452340632677, -0.12256266176700592, -0.33818289637565613, 0.28109946846961975, 0.12005701661109924, 0.030924053862690926, 0.21041078865528107, 0.4114796817302704, 0.03977872431278229, -0.05425620824098587, 0.053785525262355804, -0.1604565978050232, -0.12506145238876343, -0.5308710336685181, 0.030558930709958076, 0.035206232219934464, 0.15808191895484924, 0.20448769629001617, 0.29698097705841064, 0.1439935863018036, -0.19016805291175842, -0.2659611701965332, -0.3230612277984619, -0.27365028858184814, -0.14119133353233337, 0.2095738649368286, -0.2103215456008911, 0.11537804454565048, 0.07157033681869507, 0.18247239291667938, 0.3639404773712158, 0.02943364344537258, 0.29449912905693054, -0.11688343435525894, 0.2726210951805115, 0.10210983455181122, -0.05184495821595192, 0.018812840804457664, -0.28193026781082153, 0.32022619247436523, -0.5400769114494324, -0.6575325131416321, -0.570465624332428, -0.05273934453725815, 0.2960014045238495, 0.21991273760795593, -0.45980215072631836, -0.43213483691215515, -0.6867231130599976, -0.2422587126493454, 0.6446508169174194, 0.17909656465053558, -0.06899522989988327, -0.10928813368082047, -0.20806308090686798, 0.43184196949005127, 0.08778230845928192, -0.403985857963562, 0.363326758146286, -0.02664128690958023, -0.05220138281583786, 0.019842589274048805, 0.03890566900372505, 0.09884282201528549, -0.5262210369110107, -0.3440589904785156, 0.28637588024139404, 0.11720696091651917, -0.01148517057299614, 0.03644765168428421, -0.02801932953298092, -0.050766438245773315, -0.03134547173976898, -0.11767751723527908, 0.15582150220870972, -0.1923203468322754, -0.513066828250885, 0.06404401361942291, -0.2312375158071518, 0.2569776475429535, -0.4235585033893585, -0.22582265734672546, -0.02360856533050537, -0.2584396004676819, 0.19286797940731049, -0.4005078375339508, -0.042868368327617645, 0.6055091023445129, 0.33905714750289917, 0.24479986727237701, -0.17468461394309998, 0.3665536046028137, 0.23261123895645142, -0.2886449694633484, -0.4004397392272949, -0.5219236016273499, -0.3874077796936035, -0.3723212778568268, 0.1396125704050064, 0.034466054290533066, 0.45340731739997864, -0.028253396973013878, 0.045402802526950836, 0.3442491888999939, 0.415244996547699, -0.05793207138776779, 0.3380112946033478, 0.4648802578449249, 0.3172643184661865, -0.023540759459137917, 0.6372213959693909, -0.2330906242132187, -0.15708892047405243, 0.11841500550508499, 0.19214527308940887, -0.10650569200515747, -0.06334537267684937, -0.22644563019275665, 0.13641975820064545, 0.02846173197031021, 0.03315182775259018, 0.1034746989607811, 0.2720121741294861, 0.9243251085281372, -0.06196671351790428, 0.09768518060445786, 0.5423852205276489, -0.48507288098335266, -0.46170321106910706, 0.42105528712272644, 0.15626072883605957, 0.3673475682735443, 0.17185404896736145, -0.05842946842312813, -0.08446847647428513, 0.032672300934791565, 0.15377485752105713, -0.3863867521286011, -0.004519965499639511, 0.26778262853622437, 0.039129260927438736, -0.08168131858110428, 0.6580765843391418, 0.72722989320755, 0.28145262598991394, 0.12522974610328674, -0.4986601173877716, 0.06124474108219147, -0.27094197273254395, -0.32344481348991394, -0.04799238219857216, 0.00933703500777483, 0.26826655864715576, 0.3604416847229004, 0.020814429968595505, 0.0590239055454731, -0.3761502504348755, 0.6487506031990051, 0.21918413043022156, 0.12757612764835358, -0.22755390405654907, 0.03560599684715271, -0.002261728746816516, 0.2319924384355545, 0.18717466294765472, 0.06028427928686142, 0.11732758581638336, -0.077252596616745, -0.09684029221534729, 0.5365234613418579, 0.17993299663066864, 0.3866957426071167, -0.3779621422290802, -0.0025819672737270594, -0.1695481389760971, -0.056103918701410294, -0.17682182788848877, -0.15242300927639008, 0.42263200879096985, -0.0082797110080719, 0.2821141183376312, 0.177597314119339, 0.21939361095428467, -0.1554863601922989, -0.06876146048307419, 0.23833248019218445, 0.22076603770256042, 0.3851392865180969, -0.16005165874958038, -0.5483145117759705, 0.1164858266711235, 0.043929241597652435, 0.017233915627002716, 0.01543076615780592, -9.011005401611328, -0.030433790758252144, 0.26357313990592957, 0.09381668269634247, -0.04964851215481758, 0.05006829649209976, 0.02055530622601509, -0.6589512228965759, -0.24833166599273682, 0.2074689418077469, -0.016801124438643456, -0.341274619102478, 0.3621169626712799, -0.14715810120105743, 0.5782992243766785, 0.03716345503926277, 0.41132450103759766, -0.5735013484954834, -0.003441795241087675, 0.1315140724182129, -0.14691871404647827, 0.18829455971717834, -0.12737444043159485, 0.3065602481365204, -0.4324527680873871, 0.07873868942260742, 0.044620245695114136, 0.40097901225090027, 0.047368358820676804, -0.32709208130836487, 0.19697217643260956, -0.290670782327652, -0.05952015519142151, -0.09008276462554932, -0.3688252568244934, -0.22288593649864197, 0.18210762739181519, 0.22916561365127563, 0.24240529537200928, -0.31080687046051025, -0.18602325022220612, 0.07135937362909317, 0.17294426262378693, -0.06567095220088959, -0.0805259644985199, -0.29973888397216797, 0.21125631034374237, 0.32220956683158875, -0.057537756860256195, 0.5535054802894592, 0.22966469824314117, 0.366083025932312, 0.368144690990448, 0.18664366006851196, 0.0023345130030065775, -0.11085636168718338, 0.38889116048812866, 0.5326895117759705, -0.02893848344683647, -0.20536722242832184, 0.18052229285240173, -0.0639643445611, 0.5076923370361328, 0.155619278550148, -0.05816153064370155, 0.5570770502090454, -0.2734086513519287, -0.1780530959367752, 0.15555007755756378, -0.2723929286003113, -0.4901466369628906, 0.07120546698570251, 0.30863016843795776, -0.7230285406112671, -0.3483087718486786, -0.4060257375240326, -0.15176977217197418, -0.12162835150957108, 0.044504646211862564, 0.10334621369838715, -0.3597726821899414, 0.5611874461174011, 0.36914458870887756, 0.2537131607532501, -0.07952842861413956, -0.42816734313964844, -0.19187282025814056, 0.2441873848438263, 0.46337488293647766, 0.017200496047735214, -0.154806450009346, 0.5517202019691467, -0.19804927706718445, -0.13206274807453156, -0.23334287106990814, 0.2137570083141327, -0.20716416835784912, 0.03564676269888878, 0.10748600959777832, -0.04880527779459953, -0.09128359705209732, -0.037023093551397324, -0.3456130623817444, -0.5825424790382385, 0.03631151095032692, -0.3476015031337738, 0.274740993976593, -0.3696327805519104, -0.030466660857200623, 0.40664851665496826, -0.05501764640212059, 0.18192031979560852, 0.47863122820854187, 0.050606101751327515, 0.13936878740787506, 0.3013479709625244, 0.3515509068965912, -0.07775019854307175, 0.06737387180328369, -0.1984609216451645, -0.2397506684064865, -0.04973631352186203, -0.03028406761586666, -0.121697798371315, 0.13260656595230103, 0.1750597357749939, -0.06746005266904831, 0.25496914982795715, -0.02102508209645748, -0.03835292160511017, 0.1286720484495163, -0.040971532464027405, -0.05780600756406784, 0.1211644634604454, 0.03968113660812378, -0.16282080113887787, -0.029612060636281967, 0.29449447989463806, 0.0498892180621624, -0.15203788876533508, -0.8913043141365051, -0.22558192908763885, 0.8245149850845337, 0.3615131378173828, 0.6244568824768066, -0.004563983529806137, -0.561334490776062, -0.39221253991127014, -0.20417113602161407, -0.2554244101047516, -0.2169865369796753, 0.24686890840530396, -0.1380293220281601, -0.28025224804878235, 0.6260185241699219, -0.12001681327819824, -0.06834963709115982, 0.2623066008090973, -0.06794242560863495, 0.01868271641433239, 0.17901913821697235, 0.1730019748210907, 0.008809573948383331, -0.06216805428266525, -0.11985941976308823, -0.282508909702301, -0.49683186411857605, 0.17845730483531952, 0.1276949942111969, -0.007525329012423754, 0.5034972429275513, -0.1569530963897705, 0.1930011510848999, 0.17205417156219482, 0.12150988727807999, -0.48753413558006287, 0.3435361385345459, -0.4690420627593994, 0.29588356614112854, 0.17115968465805054, 0.20006519556045532, 0.42283228039741516, 0.4778002202510834, -0.5403265357017517, -0.4252837598323822, 0.20202329754829407, 0.6239559650421143, -0.03906761854887009, -0.22755151987075806, 0.00997934490442276, -0.0019274119986221194, -0.11370736360549927, -0.34473198652267456, -0.018508149310946465, 0.1661314219236374, 0.326800137758255, 0.11261837929487228, 0.09443137049674988, -0.003025104757398367, -0.10413927584886551, 0.05974872037768364, 0.01370589341968298, -0.09527222812175751, 0.01683303527534008, 0.3418910801410675, -0.4917961657047272, 0.10583675652742386, 0.25504377484321594, 0.3854619264602661, 0.013980807736515999, 0.486955463886261], [0.028095098212361336, 0.3523445427417755, -0.2233361303806305, -0.002975525800138712, -0.04540736973285675, -0.2585430443286896, 0.6343905329704285, 0.02730298601090908, -0.2106822431087494, -0.4013954997062683, 0.38955581188201904, 0.21680612862110138, -0.15017502009868622, 0.7502601146697998, -0.08155140280723572, -0.538065493106842, -0.20059022307395935, 0.12398920208215714, -0.31419241428375244, -0.23409727215766907, -0.11306916922330856, 0.19670140743255615, -0.4059891104698181, 0.060155972838401794, 0.2941737174987793, 0.20373350381851196, 0.09079340845346451, 0.9063794612884521, -0.3287716507911682, -0.07530876249074936, -0.1368066370487213, -0.36696383357048035, -0.10706518590450287, 0.1769142895936966, 0.6477776765823364, 0.07209455221891403, 0.15546919405460358, -0.06546884030103683, 0.20354168117046356, -0.3247537612915039, 0.4071420133113861, 0.3423958718776703, -0.6656385064125061, 0.0806971937417984, 0.23811644315719604, 0.09875451773405075, 0.13662807643413544, -0.24479977786540985, -0.4301464557647705, 0.0027201594784855843, -0.12446121126413345, -0.6409050822257996, 0.0206962488591671, 0.04928402230143547, 0.12864619493484497, -0.5598815083503723, -0.14715726673603058, 0.5422729849815369, 0.41583091020584106, 1.0107166767120361, -0.4597380757331848, 0.6272879242897034, 0.0017353938892483711, -0.07851296663284302, 0.16596241295337677, 0.37937191128730774, -0.13728350400924683, -0.1390100121498108, 0.2390473634004593, -0.4152674078941345, 0.2142297476530075, 0.008889434859156609, -0.003475727280601859, -0.2894291579723358, -0.3047882914543152, -0.49030134081840515, 0.4924682676792145, -0.5660845041275024, 0.2531837821006775, -0.4786120653152466, 0.1816537082195282, 0.38230443000793457, -0.14279648661613464, 0.3578738570213318, -0.40742602944374084, 0.008739319629967213, -0.11699892580509186, 0.18978813290596008, 0.2566497325897217, 0.5641971230506897, -0.3311038911342621, 0.03173798695206642, 0.2630182206630707, -0.24060365557670593, 0.00830118265002966, 0.010435529984533787, -0.5552874207496643, 0.03551337122917175, -0.5346829295158386, -0.06439664214849472, -0.22502218186855316, 0.5975676774978638, -0.1966172456741333, 0.6066976189613342, -0.24118533730506897, -0.25669434666633606, 0.21122759580612183, -0.77595454454422, -0.2568294405937195, 0.3900274932384491, 0.45595353841781616, 0.1860618144273758, 0.06804444640874863, 0.106938935816288, -0.5637662410736084, 0.021266449242830276, 0.0476723350584507, -0.39366838335990906, 0.37435969710350037, -0.28785449266433716, 0.646050214767456, 0.37839117646217346, -0.37532731890678406, -0.2851039171218872, 0.1823110580444336, 0.46550390124320984, 0.3349848985671997, -0.1578548401594162, 0.7662798166275024, 0.07426781207323074, -0.0891694724559784, -0.3904172480106354, 0.4149531424045563, 0.2959152162075043, 0.2909996509552002, 0.33894628286361694, -0.5054386258125305, 0.6563223600387573, -1.1315869092941284, -0.3487434387207031, -0.2299003303050995, 0.5478072762489319, 0.40843528509140015, -0.3002682328224182, 0.2505609393119812, -0.021611718460917473, -0.2680939733982086, -0.7088086009025574, 0.1547553986310959, 0.5510180592536926, -0.22677189111709595, -0.2602422535419464, -0.1820165514945984, 0.42995190620422363, -0.4674557149410248, -0.48346084356307983, 0.04532257467508316, 0.1564021110534668, 0.23298656940460205, -0.4776824116706848, 0.0035796971060335636, -0.04724305495619774, -0.20733365416526794, 0.3650061786174774, -0.21162572503089905, 0.23723269999027252, 0.11571455001831055, 0.24418355524539948, -0.11510049551725388, 0.27596551179885864, 0.27885663509368896, 0.053257498890161514, 0.3914839029312134, 0.4266207218170166, -0.13542039692401886, 0.10330899059772491, 0.133009135723114, 0.2736177444458008, 0.30637314915657043, 0.26213765144348145, 0.09561057388782501, 0.03869554400444031, -0.1978464424610138, -0.7808458805084229, 0.27006232738494873, -0.0005330738495104015, 0.0858268216252327, 0.348638117313385, 0.2829570472240448, 0.1774529218673706, 0.1848745495080948, -0.039161331951618195, -0.4589546024799347, -0.12305694073438644, -0.4171361029148102, 0.5633482933044434, -0.07233794778585434, 0.03422166034579277, -0.03983103856444359, 0.40991103649139404, -0.7200069427490234, 0.3099310100078583, -0.13100607693195343, 0.26672953367233276, -0.5000889301300049, -0.33401739597320557, 0.4301075339317322, 0.4350161552429199, -0.1689547300338745, -0.7521001696586609, 0.1783023327589035, -0.7244358658790588, -0.1834430992603302, -0.1475207358598709, 0.26673904061317444, -0.1620752215385437, -0.13829660415649414, -0.4256616234779358, 0.012134448625147343, -0.3575412929058075, -0.13035377860069275, 0.23847927153110504, 0.0292215496301651, -0.599567174911499, -0.6716300845146179, 0.2546713948249817, -0.05038644000887871, -0.18964339792728424, 0.6518946290016174, -0.36392417550086975, -0.07537523657083511, 0.7196967005729675, 0.10076376795768738, -0.4341987371444702, -0.14601413905620575, 0.07074381411075592, -0.06632176786661148, 0.22331194579601288, -0.9377984404563904, 0.15638388693332672, -0.01409047469496727, 0.17936527729034424, 0.11853910982608795, 0.07404505461454391, -0.1854727864265442, 0.22854653000831604, -0.6810786128044128, 0.2382885217666626, 0.1999659538269043, 0.7883397936820984, -0.062057774513959885, -0.09268683195114136, -0.5789293050765991, -0.2702445983886719, 0.6000064611434937, 0.17013071477413177, -0.4563828408718109, 0.4083506464958191, -0.7329973578453064, -0.3739975392818451, -0.2989245653152466, 0.373291939496994, 0.09090051800012589, -0.4705576002597809, -0.1257304698228836, -0.053410034626722336, 0.09980069100856781, 0.17775723338127136, -0.06568598002195358, 0.5666522979736328, 0.23519614338874817, 0.06675968319177628, 0.11137671768665314, 0.3421543836593628, 0.20452891290187836, 0.21199187636375427, 0.24448373913764954, -0.7986400127410889, -0.32682833075523376, -0.35302162170410156, -0.2069377452135086, 0.3912009298801422, -0.06487854570150375, 0.0008897301740944386, -0.7282390594482422, -0.02992861159145832, -0.2225787192583084, 0.5912262797355652, 0.06616318970918655, -0.7566770911216736, 0.379411906003952, 0.005667830817401409, -0.3353208899497986, -0.08086012303829193, 0.16106311976909637, 0.1268979161977768, -0.7520633339881897, 0.6902758479118347, -0.6542220115661621, 0.5483879446983337, -0.056920260190963745, -0.2507339417934418, -0.17634500563144684, 0.1551877111196518, -0.1287306249141693, 0.2129695862531662, 0.38610947132110596, -0.15917009115219116, 0.47109758853912354, 0.23634342849254608, 0.783677875995636, -0.021815504878759384, 0.6582013964653015, -0.48861822485923767, 0.17196150124073029, 0.0749552994966507, 0.4484218657016754, -0.5969643592834473, -0.5518566966056824, -0.359270840883255, -0.04551277309656143, 0.37463876605033875, -0.13454411923885345, 0.2181205302476883, 0.1258402019739151, 0.5309212803840637, 0.755858838558197, 0.34396669268608093, 0.38051673769950867, -0.15278884768486023, -0.29229846596717834, -0.11140750348567963, -0.09618633985519409, -0.3698972761631012, -0.12665444612503052, -0.21030984818935394, -0.3602628707885742, 0.7176714539527893, 0.07825363427400589, 0.13558608293533325, 0.29779985547065735, -0.13995078206062317, 0.0432145781815052, -0.00929748360067606, 0.221044659614563, 0.3530198931694031, -0.34395018219947815, 0.09287069737911224, 0.30443206429481506, 0.09396450966596603, 0.2018093466758728, -0.22997094690799713, 0.8199685215950012, 0.033201754093170166, 1.0337157249450684, 0.1221807524561882, -0.22357012331485748, -0.23754604160785675, 0.46939578652381897, -0.07473829388618469, 0.3345312178134918, 0.17955783009529114, -0.1542893946170807, 0.09479380398988724, -0.3768930435180664, -0.19188843667507172, 0.3837027847766876, 0.05167965218424797, -0.3450792729854584, 0.40284988284111023, 0.5737549662590027, -0.165610209107399, -0.04342888668179512, 0.2021605670452118, -0.1460583209991455, -0.16840112209320068, -0.729393482208252, 0.07987523823976517, -0.14263050258159637, -0.1515825390815735, 0.14199073612689972, 0.23688241839408875, -0.1943129003047943, -0.3798460066318512, -0.2177848517894745, -0.2455592155456543, -0.19319096207618713, -0.030179930850863457, 0.3871630132198334, -0.4290035665035248, -0.11177019029855728, 0.32135432958602905, 0.3927769064903259, -0.09769631922245026, -0.11085227876901627, 0.5456327795982361, -0.24890480935573578, -0.02458350546658039, 0.19373726844787598, -0.32528403401374817, 0.23027454316616058, -0.4468303918838501, 0.32713016867637634, -0.1373215615749359, -1.043847918510437, -0.4963732957839966, -0.3390510082244873, -0.23424088954925537, 0.5720441341400146, -0.34321269392967224, -0.26454001665115356, -0.22884871065616608, 0.4004856050014496, 0.4136573076248169, -0.0290325116366148, -0.03669802471995354, -0.30043911933898926, 0.0915711373090744, 0.34859979152679443, 0.18978948891162872, -0.5958790183067322, 0.6274589896202087, 0.3531607687473297, 0.2170470952987671, -0.22872908413410187, 0.09338125586509705, -0.03041846491396427, -0.419551819562912, -0.17597749829292297, 0.26756784319877625, -0.14886288344860077, 0.1339227706193924, 0.12647727131843567, 0.15877076983451843, 0.30586251616477966, -0.7139967679977417, 0.04863858222961426, -0.3873516619205475, 0.05056407302618027, -0.4606664180755615, -0.07114224880933762, -0.5760050415992737, -0.0676068365573883, -0.742427408695221, -0.20096750557422638, -0.028923600912094116, -0.1989031583070755, -0.12773174047470093, -0.628690779209137, -0.444141685962677, 0.400896817445755, 0.24854908883571625, 0.14141681790351868, 0.3458072245121002, -0.2504430115222931, -0.26194778084754944, -0.18457815051078796, -0.27510586380958557, -0.23272669315338135, -0.07958801090717316, -0.6407679319381714, 0.13925684988498688, -0.2892821729183197, 0.5962815880775452, -0.00011234954581595957, -0.07140782475471497, 0.46161243319511414, 0.021304134279489517, 0.1748540848493576, 0.2540610134601593, 0.5969764590263367, 0.20449340343475342, 0.9801638126373291, 1.0958820581436157, -0.5083612203598022, -0.3795699179172516, 0.10069334506988525, 0.4888428747653961, -0.02427501603960991, -0.20950260758399963, 0.34863394498825073, 0.28217363357543945, 0.19098763167858124, -0.09140307456254959, 0.21574382483959198, 0.2303641140460968, 0.3746836483478546, 0.0018440131098031998, 0.18029791116714478, 0.9652363657951355, -0.3180517852306366, -0.018006138503551483, -0.00553986756131053, 0.4582976996898651, 0.43565303087234497, 0.41890451312065125, 0.1325572282075882, -0.3507266044616699, 0.16603799164295197, 0.1244300976395607, -0.011205894872546196, 0.17892049252986908, -0.12507866322994232, 0.07855462282896042, -0.12710028886795044, 1.0041019916534424, 0.17223306000232697, 0.23836375772953033, 0.46467673778533936, -0.5250810384750366, -0.09454762935638428, -0.7613170742988586, -0.06729835271835327, -0.3241163194179535, 0.024935461580753326, 0.129256933927536, 0.07048458606004715, -0.2496269941329956, 0.5415107607841492, 0.15105211734771729, 0.6304575800895691, 0.38498568534851074, 0.045911408960819244, -0.09107080847024918, 0.001824728213250637, -0.12117009609937668, 0.42429932951927185, -0.25332537293434143, -0.08351888507604599, -0.16464531421661377, -0.13075318932533264, 0.1365547776222229, 0.21596810221672058, -0.1335143744945526, 0.6874673366546631, -0.6875471472740173, -0.09202013909816742, -0.4148736894130707, 0.29720109701156616, -0.6243463754653931, -0.18914061784744263, 0.31101542711257935, 0.38790011405944824, -0.0878765881061554, 0.29496246576309204, 0.26262885332107544, -0.5149784684181213, 0.40677860379219055, 0.14432388544082642, 0.37799665331840515, 0.2059711217880249, 0.18007278442382812, -0.04645659402012825, 0.5740474462509155, 0.17786480486392975, 0.0608673058450222, -0.3115100562572479, -8.53487491607666, 0.05797552689909935, -0.15003755688667297, 0.37621480226516724, -0.060063499957323074, 0.5718429088592529, -0.2515954077243805, -0.5424289107322693, -0.09679912030696869, -0.0880933478474617, 0.07522221654653549, -0.27937042713165283, 0.329712837934494, -0.10509281605482101, 0.638211727142334, -0.4351575970649719, 0.25647619366645813, -0.28071829676628113, 0.4087441861629486, -0.5717824697494507, 0.13315653800964355, 0.24905230104923248, 0.1933136135339737, 0.26475989818573, -0.1159636452794075, 0.6407480835914612, 0.15849746763706207, 0.5362201929092407, -0.0805487111210823, -0.2591579854488373, -0.17874222993850708, -0.21688345074653625, 0.02217119373381138, -0.44827595353126526, -0.5677177309989929, 0.11340618133544922, 0.15122158825397491, 0.09723889082670212, 0.23454122245311737, -0.704943060874939, -0.28753751516342163, -0.0617712028324604, 0.12046127021312714, -0.0415743887424469, 0.03337373584508896, 0.18776558339595795, 0.31346985697746277, 0.8146931529045105, -0.37692615389823914, 0.8141055703163147, 0.13515037298202515, 0.11982063949108124, 0.8283414244651794, 0.1916569322347641, 0.03474391624331474, -0.20373640954494476, 0.03404257446527481, 0.4822627305984497, 0.24765504896640778, -0.399840384721756, -0.34720468521118164, 0.06138269230723381, 0.49803808331489563, 0.22528085112571716, -0.03381575644016266, 0.3866651952266693, -0.20434661209583282, -0.3903518319129944, 0.028253817930817604, 0.3053557276725769, -0.12170625478029251, 0.10478058457374573, 0.5405584573745728, -1.006447196006775, 0.20445126295089722, -0.37653785943984985, -0.21905802190303802, -0.05668755620718002, 0.060683008283376694, 0.4642963111400604, -0.42851343750953674, 0.5598969459533691, 0.00495025422424078, -0.035513076931238174, -0.043885767459869385, -0.5224435925483704, -0.632084846496582, 0.27467674016952515, -0.1743793934583664, 0.40367433428764343, -0.4247382879257202, 1.0460704565048218, -0.10197819769382477, -0.18941208720207214, -0.5001984238624573, 0.45962852239608765, -0.3776356279850006, -0.9049345850944519, 0.05309643596410751, 0.03874683752655983, -0.5615994930267334, 0.23610679805278778, -0.5631496906280518, -0.76336669921875, 0.34718844294548035, -0.3306291103363037, -0.03622635081410408, -0.2592219114303589, -0.04651600867509842, 0.38302233815193176, -0.3024485409259796, 0.06871038675308228, 0.4910970628261566, 0.22635436058044434, 0.21737731993198395, 0.4622983932495117, 0.1927187591791153, -0.35564759373664856, 0.43100935220718384, -0.4520527720451355, 0.2636779248714447, -0.32956892251968384, -0.3702235817909241, -0.6529825329780579, 0.09697321057319641, 0.13819986581802368, 0.005311288870871067, 0.013795961625874043, 0.08588609844446182, -0.3217560052871704, 0.41321423649787903, -0.02728836052119732, -0.08055753260850906, -0.04441684111952782, 0.05481799319386482, 0.22748851776123047, -0.5634533762931824, 0.26248857378959656, -0.37417230010032654, 0.001299977651797235, -1.2172986268997192, -0.5068928599357605, 0.3708871901035309, 0.4211103022098541, 0.4086616039276123, -0.27410218119621277, -0.27977803349494934, -0.18974263966083527, 0.20149852335453033, -0.17959268391132355, -0.5680508017539978, -0.08613257110118866, -0.22907577455043793, -0.18936124444007874, 0.3562414050102234, -0.24790261685848236, -0.07581011205911636, 0.6308265924453735, -0.24105998873710632, -0.26485249400138855, 0.16089656949043274, 0.30730140209198, -0.11522573977708817, 0.1549028605222702, -0.1345655620098114, -0.26971596479415894, -0.5729516744613647, -0.04905640706419945, 0.10095270723104477, 0.3895534873008728, 0.42586901783943176, -0.5345616340637207, 0.31313326954841614, 0.10217364132404327, 0.03785638138651848, -0.7044644355773926, 0.7162720561027527, -0.28381580114364624, 0.38937023282051086, 0.02874491550028324, 0.19046065211296082, 0.41975152492523193, -0.03147003799676895, -0.17423316836357117, -0.43552523851394653, 0.2328246682882309, 0.31080371141433716, 0.18452796339988708, -0.10714749246835709, -0.5798509120941162, -0.14353792369365692, -0.3300876021385193, -0.10963702201843262, -0.05494072660803795, 0.051696471869945526, 0.24780116975307465, 0.07453873008489609, 0.12603969871997833, -0.1382286250591278, -0.34667137265205383, 0.08392348140478134, -0.2561464309692383, -0.14173808693885803, 0.03327258303761482, -0.45848578214645386, 0.09177548438310623, 0.25785234570503235, 0.4379986524581909, 0.2671496272087097, 0.07628177106380463, 0.3799498677253723], [-0.040229152888059616, 0.4131748080253601, -0.1296994388103485, -0.08336244523525238, 0.03538887947797775, -0.40965357422828674, 0.4574260115623474, 0.33491751551628113, -0.15751846134662628, -0.4709690511226654, 0.08620230108499527, 0.12823110818862915, -0.2214740663766861, -0.07585805654525757, -0.20552131533622742, -0.30442100763320923, -0.2012251913547516, -0.04701586440205574, 0.1155882179737091, -0.20361623167991638, -0.17856621742248535, -0.07506909221410751, -0.006697107572108507, 0.21102528274059296, 0.2493288367986679, -0.1018659844994545, -0.2815224230289459, 0.4074361026287079, -0.4136335551738739, 0.3668253719806671, -0.35106533765792847, -0.47037163376808167, -0.023728022351861, 0.08545191586017609, 0.07940588891506195, -0.3430545926094055, 0.33003607392311096, 0.09527318179607391, -0.1572141945362091, -0.38493961095809937, 0.30658936500549316, 0.04268839210271835, -0.26778754591941833, -0.1076522022485733, 0.200292706489563, -0.42894765734672546, -0.13644465804100037, -0.3635972738265991, 0.17365285754203796, -0.024258093908429146, 0.08611256629228592, -0.42022958397865295, -0.274629682302475, 0.20001564919948578, 0.22261212766170502, -0.5323445796966553, -0.20887623727321625, -0.21548987925052643, -0.031874317675828934, 0.4727524518966675, -0.2112961858510971, 0.867915153503418, 0.46677759289741516, 0.04237939417362213, 0.06920057535171509, -0.059925246983766556, -0.23937125504016876, -0.24208493530750275, 0.3383558392524719, -0.19398222863674164, 0.12791331112384796, 0.041607026010751724, 0.16573140025138855, -0.2325124442577362, 0.13242913782596588, -0.03668517246842384, 0.19473318755626678, -0.2786194682121277, -0.06174394115805626, 0.03196195513010025, 0.20905521512031555, 0.10817649960517883, 0.12126398086547852, 0.6397153735160828, -0.09963375329971313, 0.162608802318573, -0.1772051900625229, 0.28861305117607117, 0.13814868032932281, 0.31295228004455566, 0.28722652792930603, -0.3546501398086548, 0.24114789068698883, -0.33999884128570557, -0.12170960009098053, 0.38087376952171326, 0.048695676028728485, 0.2618088722229004, -0.41113975644111633, 0.21534454822540283, 0.014535663649439812, 0.38642480969429016, -0.12024669349193573, 0.03343706950545311, 0.013566511683166027, -0.07376176118850708, 0.027745962142944336, -0.3674703538417816, -0.0706462413072586, 0.6516916751861572, 0.3913460671901703, -0.1828659176826477, 0.32565510272979736, -0.2516181766986847, -0.20870770514011383, -0.28479042649269104, -0.26531288027763367, -0.0982004925608635, 0.0016433104174211621, 0.07969604432582855, 0.1230979934334755, 0.13655471801757812, -0.23057343065738678, -0.21436363458633423, 0.2789696156978607, 0.17369478940963745, 0.04753904044628143, -0.02317839302122593, 0.5201447010040283, -0.0249694362282753, -0.1053871214389801, -0.2697892487049103, 0.18763919174671173, 0.7237439751625061, -0.044713325798511505, 0.22964414954185486, -0.20008626580238342, 0.5773166418075562, -0.9701787233352661, -0.35158175230026245, -0.0371716134250164, 0.28497281670570374, 0.19833233952522278, -0.3086331784725189, 0.27579981088638306, 0.24125386774539948, -0.35617902874946594, -0.026688899844884872, 0.1556740701198578, 0.4398534297943115, -0.3133064806461334, -0.2062574326992035, 0.4314497411251068, -0.19824688136577606, -0.3170973062515259, -0.09749921411275864, 0.1392654925584793, 0.160718634724617, 0.19902916252613068, -0.05455940589308739, -0.03699775040149689, -0.21897946298122406, -0.17606735229492188, 0.17256565392017365, 0.2392987310886383, -0.02830488234758377, 0.01342497393488884, -0.06836558878421783, -0.31370028853416443, 0.009118086658418179, 0.486218124628067, 0.46438342332839966, -0.36053764820098877, 0.4218878448009491, -0.5367371439933777, -0.18135985732078552, 0.19099749624729156, 0.3066529631614685, 0.1456986963748932, 0.1773398369550705, 0.06603171676397324, -0.16817225515842438, -0.2552028000354767, -0.5490285754203796, 0.22162042558193207, 0.10566987097263336, 0.3740023076534271, 0.24991990625858307, 0.01557688694447279, -0.008311726152896881, 0.943229079246521, 0.056098319590091705, -0.16484785079956055, -0.03642484173178673, -0.4193565845489502, 0.09599319100379944, -0.1118113324046135, -0.10156793147325516, -0.0017315464792773128, 0.5290746688842773, -0.5276385545730591, 0.25974583625793457, -0.4001770317554474, 0.2785106301307678, -0.3370927572250366, -0.4152294099330902, 0.2805515229701996, 0.4659799635410309, -0.01712130382657051, -0.6404949426651001, 0.1478482037782669, -0.21855317056179047, 0.11178416013717651, 0.04933539777994156, -0.4095771312713623, 0.1847011148929596, 0.07676144689321518, -0.18285781145095825, 0.27313926815986633, 0.20441636443138123, 0.10748932510614395, -0.09574022889137268, -0.1136775091290474, -0.32723647356033325, -0.5761799812316895, 0.11477132886648178, -0.04966098442673683, -0.31240659952163696, 0.1755479872226715, -0.0467267781496048, 0.3570718467235565, 0.28787940740585327, 0.020656893029808998, -0.14625440537929535, -0.1520283967256546, -0.10483497381210327, -0.19038771092891693, 0.1722213476896286, -0.5304683446884155, 0.322482705116272, -0.0704839825630188, -0.0686337873339653, 0.5237169861793518, -0.449756383895874, -0.010716333985328674, 0.18660248816013336, -0.44233956933021545, -0.10472729057073593, -0.2589762210845947, -0.03865690901875496, 0.2858685255050659, -0.21359674632549286, -0.22615741193294525, -0.11902488768100739, 0.4652373194694519, 0.15966437757015228, -0.011311612091958523, 0.11061892658472061, -0.28286340832710266, -0.08049467951059341, -0.028324363753199577, 0.26311951875686646, -0.02581680379807949, -0.5479717254638672, 0.27215519547462463, -0.21748733520507812, -0.044419948011636734, 0.19059765338897705, -0.204672709107399, -0.20860779285430908, 0.2520388960838318, -0.07082930207252502, 0.4053289592266083, 0.5576318502426147, 0.01070802379399538, 0.1531473696231842, 0.1764485239982605, -0.4078267216682434, -0.1499590426683426, -0.37820032238960266, 0.02208166942000389, 0.45890313386917114, -0.10393084585666656, 0.33283713459968567, -0.5536047220230103, 0.19683952629566193, 0.013876747339963913, 0.26040053367614746, 0.09985183924436569, -0.25203409790992737, 0.20211680233478546, 0.0077820331789553165, -0.0995921939611435, -0.007247906643897295, 0.2406194657087326, -0.04740041121840477, -0.5331978797912598, 0.35191670060157776, 0.02475540153682232, 0.04656829312443733, 0.385947585105896, 0.1371418982744217, -0.14062175154685974, -0.20471203327178955, -0.07289215922355652, 0.148102268576622, 0.19211557507514954, 0.0505022332072258, 0.009181434288620949, -0.0745418518781662, 0.11027134209871292, -0.06172497197985649, 0.2034032642841339, -0.23556223511695862, -0.08408981561660767, -0.21227724850177765, 0.051166195422410965, -0.16024994850158691, -0.36774149537086487, -0.26128408312797546, -0.09729339927434921, 0.6177108883857727, 0.03631020709872246, -0.23843005299568176, -0.02365192584693432, 0.20936083793640137, 0.2356817126274109, 0.3708876371383667, 0.6017977595329285, -0.13972140848636627, -0.07262291014194489, -0.0019472857238724828, 0.06532633304595947, -0.11822635680437088, 0.022744648158550262, -0.41401126980781555, -0.1564437747001648, 0.25181275606155396, 0.08475855737924576, -0.2856145203113556, -0.01219106838107109, 0.17449434101581573, 0.25716346502304077, 0.15871670842170715, 0.49606823921203613, 0.19799163937568665, 0.17290107905864716, 0.021584803238511086, -0.037610866129398346, -0.016654592007398605, -0.026778962463140488, 0.1393190175294876, -0.04852592200040817, 0.1921040564775467, 0.7460436224937439, -0.20623895525932312, -0.09352589398622513, 0.03247200325131416, -0.12798099219799042, -0.014544453471899033, 0.46162867546081543, 0.2852983772754669, -0.2295718491077423, 0.08228703588247299, 0.019843924790620804, 0.15645267069339752, 0.2909733057022095, 0.27154380083084106, -0.3084024488925934, 0.14329060912132263, 0.2621872127056122, -0.049643680453300476, -0.0885414406657219, -0.24489669501781464, 0.06037590652704239, -0.0761270746588707, -0.3338041603565216, 0.04255540296435356, 0.04857197403907776, -0.07835987210273743, 0.048849280923604965, -0.07833774387836456, -0.1842791587114334, -0.522114634513855, -0.020565971732139587, 0.16432340443134308, -0.12131531536579132, 0.15857195854187012, 0.32157713174819946, -0.421086847782135, 0.2668710947036743, 0.07397779077291489, 0.1287890076637268, -0.2942558526992798, -0.14558978378772736, -0.010091660544276237, -0.36983782052993774, 0.46221718192100525, 0.19424378871917725, -0.2551918923854828, 0.04555489867925644, 0.07564427703619003, 0.16790221631526947, 0.3800085484981537, -0.39171794056892395, -0.4107995927333832, -0.057401228696107864, -0.19278554618358612, -0.06053552031517029, -0.15785376727581024, -0.24153649806976318, -0.36717095971107483, 0.27636170387268066, 0.7390077710151672, -0.07054618746042252, -0.4405182898044586, 0.0023857899941504, 0.5376355648040771, 0.15487924218177795, 0.4514034390449524, -0.37895363569259644, -0.12203961610794067, 0.03660251572728157, -0.3224228322505951, 0.1968613564968109, 0.039034876972436905, 0.027762243524193764, -0.229887455701828, -0.2502705752849579, 0.7602911591529846, 0.20577794313430786, 0.4372480809688568, -0.08888848125934601, -0.145783469080925, 0.10875249654054642, 0.0007738695712760091, -0.0868518128991127, -0.21329949796199799, -0.0697050541639328, -0.34203359484672546, 0.020429648458957672, -0.5320694446563721, -0.043913573026657104, -0.5258533358573914, 0.010970241390168667, -0.1727030724287033, -0.1130225658416748, -0.11782506853342056, -0.16361643373966217, -0.08838391304016113, 0.11274012178182602, 0.18935096263885498, 0.32550475001335144, 0.14045968651771545, 0.024550531059503555, -0.5381066799163818, -0.300845742225647, 0.2635136842727661, 0.0030440865084528923, 0.09844514727592468, -0.12751039862632751, 0.01703435182571411, -0.3154148459434509, 0.7823468446731567, 0.11884758621454239, -0.17309769988059998, 0.052569177001714706, 0.5665534138679504, 0.146206796169281, -0.06557289510965347, 0.27632978558540344, 0.048786312341690063, 0.4373871088027954, 0.34694382548332214, -0.6890806555747986, -0.4597834050655365, 0.08788342773914337, 0.05793917551636696, 0.2712092399597168, -0.11940856277942657, 0.31545233726501465, -0.02176203951239586, -0.09361545741558075, -0.26290225982666016, 0.3120840787887573, 0.3410421907901764, -0.04367135465145111, 0.22766457498073578, 0.02708720788359642, 0.32597818970680237, -0.2187023013830185, 0.3131379187107086, -0.012857723981142044, 0.07021907716989517, 0.08503277599811554, 0.2649138271808624, 0.20177890360355377, -0.09333301335573196, -0.21573133766651154, -0.08248817175626755, 0.114376001060009, -0.06050346419215202, 0.06436709314584732, 0.23154403269290924, 0.21436409652233124, 0.7437698841094971, 0.12821868062019348, -0.4078522324562073, 0.23380045592784882, -0.22398395836353302, 0.2899353802204132, -0.6035782098770142, -0.07160374522209167, -0.0888543426990509, 0.11080034077167511, -0.22780820727348328, 0.04742906242609024, 0.0593162402510643, 0.14040261507034302, -0.0051863109692931175, 0.371601402759552, 0.044277071952819824, -0.131340891122818, -0.20450490713119507, -0.31779369711875916, 0.4941544830799103, 0.3245880603790283, 0.03228914365172386, 0.17111177742481232, -0.19557052850723267, -0.28363266587257385, 0.09146161377429962, 0.3185180425643921, -0.029172012582421303, 0.4848446249961853, -0.3371221423149109, -0.1666385978460312, -0.47958245873451233, 0.04421865567564964, 0.01885836385190487, 0.052199121564626694, 0.043372783809900284, -0.007491941563785076, -0.08097474277019501, 0.10869146138429642, 0.10757055133581161, -0.3224448263645172, 0.1316254585981369, 0.229429230093956, 0.33515864610671997, -0.13779452443122864, 0.513919472694397, -0.07332375645637512, 0.47934120893478394, 0.1460603028535843, -0.3447756767272949, -0.6582366228103638, -9.143610954284668, -0.04936571419239044, 0.13023029267787933, 0.32830291986465454, -0.059563543647527695, 0.02594369649887085, 0.3465574383735657, 0.2268357127904892, -0.2968713343143463, -0.009802588261663914, 0.29183101654052734, -0.015238478779792786, -0.08418882638216019, -0.20598511397838593, 0.13314245641231537, -0.3423359990119934, 0.023369843140244484, -0.3386378884315491, 0.6545361280441284, 0.1778942048549652, 0.33066797256469727, -0.0008334584999829531, 0.23272605240345, 0.12717729806900024, -0.06946023553609848, 0.08804532885551453, 0.07301540672779083, -0.041929688304662704, 0.1518740952014923, -0.2066155970096588, -0.020066415891051292, -0.4345305860042572, -0.19552673399448395, -0.4543024003505707, 0.06730223447084427, -0.06954134255647659, 0.27173173427581787, -0.16435666382312775, 0.163653165102005, -0.848780632019043, -0.14941100776195526, 0.06304945796728134, -0.18309900164604187, -0.23645275831222534, 0.3081343472003937, 0.04557633399963379, -0.28813889622688293, -0.11673910915851593, -0.3499526381492615, 0.18530090153217316, 0.14039325714111328, 0.09160275012254715, 0.015394515357911587, -0.20889660716056824, -0.08812420070171356, 0.2288048267364502, 0.30309802293777466, 0.059494536370038986, 0.5097721815109253, 0.15976420044898987, 0.1278461515903473, 0.1122879907488823, 0.2654748558998108, -0.1138811931014061, -0.018919847905635834, 0.1135852038860321, -0.13093076646327972, 0.00098072225227952, -0.23032532632350922, -0.19102166593074799, -0.19018536806106567, 0.3462260067462921, -0.04811201989650726, -0.1206756979227066, -0.4080668091773987, 0.08650451898574829, 0.25729188323020935, 0.5880791544914246, 0.5049378871917725, 0.2956683933734894, -0.3088921904563904, 0.4419255256652832, -0.11526074260473251, -0.3251385986804962, 0.013229785487055779, 0.08912517875432968, -0.5670515894889832, 0.5060201287269592, 0.07633267343044281, 0.3302321135997772, 0.1901911199092865, 0.12631475925445557, -0.24256932735443115, 0.11585568636655807, -0.09098150581121445, 0.3248368203639984, -0.3238675892353058, -0.06393559277057648, 0.23132215440273285, 0.1465550661087036, -0.11029281467199326, 0.09967710077762604, -0.3891158998012543, -0.37884581089019775, 0.24363833665847778, -0.08393783122301102, -0.1740095019340515, -0.26737338304519653, -0.007366221863776445, 0.12895138561725616, 0.11647727340459824, 0.06838803738355637, 0.34007513523101807, 0.2049548178911209, 0.28663039207458496, 0.3649224042892456, 0.3136446475982666, -0.47136813402175903, 0.3141898810863495, -0.12048958241939545, 0.0598607212305069, -0.05580168589949608, 0.31690454483032227, -0.16815580427646637, -0.09633868932723999, -0.3487071990966797, -0.446379691362381, 0.052610062062740326, -0.17399393022060394, -0.23489491641521454, 0.3356142044067383, 0.4117546081542969, -0.23720574378967285, -0.07057300209999084, 0.16648590564727783, -0.2682223618030548, 0.11758590489625931, -0.04029932990670204, -0.6526846289634705, 0.07786218822002411, -0.6281307339668274, -0.2631714344024658, 0.4228266775608063, 0.25034254789352417, 0.45441433787345886, -0.284246027469635, -0.40828800201416016, -0.052269939333200455, 0.3413257896900177, 0.044106241315603256, -0.24992112815380096, -0.156095489859581, 0.36006295680999756, -0.3471178710460663, 0.5596750974655151, 0.12848801910877228, -0.1806080937385559, -0.04371742531657219, 0.0057800873182713985, -0.012107300572097301, 0.10903578996658325, 0.11339562386274338, 0.09752992540597916, -0.09256818145513535, -0.2694772481918335, -0.2839246392250061, -0.46994903683662415, -0.060880985110998154, -0.0670040100812912, -0.14665217697620392, -0.16355054080486298, 0.32535940408706665, 0.394356369972229, 0.023990890011191368, -0.035090215504169464, -0.49944812059402466, -0.04388832300901413, -0.2567576766014099, 0.29491063952445984, -0.0032573724165558815, 0.1156395971775055, 0.3640629053115845, -0.2936853766441345, -0.09691812098026276, -0.355933278799057, 0.28382018208503723, 0.12183775007724762, -0.1276089996099472, -0.1751585751771927, -0.3239033818244934, 0.06444799900054932, -0.2142532765865326, -0.48837754130363464, 0.17290589213371277, -0.014070775359869003, 0.2272278368473053, -0.1893763393163681, 0.24975638091564178, 0.18508145213127136, 0.11137128621339798, 0.27367281913757324, -0.09879248589277267, 0.30443456768989563, -0.051076047122478485, -0.4442701041698456, 0.026280738413333893, 0.3642086982727051, 0.5013455152511597, 0.2792346477508545, 0.5198824405670166, 0.12881849706172943], [0.09770594537258148, 0.14718855917453766, 0.00981715228408575, -0.06812019646167755, -0.1200256198644638, -0.014743123203516006, 0.25006744265556335, 0.23774327337741852, -0.013110578991472721, -0.14476430416107178, 0.39845192432403564, 0.085646852850914, 0.21872742474079132, 0.3215111196041107, -0.049335699528455734, 0.29493722319602966, 0.07211054861545563, -0.029176777228713036, 0.11262378841638565, -0.14780619740486145, -0.2784384787082672, -0.38388752937316895, -0.2576841711997986, -0.00416027195751667, 0.26215413212776184, 0.12009657174348831, -0.09575451165437698, -0.12486040592193604, -0.2640681266784668, -0.018137015402317047, -0.20518773794174194, 0.0635225921869278, 0.30122941732406616, 0.10952471941709518, 0.1045568510890007, -0.07869026064872742, 0.03984832763671875, 0.2643313705921173, 0.030603324994444847, -0.04434473440051079, 0.33393174409866333, -0.032884616404771805, 0.07024164497852325, -0.34214818477630615, 0.2082482874393463, 0.02996671386063099, 0.3146896958351135, -0.17947566509246826, 0.14009734988212585, 0.2269124984741211, 0.20870263874530792, -0.43035265803337097, -0.19555263221263885, 0.17553453147411346, 0.05063382908701897, 0.02659723348915577, -0.22027546167373657, 0.05537543073296547, -0.2000207155942917, 0.15226608514785767, -0.5707071423530579, 0.07014273852109909, 0.36428290605545044, 0.017573004588484764, -0.20795483887195587, -0.14889530837535858, -0.1713199019432068, -0.13790026307106018, 0.28526148200035095, -0.11334191262722015, -0.18145141005516052, -0.2548682391643524, -0.05670352652668953, 0.10396996885538101, 0.010327001102268696, 0.38664311170578003, 0.05273546651005745, 0.11296609789133072, 0.22481432557106018, 0.2625407874584198, -0.016971101984381676, -0.12463753670454025, 0.15244978666305542, 0.057976555079221725, -0.060737814754247665, 0.23760876059532166, 0.10770461708307266, 0.3292515277862549, 0.07207838445901871, 0.08181165903806686, 0.10455580055713654, -0.042067576199769974, 0.18119464814662933, -0.34583789110183716, -0.2483832836151123, -0.007640131749212742, -0.1152971163392067, 0.18173456192016602, -0.07977956533432007, 0.17421315610408783, 0.12454229593276978, 0.24077045917510986, 0.05993399769067764, 0.062309347093105316, -0.06554152816534042, 0.20039750635623932, -0.0048187715001404285, -0.010655422694981098, 0.1434483826160431, 0.20231133699417114, 0.21913373470306396, 0.061884235590696335, 0.1958218514919281, -0.18057814240455627, -0.0874955877661705, -0.2785070836544037, -0.3414013683795929, 0.18439693748950958, 0.031475599855184555, 0.0868232250213623, 0.21920011937618256, 0.532628059387207, -0.07746265083551407, 0.37939849495887756, 0.1723499894142151, 0.1370164155960083, -0.06719714403152466, 0.1403752565383911, 0.2470424622297287, 0.03981754183769226, 0.10024599730968475, -0.4465418756008148, 0.1661568135023117, -0.03435643017292023, 0.015063399448990822, 0.23359458148479462, -0.03210654482245445, 0.14995919167995453, -0.4874012768268585, -0.3430894911289215, -0.2958988547325134, -0.037964168936014175, 0.40993279218673706, -0.02043028175830841, 0.11361074447631836, -0.35886186361312866, -0.6628993153572083, 0.04158783704042435, 0.05878116935491562, -0.16555935144424438, 0.15284064412117004, -0.15204976499080658, 0.16020220518112183, 0.08103318512439728, -0.3289032280445099, 0.1869547814130783, -0.0396948866546154, 0.22656936943531036, -0.2922794818878174, -0.10613342374563217, 0.0032990698236972094, 0.08245047181844711, -0.2895311713218689, -0.0291115902364254, -0.039270706474781036, -0.0006260612281039357, -0.5087982416152954, 0.04039350152015686, -0.2961154282093048, 0.2498386949300766, -0.04764320328831673, 0.33252090215682983, -0.2754388153553009, 0.16196618974208832, -0.34247487783432007, -0.5633794069290161, 0.206943541765213, 0.2720184922218323, -0.10874775797128677, -0.17198364436626434, 0.1809307038784027, -0.0312621146440506, 0.06922894716262817, -0.23365715146064758, 0.13397951424121857, 0.4596756100654602, 0.12462429702281952, -0.02168620191514492, -0.7951521277427673, -0.05895335599780083, 0.5143796801567078, -0.03144511580467224, -0.0662044957280159, -0.13625474274158478, -0.028225312009453773, -0.032265227288007736, -0.18770571053028107, -0.10523150861263275, -0.09960649162530899, 0.4230480492115021, -0.3146960437297821, 0.29296693205833435, 0.04775705561041832, -0.13492614030838013, -0.21872344613075256, -0.039832621812820435, 0.31108489632606506, -0.3483301103115082, -0.14504769444465637, -0.17717795073986053, -0.26818305253982544, -0.147160604596138, 0.24801290035247803, -0.21735922992229462, 0.03195038437843323, -0.15495291352272034, -0.08520200103521347, -0.11040689051151276, -0.0684344694018364, 0.13761387765407562, 0.1519901603460312, -0.3075294494628906, 0.23322594165802002, 0.13602381944656372, -0.2663849890232086, -0.03893507272005081, -0.03468265384435654, -0.09064430743455887, 0.16992545127868652, 0.06539570540189743, 0.2329542636871338, 0.4556361138820648, 0.4272712767124176, 0.10871434211730957, -0.029203932732343674, 0.020884403958916664, 0.1425592452287674, -0.1877339482307434, 0.089546337723732, 0.2865770161151886, 0.37515419721603394, -0.1551961600780487, 0.23326048254966736, -0.17125524580478668, 0.2952052354812622, 0.13718022406101227, -0.11943815648555756, -0.09175538271665573, 0.18319812417030334, 0.12437576055526733, -0.14341682195663452, -0.1831483542919159, -0.21601612865924835, -0.1262911707162857, 0.2998272180557251, 0.18550874292850494, 0.0928305983543396, -0.05492982268333435, -0.1759723573923111, 0.13004674017429352, 0.17498837411403656, -0.5960143208503723, 0.11253361403942108, 0.17217710614204407, 0.299908846616745, 0.11306474357843399, 0.22183729708194733, 0.10155865550041199, -0.5684293508529663, -0.002894021337851882, 0.02075333148241043, 0.3366665244102478, 0.18359069526195526, 0.23715433478355408, -0.28782564401626587, 0.24772194027900696, 0.37119579315185547, 0.10141400992870331, 0.1747276932001114, -0.3441114127635956, 0.1765337884426117, 0.00751898530870676, 0.13546085357666016, 0.35966160893440247, -0.05103953927755356, 0.3345114290714264, 0.3513244688510895, 0.14764337241649628, 0.08440650254487991, 0.2390649914741516, 0.009281785227358341, 0.19988100230693817, -0.08570706844329834, 0.2705727517604828, 0.33356791734695435, 0.10783051699399948, -0.47512537240982056, 0.28306514024734497, 0.2672233581542969, -0.09081826359033585, 0.37932100892066956, -0.06884429603815079, -0.21503669023513794, 0.02684192731976509, -0.043435968458652496, 0.22257374227046967, -0.17435933649539948, 0.07820940017700195, -0.1114446148276329, 0.3539995849132538, 0.09798237681388855, -0.14810176193714142, 0.3585684299468994, -0.2874611020088196, -0.23452423512935638, -0.4181690812110901, -0.08702488243579865, 0.06815212219953537, -0.4255772829055786, -0.13078558444976807, 0.15688592195510864, 0.06932184100151062, -0.07667243480682373, 0.15951453149318695, -0.05065274238586426, -0.0892762690782547, 0.18884721398353577, -0.2099272608757019, -0.07411736994981766, 0.30440768599510193, 0.061452046036720276, 0.153569757938385, -0.15140119194984436, 0.17886339128017426, 0.08248231559991837, -0.07543507218360901, -0.0692506656050682, -0.07666986435651779, -0.16211935877799988, 0.02555101551115513, -0.09177498519420624, 0.09808625280857086, -0.23380516469478607, -0.06659254431724548, 0.1601591259241104, -0.016374826431274414, 0.16002511978149414, 0.280856728553772, 0.26836124062538147, 0.15329185128211975, 0.015362286940217018, 0.12251992523670197, -0.1483275443315506, -0.06911970674991608, 0.2735203802585602, -0.21209144592285156, 0.04782316833734512, -0.3661044239997864, 0.02213127911090851, 0.29433512687683105, 0.2995060682296753, 0.25934702157974243, 0.053719669580459595, 0.0635412335395813, 0.15105456113815308, 0.11611334979534149, 0.47275078296661377, 0.3127249777317047, -0.11415812373161316, -0.11726638674736023, 0.0313001312315464, 0.18341587483882904, -0.13947142660617828, -0.30625149607658386, -0.12552021443843842, -0.03615863621234894, -0.08625761419534683, -0.010579328052699566, 0.049228258430957794, -0.060483966022729874, 0.09362346678972244, -0.09761157631874084, 0.12859110534191132, -0.11960645765066147, -0.4067063629627228, 0.08552874624729156, -0.020560244098305702, -0.06183779612183571, -0.35903415083885193, 0.039344534277915955, -0.2362368255853653, 0.19639074802398682, -0.2909877896308899, -0.19067519903182983, 0.2834828794002533, 0.0328393280506134, 0.11703435331583023, 0.21714967489242554, 0.060356657952070236, -0.507720410823822, -0.12557652592658997, -0.23230822384357452, -0.06820972263813019, 0.41313132643699646, 0.158667653799057, -0.3943820595741272, -0.032591816037893295, 0.11317700892686844, 0.11972670257091522, 0.014505011960864067, -0.25073114037513733, -0.4220859408378601, 0.047179486602544785, 0.23373401165008545, -0.05604258552193642, 0.07252080738544464, 0.32676562666893005, 0.14604976773262024, 0.0930890366435051, 0.10810696333646774, 0.01914433389902115, -0.17578256130218506, 0.09731080383062363, -0.26106515526771545, -0.05473193898797035, 0.0023339262697845697, -0.01658329740166664, 0.09064023196697235, 0.1472352296113968, -0.06675297021865845, 0.01479808147996664, 0.2643764019012451, -0.34509584307670593, -0.013522106222808361, -0.09692034125328064, 0.05920873582363129, -0.11347661167383194, 0.08352813124656677, 0.026419298723340034, 0.009571244940161705, -0.02643853798508644, -0.24810265004634857, 0.10674694925546646, -0.04071497544646263, -0.2092670351266861, 0.17995482683181763, 0.16477851569652557, 0.48970985412597656, 0.47807350754737854, -0.0625472143292427, -0.18135026097297668, -0.032924581319093704, 0.031300343573093414, 0.003037103218957782, 0.04063720628619194, 0.07872489839792252, -0.18750126659870148, 0.1338580697774887, -0.02818610705435276, -0.09769551455974579, -0.1794792264699936, -0.20532071590423584, -0.39342570304870605, 0.13709306716918945, 0.10605434328317642, 0.02273435890674591, -0.14133895933628082, 0.4192315936088562, 0.1375150978565216, 0.05547777935862541, 0.04689926654100418, 0.049764055758714676, 0.2723972797393799, 0.38544711470603943, -0.515807032585144, -0.10230252891778946, 0.02202579751610756, -0.06418909132480621, -0.01649874821305275, -0.19718284904956818, 0.12896199524402618, 0.2932139039039612, 0.08374735713005066, -0.1639770269393921, 0.32786989212036133, -0.42671215534210205, 0.286145955324173, 0.1668478399515152, 0.3530345857143402, 0.02280574105679989, -0.015259656123816967, 0.56620192527771, -0.12498094141483307, -0.08939564973115921, 0.21450035274028778, 0.3121054172515869, -0.1731766313314438, -0.12712150812149048, 0.2144937366247177, 0.011128963902592659, 0.06479104608297348, -0.01113448292016983, -0.0047434414736926556, -0.20848524570465088, -0.37906089425086975, -0.10400015115737915, 0.17242196202278137, -0.16441978514194489, 0.3510854244232178, -0.07498696446418762, 0.2872330844402313, -0.13638287782669067, 0.36609122157096863, -0.07864545285701752, 0.08737169206142426, -0.17233045399188995, 0.15673251450061798, -0.26340243220329285, -0.16739830374717712, -0.041841939091682434, 0.07760609686374664, 0.0023108867462724447, -0.3392627537250519, -0.5236032009124756, -0.3323456645011902, 0.18640705943107605, 0.11699530482292175, 0.1440696120262146, 0.3230828642845154, -0.07399503141641617, 0.11913362890481949, 0.026090728119015694, 0.09949299693107605, 0.04879672825336456, 0.36088162660598755, -0.17199645936489105, -0.048868339508771896, -0.05148156359791756, -0.14501312375068665, -0.03385347127914429, 0.2409813106060028, 0.5620117783546448, -0.29595789313316345, -0.12070778757333755, 0.08083327114582062, 0.12192637473344803, 0.03734438121318817, 0.13165129721164703, 0.358849436044693, 0.04620761796832085, 0.25927090644836426, 0.2259310781955719, -0.03574693202972412, 0.04647832736372948, -0.016860637813806534, -0.09015493094921112, -0.4386135935783386, -9.376967430114746, 0.03798247128725052, -0.06943423300981522, 0.15933674573898315, 0.3350602984428406, -0.09423250705003738, -0.6302326321601868, -0.02889116294682026, 0.027907127514481544, 0.00950536411255598, 0.2777308225631714, -0.06721968948841095, 0.13068583607673645, -0.20238171517848969, 0.16583356261253357, 0.11908303946256638, -0.24409639835357666, -0.3987610340118408, -0.0984375923871994, 0.2085624486207962, 0.04899323359131813, -0.11735149472951889, -0.04659360647201538, 0.2423936128616333, 0.10973533242940903, 0.09678915143013, -0.12080100923776627, -0.4042879641056061, 0.32674404978752136, -0.017137397080659866, -0.15493308007717133, -0.3557409644126892, 0.019170504063367844, 0.1507212221622467, -0.28828394412994385, -0.3285590410232544, -0.14295679330825806, -0.05649441480636597, 0.03963451087474823, -0.14777642488479614, -0.360026478767395, 0.06533807516098022, 0.29493772983551025, -0.021855756640434265, -0.30910614132881165, 0.1834084838628769, 0.09755491465330124, 0.3567882180213928, -0.2269665151834488, 0.11117016524076462, -0.06486223638057709, -0.6790146827697754, -0.09257058799266815, -0.06433483213186264, -0.42180633544921875, -0.07916340976953506, -0.08991602808237076, 0.01377513725310564, -0.012836247682571411, 0.27312684059143066, 0.1732041835784912, 0.05872593820095062, -0.08407077193260193, -0.04914895072579384, 0.12872347235679626, -0.0916459709405899, -0.27645203471183777, -0.22235605120658875, 0.04815339669585228, 0.020322171971201897, -0.08306798338890076, 0.3109661936759949, -0.011044292710721493, 0.10119687020778656, 0.0039028567261993885, -0.18488018214702606, 0.28641706705093384, 0.15286913514137268, -0.06231790408492088, 0.5676597952842712, -0.6119734644889832, 0.13278178870677948, 0.10064999759197235, -0.25491589307785034, -0.10365508496761322, -0.23155610263347626, -0.3861624300479889, 0.7857277989387512, 0.0031569679267704487, 0.24095255136489868, -0.007933251559734344, -0.32744112610816956, -0.24342699348926544, 0.03980617970228195, -0.20617198944091797, 0.005048743914812803, 0.08806547522544861, 0.31716227531433105, 0.09257634729146957, -0.05939999595284462, -0.25658082962036133, 0.315565824508667, 0.10830444097518921, 0.024136999621987343, 0.003434340935200453, 0.05383368581533432, -0.05238188058137894, -0.06849291175603867, -0.17103959619998932, 0.01794096827507019, 0.09577546268701553, 0.2738218307495117, 0.05496615171432495, 0.1564563512802124, -0.10761865228414536, 0.08046367019414902, 0.30820873379707336, 0.09274590015411377, 0.13782870769500732, -0.009935467503964901, -0.008736353367567062, -0.35232043266296387, 0.5945597887039185, 0.014755243435502052, -0.041535284370183945, 0.26211684942245483, -0.4449618458747864, 0.2377680391073227, -0.08146167546510696, -0.11149416118860245, 0.0076163532212376595, -0.14545290172100067, -0.37111344933509827, 0.16999495029449463, 0.18572817742824554, -0.05406199395656586, -0.021065037697553635, 0.1204351857304573, -0.19225795567035675, -0.021105831488966942, 0.04557478055357933, -0.1817205250263214, -0.13734519481658936, -0.15956813097000122, 0.3121587336063385, 0.1717204749584198, 0.2630537152290344, -0.29611897468566895, 0.10769737511873245, 0.00853792391717434, -0.13297833502292633, 0.09822730720043182, 0.1712396740913391, -0.2649228870868683, 0.5014086365699768, -0.00882064737379551, -0.3956291079521179, -0.17639601230621338, -0.22479860484600067, 0.09933558106422424, -0.047400400042533875, 0.2614753544330597, 0.26812583208084106, -0.016407901421189308, -0.17208676040172577, 0.12930746376514435, 0.0027079314459115267, 0.04585560783743858, 0.15654167532920837, -0.3436368405818939, -0.0806441456079483, 0.23911350965499878, 0.04352044314146042, 0.18517574667930603, -0.14250189065933228, -0.2089225947856903, 0.17367275059223175, 0.1378278136253357, 0.0065162451937794685, 0.15446437895298004, 0.18180251121520996, 0.0837348997592926, 0.04882296174764633, -0.1332399696111679, 0.16497568786144257, -0.21470941603183746, -0.2873041033744812, -0.22836525738239288, 0.07783164829015732, -0.15610307455062866, -0.204391211271286, -0.09192324429750443, -0.12342309206724167, 0.19938859343528748, -0.26837730407714844, 0.21974650025367737, -0.11483863741159439, 0.4923640191555023, -0.229708731174469, -0.04523313418030739, -0.1808721423149109, -0.46061137318611145, -0.14157453179359436, 0.10885216295719147, -0.08111734688282013, -0.11795996129512787, 0.16402070224285126, 0.3202841281890869, 0.3874613642692566, 0.11015333235263824, -0.09212254732847214], [-0.006620269734412432, -0.2558229863643646, 0.10730643570423126, -0.04924871772527695, 0.009634904563426971, 0.0095867570489645, 0.15955588221549988, 0.042866192758083344, -0.0179230198264122, -0.12793825566768646, 0.14007200300693512, 0.14932668209075928, 0.20659823715686798, 0.19961492717266083, 0.06606323271989822, 0.1856011301279068, -0.21083469688892365, -0.03390645980834961, 0.009491078555583954, -0.20823140442371368, -0.21255764365196228, -0.10256391018629074, -0.22307167947292328, -0.15185867249965668, 0.1438778191804886, 0.026993483304977417, -0.2635895013809204, 0.11218009889125824, -0.10052338987588882, 0.2570500671863556, -0.02117328904569149, -0.004332431126385927, 0.022750703617930412, 0.03126538172364235, 0.1660570353269577, -0.06612712144851685, -0.11600026488304138, 0.2406381219625473, 0.04893146827816963, -0.12713631987571716, 0.20046713948249817, -0.03309870511293411, 0.14260539412498474, -0.23086577653884888, 0.3418947756290436, -0.29511067271232605, 0.33359435200691223, 0.04226827993988991, 0.026422586292028427, -0.14670869708061218, 0.04665471985936165, -0.2825426757335663, -0.32252341508865356, 0.3697825074195862, 0.00940761249512434, -0.01598031260073185, 0.05402148514986038, -0.14486108720302582, -0.1792236715555191, 0.1561121642589569, -0.28647974133491516, 0.28742337226867676, -0.035400114953517914, 0.17657215893268585, -0.09138498455286026, -0.31842225790023804, -0.09538102895021439, 0.12827779352664948, 0.2547134757041931, -0.08096355944871902, -0.040797170251607895, -0.22871389985084534, 0.23569288849830627, 0.1621415913105011, -0.05893620848655701, -0.19954216480255127, 0.24055074155330658, 0.10578560829162598, 0.06481336802244186, 0.15265068411827087, -0.11151477694511414, -0.3733663558959961, -0.10877427458763123, 0.030406979843974113, -0.03980559483170509, -0.06288066506385803, -0.14378878474235535, 0.47277820110321045, 0.1151910126209259, 0.16624927520751953, 0.195411816239357, -0.33992964029312134, -0.13958093523979187, -0.15221437811851501, -0.1567365527153015, 0.21227048337459564, 0.03579461947083473, 0.20367571711540222, -0.10219325125217438, 0.21272048354148865, 0.3164307475090027, 0.21353447437286377, 0.06726708263158798, 0.18584610521793365, 0.0599212720990181, -0.18938711285591125, 0.2546038329601288, -0.46737638115882874, 0.10944978147745132, -0.0001580981770530343, 0.29265692830085754, -0.06578966975212097, 0.34908977150917053, -0.08111313730478287, -0.1653842180967331, -0.24590331315994263, -0.12549665570259094, 0.25586986541748047, -0.08878052979707718, 0.1441981941461563, 0.14141620695590973, 0.239173024892807, 0.4346257746219635, 0.4358218014240265, 0.24998845160007477, -0.17923417687416077, 0.24765677750110626, 0.023923249915242195, 0.3822174370288849, 0.025988014414906502, 0.07011859863996506, -0.09397155046463013, 0.13958583772182465, -0.06050191819667816, 0.26405417919158936, 0.19684527814388275, 0.001987291732802987, 0.2409927248954773, -0.3754774034023285, -0.2213989794254303, -0.07714325934648514, -0.06186612695455551, 0.19821405410766602, 0.09588088095188141, 0.3258783221244812, -0.3361034393310547, -0.6103243827819824, 0.1467195451259613, 0.12364016473293304, 0.3267360031604767, 0.14849019050598145, -0.3295971155166626, 0.17800436913967133, 0.2484666258096695, -0.45118382573127747, 0.24021096527576447, 0.0988960713148117, 0.016372282058000565, -0.019566310569643974, 0.08657238632440567, 0.05590937286615372, -0.20169910788536072, -0.0583488754928112, 0.08505065739154816, -0.053037263453006744, 0.02073255553841591, -0.12624669075012207, 0.010486019775271416, -0.027560902759432793, 0.18503406643867493, -0.3890206515789032, 0.36845776438713074, -0.2468228042125702, 0.13952839374542236, -0.3120574951171875, -0.29961222410202026, -0.10056122392416, 0.10824375599622726, 0.28972870111465454, 0.16793394088745117, 0.020969966426491737, -0.14849673211574554, -0.027037547901272774, -0.34611642360687256, -0.1871062070131302, 0.17175661027431488, 0.16480809450149536, -0.010181255638599396, -0.42479053139686584, 0.034512318670749664, 0.24447201192378998, -0.1492478847503662, -0.016853177919983864, 0.008515649475157261, -0.13101264834403992, 0.17788654565811157, -0.15901219844818115, -0.03146650269627571, 0.05182071402668953, 0.25658512115478516, 0.0323457270860672, -0.0123951630666852, 0.16573186218738556, 0.32846829295158386, 0.005382540635764599, 0.00745934434235096, 0.3002815246582031, -0.17626766860485077, -0.296879380941391, -0.0814501941204071, -0.017644718289375305, 0.005536062177270651, 0.10842861980199814, 0.004738623276352882, 0.060061629861593246, -0.22696849703788757, -0.13012363016605377, -0.1733342409133911, -0.06759978085756302, 0.15296570956707, 0.03633610159158707, -0.021147198975086212, 0.09678713977336884, 0.11941595375537872, -0.2892500162124634, -0.11150301992893219, 0.08646146208047867, 0.21034035086631775, 0.07370329648256302, -0.06871378421783447, -0.07365895062685013, 0.04722811281681061, 0.17845025658607483, 0.1114477813243866, -0.07459970563650131, -0.22846727073192596, 0.22889025509357452, -0.2745761275291443, -0.3893354833126068, 0.01630600355565548, 0.1484387218952179, -0.07649048417806625, 0.3163725435733795, -0.01218633633106947, 0.1564081311225891, 0.4518214464187622, -0.15578927099704742, 0.23550479114055634, -0.037249039858579636, 0.23103570938110352, -0.07132921367883682, 0.12147166579961777, 0.17322547733783722, -0.4192403554916382, 0.3087994158267975, 0.12397405505180359, -0.05330316349864006, 0.330684095621109, 0.03004777990281582, -0.13023070991039276, 0.29646536707878113, -0.4077451825141907, 0.2739225924015045, -0.1390106976032257, 0.5149277448654175, -0.078279510140419, -0.03254365548491478, 0.1452067643404007, -0.2595473527908325, -0.04854397848248482, -0.015267889015376568, 0.08183623105287552, -0.13001248240470886, 0.0875529870390892, 0.17408724129199982, -0.0008729274850338697, 0.07055818289518356, -0.10418243706226349, 0.0275993961840868, -0.3302266001701355, 0.3511730432510376, 0.2891169786453247, 0.3369520306587219, 0.01474467758089304, -0.06397184729576111, 0.21078552305698395, 0.10312285274267197, 0.1728140115737915, 0.15231701731681824, -0.11375216394662857, -0.07829754799604416, 0.001602935721166432, -0.18809925019741058, 0.27961376309394836, 0.30926913022994995, 0.05917464196681976, -0.29324081540107727, 0.25447237491607666, -0.1528545767068863, 0.11757829785346985, 0.44699162244796753, -0.20426219701766968, -0.23649105429649353, 0.10142754763364792, -0.20472487807273865, 0.04493916779756546, -0.10488887876272202, -0.09508006274700165, -0.000999746611341834, -0.012833925895392895, -0.16112516820430756, -0.22240890562534332, 0.28142163157463074, -0.26491573452949524, -0.22985738515853882, -0.1787114143371582, -0.18189454078674316, -0.18790364265441895, -0.45676589012145996, -0.17795005440711975, 0.197540745139122, 0.2134605050086975, -0.1417602300643921, -0.06256795674562454, 0.1505371332168579, 0.1905393749475479, 0.08706970512866974, 0.1447814702987671, 0.03469443321228027, 0.2910575270652771, 0.2731747627258301, 0.24297237396240234, -0.1256314069032669, -0.21871300041675568, -0.14733274281024933, -0.07214002311229706, 0.13086055219173431, 0.24815833568572998, 0.00932045467197895, 0.08608373254537582, 0.0751851350069046, 0.07785511761903763, -0.19487330317497253, -0.07699370384216309, 0.2302340269088745, -0.2153424322605133, -0.07339164614677429, -0.16307362914085388, 0.18865416944026947, 0.008360153995454311, -0.059336159378290176, 0.2717529237270355, -0.05643516778945923, -0.11380456387996674, 0.2985292673110962, 0.12099387496709824, 0.02718491666018963, 0.14293010532855988, -0.019369393587112427, 0.34109631180763245, 0.3332381248474121, 0.128962442278862, 0.21538443863391876, 0.07937978953123093, 0.004611298441886902, 0.1377422958612442, 0.3404223620891571, 0.16425180435180664, 0.10169214755296707, 0.10551567375659943, 0.1971368044614792, -0.0751211866736412, 0.11957836151123047, -0.16369056701660156, -0.049571551382541656, -0.17466787993907928, 0.028055712580680847, 0.01496126875281334, 0.21811313927173615, 0.09484260529279709, 0.08715321123600006, -0.2102607637643814, 0.06685757637023926, 0.017620747908949852, -0.1862460821866989, 0.13719892501831055, 0.1297905445098877, 0.015509981662034988, 0.2575009763240814, 0.02697732299566269, 0.07684003561735153, 0.12918885052204132, 0.013924363069236279, 0.12721563875675201, 0.058062367141246796, 0.04795651137828827, 0.29898977279663086, 0.14350661635398865, 0.3911367654800415, -0.1262069046497345, -0.14918403327465057, -0.27852562069892883, 0.10783955454826355, 0.19981065392494202, -0.2038387805223465, -0.3912726044654846, -0.017094001173973083, 0.06271153688430786, 0.012861022725701332, -0.2861851155757904, -0.44214928150177, -0.36435040831565857, -0.05042066425085068, 0.3137248158454895, -0.1261853128671646, -0.14381687343120575, 0.12242938578128815, 0.06368093937635422, 0.011589289642870426, 0.09739822894334793, -0.2051866352558136, -0.3483274281024933, 0.10016243904829025, 0.01772572658956051, -0.17128688097000122, -0.09706416726112366, -0.23515085875988007, -0.003099593799561262, 0.0024385559372603893, 0.19017618894577026, 0.01841668412089348, 0.15511713922023773, -0.0021569018717855215, -0.20475579798221588, 0.18321099877357483, -0.023358620703220367, -0.007256104610860348, 0.12419094890356064, -0.18876443803310394, -0.09613406658172607, -0.09068859368562698, -0.10976298153400421, 0.10228205472230911, -0.09450144320726395, -0.160055011510849, 0.04185590520501137, -0.10172317177057266, 0.23465709388256073, 0.37528836727142334, 0.15711435675621033, -0.14132975041866302, -0.04317985847592354, 0.19988468289375305, 0.21063250303268433, -0.08564943075180054, -0.024979952722787857, -0.33233603835105896, 0.09149297326803207, -0.015230919234454632, -0.013762402348220348, -0.29394644498825073, 0.007569009438157082, -0.39019066095352173, 0.14476081728935242, 0.17874078452587128, 0.14804840087890625, 0.09126506745815277, 0.44340094923973083, 0.19802860915660858, 0.029087480157613754, 0.2695819139480591, 0.07742579281330109, 0.39625850319862366, 0.3746427595615387, -0.14253929257392883, 0.2266673445701599, 0.16402088105678558, 0.22772985696792603, -0.08361808210611343, -0.048119064420461655, -0.021524755284190178, 0.020917564630508423, -0.010996520519256592, 0.15192435681819916, 0.021286219358444214, -0.1777944564819336, 0.4176250398159027, 0.12271334230899811, -0.27622324228286743, 0.10212019085884094, 0.1089409589767456, 0.30739453434944153, 0.260436475276947, 0.00775790773332119, -0.05730583891272545, 0.24022504687309265, -0.2636614739894867, 0.07506505399942398, 0.3091333210468292, 0.023542001843452454, -0.3926481306552887, 0.1286749541759491, 0.2438768893480301, -0.1394737809896469, -0.14965301752090454, 0.08389271050691605, 0.21108408272266388, -0.1034456342458725, 0.1051274910569191, -0.24599948525428772, 0.15399955213069916, 0.11350881308317184, 0.14478068053722382, -0.2251466065645218, -0.02415197156369686, -0.3735019862651825, -0.22671908140182495, 0.11075475066900253, 0.12328506261110306, 0.12961505353450775, -0.04848969727754593, -0.15870210528373718, -0.13715411722660065, -0.07462900131940842, -0.11535029858350754, 0.05602230504155159, 0.01445194985717535, 0.4964536428451538, -0.04210720956325531, -0.030193911865353584, 0.015120760537683964, -0.24235188961029053, 0.03147576376795769, -0.11416363716125488, 0.4045330882072449, -0.0827285572886467, 0.014371996745467186, -0.22269399464130402, -0.18993405997753143, -0.2367980182170868, 0.055953118950128555, 0.40216100215911865, -0.3547859787940979, 0.08297403901815414, 0.14533814787864685, 0.053070589900016785, -0.02966366335749626, -0.012320069596171379, 0.5668220520019531, -0.0648440569639206, 0.1436530351638794, 0.2508808970451355, 0.16054639220237732, 0.17486654222011566, 0.08263934403657913, -0.06233321502804756, -0.2514660656452179, -9.438087463378906, 0.13664187490940094, 0.13017241656780243, 0.151406928896904, -0.0694032534956932, -0.09355928748846054, -0.2314886599779129, 0.1149725392460823, 0.19686053693294525, -0.17724104225635529, 0.09993932396173477, -0.1942824423313141, -0.04821168631315231, -0.23457767069339752, -0.09494223445653915, 0.07550053298473358, -0.020155517384409904, -0.13696694374084473, 0.016248410567641258, 0.4573475122451782, -0.045009173452854156, 0.0355844609439373, -0.03512350097298622, 0.47210580110549927, -0.20402103662490845, 0.06762430816888809, 0.02520197257399559, -0.4150726795196533, 0.32351869344711304, -0.16117450594902039, -0.1865471452474594, -0.33954358100891113, -0.24016906321048737, -0.00941470731049776, -0.06611216813325882, -0.09576956182718277, -0.24417702853679657, 0.26332980394363403, -0.02711958810687065, 0.01969955302774906, -0.09446831792593002, 0.2133307158946991, 0.036977618932724, -0.21941803395748138, -0.04304030165076256, -0.10132252424955368, -0.13371451199054718, 0.4547737240791321, -0.2730456590652466, -0.2915182113647461, 0.1639389544725418, -0.18894223868846893, -0.1633719652891159, -0.12742561101913452, -0.639053225517273, -0.07433873414993286, 0.19179044663906097, 0.156531423330307, -0.053358618170022964, -0.10620652884244919, 0.09632766991853714, 0.22590477764606476, -0.21658040583133698, 0.11018498986959457, 0.04397423937916756, -0.04853338003158569, -0.23379923403263092, -0.1579146832227707, -0.18089979887008667, -0.11574061214923859, -0.10688876360654831, 0.26590970158576965, -0.05773819610476494, 0.07719027251005173, -0.260315865278244, 0.027130721136927605, 0.29009169340133667, 0.37626156210899353, 0.24240605533123016, 0.40657979249954224, -0.3866865634918213, 0.20511992275714874, -0.17309460043907166, -0.26044976711273193, 0.0007305479375645518, -0.15164317190647125, -0.22619576752185822, 0.3012451231479645, -0.29668232798576355, 0.20976276695728302, -0.2397303432226181, -0.4878534972667694, 0.01133099664002657, 0.15945731103420258, -0.23043109476566315, -0.14934763312339783, 0.03288237005472183, 0.39104899764060974, -0.2957102358341217, -0.3744795322418213, -0.0005832267925143242, 0.03187202289700508, 0.06965664029121399, 0.0677119642496109, 0.02935364656150341, 0.17600734531879425, -0.15135468542575836, -0.25682833790779114, -0.3849742114543915, 0.2754758596420288, 0.24289025366306305, 0.1688339114189148, 0.2276279479265213, 0.18756680190563202, -0.10082297027111053, -0.0039087035693228245, 0.31067273020744324, 0.17406126856803894, -0.29222750663757324, -0.10872064530849457, -0.24262414872646332, 0.00361702055670321, 0.24024522304534912, -0.3145707845687866, -0.19463633000850677, -0.014672184363007545, -0.245136097073555, 0.0333460196852684, -0.03991319239139557, 0.23127947747707367, 0.19170571863651276, 0.16382478177547455, -0.15632523596286774, 0.03281242027878761, -0.2757079601287842, -0.45360833406448364, 0.1321944147348404, 0.15994147956371307, -0.06331013888120651, -0.08424272388219833, -0.21933841705322266, 0.23954030871391296, -0.061315618455410004, 0.21311482787132263, 0.3637174963951111, 0.25603431463241577, 0.05312474071979523, -0.1514456868171692, 0.07657366991043091, 0.09550996124744415, -0.07843688875436783, 0.2704138159751892, 0.09668664634227753, -0.19089123606681824, 0.2130933254957199, 0.03630267456173897, -0.4372338354587555, 0.02681884914636612, 0.06002257391810417, -0.06274884194135666, -0.27694618701934814, 0.149739608168602, 0.46005046367645264, 0.2523273825645447, -0.1303478181362152, 0.05033490061759949, -0.2611357271671295, -0.31895849108695984, 0.16025547683238983, 0.22339345514774323, -0.3102044463157654, 0.16541145741939545, -0.2410009354352951, -0.023000476881861687, 0.24676775932312012, -0.04254736006259918, -0.5193430185317993, -0.16093555092811584, 0.5083332061767578, -0.20098251104354858, 0.23046241700649261, 0.14610075950622559, -0.004871963523328304, -0.5464698076248169, 0.11035408824682236, -0.1812943071126938, -0.14712832868099213, -0.1798287034034729, 0.03043501079082489, 0.03780711069703102, 0.041575778275728226, -0.1411868780851364, 0.05539863556623459, 0.10652676969766617, -0.14531289041042328, 0.4134058654308319, 0.06037114933133125, 0.33358532190322876, -0.08283132314682007, 0.05230647325515747, -0.17333845794200897, -0.16627644002437592, -0.3688535690307617, 0.1566135436296463, -0.15704086422920227, 0.07259542495012283, -0.036400508135557175, 0.2412859946489334, 0.1535193771123886, 0.19189520180225372, -0.1559453010559082], [0.10306133329868317, -0.08774799108505249, 0.09658212214708328, 0.03301474452018738, -0.23832811415195465, 0.17284393310546875, 0.1803852915763855, 0.14394508302211761, 0.07771141082048416, 0.06582344323396683, 0.2207506150007248, -0.06676127016544342, 0.012199023738503456, 0.15163132548332214, 0.06245528161525726, 0.2511405646800995, 0.13428369164466858, 0.15585753321647644, -0.3015868067741394, -0.4368438124656677, -0.36819496750831604, 0.034688908606767654, -0.23757056891918182, 0.04853810742497444, 0.19907385110855103, -0.2740620970726013, 0.009058614261448383, 0.01715986244380474, -0.09517143666744232, 0.09137915074825287, -0.06473664194345474, 0.08028244972229004, 0.10607727617025375, -0.05990085005760193, 0.6092755794525146, -0.16742043197155, -0.377316951751709, 0.29127272963523865, -0.31854018568992615, -0.21349790692329407, -0.3061222434043884, -0.21173371374607086, 0.3478054106235504, 0.201872318983078, 0.03714131563901901, -0.4146457016468048, 0.18005560338497162, 0.14573492109775543, -0.025551456958055496, 0.25850507616996765, 0.09437218308448792, -0.04354758560657501, -0.13620004057884216, 0.18560609221458435, -0.12328822910785675, 0.13828225433826447, -0.1746034324169159, 0.12622612714767456, -0.29818299412727356, -0.09133729338645935, -0.37028178572654724, 0.12074341624975204, 0.4763185977935791, 0.15064100921154022, -0.0929592177271843, -0.13104596734046936, -0.1769556999206543, 0.17223353683948517, 0.6737461686134338, 0.08879929780960083, -0.18432220816612244, -0.8551725149154663, 0.1633877158164978, 0.1256486475467682, -0.015556401573121548, 0.44191688299179077, -0.08589403331279755, 0.4593658447265625, 0.268513947725296, 0.18513727188110352, -0.16391310095787048, -0.3574281334877014, -0.16115252673625946, 0.14031009376049042, -0.19548238813877106, -0.2263544648885727, 0.036713968962430954, 0.6461178660392761, 0.003921135328710079, -0.045952845364809036, -0.25047940015792847, -0.5943637490272522, -0.1130841076374054, 0.3940983712673187, 0.1740267276763916, 0.5186073780059814, 0.2545410692691803, 0.46776142716407776, -0.10869687050580978, -0.22938689589500427, 0.16724306344985962, 0.1070546954870224, -0.27559709548950195, -0.31344205141067505, -0.33411675691604614, 0.13761745393276215, -0.29581061005592346, -0.08292869478464127, 0.21541884541511536, 0.0031094797886908054, 0.047208257019519806, 0.060829535126686096, 0.4908442795276642, -0.05579724162817001, -0.08825496584177017, -0.009211210533976555, -0.4619898796081543, 0.45508334040641785, -0.3349233865737915, -0.02159734070301056, 0.16423983871936798, 0.36292949318885803, 0.05758718401193619, 0.5787428021430969, 0.2762543559074402, 0.1930735558271408, 0.03532976284623146, -0.20875251293182373, 0.47483375668525696, -0.03083520382642746, 0.20807041227817535, -0.13814233243465424, 0.23197785019874573, -0.18722093105316162, 0.31552883982658386, 0.028919994831085205, 0.2714851498603821, -0.12330909073352814, -0.1974565088748932, -0.3010493218898773, -0.49994346499443054, 0.08951933681964874, 0.029997562989592552, 0.09397977590560913, 0.08917497843503952, -0.2224186658859253, -0.4508574306964874, -0.1309356689453125, -0.21913327276706696, 0.5585758090019226, -0.01095652300864458, -0.4410470128059387, 0.3838844895362854, -0.16042417287826538, -0.3394198715686798, -0.2739500105381012, -0.06179244816303253, 0.21658818423748016, -0.3088265061378479, -0.14348773658275604, 0.09202634543180466, 0.09336879104375839, -0.18219564855098724, 0.04699845239520073, -0.053944557905197144, 0.0055313995108008385, 0.17121762037277222, 0.05339493229985237, -0.03413614258170128, 0.40174442529678345, 0.05428871512413025, 0.3148646354675293, -0.02346939966082573, -0.04271264746785164, -0.4431847035884857, 0.00018768361769616604, -0.2761901915073395, 0.4380020499229431, 0.2456575483083725, -0.16255420446395874, 0.14747318625450134, 0.14750738441944122, 0.4650512635707855, -0.3199259042739868, -0.30272549390792847, 0.10099206864833832, -0.17039334774017334, -0.2580375671386719, -0.27540361881256104, -0.08777908980846405, 0.00788598507642746, -0.18298916518688202, -0.016740573570132256, 0.4266584515571594, -0.1733206957578659, -0.017638826742768288, 0.3857054114341736, -0.21563827991485596, -0.16902747750282288, 0.2560309171676636, 0.19812250137329102, -0.09897727519273758, -0.1584016978740692, 0.3232516646385193, -0.7023305296897888, 0.11134172230958939, 0.09758760035037994, 0.12212277203798294, 0.22809986770153046, -0.2827301025390625, 0.32952675223350525, -0.201956108212471, 0.16858279705047607, -0.4110966622829437, -0.3065034747123718, -0.13179370760917664, 0.15216439962387085, -0.15384718775749207, 0.08053120970726013, 0.04684974625706673, 0.20499834418296814, -0.24066458642482758, -0.14808690547943115, 0.09848130494356155, -0.20401369035243988, -0.012122592888772488, -0.09317661821842194, 0.04760567471385002, -0.4103029668331146, -0.02854306250810623, -0.049254629760980606, 0.015231906436383724, -0.2855650782585144, 0.21051529049873352, -0.0565774068236351, 0.005510768387466669, 0.2215603142976761, 0.07323209196329117, 0.4538273215293884, 0.22313864529132843, 0.08262809365987778, -0.05644834414124489, 0.37563663721084595, -0.33873432874679565, 0.49886611104011536, 0.49331507086753845, 0.04198967292904854, 0.11200133711099625, 0.09432359784841537, 0.38598909974098206, 0.028948748484253883, -0.014872295781970024, -0.21749182045459747, -0.4906299114227295, -0.11881297826766968, 0.12269160896539688, -0.3505346477031708, 0.06814003735780716, -0.30335837602615356, -0.04299571365118027, 0.17230196297168732, -0.38255104422569275, 0.4986312985420227, -0.304216206073761, 0.2358618527650833, 0.004792115185409784, 0.15597765147686005, -0.6194331049919128, -0.23228856921195984, 0.09890932589769363, -0.29251521825790405, -0.08250482380390167, -0.0016948976553976536, 0.19023409485816956, 0.05656767636537552, 0.41205668449401855, 0.4315803647041321, 0.007780265994369984, 0.10235416889190674, -0.13623373210430145, -0.5770118236541748, 0.20487898588180542, 0.053786057978868484, 0.04058930650353432, 0.055876027792692184, -0.07388537377119064, 0.10749951004981995, 0.22586558759212494, -0.09670819342136383, 0.32828012108802795, 0.3010570704936981, -0.1475212424993515, -0.2693154513835907, -0.0895351991057396, 0.10049097239971161, 0.15160292387008667, -0.36887839436531067, 0.279493510723114, -0.06915201246738434, -0.17025801539421082, 0.835112988948822, -0.2950182557106018, 0.4640084505081177, -0.2520234286785126, -0.27873358130455017, -0.1334756761789322, -0.3661695122718811, 0.37624311447143555, 0.24550855159759521, 0.3875473141670227, 0.19915975630283356, -0.10391971468925476, 0.0543314553797245, -0.06052800640463829, -0.31814897060394287, -0.008435976691544056, -0.02852366492152214, -0.08790579438209534, -0.8053827881813049, -0.024620123207569122, 0.2515866756439209, 0.06625758856534958, -0.37249577045440674, 0.13718318939208984, -0.040367528796195984, -0.006120613776147366, -0.20989207923412323, -0.2132589966058731, 0.051359623670578, 0.019308090209960938, 0.003270837478339672, 0.30512961745262146, -0.1511775702238083, 0.4366866648197174, 0.14964812994003296, 0.6771523952484131, 0.4601229727268219, 0.0682336837053299, -0.13084973394870758, 0.2621866464614868, -0.05092935636639595, 0.31337448954582214, -0.10797383636236191, -0.16456425189971924, 0.30327045917510986, 0.46407464146614075, -0.07162143290042877, -0.10165752470493317, 0.5335476398468018, -0.09800911694765091, 0.5064305663108826, 0.09103856235742569, 0.06525667011737823, -0.2936059832572937, 0.5151800513267517, 0.41155189275741577, -0.12052807956933975, 0.06422407180070877, -0.5519210696220398, 0.1920766979455948, 0.3935621678829193, -0.02858678065240383, -0.08629214018583298, 0.29326173663139343, 0.10203015804290771, 0.10999705642461777, 0.40383270382881165, 0.10670258849859238, -0.19150421023368835, -0.15446142852306366, 0.030596939846873283, 0.01763886585831642, -0.19914579391479492, -0.3056143522262573, 0.16409282386302948, 0.152296781539917, 0.012539025396108627, 0.0822882279753685, -0.18670034408569336, -0.21642018854618073, -0.028471689671278, -0.1352512538433075, 0.3282652199268341, -0.040375951677560806, -0.019447840750217438, 0.02009356953203678, 0.2671040892601013, -0.06859849393367767, -0.10172722488641739, 0.030966991558670998, -0.38944143056869507, -0.02992241270840168, 0.041941169649362564, -0.13887764513492584, 0.23007097840309143, -0.0033106612972915173, -0.15322066843509674, 0.088995061814785, 0.4379936158657074, -0.35880398750305176, -0.05607999488711357, 0.13514436781406403, 0.14947009086608887, 0.3560115694999695, 0.24822492897510529, -0.16689006984233856, -0.35619214177131653, -0.30028852820396423, 0.14578579366207123, 0.12967883050441742, -0.3668370842933655, -0.024041438475251198, 0.2820885181427002, 0.3703038990497589, -0.3116947412490845, -0.4362218976020813, -0.03505611792206764, 0.3272298276424408, -0.007310769055038691, 0.07648992538452148, 0.06612357497215271, -0.1369098573923111, 0.04482552036643028, 0.3296506702899933, -0.27258285880088806, -0.03197292983531952, -0.3477834165096283, 0.12310270965099335, -0.17367279529571533, 0.3419478237628937, -0.037974096834659576, 0.4831390082836151, -0.23856967687606812, -0.23155423998832703, -0.28265833854675293, -0.00982733629643917, -0.24798837304115295, -0.08507053554058075, -0.2369966208934784, 0.00760290352627635, -0.3444158434867859, -0.015432859770953655, -0.16172386705875397, -0.1031365916132927, -0.055529072880744934, 0.05605236813426018, 0.185688778758049, 0.2576136887073517, 0.4170771837234497, 0.15113534033298492, -0.25643283128738403, -0.1443610042333603, 0.13463333249092102, -0.07275183498859406, 0.5628882646560669, 0.04829803481698036, -0.45427992939949036, -0.10911327600479126, 0.13766637444496155, 0.16111528873443604, -0.030958710238337517, 0.10216208547353745, -0.18116311728954315, -0.05729848891496658, 0.348807692527771, -0.07799217104911804, 0.08791781961917877, 0.7842556834220886, -0.23852385580539703, -0.042511917650699615, 0.10510950535535812, -0.34563493728637695, 0.4221245348453522, 0.47132954001426697, -0.16862209141254425, 0.05996335297822952, -0.09934797883033752, -0.38068437576293945, -0.018311208114027977, 0.019173258915543556, -0.15339171886444092, 0.2785431444644928, -0.08178893476724625, -0.3228183686733246, 0.37909331917762756, -0.18201373517513275, 0.3623569905757904, -0.14033374190330505, 0.3066149353981018, 0.05184881016612053, 0.3660874664783478, 0.07619380950927734, 0.10543173551559448, 0.1587110310792923, -0.15761148929595947, 0.37499529123306274, -0.016249412670731544, -0.22511973977088928, 0.38511499762535095, -0.2815636992454529, -0.17364399135112762, 0.4773827791213989, 0.10953854024410248, 0.11821705847978592, -0.13887813687324524, 0.34086281061172485, -0.11425845324993134, -0.027479982003569603, 0.10209918767213821, -0.3513790965080261, 0.09514424949884415, 0.41000133752822876, 0.027517521753907204, 0.06488923728466034, -0.16281859576702118, 0.017530784010887146, -0.3202246427536011, 0.17290127277374268, -0.2655703127384186, -0.14909592270851135, 0.20494912564754486, -0.2999139428138733, 0.03796480968594551, -0.6417027711868286, -0.1252659112215042, 0.34258270263671875, 0.25833964347839355, 0.3990410566329956, -0.2544630765914917, 0.0015020661521703005, 0.05370276793837547, -0.06791006028652191, 0.40511760115623474, -0.06459697335958481, 0.26606544852256775, -0.07471540570259094, -0.4508718252182007, 0.20526272058486938, -0.08783578872680664, 0.16767217218875885, 0.31457221508026123, 0.6585395932197571, -0.17721495032310486, -0.38273918628692627, 0.12566301226615906, 0.12347354739904404, 0.22907045483589172, 0.2100469022989273, -0.0489705465734005, 0.040142130106687546, 0.1882164180278778, 0.18795593082904816, 0.8271691203117371, 0.0707361027598381, 0.13481250405311584, -0.19116415083408356, -0.32432717084884644, -9.133949279785156, 0.11703687906265259, -0.3192993104457855, 0.32859137654304504, -0.3846698999404907, 0.1059103012084961, -0.2801828682422638, 0.5619206428527832, -0.35905224084854126, -0.13625748455524445, 0.43118271231651306, 0.05768914148211479, 0.043193262070417404, -0.35944682359695435, -0.3201492428779602, 0.09861546009778976, -0.1233135536313057, -0.2660399377346039, 0.12693333625793457, 0.16673383116722107, -0.091985784471035, -0.17640884220600128, 0.12386977672576904, 0.06476959586143494, 0.21039871871471405, 0.17105425894260406, 0.23945151269435883, -0.29521870613098145, -0.05965253338217735, -0.06505054235458374, -0.21169249713420868, -0.07279669493436813, -0.10650165379047394, 0.1366857886314392, 0.11004894971847534, 0.0801776573061943, -0.15449205040931702, 0.0030259834602475166, 0.13583454489707947, -0.5044525265693665, -0.19493071734905243, -0.11148743331432343, -0.04691680893301964, 0.28461363911628723, -0.03866387903690338, -0.3267967402935028, -0.10824361443519592, 0.13611768186092377, 0.013565778732299805, -0.4251972734928131, 0.06226979196071625, -0.34217700362205505, 0.003561370773240924, -0.11426495015621185, -0.37968122959136963, 0.12721261382102966, 0.685851514339447, 0.23588477075099945, 0.35338297486305237, -0.22129149734973907, -0.28162050247192383, -0.25649628043174744, -0.24687358736991882, 0.17715682089328766, -0.2937691807746887, 0.04263484850525856, -0.45042547583580017, -0.41472041606903076, 0.008056102320551872, -0.2979587912559509, -0.1765291690826416, 0.13652554154396057, -0.0840793028473854, 0.00320416153408587, -0.24693506956100464, -0.2741577625274658, -0.01646551489830017, 0.1626155525445938, -0.30526259541511536, 0.3422776460647583, 0.16395631432533264, 0.3172510862350464, 0.19268453121185303, 0.04984409734606743, -0.3653198778629303, -0.0649317055940628, -0.22325436770915985, 0.4231273829936981, -0.1345403641462326, 0.2229492962360382, -0.1775697022676468, -0.7069164514541626, 0.27316033840179443, 0.05693916976451874, 0.23160573840141296, -0.10900383442640305, -0.2325046956539154, -0.19780988991260529, -0.01898997463285923, -0.513151228427887, -0.04006517678499222, 0.26310598850250244, 0.5214788317680359, -0.12606272101402283, 0.0064923642203211784, 0.19172625243663788, -0.27481764554977417, -0.16969437897205353, -0.7110278010368347, -0.09232361614704132, 0.1609303206205368, -0.27785414457321167, -0.11910749226808548, 0.17160841822624207, -0.1436517983675003, -0.016458380967378616, 0.4842450022697449, 0.6068905591964722, -0.468784898519516, 0.021992385387420654, -0.29297274351119995, -0.6663870811462402, 0.6897825598716736, -0.17096447944641113, 0.12088634073734283, 0.6217352151870728, -0.3981269598007202, -0.049524348229169846, -0.10071930289268494, 0.08315356820821762, -0.059704262763261795, 0.16611801087856293, 0.10752389580011368, -0.2026907056570053, -0.17408621311187744, -0.276680052280426, -0.24146798253059387, -0.008758283220231533, 0.4698054790496826, 0.1374378204345703, -0.4094707667827606, -0.04475342854857445, -0.5479299426078796, 0.2728886902332306, 0.46314966678619385, 0.09390788525342941, 0.2520323097705841, -0.13048867881298065, 0.4668247699737549, 0.11394379287958145, 0.5254607200622559, -0.04530499130487442, 0.24001991748809814, -0.18311496078968048, 0.05670183151960373, 0.16013652086257935, -0.22479873895645142, 0.1588970571756363, 0.23388737440109253, -0.028029216453433037, -0.13890831172466278, 0.6561288237571716, 0.37186548113822937, 0.12923334538936615, 0.1417599320411682, 0.18072445690631866, -0.14469921588897705, -0.3280072510242462, 0.3444662392139435, 0.032301947474479675, -0.1916247308254242, 0.2553708255290985, -0.26215919852256775, -0.2589232921600342, 0.05640124902129173, -0.1697310358285904, 0.2710479497909546, -0.09051297605037689, -0.33161604404449463, -0.03105056844651699, 0.30677494406700134, 0.06161625683307648, -0.10464826971292496, 0.1856246292591095, -0.06012803688645363, 0.36838629841804504, -0.3909800350666046, 0.12289123237133026, -0.5211175680160522, -0.13386672735214233, -0.10028465837240219, 0.049804091453552246, 0.17344394326210022, -0.26421868801116943, -0.19174309074878693, 0.40743985772132874, 0.023111339658498764, 0.26075252890586853, -0.3217449486255646, 0.05386442318558693, -0.16751913726329803, -0.5135889649391174, -0.07405491918325424, 0.4253626763820648, -0.27655601501464844, 0.3508174419403076, 0.7564261555671692, 0.5979569554328918, -0.05619097128510475, 0.08720942586660385, -0.052028000354766846], [0.518004298210144, -0.008657842874526978, 0.13592755794525146, 0.027282502502202988, 0.09130057692527771, 0.08359980583190918, 0.12385454028844833, -0.031676530838012695, 0.07047183811664581, -0.11881361901760101, 0.1610458791255951, 0.3361467123031616, -0.0782511755824089, -0.10709778219461441, -0.5278491377830505, 0.0411444716155529, -0.019221583381295204, -0.08353753387928009, 0.22042010724544525, -0.1991199105978012, -0.1673727184534073, -0.008698996156454086, -0.0859970822930336, -0.0032272585667669773, -0.22317031025886536, -0.2554803192615509, 0.010265401564538479, 0.1701686978340149, -0.4465932548046112, 0.4085003435611725, -0.10221870243549347, -0.05064444616436958, -0.29225632548332214, -0.02544766664505005, -0.23475782573223114, -0.36292508244514465, 0.053489211946725845, -0.18607351183891296, -0.08363545686006546, -0.38759535551071167, -0.1683453619480133, 0.11773519963026047, 0.20440177619457245, -0.11910879611968994, 0.11302448809146881, -0.3528098464012146, 0.3977038264274597, -0.2704203426837921, 0.06539555639028549, 0.21698591113090515, 0.12869714200496674, -0.11407020688056946, -0.083032988011837, 0.3281097114086151, 0.2319503277540207, -0.09404730051755905, -0.27381667494773865, 0.027465814724564552, 0.1587689071893692, 0.32363519072532654, -0.3043600618839264, 0.16832497715950012, 0.4013535678386688, 0.09447237104177475, -0.2788659930229187, -0.11926714330911636, -0.3034505844116211, -0.0026077746879309416, 0.09047607332468033, -0.4117239713668823, 0.04925273358821869, -0.22371870279312134, 0.0651310607790947, 0.10538926720619202, 0.26502716541290283, -0.3664875626564026, 0.06966841220855713, 0.22182810306549072, -0.3325919210910797, 0.17468145489692688, -0.2018338441848755, 0.0021150787360966206, 0.05093308538198471, 0.38450032472610474, -0.27175334095954895, 0.10692223906517029, -0.031379494816064835, 0.3909498453140259, 0.20477516949176788, 0.0927896648645401, 0.2662947177886963, -0.24649344384670258, -0.08570034801959991, 0.08044559508562088, -0.23210375010967255, 0.14676743745803833, 0.22979898750782013, 0.24987688660621643, 0.13458432257175446, 0.28450486063957214, 0.4480421841144562, 0.31365519762039185, -0.28951773047447205, -0.04705899581313133, 0.12888869643211365, -0.22272786498069763, 0.09729386866092682, -0.6376904845237732, 0.2823505401611328, 0.06281068921089172, 0.22053150832653046, 0.07365739345550537, 0.3079371452331543, -0.15141437947750092, -0.347018837928772, -0.06517552584409714, -0.11125029623508453, 0.16484306752681732, -0.10145559161901474, -0.3462827801704407, 0.24090562760829926, -0.1620880365371704, -0.16414383053779602, 0.3690814971923828, 0.06802557408809662, -0.20269642770290375, 0.3449226915836334, -0.07248505204916, 0.28195720911026, -0.27668556571006775, 0.1160857304930687, -0.27957087755203247, 0.30537882447242737, -0.15612220764160156, 0.360239177942276, 0.3501962423324585, -0.23143206536769867, 0.14129343628883362, -0.6636516451835632, -0.041325248777866364, -0.16044200956821442, -0.13112837076187134, 0.15094658732414246, 0.011668993160128593, -0.002804966876283288, 0.006881990935653448, -0.3130591809749603, 0.39613544940948486, 0.17698915302753448, 0.5557679533958435, -0.11724261194467545, -0.20074138045310974, 0.25586163997650146, 0.2247718721628189, -0.38336583971977234, 0.18925203382968903, 0.10171385854482651, -0.1746847778558731, 0.01416844967752695, -0.06679395586252213, 0.07942655682563782, 0.0344698391854763, -0.26821866631507874, 0.10195516794919968, -0.06352479755878448, -0.007214483339339495, 0.23441283404827118, 0.010193298570811749, -0.04098314046859741, 0.358102023601532, -0.016480229794979095, 0.17366760969161987, -0.44590336084365845, 0.39954182505607605, -0.10429413616657257, -0.011166800744831562, 0.19226449728012085, -0.060447026044130325, 0.4328118562698364, 0.038962725549936295, 0.42483067512512207, -0.1499219685792923, -0.1103896051645279, -0.8426833152770996, -0.37329980731010437, 0.07167419046163559, -0.1051647812128067, -0.1650637537240982, -0.2523661255836487, 0.11652825027704239, 0.14605151116847992, -0.20324906706809998, 0.1288195550441742, 0.11198972165584564, 0.20943906903266907, -0.19915148615837097, -0.28136610984802246, -0.14368848502635956, -0.033713534474372864, -0.3180606961250305, -0.024019308388233185, 0.002215908607468009, 0.06935770809650421, 0.06423744559288025, -0.047522395849227905, 0.0737902820110321, 0.09819593280553818, 0.20113767683506012, -0.09949029982089996, -0.15115627646446228, 0.013736403547227383, -0.167413592338562, -0.1128120943903923, -0.24433700740337372, -0.14406739175319672, -0.23713144659996033, -0.01590042933821678, -0.0011418110225349665, 0.05680285021662712, 0.21008677780628204, -0.3058741092681885, -0.07656063884496689, 0.3669830858707428, -0.03400568291544914, -0.09917638450860977, 0.02093769609928131, 0.041975539177656174, 0.17093688249588013, 0.10119514912366867, -0.14657069742679596, 0.24282079935073853, 0.14185035228729248, 0.3522580862045288, -0.15818367898464203, -0.13718728721141815, -0.2793060541152954, 0.16618458926677704, 0.2277381420135498, -0.4890192747116089, 0.11882005631923676, 0.019294938072562218, -0.0034447156358510256, 0.27081558108329773, -0.2964078187942505, 0.1334705799818039, 0.3728508949279785, -0.13244792819023132, 0.26579466462135315, 0.27921468019485474, 0.24862520396709442, 0.007955090142786503, 0.05695098266005516, -0.15785521268844604, 0.05223120376467705, 0.3675665259361267, 0.040495943278074265, -0.02127552218735218, 0.14247798919677734, -0.7000733613967896, -0.23195095360279083, 0.2128005176782608, -0.5387554168701172, 0.18362784385681152, -0.1020515039563179, 0.0005558353150263429, -0.14927388727664948, 0.09955309331417084, 0.12129522114992142, -0.4135667681694031, 0.09172754734754562, -0.025091642513871193, -0.15878969430923462, -0.21346944570541382, 0.09298016130924225, -0.004420118872076273, -0.01918349415063858, 0.33131131529808044, -0.017404930666089058, -0.02531994879245758, -0.2952815294265747, 0.4099479615688324, 0.14890137314796448, 0.11293182522058487, 0.23973213136196136, -0.3334287106990814, 0.07517905533313751, 0.09887620806694031, 0.03986358642578125, 0.16603292524814606, 0.02413041889667511, 0.37214595079421997, -0.049632709473371506, -0.07534680515527725, -0.06918323785066605, 0.3056824803352356, 0.14519011974334717, -0.13047243654727936, 0.0032710873056203127, -0.36964741349220276, -0.2200218290090561, 0.31236037611961365, -0.21901445090770721, 0.058699361979961395, 0.07557450234889984, -0.325756698846817, 0.15881627798080444, -0.19926492869853973, 0.30823490023612976, 0.01507292129099369, -0.1038852408528328, -0.0005757496110163629, 0.020485632121562958, -0.12001834809780121, -0.32093968987464905, -0.39931678771972656, 0.14590147137641907, -0.24060973525047302, -0.42383015155792236, -0.14491114020347595, -0.1791912466287613, 0.5800486207008362, 0.3755357563495636, -0.03298041597008705, -0.2939252257347107, 0.15859149396419525, 0.2025478631258011, 0.039193566888570786, 0.07479236274957657, 0.23715420067310333, -0.07191773504018784, 0.13317689299583435, 0.3339521884918213, -0.06670495122671127, 0.029845016077160835, -0.3616514503955841, -0.1927303671836853, -0.03880856931209564, 0.3549756109714508, 0.0008813189924694598, 0.03432217240333557, -0.06338069587945938, 0.2238045334815979, 0.2626335918903351, 0.09759692847728729, 0.2325262576341629, -0.03835560381412506, 0.03647598996758461, -0.2083236277103424, 0.1842508465051651, 0.04907865449786186, -0.029925666749477386, -0.08671098202466965, -0.36585143208503723, -0.03410689905285835, -0.06005392596125603, 0.30147063732147217, 0.11258674412965775, -0.07010959833860397, 0.1395411193370819, 0.005295368377119303, 0.23619869351387024, -0.24176183342933655, 0.13144072890281677, 0.45252493023872375, 0.07723550498485565, 0.04204345867037773, 0.4237160384654999, 0.7293052673339844, -0.13251721858978271, 0.09775097668170929, 0.05872875452041626, -0.1656016856431961, -0.028122659772634506, 0.06432566046714783, 0.09167979657649994, -0.12751689553260803, 0.07551098614931107, 0.15512549877166748, 0.11836465448141098, 0.13632634282112122, 0.10701652616262436, -0.0843774676322937, -0.005943124182522297, -0.04610408842563629, 0.08633820712566376, 0.21713659167289734, 0.08625330030918121, -0.36091533303260803, 0.30164921283721924, 0.13394170999526978, 0.05451686307787895, -0.04581592231988907, 0.06610250473022461, 0.11279093474149704, -0.004218121059238911, -0.19381102919578552, 0.016980035230517387, 0.4570773243904114, 0.18128685653209686, -0.055109910666942596, -0.13457851111888885, 0.12824776768684387, -0.0538790188729763, 0.28347474336624146, -0.19641318917274475, -0.21961385011672974, -0.1609342098236084, -0.21625614166259766, -0.41890254616737366, -0.3070603609085083, -0.28730154037475586, -0.3718041777610779, 0.2762492895126343, -0.003088943427428603, -0.18807777762413025, -0.4125819802284241, -0.0310371071100235, 0.28851082921028137, 0.20617015659809113, 0.26069849729537964, -0.16234681010246277, -0.31135129928588867, 0.043387219309806824, -0.1454293429851532, -0.08661103248596191, 0.07242774963378906, -0.15686391294002533, -0.14605878293514252, -0.22366344928741455, 0.518105149269104, -0.17425961792469025, 0.056319527328014374, 0.11035455018281937, -0.42501240968704224, -0.0588778518140316, -0.09043528139591217, -0.13185001909732819, -0.15314644575119019, -0.1711495816707611, 0.286525696516037, -0.17004039883613586, -0.09865522384643555, 0.19751080870628357, -0.2796056568622589, 0.0642622634768486, -0.052403632551431656, 0.19665184617042542, 0.12291372567415237, 0.5075464248657227, 0.03144942596554756, 0.039239801466464996, -0.18526917695999146, 0.3159217834472656, 0.3823680579662323, 0.13347862660884857, -0.07698552310466766, -0.2640038728713989, 0.1254449486732483, 0.05235125124454498, 0.4880999028682709, 0.27570831775665283, -0.02333793416619301, -0.29039421677589417, 0.10352183133363724, 0.18304307758808136, 0.11516816169023514, -0.234038308262825, 0.3293997347354889, 0.2528301477432251, -0.04005689546465874, 0.19974562525749207, 0.20507310330867767, 0.3579234182834625, 0.4389860928058624, -0.026592958718538284, 0.3294658958911896, 0.12150194495916367, 0.22954732179641724, -0.173451766371727, 0.0671900138258934, 0.04902946203947067, 0.02382609248161316, -0.31376567482948303, 0.2894997000694275, 0.3999185264110565, -0.08026712387800217, 0.4555045962333679, 0.464435338973999, -0.03204150125384331, 0.22459976375102997, 0.14339058101177216, 0.29134154319763184, 0.08296534419059753, -0.15949749946594238, 0.1579606980085373, 0.18659378588199615, -0.03145057335495949, -0.14352455735206604, -0.004740539006888866, 0.062215935438871384, -0.3562049865722656, 0.3120284974575043, 0.20067037642002106, -0.03245462477207184, -0.20236709713935852, 0.4227994978427887, -0.20536954700946808, -0.21671538054943085, 0.29934248328208923, -0.17099623382091522, -0.030490759760141373, -0.19038645923137665, 0.16079430282115936, -0.04253058135509491, 0.27739566564559937, -0.3059481084346771, -0.06855814903974533, 0.5192139148712158, 0.09644527733325958, 0.03499733284115791, 0.434148907661438, 0.09085478633642197, -0.23864123225212097, 0.01445810031145811, 0.09822039306163788, -0.13461297750473022, 0.41600099205970764, -0.028162918984889984, -0.20340824127197266, -0.059267766773700714, -0.2949921786785126, -0.0732385441660881, 0.23765237629413605, -0.3714156448841095, 0.26561564207077026, -0.005813375115394592, 0.05648868903517723, -0.15392446517944336, -0.0850062370300293, 0.36862635612487793, -0.11778037250041962, 0.45292145013809204, -0.0937996432185173, 0.06432519108057022, -0.044362761080265045, 0.13492679595947266, 0.06872996687889099, 0.2687438726425171, 0.11161074787378311, 0.1153152659535408, -0.04782039299607277, 0.3267769515514374, -0.5725914835929871, 0.38355374336242676, 0.2803684175014496, -0.08066463470458984, -0.3883451819419861, -9.38199520111084, -0.10956968367099762, 0.307794988155365, 0.059630587697029114, -0.3317878544330597, -0.1923084706068039, -0.10741697996854782, 0.4002203047275543, -0.20807021856307983, -0.05682425573468208, 0.16301411390304565, -0.09415213763713837, -0.11242977529764175, -0.318574994802475, 0.16682825982570648, -0.12387228012084961, 0.01129695400595665, 0.2400016337633133, 0.11714008450508118, 0.35292404890060425, -0.022814253345131874, 0.14728441834449768, 0.25246378779411316, 0.07522778958082199, 0.15434591472148895, 0.21620552241802216, -0.1578516811132431, -0.27415841817855835, 0.1667141616344452, -0.2500901222229004, -0.19092263281345367, -0.16163325309753418, -0.12259378284215927, -0.1440161019563675, 0.06924747675657272, -0.21908698976039886, -0.12096502631902695, 0.16205500066280365, -0.0965740755200386, -0.5710180997848511, -0.1744927614927292, 0.07510576397180557, 0.04565846920013428, -0.10461236536502838, 0.2835383117198944, -0.05151259899139404, -0.20083285868167877, 0.020613081753253937, -0.14935940504074097, -0.0822320505976677, 0.22843387722969055, -0.13181282579898834, 0.05049658194184303, 0.014818325638771057, -0.4485042989253998, 0.14249850809574127, 0.16041021049022675, 0.3104464113712311, 0.10094528645277023, -0.07354425638914108, 0.276746928691864, 0.09445350617170334, 0.08588065207004547, 0.04157370328903198, -0.34943491220474243, -0.07114989310503006, -0.1930454820394516, 0.124910369515419, 0.13594983518123627, -0.16624777019023895, -0.3365963101387024, 0.12674058973789215, 0.07594668865203857, 0.1901376098394394, -0.2668565511703491, 0.13056513667106628, 0.2591532766819, 0.10305158793926239, 0.3304814100265503, 0.46370813250541687, -0.22185564041137695, 0.08823433518409729, 0.05684605613350868, -0.04518066346645355, 0.08387337625026703, 0.23001570999622345, -0.42321544885635376, 0.30605417490005493, -0.3955264389514923, 0.3136950731277466, -0.363960325717926, 0.03230961039662361, -0.2654139995574951, -0.10060853511095047, -0.1911991834640503, 0.05114419013261795, -0.19014351069927216, 0.12570244073867798, -0.31833145022392273, -0.31748661398887634, 0.03702566772699356, 0.09488263726234436, -0.2997538447380066, -0.16087785363197327, -0.1583188772201538, 0.062486857175827026, 0.09406191855669022, 0.04227533936500549, -0.14583145081996918, 0.23251649737358093, 0.05193624272942543, -0.10846920311450958, 0.26432979106903076, 0.1488894373178482, -0.060481030493974686, -0.19629095494747162, 0.46274423599243164, -0.17506052553653717, -0.01604282110929489, -0.35478055477142334, 0.23250742256641388, 0.11641112715005875, 0.4450453221797943, -0.24472449719905853, -0.18129003047943115, 0.14348672330379486, -0.34838032722473145, 0.12098933011293411, -0.1243181824684143, 0.04138610512018204, 0.47566160559654236, 0.37087422609329224, -0.24636468291282654, -0.10451977699995041, -0.014745369553565979, -0.31854039430618286, -0.10039635747671127, 0.1549300253391266, -0.19225409626960754, 0.27702596783638, -0.4605793058872223, 0.07571423798799515, -0.052783433347940445, 0.14580519497394562, 0.1365901380777359, -0.18239110708236694, 0.06836207956075668, -0.04558049887418747, 0.03707633540034294, 0.33796632289886475, -0.15695933997631073, 0.2125500589609146, -0.3461378514766693, -0.12851743400096893, 0.05917324498295784, 0.3074573874473572, -0.20639744400978088, -0.2427239716053009, -0.04380768910050392, 0.049770671874284744, -0.04726526886224747, 0.0411892905831337, 0.5612828731536865, 0.07709187269210815, -0.30538034439086914, -0.04368017613887787, -0.045511599630117416, -0.1407305896282196, -0.07944034785032272, 0.06349021196365356, -0.07299722731113434, 0.2125091254711151, -0.16838900744915009, -0.07198096811771393, 0.0063855634070932865, -0.12881234288215637, -0.24128541350364685, -0.09754905104637146, 0.18122026324272156, -0.241327166557312, 0.07860546559095383, 0.21650414168834686, -0.05499585345387459, -0.3271864354610443, 0.09106457978487015, 0.048289816826581955, -0.26029276847839355, 0.21499623358249664, 0.023004230111837387, -0.16897830367088318, -0.09766816347837448, 0.04017091542482376, -0.04453861713409424, -0.0038451680447906256, -0.15261031687259674, 0.5383093357086182, -0.1606598049402237, 0.2806701064109802, -0.2409161925315857, 0.2503072917461395, 0.3463624119758606, 0.0005884261918254197, -0.24830611050128937, 0.13591590523719788, -0.2673550248146057, 0.3610278367996216, -0.07522500306367874, 0.08446505665779114, 0.22387756407260895, 0.05127663165330887, 0.12732911109924316], [-0.07722389698028564, 0.34477338194847107, -0.014637653715908527, 0.04198450595140457, 0.07752517610788345, -0.010310486890375614, 0.25609344244003296, 0.16404077410697937, -0.16010959446430206, -0.03378370404243469, 0.06399347633123398, 0.16857314109802246, -0.16410483419895172, 0.3117162883281708, -0.5793158411979675, -0.19507203996181488, -0.020482202991843224, -0.02433716505765915, -0.04616181179881096, -0.25486868619918823, -0.21557702124118805, -0.12658244371414185, -0.2905128002166748, -0.09312421083450317, -0.1723526418209076, -0.08073902130126953, 0.08559244871139526, 0.011107289232313633, -0.4791589081287384, 0.16866689920425415, 0.10328441858291626, -0.15200789272785187, 0.0029827181715518236, -0.09205758571624756, -0.26609712839126587, -0.033900436013936996, 0.04786963760852814, -0.20607297122478485, -0.012517076916992664, -0.19965913891792297, 0.08374744653701782, -0.09660404175519943, -0.05682176351547241, -0.08493045717477798, 0.2899268567562103, -0.23495109379291534, -0.2104344218969345, -0.41602784395217896, 0.14672952890396118, 0.27968651056289673, 0.4312131702899933, -0.26480531692504883, 0.03410027176141739, 0.09197451174259186, 0.10259274393320084, -0.14343446493148804, -0.14774873852729797, -0.05626153573393822, -0.04025151580572128, 0.3400380611419678, -0.24407897889614105, 0.19043757021427155, 0.4336036741733551, 0.17561019957065582, -0.18205411732196808, 0.08987395465373993, -0.07410457730293274, -0.21705542504787445, 0.3996090590953827, -0.021490218117833138, -0.00981443002820015, -0.0706319659948349, 0.11597281694412231, -0.03785122558474541, 0.14781983196735382, -0.20482778549194336, 0.03136826306581497, 0.12431097775697708, -0.16740505397319794, -0.10289294272661209, 0.06785661727190018, 0.023478912189602852, 0.1582627147436142, 0.25624340772628784, -0.12944093346595764, 0.012917823158204556, -0.12839694321155548, -0.023360254243016243, 0.028682304546236992, 0.20460528135299683, 0.22359047830104828, 0.02167879045009613, -0.15761590003967285, -0.4557691216468811, -0.18612661957740784, 0.07969429343938828, 0.2804991602897644, 0.49289435148239136, -0.3895382285118103, 0.13180013000965118, 0.028732826933264732, 0.40387818217277527, -0.025413138791918755, -0.15803475677967072, 0.1626737117767334, -0.4678703844547272, 0.09575236588716507, -0.42748191952705383, 0.12597976624965668, 0.41565442085266113, 0.37768176198005676, -0.059933390468358994, 0.18445728719234467, -0.08537878096103668, -0.2588929235935211, -0.11631643027067184, -0.22578415274620056, 0.35924211144447327, -0.00022241834085434675, -0.13564854860305786, 0.2726822793483734, 0.003861325792968273, 0.07460444420576096, 0.3063243627548218, 0.0517616830766201, 0.06267865002155304, 0.22860512137413025, -0.050241660326719284, 0.10835876315832138, 0.0011901207035407424, -0.055502913892269135, -0.23971255123615265, -0.029627924785017967, -0.18546466529369354, 0.19239337742328644, 0.13507488369941711, -0.29996663331985474, 0.17860953509807587, -0.5967061519622803, -0.3455904424190521, -0.27032023668289185, 0.18347103893756866, 0.26458653807640076, -0.07745852321386337, 0.10880737006664276, -0.06618322432041168, -0.5303477644920349, 0.08927356451749802, 0.049172159284353256, 0.45142579078674316, -0.05299250781536102, -0.20246148109436035, 0.5216652154922485, 0.274494469165802, -0.4842384457588196, -0.15727724134922028, -0.11938013136386871, -0.05690000206232071, -0.11758667975664139, -0.10193086415529251, 0.6662878394126892, -0.44220173358917236, -0.23040257394313812, 0.26504430174827576, 0.023785362020134926, 0.14834724366664886, 0.027468480169773102, 0.06956014037132263, -0.1082862988114357, -0.008280589245259762, 0.01017424464225769, 0.2315668761730194, -0.36674538254737854, 0.29903295636177063, -0.07652653753757477, 0.04891211912035942, 0.2825024127960205, 0.1290908306837082, 0.15320853888988495, -0.21467198431491852, 0.23658496141433716, -0.3011340796947479, 0.013363730162382126, -0.41963618993759155, -0.21912816166877747, -0.019443411380052567, 0.004674483556300402, -0.30457791686058044, -0.32801583409309387, 0.07079266756772995, 0.28175461292266846, -0.11935316771268845, 0.14541243016719818, 0.2239287942647934, -0.01568933017551899, 0.11633241921663284, -0.3085601329803467, -0.08373437821865082, 0.11706147342920303, -0.4290550649166107, -0.17327193915843964, -0.03458261489868164, -0.5234368443489075, 0.2709198594093323, -0.09456272423267365, 0.06741112470626831, -0.0019938568584620953, 0.32266756892204285, 0.10610972344875336, -0.22351305186748505, 0.3320809006690979, -0.19598670303821564, -0.021292714402079582, -0.14714859426021576, -0.10626581311225891, -0.4240517020225525, -0.19632039964199066, 0.11202312260866165, -0.31369784474372864, -0.04541967064142227, 0.08068445324897766, -0.07476929575204849, 0.027298830449581146, -0.37266913056373596, -0.004042777698487043, 0.0502418652176857, -0.15334054827690125, 0.4696923494338989, -0.07804949581623077, -0.19085103273391724, -0.18492239713668823, 0.4795362949371338, 0.3272169828414917, 0.0803239494562149, -0.17228002846240997, -0.33726513385772705, 0.18958401679992676, -0.26711079478263855, -0.5597823262214661, 0.09803822636604309, 0.10472676157951355, 0.24095147848129272, 0.21185778081417084, -0.24097459018230438, 0.04422672837972641, 0.0963105782866478, -0.30290669202804565, 0.1449250429868698, -0.10910117626190186, 0.07628985494375229, 0.11153418570756912, -0.2509098947048187, -0.2824840843677521, -0.3749062418937683, 0.26760077476501465, -0.09082737565040588, -0.13986937701702118, 0.13353320956230164, -0.08322315663099289, -0.08106336742639542, -0.02731480449438095, -0.33601880073547363, 0.20261631906032562, -0.20813235640525818, 0.3043254613876343, -0.11706898361444473, 0.14408738911151886, 0.3013249337673187, -0.30488070845603943, 0.07467274367809296, -0.02569306455552578, -0.07527878135442734, 0.029392611235380173, 0.2179500013589859, 0.03777274116873741, 0.37944430112838745, 0.02433382347226143, -0.30324915051460266, 0.4980444014072418, -0.33948659896850586, 0.49882790446281433, 0.23983056843280792, 0.06120716407895088, 0.22820080816745758, -0.5759925842285156, 0.23191401362419128, 0.04909395053982735, 0.38758593797683716, 0.2945387065410614, 0.27433115243911743, 0.24891044199466705, -0.1147228479385376, -0.06269092112779617, 0.045927513390779495, 0.26441118121147156, 0.08867594599723816, -0.25057366490364075, 0.24339714646339417, -0.10584121197462082, -0.4161178469657898, 0.2765125632286072, -0.4719415605068207, 0.17871704697608948, 0.11790440231561661, -0.20451705157756805, 0.1273518204689026, -0.07442909479141235, 0.48967453837394714, 0.3396190106868744, 0.0130158681422472, 0.01549293752759695, -0.008418308570981026, 0.10209586471319199, 0.04110166057944298, -0.20312508940696716, 0.2501867711544037, -0.04644608497619629, -0.3444157838821411, -0.28907111287117004, -0.031964488327503204, 0.12706580758094788, 0.4982756972312927, -0.018785618245601654, -0.11272690445184708, -0.052032213658094406, 0.2853498160839081, 0.09164753556251526, 0.05422607809305191, 0.3819268047809601, -0.015227532014250755, 0.1331135481595993, 0.05242551863193512, -0.13968443870544434, 0.16387340426445007, -0.07848785072565079, -0.16267532110214233, 0.11258763819932938, -0.0972735732793808, -0.18764135241508484, 0.053686365485191345, -0.15781044960021973, 0.05974790081381798, 0.3593973219394684, 0.056973185390233994, 0.07781081646680832, 0.19583117961883545, -0.2271966189146042, -0.054952554404735565, -0.00716024124994874, -0.10264577716588974, 0.3834117352962494, -0.11643172800540924, -0.04873277246952057, 0.20748314261436462, 0.12814854085445404, -0.021734194830060005, 0.12495109438896179, -0.22702942788600922, 0.10053296387195587, 0.14243663847446442, 0.1799713522195816, 0.24851679801940918, 0.16710823774337769, 0.4323658347129822, -0.004346407484263182, 0.08847018331289291, 0.31692883372306824, 0.5870040655136108, -0.18946343660354614, 0.015957020223140717, -0.04244491830468178, 0.005842519924044609, 0.01769227534532547, -0.037417538464069366, 0.09426333010196686, -0.3101101517677307, 0.05819464847445488, 0.3372363746166229, -0.0126500204205513, 0.1744409054517746, 0.1538170427083969, 0.09527234733104706, -0.01476271077990532, -0.19634763896465302, 0.006970422342419624, -0.005291040986776352, 0.030357714742422104, -0.19922490417957306, 0.23273725807666779, 0.12428709864616394, 0.1612708568572998, -0.04242663457989693, -0.2991657257080078, 0.00688156858086586, -0.005275669042021036, -0.17771326005458832, 0.050569795072078705, 0.0304851196706295, 0.12750840187072754, -0.08210762590169907, 0.03442155942320824, -0.040713317692279816, 0.1926371455192566, -0.0034727687016129494, -0.08324276655912399, -0.25822094082832336, -0.0011238831793889403, -0.19265377521514893, -0.18540829420089722, -0.09214747697114944, -0.14307355880737305, -0.19751736521720886, 0.03907226771116257, 0.23875387012958527, -0.07105613499879837, -0.31179651618003845, -0.014808625914156437, -0.007928567938506603, 0.23782646656036377, 0.34361889958381653, -0.2853996753692627, 0.054829902946949005, -0.09130476415157318, -0.2992303967475891, 0.14783836901187897, 0.07648243010044098, -0.12170218676328659, -0.08736478537321091, 0.043236639350652695, 0.003724578069522977, -0.12696383893489838, 0.2758220434188843, -0.06357932835817337, -0.2592203915119171, 0.047943513840436935, 0.15976180136203766, -0.4114420413970947, -0.04984678328037262, 0.06074027717113495, -0.15474596619606018, 0.09198002517223358, -0.1736360639333725, 0.15830160677433014, 0.035643044859170914, -0.007237727753818035, -0.1756361573934555, -0.002866850234568119, 0.3699002265930176, 0.005386759992688894, -0.12824417650699615, -0.12105534225702286, -0.06254200637340546, 0.1137121319770813, 0.11859089881181717, 0.04582822322845459, 0.11291433125734329, -0.24582891166210175, 0.021657919511198997, 0.033583786338567734, 0.10267049819231033, 0.025250641629099846, -0.18125410377979279, -0.37225162982940674, -0.018959200009703636, 0.3372357487678528, 0.04551807790994644, -0.08247038722038269, 0.13895179331302643, 0.6177297830581665, 0.17409661412239075, 0.1282704621553421, 0.2490803301334381, 0.4109858274459839, 0.42633256316185, -0.2722434997558594, 0.20940271019935608, 0.046945005655288696, 0.4797084629535675, 0.05198957026004791, 0.06450171768665314, 0.1656513214111328, 0.04293425753712654, -0.06151504069566727, 0.4504220485687256, 0.20990870893001556, -0.2069597989320755, 0.48652976751327515, 0.15156157314777374, 0.28295862674713135, -0.05009365826845169, 0.15477560460567474, 0.10062503814697266, 0.07899555563926697, -0.07122556120157242, 0.3676358163356781, 0.38422325253486633, -0.12272009253501892, -0.28883785009384155, 0.09406822919845581, -0.04036176577210426, -0.11567770689725876, 0.18515644967556, 0.36389559507369995, 0.12234929203987122, -0.25539299845695496, 0.8512573838233948, -0.32147619128227234, -0.18159496784210205, 0.13332127034664154, -0.5614573955535889, 0.09509438276290894, -0.31201037764549255, 0.13184043765068054, 0.08295166492462158, -0.13452516496181488, -0.25841963291168213, 0.04381704330444336, -0.1962358057498932, 0.036324575543403625, -0.2188810408115387, 0.15485695004463196, -0.07182300090789795, -0.24708953499794006, 0.07369011640548706, 0.16892462968826294, -0.3183172941207886, 0.3601066470146179, -0.0688665583729744, 0.10921395570039749, -0.08753956854343414, 0.007741970010101795, -0.1707402616739273, 0.4955275356769562, -0.3737354576587677, 0.3193860650062561, 0.014186450280249119, 0.10023044049739838, -0.14528919756412506, -0.0709075927734375, 0.287211537361145, -0.004587842617183924, 0.29624292254447937, -0.202112078666687, 0.045391447842121124, 0.01972697302699089, 0.11019603163003922, -0.01605103723704815, 0.38595306873321533, 0.12001018971204758, -0.14865724742412567, 0.09114792943000793, 0.3208160102367401, -0.5864311456680298, 0.5728455781936646, 0.23462872207164764, -0.5066152215003967, -0.2694852650165558, -9.39946460723877, 0.011585995554924011, 0.31180575489997864, 0.03830362483859062, 0.004373996052891016, -0.2463112473487854, 0.14952856302261353, 0.08487113565206528, -0.05652021989226341, -0.11395563185214996, 0.13539224863052368, 0.17401134967803955, -0.07301725447177887, -0.041405003517866135, 0.08218593895435333, 0.13003261387348175, -0.044026054441928864, 0.14202174544334412, 0.16436249017715454, 0.2579941153526306, -0.2590312957763672, -0.08792895078659058, 0.3678271472454071, 0.10250981152057648, 0.0808522179722786, -0.0072662136517465115, 0.03576163202524185, 0.19902782142162323, 0.33510449528694153, -0.11145936697721481, -0.4391613006591797, -0.3017551600933075, 0.05691296234726906, -0.0833481028676033, -0.020011670887470245, -0.12134437263011932, -0.049169015139341354, 0.2349334955215454, 0.11016862094402313, -0.39689821004867554, -0.419999897480011, 0.05013911426067352, -0.006554286926984787, -0.225608691573143, 0.3204965889453888, 0.1297759711742401, 0.060704704374074936, 0.14777179062366486, -0.009567431174218655, 0.1707373410463333, 0.039755504578351974, -0.10053405910730362, 0.2409990131855011, 0.03391936793923378, -0.30685311555862427, -0.050888191908597946, 0.14048396050930023, 0.28645941615104675, 0.14347712695598602, -0.28092002868652344, 0.09899592399597168, 0.1729620397090912, 0.22516150772571564, -0.04264575242996216, -0.3117581307888031, -0.21444614231586456, -0.09292057156562805, 0.10725050419569016, -0.24566961824893951, -0.2687464654445648, -0.4047742784023285, 0.09630808234214783, 0.014423109591007233, 0.42726919054985046, -0.17587485909461975, 0.2883715033531189, 0.26825588941574097, 0.1405695527791977, 0.2648489475250244, 0.08591753989458084, -0.5463110208511353, 0.2556552290916443, -0.08874589204788208, -0.27988117933273315, 0.01612800359725952, -0.03177044913172722, -0.2407391369342804, 0.4236639142036438, 0.08191218972206116, 0.3181581497192383, -0.00031560499337501824, -0.08576540648937225, -0.2912183105945587, -0.03130567818880081, -0.10369957983493805, 0.22074973583221436, -0.18993473052978516, 0.0313732847571373, -0.11130861192941666, -0.1390780210494995, -0.09373573213815689, 0.17148278653621674, 0.18830928206443787, -0.15256379544734955, 0.11811526864767075, 0.22563371062278748, 0.0515550822019577, 0.19444487988948822, -0.03341027721762657, -0.17430834472179413, -0.185898095369339, -0.05936846882104874, 0.28321000933647156, -0.031987134367227554, 0.04736293852329254, 0.17344853281974792, 0.1552186906337738, 0.07076498866081238, 0.16106992959976196, -0.3767436742782593, 0.43640172481536865, -0.15661299228668213, 0.06880714744329453, -0.1886841058731079, -0.17838846147060394, 0.1643005907535553, 0.020783601328730583, 0.10050590336322784, -0.3233548700809479, -0.0653226375579834, 0.22733193635940552, 0.14579404890537262, -0.07112519443035126, -0.1088753491640091, 0.17739816009998322, -0.4637344777584076, 0.16077928245067596, 0.22937224805355072, -0.19856080412864685, -0.022144576534628868, -0.37324193120002747, -0.07219192385673523, -0.11644453555345535, 0.10369138419628143, -0.055410806089639664, -0.04896790161728859, -0.14455334842205048, 0.09356099367141724, -0.03888411819934845, -0.03029116988182068, -0.3392435610294342, -0.03629361093044281, 0.015055057592689991, -0.18111969530582428, -0.06458168476819992, -0.011033899150788784, -0.14310503005981445, 0.0634203553199768, 0.07801023125648499, 0.021119656041264534, 0.18397732079029083, 0.07243436574935913, 0.5495638251304626, 0.23533686995506287, -0.0031569241546094418, -0.2706955373287201, -0.08004162460565567, -0.13431131839752197, -0.0019735307432711124, 0.2389882504940033, 0.13718317449092865, 0.19133037328720093, 0.09867020696401596, -0.012016674503684044, 0.00020579565898515284, -0.13052424788475037, 0.02170911803841591, -0.07784555107355118, 0.2221945822238922, -0.13285154104232788, 0.2710722088813782, 0.15943776071071625, -0.2522358000278473, -0.15629415214061737, -0.001058982452377677, 0.21638165414333344, -0.09736955165863037, -0.0585017167031765, -0.10270614176988602, -0.1986493468284607, -0.45597028732299805, 0.24049928784370422, -0.14894044399261475, -0.07476775348186493, -0.045018427073955536, 0.22972354292869568, -0.13748620450496674, 0.47373268008232117, -0.19524233043193817, 0.3101997375488281, 0.2173510640859604, 0.08849438279867172, -0.13618291914463043, -0.13291782140731812, -0.20601652562618256, 0.18172374367713928, 0.15145204961299896, 0.29985135793685913, 0.053212910890579224, 0.0959874764084816, 0.1545589417219162], [-0.11486732214689255, 0.3189036250114441, 0.13528212904930115, 0.35092681646347046, 0.384517639875412, -0.2839423716068268, 0.6912981271743774, 0.06554555892944336, 0.10838986933231354, -0.1694391965866089, 0.6589407920837402, 0.25374776124954224, -0.1903783082962036, 0.5277167558670044, -0.41619575023651123, -0.4188474714756012, -0.24292510747909546, 0.0355168953537941, 0.2877008020877838, -0.19994837045669556, -0.07903732359409332, 0.05440602824091911, -0.3316050171852112, 0.22978395223617554, 0.5447152853012085, -0.6378570795059204, 0.1897013634443283, 0.9660068154335022, 0.008777272887527943, -0.02304553985595703, -0.27776631712913513, -0.09061606228351593, 0.16041214764118195, -0.16354534029960632, -0.2668367326259613, 0.11486351490020752, -0.41935205459594727, 0.013543585315346718, 0.02202058769762516, -0.04681014642119408, -0.08609150350093842, 0.12012206017971039, 0.1321221888065338, 0.32163485884666443, -0.016645023599267006, -0.2808409631252289, -0.16149619221687317, -0.4514666199684143, -0.25194022059440613, -0.05095919594168663, 0.33052343130111694, -0.38263505697250366, 0.09291539341211319, -0.18188272416591644, 0.163865327835083, -0.2435140460729599, 0.07207287847995758, -0.20954759418964386, -0.4460001289844513, 0.6712561249732971, -0.1884879171848297, 0.49239256978034973, 0.0291422288864851, -0.1610490083694458, 0.11995361000299454, 0.05140395835042, -0.5258236527442932, -0.12849433720111847, 0.37887197732925415, -0.5031174421310425, -0.34795060753822327, 0.5176620483398438, -0.23188935220241547, -0.08692527562379837, -0.32606929540634155, -0.2178562581539154, 0.460961252450943, -0.1406383514404297, -0.31230276823043823, -0.04692910984158516, 0.08184769749641418, 0.7136805653572083, 0.2310461848974228, 0.2979966998100281, -0.18357163667678833, 0.29615074396133423, -0.33685773611068726, 0.07130926847457886, 0.33873072266578674, 0.7471610307693481, -0.11482809484004974, -0.35011395812034607, 0.2785038352012634, -0.29390501976013184, -0.37078526616096497, 0.16138288378715515, -0.22852662205696106, -0.22414574027061462, -0.613456666469574, 0.09499982744455338, 0.07049093395471573, 0.13023945689201355, 0.016806049272418022, -0.21112100780010223, -0.007083776872605085, -0.19023729860782623, -0.27096882462501526, -0.4222989082336426, 0.1813809722661972, 0.5505856275558472, 0.10660843551158905, -0.16976194083690643, 0.0904969871044159, 0.22802045941352844, -0.5027285814285278, -0.2948979437351227, 0.2197881042957306, 0.40289321541786194, 0.27720266580581665, 0.38340941071510315, 0.35254549980163574, -0.43892914056777954, 0.15272104740142822, -0.3588874042034149, -0.033989183604717255, -0.054196398705244064, -0.11585236340761185, -0.3209812045097351, 0.3561588525772095, -0.24786488711833954, -0.04195740446448326, -0.3238332271575928, 0.0922558382153511, -0.0036205581855028868, 0.22397945821285248, 0.050253983587026596, -0.49621447920799255, 0.208595871925354, -1.4049378633499146, -0.6088367700576782, -0.3367216885089874, 0.12770533561706543, 0.5823479294776917, -0.09455540776252747, 0.3332051634788513, -0.2833385765552521, -0.06572546064853668, 0.1451980620622635, -0.03322051465511322, 0.24966216087341309, -0.6155176162719727, -0.11545154452323914, 0.2526692748069763, -0.15256857872009277, -0.11408054828643799, -0.13040095567703247, 0.01760636270046234, -0.060091812163591385, 0.8182335495948792, 0.2520368993282318, 0.014296148903667927, -0.275982528924942, -0.4061615765094757, 0.37157830595970154, 0.0382692776620388, 0.04873407259583473, 0.09947646409273148, 0.2286832332611084, -0.6287411451339722, 0.5840039849281311, 0.4009384214878082, 0.19985529780387878, -0.2977341115474701, 0.2533794343471527, -0.20209543406963348, 0.05222093686461449, 0.6050238609313965, -0.18363244831562042, -0.20335236191749573, -0.14143919944763184, 0.24345408380031586, -0.056327491998672485, -0.47990962862968445, -0.6058444976806641, -0.24831242859363556, -0.2883940041065216, 0.1972668170928955, -0.012815368361771107, 0.6830429434776306, 0.553801953792572, 0.17709709703922272, 0.04300788789987564, -0.26831960678100586, 0.39407360553741455, -0.20372037589550018, 0.06045280769467354, 0.2763639986515045, -0.16874772310256958, 0.3384193181991577, 0.1480160653591156, -0.34690290689468384, 0.03560636192560196, -0.38492557406425476, 0.027981650084257126, -0.15171189606189728, -0.010335739701986313, -0.13084793090820312, 0.09028998017311096, -0.5779911875724792, -0.6414651274681091, 0.09447374939918518, -1.0193119049072266, -0.402308851480484, 0.019134266301989555, 0.1438770741224289, -0.26737916469573975, 0.14986953139305115, -0.2307664453983307, -0.1317911297082901, 0.5940859913825989, -0.40668055415153503, -0.12375430762767792, -0.030622068792581558, -0.002923296531662345, -0.16014832258224487, 0.4779147803783417, 0.2448737770318985, -0.38405174016952515, 0.12036503851413727, -0.2582316994667053, 0.0319628082215786, 0.4096100628376007, -0.05168018117547035, -0.2733043134212494, -0.32329419255256653, -0.0851263701915741, 0.29475823044776917, 0.17423321306705475, -0.8924576640129089, 0.1413295418024063, -0.014420622028410435, 0.15285226702690125, 0.44100287556648254, -0.10914263874292374, -0.10117899626493454, 0.23105193674564362, 0.06939663738012314, 0.005867708008736372, -0.20294103026390076, -0.2590939402580261, -0.14384636282920837, -0.3119942247867584, -0.3430848717689514, 0.16742652654647827, 0.5842820405960083, 0.16168129444122314, -0.16789907217025757, 0.6159724593162537, -0.07128851860761642, -0.2734070122241974, 0.1747148633003235, 0.5201054215431213, -0.11650408804416656, -0.13710349798202515, 0.06999611109495163, -0.36146897077560425, 0.02856588177382946, -0.23216448724269867, -0.6319372653961182, 0.39109134674072266, 0.3275172710418701, -0.2606033682823181, 0.29249054193496704, 0.19948157668113708, -0.07863098382949829, 0.022245634347200394, 0.16403509676456451, -0.4427514672279358, -0.7576776146888733, -0.8083101511001587, 0.6801110506057739, 0.3657400608062744, 0.31077998876571655, -0.0593806654214859, -0.5635952949523926, 0.7145507335662842, 0.007619163952767849, 0.5366966128349304, -0.2598172724246979, -0.6972689628601074, -0.23489972949028015, 0.010485885664820671, -0.5362704396247864, -0.34812283515930176, 0.22666329145431519, 0.193926602602005, 0.04863658919930458, 0.25597089529037476, 0.06546475738286972, 0.29901188611984253, 0.09478265792131424, 0.05206373333930969, 0.39638951420783997, -0.26965680718421936, -0.22303417325019836, -0.15804800391197205, -0.015954136848449707, 0.22372852265834808, 0.3011246621608734, 0.053681060671806335, 0.23346257209777832, -0.01906600408256054, 0.10201738029718399, -0.04429515078663826, 0.1761934608221054, -0.044648341834545135, 0.1303144246339798, -0.3695744276046753, -0.7867910265922546, -0.11384253948926926, -0.2549709975719452, 0.2229599803686142, -0.06054450199007988, 0.1365693211555481, 0.09128545224666595, -0.057950325310230255, 0.07294528186321259, 0.4950919449329376, 0.18853753805160522, -0.36364448070526123, 0.2089659422636032, -0.35320544242858887, -0.13817717134952545, 0.045380376279354095, -0.06542110443115234, 0.1330740749835968, -0.3432149887084961, 0.06877658516168594, 0.2694448232650757, 0.08788235485553741, 0.178156316280365, 0.43001046776771545, 0.6818329095840454, -0.012118600308895111, 0.060724105685949326, 0.28274911642074585, -0.07006655633449554, 0.1840643286705017, -0.3879436254501343, -0.01795126125216484, 0.2214185893535614, -0.488212525844574, -0.0775657594203949, -0.07507491111755371, 0.4105817377567291, -0.3791358172893524, -0.12395759671926498, -0.13654665648937225, 0.3000255525112152, 0.5346181988716125, 0.057479605078697205, -0.0725303441286087, 0.23707085847854614, 0.2917645573616028, 0.012228504754602909, -0.11713967472314835, -0.6127219200134277, -0.13577599823474884, -0.3330918550491333, -0.15060439705848694, 0.7280498147010803, 0.1515142321586609, 0.4246490001678467, 0.0314030647277832, 0.028865216299891472, -0.4064558744430542, -0.27077582478523254, -0.22038820385932922, 0.001545196515507996, -0.2613219618797302, -0.07183608412742615, 0.11811567842960358, -0.21980608999729156, -0.3595408797264099, -0.12121639400720596, -0.09076898545026779, -0.20490296185016632, 0.2735191881656647, -0.014942154288291931, -0.15096920728683472, 0.3636886179447174, 0.09996244311332703, 0.34882932901382446, -0.4663557708263397, -0.3808353543281555, -0.05959715694189072, -0.28540438413619995, 0.2525688707828522, 0.006428764667361975, -0.09533468633890152, -0.4532897472381592, 0.42164361476898193, -0.2780126631259918, -0.1891283094882965, -0.6258333325386047, -0.3199678659439087, -0.40566888451576233, 0.15080951154232025, -0.14328333735466003, 0.02788049355149269, -0.27828821539878845, -0.39503780007362366, 0.4125538170337677, 1.052669644355774, 0.14856034517288208, -0.2952006757259369, -0.08123750984668732, 0.12739688158035278, 0.4786686301231384, 0.19398713111877441, -0.16443637013435364, 0.0699644610285759, -0.06783825904130936, -0.06383964419364929, 0.02178371138870716, 0.24826636910438538, 0.17287461459636688, -0.3887856602668762, -0.5294472575187683, 0.30992382764816284, 0.10775139182806015, 0.9016075134277344, 0.17244386672973633, 0.41420865058898926, -0.3235872685909271, -0.01347469724714756, -0.36051833629608154, 0.3792576789855957, -0.16570056974887848, -0.13237296044826508, -0.04263104498386383, -0.2997741401195526, -0.07049842923879623, -0.5133634209632874, -0.13524465262889862, -0.2111176699399948, 0.10571746528148651, -0.1605452448129654, 0.017051327973604202, -0.5157000422477722, -0.069949671626091, -0.08037622272968292, 0.2094447910785675, 0.05378659442067146, -0.13284195959568024, -0.46070751547813416, -0.44244953989982605, 0.20108816027641296, 0.4749736785888672, 0.15345793962478638, -0.50151526927948, -0.310358464717865, -0.3783285617828369, 0.6590314507484436, 0.07179869711399078, -0.009235615842044353, -0.01842317543923855, -0.1206701397895813, 0.12919981777668, 0.1192924901843071, 0.4230424165725708, 0.3708236813545227, 0.4437130093574524, 0.9712972640991211, -0.7344251871109009, -0.18399940431118011, 0.0636955201625824, 0.3429548740386963, 0.1276993751525879, 0.2272748351097107, -0.0498611219227314, -0.04900077357888222, -0.6014896631240845, -0.18549878895282745, 0.3351745903491974, -0.4128183424472809, 0.05892226845026016, 0.1529327780008316, -0.028066854923963547, 0.6374650597572327, -0.1866486519575119, 0.3656943738460541, -0.26973220705986023, 0.3514132797718048, -0.07392540574073792, 0.11773034930229187, -0.14365877211093903, -0.44530758261680603, -0.12525677680969238, -0.7558743953704834, 0.027367813512682915, -0.3239290118217468, 0.24232618510723114, -0.1439579874277115, -0.5017045140266418, 0.9296299815177917, 0.11420422792434692, 0.11383642256259918, -0.01644047349691391, -0.020487627014517784, 0.12843956053256989, -0.7040761709213257, 0.01727125607430935, 0.17153501510620117, -0.13391464948654175, -0.12864793837070465, 0.3501381278038025, -0.19535967707633972, 0.41707828640937805, -0.12414763867855072, 0.27384138107299805, 0.09050200879573822, -0.3205103278160095, 0.3827235996723175, 0.24432215094566345, 0.40569007396698, 0.45597872138023376, 0.7798230051994324, -0.24074363708496094, -0.035860635340213776, -0.012020439840853214, 0.14764750003814697, 0.5495213866233826, -0.17775817215442657, 0.3228800892829895, -0.23921924829483032, 0.2770836055278778, 0.01685057394206524, -0.15554393827915192, -0.07876107841730118, 0.034327104687690735, -0.19057488441467285, 0.4160684049129486, 0.06636174768209457, 0.048038698732852936, 0.23028796911239624, -0.05010811239480972, 0.5882458090782166, -0.05016793683171272, 0.050170231610536575, 0.29548120498657227, 0.30249863862991333, -0.9973891377449036, 0.357875794172287, 0.3029883801937103, -0.4942149817943573, 0.22303248941898346, -8.769184112548828, 0.19571253657341003, 0.3501053750514984, 0.36290648579597473, 0.11080962419509888, 0.34026429057121277, 0.0556304045021534, 0.04170910269021988, -0.1802472025156021, 0.15885785222053528, -0.22518044710159302, -0.4616338610649109, 0.47225695848464966, -0.20701928436756134, 0.25559982657432556, 0.2057463526725769, 0.12085575610399246, 0.48393094539642334, 0.3266880512237549, -0.04388473555445671, 0.06670691072940826, 0.3921360969543457, -0.4176792502403259, -0.07194695621728897, 0.057303063571453094, 0.29160264134407043, -0.037060096859931946, 0.1302940547466278, 0.38829609751701355, -0.05065486207604408, -0.24078601598739624, 0.15851446986198425, -0.2358221411705017, -0.19602331519126892, 0.21582388877868652, -0.5272311568260193, 0.02440951205790043, -0.0035220542922616005, 0.861822247505188, -0.45488440990448, -0.0641118511557579, -0.15462221205234528, -0.09693580865859985, -0.19491621851921082, 0.19468750059604645, 0.2659633755683899, -0.2505716383457184, 0.1490502953529358, -0.47883686423301697, 0.410931795835495, 0.4453485310077667, 0.003243912709876895, 0.8280671238899231, 0.3286518454551697, -0.3701362907886505, 0.205651193857193, 0.10046042501926422, 0.34224066138267517, 0.5128339529037476, 0.08279412239789963, 0.09546742588281631, -0.020602252334356308, 1.0675241947174072, -0.13202717900276184, -0.2963610291481018, 0.29638034105300903, 0.5082147717475891, -0.09541840106248856, -0.035602815449237823, 0.06430400907993317, 0.014042171649634838, -0.39037197828292847, 0.0929923877120018, -0.3998205065727234, -0.049600981175899506, -0.5171239972114563, -0.32024404406547546, 0.21484816074371338, 0.1554223895072937, 0.6448552012443542, -0.34172821044921875, 1.016869306564331, 0.1110384538769722, -0.19840183854103088, 0.11846474558115005, -0.20326781272888184, -0.44095316529273987, 0.056242816150188446, -0.12770433723926544, 0.005323000252246857, -0.24620197713375092, -0.024855660274624825, -0.34367701411247253, 0.09686951339244843, 0.23962481319904327, 0.5111473202705383, 0.04655539616942406, -0.006838200148195028, -0.04793641343712807, -0.24077890813350677, -0.6441811323165894, 0.012515031732618809, -0.34260645508766174, -0.3423153758049011, 0.07153519243001938, -0.27574819326400757, 0.24894753098487854, -0.14113099873065948, 0.06657413393259048, -0.12835285067558289, 0.22876106202602386, 0.4084092974662781, 0.4284597337245941, -0.230103000998497, 0.3119339644908905, 0.04777303710579872, 0.6688944101333618, -0.394548624753952, 0.3360583484172821, -0.26134616136550903, 0.12943734228610992, 0.02955983765423298, 0.06862757354974747, -0.41643190383911133, 0.32418861985206604, 0.13757094740867615, -0.27327409386634827, 0.07633547484874725, 0.41665321588516235, -0.08335616439580917, 0.3249627947807312, 0.2593112587928772, -0.08554477244615555, -0.2894496023654938, 0.2496587187051773, -0.052148688584566116, 0.25425541400909424, -0.22008563578128815, -0.28965482115745544, -0.39139172434806824, -0.905868411064148, 0.059412259608507156, 0.24180586636066437, -0.09371039271354675, 0.7133325338363647, -0.002645038301125169, -0.05039534717798233, -0.2425941377878189, -0.1073806956410408, -0.30747634172439575, -0.3406728506088257, 0.33243778347969055, 0.2451951801776886, 0.04451631382107735, 0.08885141462087631, -0.736406683921814, 0.059055812656879425, 0.5428953170776367, 0.12832409143447876, -0.013360923156142235, 0.07849273830652237, 0.2960696220397949, 0.2532409131526947, -0.04354723542928696, -0.19587844610214233, -0.2302457094192505, -0.43051251769065857, 0.5406692624092102, 0.20433610677719116, 0.46125099062919617, 0.18204592168331146, -0.2066514790058136, 0.19858591258525848, 0.4222777187824249, -0.3322979509830475, -0.7303319573402405, 0.3324145972728729, -0.41046422719955444, 0.8753972053527832, -0.13052022457122803, 0.5358086824417114, 0.1680987924337387, -0.3429357707500458, 0.13892142474651337, -0.3426435887813568, 0.12523679435253143, -0.010148277506232262, -0.004990415181964636, -0.10293065011501312, -0.08221728354692459, 0.21654467284679413, 0.14439725875854492, 0.017388328909873962, 0.17793692648410797, -0.08905578404664993, 0.24385590851306915, -0.3294057250022888, 0.5494183301925659, -0.5406288504600525, -0.39942046999931335, 0.22658312320709229, -0.09139847755432129, -0.4769001305103302, -0.18741747736930847, 0.13930240273475647, 0.5961678624153137, 0.5595055222511292, 0.6848649382591248, -0.07232558727264404, 0.3750859797000885, 0.03858465328812599], [-0.23146302998065948, 0.20869381725788116, -0.3973504602909088, -0.09382800757884979, 0.29683637619018555, -0.3758939504623413, 0.613660454750061, -0.06207958981394768, 0.28748077154159546, 0.049533866345882416, 1.1439218521118164, 0.05401495099067688, -0.5581803917884827, 0.3051068186759949, -0.39208176732063293, -0.723946213722229, 0.275185227394104, -0.15898729860782623, 0.10178954154253006, 0.12300501763820648, 0.13306565582752228, -0.020509853959083557, -0.23052801191806793, 0.036478206515312195, 0.48281407356262207, -0.4736037254333496, 0.5307197570800781, 0.9379015564918518, 0.1959872543811798, 0.012373059056699276, -0.4260942041873932, 0.06399692595005035, -0.06314428150653839, -0.29352444410324097, 0.14463263750076294, 0.5339043140411377, -0.397347629070282, 0.253025084733963, 0.25253474712371826, 0.07371999323368073, 0.2998952269554138, -0.02632891573011875, -0.0604768842458725, 0.20458699762821198, 0.36433184146881104, 0.11959468573331833, -0.2500157654285431, -0.728502094745636, 0.010933620855212212, -0.11570852994918823, 0.33680447936058044, -0.5545639395713806, 0.03631443530321121, -0.3245064318180084, -0.04635532572865486, -0.3224789500236511, -0.09498125314712524, 0.019171705469489098, -0.08084563165903091, 0.6511856317520142, -0.2251354455947876, 0.38071101903915405, -0.007670095190405846, -0.253925085067749, 0.5648282170295715, -0.15969277918338776, -0.08612696826457977, -0.2849491238594055, 0.6073989868164062, -0.16272053122520447, -0.40561389923095703, 0.4895670413970947, -0.07161277532577515, 0.05703822150826454, -0.3094448745250702, -0.5138207077980042, 0.6538535356521606, 0.18059824407100677, -0.3917476236820221, 0.24730105698108673, 0.4410855770111084, 0.6193351745605469, -0.05569285899400711, -0.032530784606933594, -0.2626522481441498, -0.14733844995498657, -0.7507748007774353, -0.20878289639949799, 0.40268975496292114, 0.7275648713111877, -0.3312082588672638, -0.5903900861740112, 0.5395424962043762, -0.341534823179245, -0.06330719590187073, 0.12526032328605652, -0.37396439909935, -0.1949823647737503, -0.8414431810379028, 0.01696675829589367, -0.3314869999885559, 0.7836195826530457, 0.03578745573759079, -0.6552876234054565, -0.27683529257774353, 0.026892932131886482, -0.17321929335594177, -0.5602239370346069, -0.0360649973154068, 0.22672221064567566, 0.17529460787773132, 0.13087065517902374, 0.48246559500694275, 0.305071622133255, -0.8041105270385742, -0.16490879654884338, 0.10006073862314224, 0.28338611125946045, 0.5185216665267944, 0.02992534264922142, 0.05530183017253876, -0.3419780135154724, 0.013378109782934189, -0.1589028537273407, -0.10754009336233139, -0.28973448276519775, -0.08827971667051315, -0.24930167198181152, 0.1971413940191269, 0.02682061493396759, -0.32947611808776855, -0.5645753741264343, -0.32156863808631897, -0.10689712315797806, 0.0009138882160186768, 0.23331783711910248, -0.43228691816329956, 0.2642768323421478, -0.8772615790367126, -0.572543740272522, -0.8547303080558777, 0.10327767580747604, 0.6450100541114807, -0.16924260556697845, 0.2928738594055176, -0.516645610332489, -0.20603889226913452, 0.1527830809354782, 0.14000864326953888, 0.44335347414016724, -0.5312525629997253, -0.048163142055273056, -0.013679919764399529, -0.7159985303878784, -0.30093806982040405, -0.18126879632472992, -0.14532515406608582, -0.3438090980052948, 0.6576005220413208, 0.2501976490020752, -0.6134427785873413, -0.3441324234008789, -0.38881903886795044, 0.4217439889907837, -0.12110890448093414, 0.15840348601341248, 0.28222712874412537, 0.028580674901604652, -0.8150718212127686, 1.1129834651947021, 0.3141297698020935, 0.11205253005027771, -0.11137112975120544, 0.03806125000119209, -0.4543895423412323, 0.0085350526496768, 0.40216150879859924, -0.4399038851261139, -0.3188161849975586, -0.2532626986503601, -0.0018874697852879763, -0.028699977323412895, -0.06546159833669662, -0.6001905798912048, -0.3559979796409607, -0.07543858885765076, 0.30534905195236206, -0.6598806381225586, 1.2170116901397705, 0.5933471322059631, 0.5168730616569519, 0.19729207456111908, -0.5852498412132263, 0.21577052772045135, -0.45492005348205566, 0.20316150784492493, -0.047700412571430206, -0.11248515546321869, 0.32505014538764954, -0.11698969453573227, -0.3196837604045868, 0.05755237862467766, -0.295102596282959, 0.3352816104888916, 0.1698441356420517, -0.38832104206085205, -0.3521016538143158, 0.33276262879371643, -0.4086839258670807, -0.46301427483558655, 0.2576014995574951, -0.43633174896240234, -0.33686819672584534, -0.24783089756965637, 0.4022975564002991, -0.2264566868543625, -0.02183326706290245, -0.32120177149772644, -0.08659810572862625, 0.6526444554328918, -0.6555046439170837, -0.030956018716096878, -0.3460805118083954, -0.6445362567901611, -0.05592183768749237, 0.6596245169639587, 0.2775973379611969, 0.4364573061466217, 0.23417067527770996, -0.5621188879013062, 0.04926729202270508, 0.32562246918678284, 0.1615394651889801, -0.026711352169513702, -0.27450910210609436, 0.14984579384326935, 0.4378684461116791, -0.09501774609088898, -0.7302249670028687, 0.25048527121543884, -0.04380899295210838, 0.49100223183631897, 0.5697756409645081, -0.16228856146335602, -0.05989908427000046, -0.7053079009056091, -0.0014040404930710793, -0.21124839782714844, -0.26136037707328796, 0.14553074538707733, -0.11639169603586197, -0.349364310503006, -0.6305897235870361, 0.07420165091753006, 1.1503634452819824, 0.33227482438087463, -0.0713123232126236, 0.5328711867332458, -0.07222755253314972, -0.642150342464447, -0.2092060148715973, 0.2560631334781647, -0.02843065932393074, -0.2855503261089325, -0.3084864914417267, -0.35497918725013733, -0.464132159948349, -0.42301180958747864, -0.9102786183357239, 0.45931553840637207, 0.3675602972507477, -0.4752253592014313, 0.14864084124565125, 0.34869828820228577, 0.2876850664615631, -0.02053770422935486, 0.2675110995769501, -0.37272509932518005, -0.8172376751899719, -0.7973211407661438, 0.5048572421073914, 0.523217499256134, 0.36414796113967896, -0.16551567614078522, -0.8186854720115662, 0.6229909062385559, -0.12254992872476578, 0.4701862037181854, -0.06438205391168594, -0.39818695187568665, -0.061213888227939606, -0.09775993227958679, -0.9555990099906921, 0.03780538588762283, 0.17002524435520172, 0.08138208091259003, -0.1407519429922104, 0.15316711366176605, -0.4256342649459839, 0.2443947046995163, 0.09933659434318542, -0.5260307192802429, 0.5244348645210266, 0.12670078873634338, -0.17512483894824982, 0.09735582023859024, -0.11464743316173553, 0.22811727225780487, 0.8189972043037415, 0.44251585006713867, 0.3736981153488159, 0.15129750967025757, -0.22041089832782745, -0.029084233567118645, 0.39232373237609863, -0.3511069416999817, -0.07377168536186218, 0.04063684493303299, -0.3149910271167755, 0.2733128070831299, -0.22852276265621185, -0.11054807156324387, 0.03983180597424507, 0.01680263690650463, 0.15300631523132324, 0.2338344156742096, 0.30730414390563965, 0.33772599697113037, 0.39463284611701965, -0.4877571165561676, 0.26425236463546753, -0.6416963338851929, -0.42190974950790405, 0.1437252163887024, -0.18618831038475037, -0.2419055849313736, -0.17544856667518616, -0.14420011639595032, -0.13086509704589844, 0.5822880864143372, 0.33973222970962524, 0.46111226081848145, 0.6258249878883362, -0.2540419101715088, 0.45730021595954895, 0.5036413669586182, -0.23347507417201996, 0.18496929109096527, -0.17799349129199982, -0.2295873463153839, -0.46966907382011414, -0.46412456035614014, -0.03147176653146744, -0.6004579663276672, 0.43352171778678894, -0.38018861413002014, -0.34291771054267883, 0.021866586059331894, -0.12350073456764221, 0.4446246922016144, 0.17250961065292358, 0.2950785458087921, 0.4137807786464691, -0.3507207930088043, 0.015643896535038948, -0.8551098108291626, -0.6158629059791565, -0.6123207807540894, -0.3159903287887573, -0.3972285985946655, 1.1330232620239258, 0.07725909352302551, 0.2491636872291565, 0.2615828514099121, 0.1464914083480835, -0.189933180809021, -0.44182679057121277, -0.07807746529579163, 0.07929172366857529, -0.3797593116760254, -0.4285683333873749, 0.05733386054635048, -0.17478948831558228, 0.002171512460336089, 0.0021876157261431217, -0.1090896874666214, -0.2360014170408249, 0.29923394322395325, 0.10351286083459854, -0.4261128902435303, 0.2767412066459656, 0.2948906421661377, 0.5161964893341064, -0.3922137916088104, -0.40606191754341125, -0.09119924902915955, -0.614020824432373, 0.6217731237411499, 0.06123222038149834, -0.12710876762866974, -0.5226823687553406, 0.3110381066799164, -0.18261581659317017, -0.44571244716644287, -0.7991845011711121, -0.5175936818122864, -0.3212803900241852, 0.3113122284412384, -0.08639872819185257, 0.08272475004196167, -0.3234143853187561, -0.6041771173477173, 0.13094422221183777, 1.2227545976638794, 0.01126394234597683, -0.1842760443687439, 0.15315841138362885, 0.07891175895929337, 0.2746788561344147, -0.04894087463617325, -0.24207253754138947, 0.16586792469024658, 0.08880383521318436, -0.20689614117145538, 0.48926109075546265, 0.1643330156803131, 0.1644345372915268, -0.1954411268234253, -0.164604052901268, -0.3475661873817444, -0.1159702017903328, 0.7071117758750916, 0.2765674591064453, 0.7760289311408997, -0.2665115296840668, 0.308514267206192, -0.6492784023284912, 0.25184527039527893, -0.18040038645267487, 0.28088247776031494, -0.19245988130569458, -0.17924563586711884, -0.09087225049734116, -0.9131743907928467, -0.31262287497520447, -0.1913665384054184, -0.24510610103607178, -0.22314681112766266, 0.32266709208488464, -0.376170814037323, 0.06618568301200867, -0.22154687345027924, -0.465155690908432, 0.2791987657546997, 0.23809900879859924, -0.3526375889778137, -0.27448415756225586, -0.03207109868526459, 0.19129624962806702, 0.21662698686122894, -0.8401669859886169, -0.2776738703250885, 0.032556015998125076, 0.44183313846588135, -0.18476906418800354, -0.11263369768857956, 0.2807106673717499, 0.3073405623435974, 0.5231896638870239, 0.27389582991600037, 0.49707841873168945, 0.6798980236053467, 0.40877071022987366, 1.0513107776641846, -0.20243389904499054, -0.420975923538208, 0.030630430206656456, -0.08144266903400421, 0.22286318242549896, -0.37854084372520447, -0.46062877774238586, 0.3624130189418793, -0.4784992039203644, -0.14402860403060913, 0.34748589992523193, -0.2000449001789093, 0.7899521589279175, 0.715614378452301, 0.10096132755279541, 0.7403740882873535, -0.10938912630081177, -0.09789064526557922, -0.24507178366184235, 0.09706765413284302, -0.40394431352615356, -0.26752638816833496, -0.11178717017173767, -0.47495004534721375, 0.20269714295864105, -0.638350248336792, 0.2870565950870514, 0.13751226663589478, 0.4625079333782196, -0.15500356256961823, -0.9389660954475403, 1.4854904413223267, 0.29119083285331726, 0.07281793653964996, 0.4674976170063019, 0.07558884471654892, 0.2821868062019348, -0.04903938248753548, 0.27801889181137085, -0.2596712112426758, -0.028751317411661148, 0.4434604048728943, 0.513873815536499, 0.12118798494338989, 0.3520349860191345, -0.02632780186831951, 0.09235088527202606, 0.2621718645095825, 0.10839226096868515, 0.4102645516395569, 0.6543652415275574, 0.3783184587955475, 0.8679813742637634, 1.0875933170318604, -0.4857518970966339, -0.2990051507949829, -0.36907437443733215, -0.051431406289339066, 0.1768398880958557, 0.026182610541582108, 0.473055899143219, -0.40540340542793274, 0.6310552954673767, -0.3147778809070587, -0.006254189182072878, 0.31481465697288513, -0.2286537140607834, 0.24183689057826996, 0.46943286061286926, 0.10146880149841309, 0.25109028816223145, 0.2825603783130646, -0.26960289478302, 0.635057270526886, 0.3815588653087616, -0.10896686464548111, 0.5767881274223328, 0.0654001384973526, -0.8408746719360352, 0.18859797716140747, 0.060968730598688126, -0.4255209267139435, 0.30523887276649475, -8.148795127868652, 0.5889755487442017, 0.15404699742794037, 0.08430103957653046, 0.5132613778114319, 0.44120317697525024, -0.08412474393844604, -0.5597095489501953, -0.1807573288679123, -0.013000473380088806, -0.088395856320858, -0.9034951329231262, 0.9731502532958984, 0.007055549882352352, 0.2531334161758423, -0.199237659573555, 0.06537081301212311, 0.7509719729423523, 0.1424926221370697, -0.19727951288223267, -0.10833124071359634, 0.5726648569107056, -0.16679835319519043, 0.7969305515289307, -0.08450964093208313, 0.17747220396995544, 0.3689175844192505, 0.3518092632293701, 0.6943901777267456, -0.0030031322967261076, -0.022797884419560432, 0.0925670862197876, -0.2804923951625824, 0.33908843994140625, 0.12256095558404922, -0.3851913511753082, 0.123562291264534, -0.26965537667274475, 1.3728104829788208, -0.46357613801956177, 0.10037738084793091, -0.4890947639942169, -0.027382725849747658, -0.11125688999891281, 0.3840984106063843, 0.17066529393196106, -0.4407851994037628, -0.41378140449523926, -0.3043663203716278, 0.6703307628631592, 0.45490360260009766, 0.07529285550117493, 1.4976303577423096, 0.32873448729515076, -0.43817153573036194, 0.11103462427854538, -0.05960502475500107, 0.7810353636741638, 0.2877444922924042, 0.350593626499176, -0.1933421492576599, -0.24078227579593658, 0.813561737537384, -0.0671422928571701, -0.4197358191013336, 0.30472037196159363, 0.0962563082575798, 0.2844245731830597, -0.27484962344169617, -0.03118489868938923, -0.005487364251166582, -0.40196603536605835, 0.3707317113876343, -0.9240996241569519, -0.25835952162742615, -0.9953750967979431, -0.9823724031448364, 0.2912884056568146, -0.14592023193836212, 0.40007883310317993, 0.13027937710285187, 0.9842051267623901, -0.010746147483587265, -0.310187429189682, -0.1465611606836319, -0.6130996346473694, -0.10458707809448242, 0.15078222751617432, -0.05789414420723915, 0.16840186715126038, -0.32580694556236267, -0.26599451899528503, -0.15943920612335205, 0.12269517034292221, 0.12431579828262329, 0.36700186133384705, -0.029541434720158577, -0.08928544819355011, -0.2814948260784149, -0.4522183835506439, -0.35848090052604675, -0.23976270854473114, -0.8118489384651184, -0.38749799132347107, -0.24216756224632263, -0.4568723738193512, 0.47505784034729004, -0.5679664611816406, -0.06615549325942993, 0.8886920213699341, -0.08063337206840515, 0.22032587230205536, 0.7154445648193359, -0.21475352346897125, 0.3148733675479889, 0.21138332784175873, 0.8601537942886353, -0.3384037911891937, 0.4272690713405609, -0.30297642946243286, -0.2760772109031677, -0.21167489886283875, 0.2327277958393097, -0.088885597884655, 0.16544562578201294, -0.0015475319232791662, -0.830145537853241, 0.040699269622564316, 0.05999955162405968, 0.14577579498291016, 0.045845482498407364, -0.09148906916379929, -0.3961869776248932, 0.6404406428337097, 0.46279215812683105, -0.3191725015640259, 0.027518585324287415, -0.16970734298229218, -0.4262896478176117, -0.4193696677684784, -0.9488879442214966, 0.0296853668987751, 0.5448405146598816, 0.4129153788089752, 0.8919029235839844, -0.22943711280822754, 0.5760228633880615, 0.3414700925350189, 0.04996204376220703, -0.5304197669029236, -0.016011256724596024, 0.1829986274242401, 0.3366606831550598, 0.3619944453239441, -0.17898012697696686, -0.7245532870292664, 0.4841398000717163, 0.462882399559021, 0.19802789390087128, -0.144292414188385, 0.31151020526885986, 0.15701356530189514, 0.22262437641620636, 0.4938291311264038, -0.2526301145553589, -0.1070181131362915, -0.5373892188072205, 0.6763989925384521, -0.15367479622364044, 0.4275779724121094, 0.27903804183006287, -0.7845778465270996, 0.1784660667181015, 0.25926440954208374, -0.10068504512310028, -0.7047641277313232, 0.2687411606311798, -0.18956759572029114, 0.6523780226707458, 0.1338566243648529, 0.2596404254436493, 0.25924789905548096, -0.35595253109931946, -0.3350093364715576, -0.37886542081832886, -0.06669919192790985, 0.468850314617157, 0.3592148721218109, 0.1647225022315979, -0.17203238606452942, -0.04687250778079033, 0.09048296511173248, -0.19247224926948547, 0.2553965747356415, 0.06469916552305222, -0.23357565701007843, -0.3767188489437103, 0.6126392483711243, -0.4466579556465149, -0.6360927224159241, 0.19368119537830353, 0.11280260980129242, -0.5615494847297668, -0.24721424281597137, 0.33725956082344055, -0.13132409751415253, 0.47786399722099304, 1.4896730184555054, 0.32193681597709656, 0.6219011545181274, -0.12798625230789185], [0.2416902482509613, 0.20060183107852936, -0.2640063464641571, 0.008758031763136387, 0.14230866730213165, -0.4060453772544861, 0.41167470812797546, -0.1953505277633667, 0.2377346158027649, -0.21198342740535736, 0.5076749324798584, -0.11087211221456528, -0.22289004921913147, 0.09471439570188522, -0.32222819328308105, -0.37616297602653503, -0.10050886124372482, 0.11030218005180359, 0.44333264231681824, -0.3613606095314026, -0.18395796418190002, 0.20451287925243378, -0.4775192439556122, 0.06388567388057709, 0.711578905582428, -0.2989128828048706, 0.4200310707092285, 0.4102111756801605, -0.040921371430158615, 0.46337375044822693, -0.289483904838562, -0.106571264564991, 0.0582888126373291, -0.07255513966083527, -0.16820310056209564, 0.3771847188472748, 0.11685838550329208, 0.3399221897125244, 0.02846214734017849, 0.05329246446490288, 0.5107292532920837, 0.10616642981767654, -0.22645263373851776, 0.6405478119850159, 0.3569919764995575, 0.06776199489831924, -0.10445088148117065, -0.8783330917358398, -0.1660124659538269, 0.05856624245643616, 0.2727844715118408, -0.3014092445373535, 0.10639848560094833, -0.077537402510643, 0.1892637312412262, -0.25683876872062683, -0.029706548899412155, 0.14204557240009308, -0.1576990932226181, 0.423196017742157, 0.22064834833145142, -0.09798634797334671, 0.14652198553085327, -0.025531994178891182, 0.39431971311569214, -0.12091074883937836, 0.29004156589508057, -0.2733924984931946, 0.6092888712882996, -0.17620941996574402, -0.33163774013519287, 0.2083885669708252, -0.24693477153778076, -0.3602670133113861, 0.29735684394836426, 0.14198985695838928, 0.27354535460472107, -0.0836268737912178, -0.21832136809825897, 0.40022939443588257, 0.3090073764324188, 0.49709564447402954, -0.16964411735534668, 0.17562150955200195, 0.005356364883482456, -0.00191132549662143, -0.22915488481521606, 0.15897302329540253, -0.05090797692537308, 0.4513946771621704, -0.6112664341926575, -0.3258107602596283, 0.5938685536384583, -0.3586618900299072, -0.14050604403018951, 0.09317398816347122, -0.29938971996307373, 0.06854785978794098, -0.8584887981414795, 0.09708775579929352, -0.1624140441417694, 0.359359472990036, 0.049094852060079575, -0.33230850100517273, 0.09977518022060394, -0.17532986402511597, -0.3710169196128845, -0.9791110754013062, -0.0869627296924591, 0.108771413564682, 0.09968972206115723, -0.26351019740104675, 0.11683011054992676, 0.2168871909379959, -0.4349987804889679, -0.1973288506269455, 0.058045998215675354, 0.22316992282867432, 0.8177698254585266, -0.20779697597026825, 0.38873252272605896, -0.22004571557044983, 0.0653248205780983, -0.3764103651046753, -0.03289901092648506, -0.1427181363105774, -0.2789556086063385, -0.20130203664302826, 0.2147701233625412, 0.1490415632724762, -0.513481080532074, -0.2615601122379303, -0.08284877985715866, -0.004032928962260485, 0.21568647027015686, 0.49160104990005493, -0.6289517283439636, 0.11875973641872406, -1.1996628046035767, -0.6605528593063354, -1.0234990119934082, 0.008540856651961803, 0.7154959440231323, -0.15460538864135742, 0.17707456648349762, -0.17789776623249054, -0.3306352496147156, -0.12241914868354797, 0.5031825304031372, 0.47711101174354553, -0.016530945897102356, -0.06265020370483398, 0.38941895961761475, -0.17936068773269653, -0.6332395672798157, 0.18434202671051025, 0.06049109250307083, -0.22968789935112, 0.5087028741836548, 0.3499661087989807, -0.04352369159460068, -0.22683458030223846, -0.26856812834739685, 0.4388446509838104, 0.1540190428495407, 0.1801653951406479, 0.1931484490633011, -0.06883803755044937, 0.0586579330265522, 0.44300970435142517, 0.3558342456817627, 0.09844420850276947, -0.04098641499876976, 0.27742594480514526, -0.7639801502227783, 0.16931794583797455, 0.1575256735086441, -0.34344494342803955, -0.11323232203722, -0.5848637223243713, -0.16043493151664734, -0.21810288727283478, 0.14615462720394135, -0.3868642747402191, -0.2604251503944397, -0.0030524323228746653, 0.014077833853662014, -0.4981577694416046, 0.47529083490371704, 0.7546173334121704, 0.045160647481679916, 0.04593870788812637, -0.298311710357666, -0.30102184414863586, -0.6091200113296509, 0.6610881090164185, -0.2890273630619049, -0.0985257476568222, 0.02234661392867565, -0.034652117639780045, -0.3676307201385498, -0.11270803213119507, -0.21589744091033936, -0.03653784468770027, 0.10613908618688583, 0.0659155622124672, -0.29866012930870056, 0.3158615231513977, -0.21017447113990784, -0.29304569959640503, -0.16039849817752838, -0.5898622870445251, -0.1436704397201538, 0.15509602427482605, 0.24743732810020447, -0.15998952090740204, -0.12043412029743195, -0.24082118272781372, 0.1604316383600235, 0.6621733903884888, 0.29368725419044495, 0.12598294019699097, -0.6093311905860901, -0.1428249627351761, 0.05841733515262604, 0.5180221796035767, 0.3200181722640991, 0.4595469832420349, 0.05995791032910347, -0.5208419561386108, -0.3633548617362976, 0.33547335863113403, 0.19186930358409882, -0.2463531643152237, -0.06943343579769135, 0.22902362048625946, 0.2894645631313324, -0.010667271912097931, -0.6550307869911194, -0.029343992471694946, 0.11188521981239319, 0.21855315566062927, -0.05838008597493172, -0.12266676872968674, -0.03779289498925209, -0.36109328269958496, -0.4791996479034424, 0.22916501760482788, -0.09214384853839874, -0.08227116614580154, 0.06535027176141739, -0.4165635108947754, -0.1859355866909027, 0.2487698644399643, 1.0296705961227417, 0.08761303871870041, 0.3257405161857605, 0.6181161403656006, -0.44763311743736267, -0.20523692667484283, -0.025121573358774185, 0.14999105036258698, 0.3465339243412018, -0.17684172093868256, -0.1730736345052719, -0.2893804609775543, -0.5552983283996582, -0.2015109658241272, -0.5916953086853027, 0.4853598177433014, 0.3637695908546448, -0.017075035721063614, 0.34533095359802246, 0.2964271903038025, 0.26502716541290283, 0.034970276057720184, 0.04376759007573128, -0.5175042748451233, -0.2965058982372284, -0.5603700876235962, 0.6745198965072632, 0.5079050660133362, -0.029606642201542854, 0.126931294798851, -0.8339791893959045, 0.39443475008010864, -0.18485356867313385, 0.16421829164028168, -0.019758930429816246, -0.40291640162467957, -0.2857017517089844, -0.025435883551836014, -0.46839413046836853, -0.15743158757686615, 0.4089529812335968, -0.07214213162660599, 0.051469601690769196, 0.20130668580532074, -0.37593621015548706, 0.1172269955277443, 0.356291264295578, -0.5439701676368713, 0.3334856331348419, 0.2307966947555542, -0.004378317389637232, 0.07251258939504623, 0.2344657927751541, 0.05042202025651932, 0.5938188433647156, -0.060002271085977554, 0.34022724628448486, 0.14409536123275757, -0.15532663464546204, -0.5661152601242065, 0.46159836649894714, -0.20121338963508606, 0.09130662679672241, -0.11186950653791428, -0.4077509045600891, 0.25009408593177795, -0.22637616097927094, -0.15621401369571686, 0.10169137269258499, 0.07460493594408035, -0.1501731425523758, 0.40649712085723877, 0.2187546193599701, 0.01143184769898653, 0.3109014928340912, -0.4590670168399811, 0.29883819818496704, -0.3555338382720947, 0.07098831981420517, 0.054905712604522705, 0.37732186913490295, 0.4318908452987671, -0.2894575297832489, -0.16042213141918182, -0.059693094342947006, 0.5407082438468933, 0.18596407771110535, 0.02264341339468956, 0.8413740992546082, -0.03086669184267521, 0.4731585383415222, -0.11770253628492355, -0.17801867425441742, 0.06991118937730789, -0.2328934669494629, -0.25753262639045715, -0.42416390776634216, -0.7042678594589233, -0.1666387915611267, -0.0270692091435194, 0.09847661852836609, -0.3270321786403656, 0.018517974764108658, 0.33777567744255066, 0.30073195695877075, 0.12844279408454895, 0.2467956691980362, -0.02462940476834774, 0.02289736084640026, -0.18503835797309875, 0.15457236766815186, -0.5337350368499756, -0.28934961557388306, -0.07741028815507889, 0.19067798554897308, -0.08844534307718277, 0.7596575021743774, 0.2464456409215927, 0.5159196257591248, 0.10467245429754257, -0.03442566841840744, 0.20415864884853363, -0.20989064872264862, -0.14266787469387054, -0.004800761118531227, -0.2592930495738983, -0.029049253091216087, 0.17878678441047668, 0.12029211223125458, -0.28733763098716736, 0.09938928484916687, 0.04853513836860657, -0.5126718878746033, 0.47169727087020874, 0.17568227648735046, -0.09412210434675217, 0.3205522894859314, 0.1761280596256256, 0.1693504899740219, 0.11825431883335114, -0.35051944851875305, -0.03906457871198654, -0.4357790946960449, 0.2115657776594162, 0.08187232911586761, 0.054265379905700684, -0.3995465040206909, -0.2524547576904297, -0.3873418867588043, -0.17501021921634674, -0.9155105352401733, -0.3423506021499634, -0.0284705962985754, 0.28875142335891724, -0.0698413997888565, -0.335048109292984, -0.4319840967655182, -0.42998039722442627, 0.14885970950126648, 0.8869479894638062, -0.022212550044059753, -0.24738727509975433, 0.0737195834517479, 0.4354075491428375, 0.10176394134759903, 0.28258249163627625, -0.11120381951332092, 0.2640288472175598, 0.147496297955513, -0.09205552935600281, 0.39010336995124817, 0.12436715513467789, 0.36112892627716064, -0.29444167017936707, -0.20913568139076233, -0.05129653587937355, 0.01801544614136219, 0.2970351278781891, 0.26784205436706543, 0.25858190655708313, -0.06701166927814484, 0.05914609506726265, -0.18510854244232178, 0.1555694341659546, 0.18811912834644318, 0.2836799621582031, -0.12472520768642426, -0.03521064668893814, 0.18744118511676788, -0.5922837257385254, -0.11907747387886047, 0.07212790101766586, -0.35362324118614197, -0.17516876757144928, 0.11255616694688797, -0.25147247314453125, -0.0451849140226841, -0.23766645789146423, -0.19463230669498444, -0.22314448654651642, 0.16821026802062988, -0.8738914728164673, -0.22767001390457153, -0.2285866141319275, -0.1392928659915924, 0.5362081527709961, -0.25644031167030334, 0.10775261372327805, -0.1317223459482193, 0.33571863174438477, 0.6025024652481079, -0.11911170184612274, -0.11749657988548279, 0.17429251968860626, 0.36811408400535583, -0.4203067719936371, 0.049023836851119995, 0.21538519859313965, 0.19265629351139069, 0.758516252040863, -0.19345983862876892, -0.27228787541389465, 0.09601372480392456, 0.15956048667430878, 0.2782342731952667, -0.059383194893598557, -0.4088875949382782, 0.011387242004275322, -0.4557534456253052, -0.02402533032000065, 0.5966649651527405, 0.2437521070241928, 0.405495285987854, 0.3961845636367798, -0.04982681944966316, 0.7329616546630859, -0.46929842233657837, -0.15478356182575226, 0.06130872294306755, 0.1519981026649475, -0.43195581436157227, -0.2545275092124939, -0.17050151526927948, -0.46429336071014404, -0.42398425936698914, -0.18084053695201874, 0.10135085880756378, -0.32134178280830383, 0.032626036554574966, 0.22308026254177094, -0.12547911703586578, 0.8776451349258423, -0.5830708146095276, 0.2527620196342468, 0.19078856706619263, -0.34757962822914124, 0.26552531123161316, -0.10341638326644897, -0.22106240689754486, -0.011837885715067387, -0.48363640904426575, 0.556474506855011, 0.3631892502307892, 0.46661606431007385, -0.02758762240409851, 0.11734461784362793, 0.23929688334465027, -0.079983189702034, -0.14865636825561523, -0.2953064441680908, 0.4976291358470917, 0.07045429944992065, 1.0212857723236084, 0.6931333541870117, -0.4292941391468048, 0.041678331792354584, -0.18832315504550934, -0.16935838758945465, 0.3259623646736145, -0.36190420389175415, 0.7550687193870544, -0.5354791879653931, 0.10786513984203339, -0.27875059843063354, 0.17642728984355927, 0.42019522190093994, -0.05861522629857063, 0.8827264904975891, 0.17839208245277405, 0.3879234790802002, -0.2202543318271637, 0.5344852209091187, -0.23448997735977173, 0.43200746178627014, 0.04788687825202942, 0.08671636879444122, 0.38081276416778564, 0.1925630420446396, -0.8360305428504944, -0.10572817921638489, -0.10062479972839355, -0.352627694606781, -0.2006584256887436, -8.658266067504883, 0.4884500801563263, -0.3128523528575897, -0.4278816878795624, -0.16208480298519135, 0.19571395218372345, -0.2768217623233795, -0.3491515517234802, -0.06044374778866768, -0.004278535954654217, 0.3237013816833496, -0.7079305648803711, 0.5227952599525452, -0.15513479709625244, 0.4620625674724579, -0.19589339196681976, -0.00027556513668969274, 1.064367651939392, -0.07626824080944061, -0.04618651419878006, 0.13440866768360138, 0.43604472279548645, -0.3469351530075073, 1.1774414777755737, 0.10428289324045181, 0.6422834992408752, 0.14770729839801788, -0.1028333529829979, 0.7273966670036316, -0.10547294467687607, -0.26223224401474, 0.26771923899650574, 0.14043226838111877, -0.14383678138256073, 0.04927505552768707, 0.05190229415893555, -0.19922710955142975, -0.09088469296693802, 0.6383151412010193, -0.6941541433334351, -0.012612334452569485, -0.5004000663757324, 0.052051641047000885, 0.2920570373535156, 0.30139756202697754, 0.15103283524513245, -0.4234676659107208, -0.0035649824421852827, 0.011548668146133423, 0.48384571075439453, 0.3553154766559601, -0.036371298134326935, 1.1945589780807495, -0.13780653476715088, -0.05391488969326019, 0.22131001949310303, -0.05497989431023598, 0.4766903519630432, 0.2678750455379486, -0.07113395631313324, -0.3675786256790161, -0.2989807724952698, 0.4306037127971649, 0.08510801196098328, -0.14637640118598938, 0.29194822907447815, -0.09102442860603333, 0.10521195828914642, 0.014982949942350388, -0.17341938614845276, -0.40237122774124146, -0.4188365340232849, 0.24898983538150787, -0.795661449432373, -0.5333453416824341, -0.6254811882972717, -0.8840383291244507, 0.3559023141860962, -0.32493993639945984, 0.026043875142931938, -0.33587709069252014, 0.8190690875053406, 0.28784269094467163, -0.02690988965332508, -0.4520550072193146, -0.3886677324771881, -0.23063777387142181, 0.09860947728157043, -0.07941035181283951, 0.06276851147413254, -0.7545851469039917, -0.1539936363697052, -0.10726716369390488, -0.014467095024883747, -0.02288881503045559, 0.2857881188392639, 0.09003359079360962, 0.06288083642721176, -0.37476229667663574, 0.24935859441757202, -0.5700191259384155, -0.2799900472164154, -0.4299047291278839, -0.4377104938030243, -0.06465562433004379, -0.3392193019390106, -0.16310763359069824, -0.3705826997756958, 0.052263032644987106, 0.4515351355075836, 0.2728751301765442, 0.2734381854534149, 0.8276221752166748, -0.35833385586738586, -0.033908579498529434, 0.5039053559303284, 0.694485604763031, 0.030663125216960907, 0.31508705019950867, -0.013733397237956524, -0.15314923226833344, -0.07963315397500992, 0.07161315530538559, -0.22131165862083435, 0.06382833421230316, 0.41045838594436646, -0.3641074001789093, -0.32214394211769104, 0.5394892692565918, 0.33728259801864624, -0.039155323058366776, -0.3081267774105072, -0.16398876905441284, 0.12254808098077774, 0.2666853368282318, -0.1875961422920227, -0.007026127073913813, -0.20247964560985565, -0.09379594773054123, -0.33519601821899414, -0.8142268061637878, 0.021639112383127213, 0.38891953229904175, 0.5425108671188354, 0.5203258395195007, 0.2769443392753601, -0.09373966604471207, 0.13648715615272522, 0.03644804283976555, -0.03869001567363739, -0.24624450504779816, -0.016184227541089058, 0.15030919015407562, 0.29165515303611755, -0.2484540045261383, -0.4125218987464905, 0.518592119216919, 0.7468032836914062, 0.19010716676712036, -0.13125288486480713, 0.1227908730506897, 0.15835532546043396, 0.059784725308418274, -0.12226897478103638, -0.10107129067182541, -0.0417805016040802, -0.2509692907333374, 0.2822566032409668, 0.22676633298397064, 0.14039623737335205, 0.5762243270874023, -0.3382047414779663, -0.030438803136348724, 0.17814332246780396, -0.08132395148277283, -0.12549808621406555, 0.04234232380986214, -0.20824572443962097, 0.7889774441719055, 0.07213229686021805, 0.3224029839038849, 0.41196924448013306, -0.06518541276454926, -0.3493623733520508, -0.2127702385187149, 0.22849932312965393, 0.5760639309883118, 0.07247548550367355, -0.1260780394077301, 0.1802394539117813, -0.21324767172336578, 0.30271056294441223, -0.582679033279419, 0.31199344992637634, -0.22677724063396454, -0.054964955896139145, -0.1251228302717209, 0.09054673463106155, -0.3416444659233093, -0.47523659467697144, 0.10059025883674622, -0.5133768320083618, -0.050713907927274704, -0.5010038018226624, 0.15045733749866486, 0.38828280568122864, 0.23960387706756592, 0.9439692497253418, 0.45608416199684143, 0.22661055624485016, 0.21114379167556763], [0.44120728969573975, 0.2914566099643707, 0.013066763989627361, 0.1966141015291214, 0.24892747402191162, -0.2607146203517914, 0.4356139004230499, 0.011578239500522614, 0.04821819067001343, -0.3638174533843994, 0.3520260453224182, 0.27060452103614807, -0.1852720081806183, 0.2377890646457672, -0.8653806447982788, 0.11440565437078476, 0.09063295274972916, 0.10049310326576233, 0.25652143359184265, -0.04278917983174324, -0.19169194996356964, -0.1192210465669632, -0.1263766586780548, -0.16143588721752167, 0.38612300157546997, -0.32291731238365173, 0.3299512565135956, 1.0787694454193115, -0.5895442366600037, 0.4828130900859833, 0.2785506546497345, 0.17454791069030762, 0.05505827069282532, 0.07352074980735779, -0.32235637307167053, -0.09413372725248337, -0.1616797149181366, -0.07277548313140869, -0.32786980271339417, -0.5691126585006714, 0.08809179812669754, 0.4109664857387543, 0.001627454999834299, -0.23723354935646057, 0.32475483417510986, -0.3581019341945648, -0.47502216696739197, 0.018595213070511818, -0.16321997344493866, 0.48311102390289307, 0.3361217975616455, -0.871959924697876, 0.13417351245880127, -0.0766291543841362, 0.4897908568382263, -0.24427907168865204, -0.39083588123321533, 0.14244519174098969, -0.39074093103408813, 0.5371751189231873, 0.2678658962249756, 0.2447056770324707, 0.6362989544868469, -0.08230939507484436, -0.3408248722553253, 0.32666200399398804, 0.0184672549366951, -0.42067909240722656, 0.24637319147586823, -0.2897201478481293, 0.6116952300071716, 0.09142757952213287, 0.5052081942558289, -0.37268930673599243, 0.2798530161380768, -0.6360119581222534, 0.7192870378494263, -0.19150473177433014, -0.47392868995666504, -0.0485415905714035, 0.4544764757156372, 0.3339601159095764, 0.11772877722978592, 0.12181795388460159, 0.37596577405929565, 0.3271883428096771, 0.122672900557518, 0.275276243686676, 0.15897436439990997, 0.03426835313439369, 0.2372526377439499, 0.10476960241794586, -0.2559395134449005, -0.3266941010951996, 0.05602375045418739, 0.33251532912254333, -0.4088529646396637, 0.07015495002269745, -0.3654481768608093, -0.2154640555381775, -0.1283530741930008, 0.06999170035123825, 0.1403616964817047, -0.20257115364074707, 0.3034886419773102, -0.31651055812835693, -0.402090460062027, -0.5955461859703064, -0.044131696224212646, 0.5394353270530701, 0.02009693905711174, 0.19281665980815887, 0.06398120522499084, -0.4163972735404968, -0.4215198755264282, 0.33145567774772644, 0.25812211632728577, 0.3807748556137085, 0.5079252123832703, -0.04011064022779465, 0.6233614683151245, -0.044245779514312744, -0.6051551103591919, 0.03564276546239853, 0.26209959387779236, 0.07503287494182587, -0.15779729187488556, -0.34228280186653137, 0.8257079124450684, 0.040345922112464905, -0.5176539421081543, -0.3545396029949188, 0.4512057304382324, 0.1695234328508377, 0.24433645606040955, 0.06661096215248108, -0.34161606431007385, 0.6277556419372559, -3.147982120513916, -0.15469667315483093, -0.5357791185379028, 0.1818227469921112, 0.5693327784538269, -0.2928827404975891, -0.3865159749984741, 0.16320165991783142, 0.006836407817900181, -0.12923796474933624, -0.026965660974383354, 0.7706648111343384, -0.40853866934776306, -0.47359105944633484, 0.044035933911800385, 0.03403058648109436, 0.19041790068149567, -0.3140457570552826, 0.26799431443214417, -0.4925476014614105, 0.6358319520950317, -0.1629340797662735, -0.5937607884407043, 0.2813144326210022, -0.5311006307601929, 0.4102751612663269, -0.01058621983975172, -0.3584713339805603, 0.3436976969242096, 0.039981018751859665, -0.20220018923282623, 0.7035803198814392, 0.5332494974136353, 0.0025706463493406773, -0.4476538896560669, 0.13190607726573944, 0.14264465868473053, 0.2707222104072571, -0.1203114315867424, 0.13246244192123413, 0.06206252798438072, -0.7790491580963135, 0.4685419499874115, -0.014231548644602299, 0.00846677366644144, 0.0732252299785614, -0.3081468641757965, 0.25376972556114197, 0.4628967046737671, 0.10140367597341537, 1.1559078693389893, 0.2609763443470001, 0.7023290395736694, -0.49675944447517395, -0.5475706458091736, -0.3668096959590912, -0.4162314832210541, -0.4378378689289093, -0.45171040296554565, 0.3033851683139801, 0.3760421574115753, 0.5956985950469971, -0.7318187952041626, 0.18416929244995117, -0.5261881947517395, 0.4631900191307068, 0.16488862037658691, -0.2788734436035156, 0.07577110826969147, 0.6740710735321045, -0.4481566250324249, -0.9484201669692993, -0.416902631521225, -0.19140465557575226, -0.11548713594675064, 0.31563276052474976, 0.237223818898201, -0.24540865421295166, -0.03039371781051159, -0.24868552386760712, 0.04147864505648613, 0.006785556674003601, -0.18161387741565704, -0.017624882981181145, 0.23963986337184906, -0.15022969245910645, 0.1791197806596756, 0.668056070804596, 0.26250794529914856, -0.010316620580852032, 0.32750773429870605, -0.1804550439119339, 0.1718992292881012, 0.44391241669654846, -0.3018150329589844, -0.5854551792144775, -0.42851802706718445, 0.38645756244659424, -0.0703296959400177, 0.3970277011394501, -0.6466713547706604, 0.0374733991920948, 0.07956989854574203, -0.16367264091968536, 1.1425262689590454, -0.28594955801963806, -0.07409658282995224, 0.3857838213443756, -0.1255970448255539, 0.18301042914390564, -0.12021944671869278, 0.4590250253677368, 0.07859363406896591, -0.2311772257089615, -0.5785112380981445, -0.07779562473297119, 0.6509361267089844, 0.11413126438856125, 0.08157891035079956, 0.3230704367160797, -0.41830551624298096, -0.13218021392822266, -0.12167590111494064, 0.21870192885398865, 0.5452076196670532, -0.37464964389801025, -0.02186337113380432, -0.32703039050102234, -0.07839971035718918, 0.2975320816040039, -0.31846824288368225, 0.5921856164932251, 0.3381088078022003, -0.3114723563194275, 0.3073297142982483, -0.07427079975605011, -0.377868115901947, 0.6124996542930603, 0.16304537653923035, -0.3341611325740814, -0.22786332666873932, -0.6498710513114929, 0.10179710388183594, 0.1404167115688324, -0.19721092283725739, 0.7060027122497559, -0.7364695072174072, 0.46405160427093506, 0.1065652072429657, 0.5900514125823975, -0.06871652603149414, -0.27095407247543335, 0.2540101110935211, -0.3393443524837494, -0.5926201343536377, 0.06793419271707535, 0.13355425000190735, -0.35354509949684143, -0.493096262216568, -0.062334995716810226, -0.5061277747154236, 0.13960497081279755, 0.6391298174858093, 0.20883935689926147, 0.16322511434555054, -0.10252942889928818, -3.292459726333618, -0.023149410262703896, 0.09793432801961899, 0.2582250237464905, 0.18181565403938293, 0.09972601383924484, 0.7400216460227966, 0.31487423181533813, 0.03633797913789749, 0.1533614695072174, -0.32706788182258606, -0.3265620470046997, 0.08425736427307129, -0.23265810310840607, -0.16406284272670746, 0.009879743680357933, 0.0590629018843174, 0.8911645412445068, -0.2793692648410797, 0.17219479382038116, -0.40093186497688293, 0.17680878937244415, 0.0412229523062706, 0.6385275721549988, -0.05554952844977379, -0.7157157063484192, 0.37842297554016113, 0.13175058364868164, -0.28619813919067383, 0.24746274948120117, -0.28830429911613464, 0.05479666590690613, -0.43568724393844604, -0.0072229416109621525, 0.7726432085037231, 0.1430039405822754, 0.19971764087677002, 0.235960453748703, 0.014310616999864578, 0.12890182435512543, 0.19913524389266968, 0.1607784628868103, 0.03226953744888306, 0.08974955976009369, -0.2921285927295685, -0.2171994000673294, -0.1304076761007309, -0.042949169874191284, -0.21990031003952026, -0.5588238835334778, 0.428988516330719, -0.6479479074478149, 0.2652813494205475, -0.3111781179904938, -0.005254889372736216, 0.5058514475822449, 0.1442262977361679, -0.11089050024747849, 0.7330454587936401, -0.13789306581020355, -0.14045119285583496, -0.19348841905593872, -0.24527370929718018, 0.1647297739982605, 0.3170662522315979, 0.4652538001537323, 0.8035071492195129, 0.04444671794772148, 0.2066657841205597, -0.01766761764883995, 0.3064199984073639, -0.21048098802566528, 0.07079841941595078, -0.1059136912226677, 0.03149061277508736, -0.6277031898498535, 0.13464118540287018, 0.026991670951247215, -0.4547503888607025, -0.064387746155262, 0.11251991987228394, 0.1958937793970108, -0.2508928179740906, -0.12067373096942902, 0.5884796977043152, 0.23634213209152222, 0.7243418097496033, -0.22535137832164764, 0.1949845403432846, -0.6009644865989685, -0.7193992137908936, 0.06306447088718414, -0.6286893486976624, 0.49907734990119934, -0.010072559118270874, -0.27607595920562744, -0.2961234152317047, 0.13488879799842834, -0.6034047603607178, 0.5120022296905518, -0.7069520354270935, -0.4431892931461334, -0.42598992586135864, 0.24848628044128418, -0.2640312910079956, -0.12672708928585052, -0.07580792903900146, -0.6622319221496582, 0.07017084211111069, 1.0501633882522583, 0.33258533477783203, -0.6943932771682739, 0.37687423825263977, 0.3755921721458435, 0.11909513920545578, 0.6074422001838684, -0.303569495677948, -0.13135969638824463, -0.2868099510669708, -0.05182759091258049, 0.6921455264091492, 0.05292124301195145, 0.17222437262535095, -0.45388126373291016, 0.4220563471317291, 0.45040950179100037, 0.032467763870954514, 0.34551703929901123, -0.27772629261016846, -0.08706418424844742, -0.06027333438396454, -0.3003244996070862, -0.08803778141736984, 0.33160775899887085, -0.14782516658306122, -0.24549853801727295, -0.286332368850708, -0.9761900901794434, 0.12440778315067291, -0.8185797929763794, 0.0382174588739872, -0.2495751827955246, -0.002146950690075755, 0.3698683977127075, 0.3824176788330078, -0.5125464797019958, -0.013708524405956268, 0.10623131692409515, 0.09133543074131012, 0.02213858626782894, -0.08897165954113007, -0.12753251194953918, 0.3747525215148926, -0.01964487135410309, -0.17866836488246918, 0.6125860810279846, -0.41286423802375793, 0.3259640336036682, -0.43236273527145386, 0.6311973929405212, 2.2578766345977783, 0.05544688180088997, -0.06693700700998306, 0.5586105585098267, -0.37667885422706604, -0.11860909312963486, 0.06583558768033981, 0.26865318417549133, 0.7241818308830261, 0.8689112663269043, -0.5450565814971924, -0.007187483366578817, -0.10033413022756577, -0.1887427270412445, -0.42533206939697266, 0.5900575518608093, 0.25720998644828796, -0.08559082448482513, -0.45015808939933777, 0.43523016571998596, 0.8019972443580627, 0.4982364773750305, 0.6382192373275757, -0.27032437920570374, -0.2778419554233551, 0.4423779249191284, 0.6626939177513123, 0.6160696148872375, -0.5243958234786987, -0.10038086026906967, 0.4410693347454071, 0.3409803509712219, -0.05259627848863602, -0.024024909362196922, -0.18189090490341187, -0.14718970656394958, -0.49893394112586975, -0.1692359298467636, -0.04912661761045456, -0.026583975180983543, -0.2209145426750183, 1.12330961227417, -0.2921137511730194, -0.26711294054985046, -0.2879164516925812, -0.7306554317474365, 0.05258149653673172, -0.7991512417793274, -0.2074906975030899, -0.34976157546043396, -0.23135551810264587, 0.08574119210243225, 0.4845689833164215, 0.00933676864951849, 0.4517142176628113, -0.006164531223475933, -0.04662886634469032, 0.038836520165205, -0.5378203988075256, -0.5987046957015991, 0.2998432517051697, 0.16954481601715088, 0.054415516555309296, 0.1728896200656891, 0.023828791454434395, -0.35763019323349, -0.5960102081298828, -0.15467309951782227, -0.05280434712767601, -0.17496399581432343, 0.7633877396583557, -0.3431346118450165, -0.053585972636938095, -0.3454655110836029, 0.10793320834636688, -0.25991174578666687, 0.23527908325195312, 0.40462157130241394, 0.30417168140411377, -0.2715805172920227, 0.06489066034555435, 0.08294244110584259, -0.03841177001595497, 0.21030183136463165, -0.18338629603385925, 0.22693581879138947, 0.06220956891775131, 0.39014172554016113, -0.9116023182868958, 0.40871936082839966, 0.4359704852104187, -0.021747101098299026, -0.743716299533844, -8.069116592407227, 0.1124885082244873, 0.3466722369194031, 0.11014644801616669, 0.020662788301706314, 0.34112292528152466, -0.4286515414714813, -0.04056640341877937, 0.6617336273193359, 0.3535657525062561, -0.22246311604976654, 0.10226644575595856, 0.3300366699695587, -0.20348691940307617, -0.20425474643707275, 0.012276360765099525, -0.05832961946725845, 0.019671306014060974, 0.6130015254020691, 0.25860878825187683, -0.06839820742607117, 0.36760416626930237, 0.3156484365463257, 0.001915922504849732, 0.5809338688850403, 0.5518475770950317, -0.24967069923877716, 0.12900744378566742, 0.30502769351005554, -0.41905567049980164, -0.18649204075336456, 0.15316864848136902, -0.08234265446662903, 0.04737652465701103, -0.14272931218147278, -0.6680334806442261, 0.35232624411582947, 0.31133508682250977, 0.21370436251163483, -0.7022937536239624, -0.6193854808807373, -0.1002487763762474, -0.144478440284729, 0.3457414507865906, 0.18268676102161407, -0.0682893916964531, -0.3824693262577057, 0.24266915023326874, 0.07295927405357361, 0.346376895904541, 2.419154644012451, 0.12344254553318024, -0.16774636507034302, -0.4578806459903717, -0.5779522657394409, 0.25000661611557007, -0.021267851814627647, 0.578230082988739, 0.5378847718238831, 0.14705395698547363, 0.027485661208629608, -0.2039971947669983, 0.5501534342765808, -0.0800887942314148, -0.6432639956474304, 0.057792965322732925, -0.3435530960559845, 0.08821426331996918, 0.06938783079385757, -0.18301863968372345, -0.32138562202453613, -0.45080825686454773, -0.10515755414962769, -0.042126405984163284, -0.17667624354362488, 0.16463644802570343, -0.7918109893798828, 0.28258079290390015, -0.16713681817054749, 0.13889695703983307, -0.15729033946990967, 1.2050871849060059, 0.41067007184028625, -0.1449022889137268, 0.04560621455311775, -0.3471212387084961, -0.1956900656223297, 0.28734061121940613, 0.37580445408821106, 0.28477391600608826, -0.10792417824268341, -0.3181844651699066, -0.5740174651145935, 0.24971047043800354, -0.2735680639743805, 0.08820028603076935, -0.22041454911231995, -0.029511094093322754, 0.029070792719721794, -0.008872231468558311, -0.6254880428314209, -0.08168023824691772, -0.4533960521221161, -0.34071505069732666, 0.04298268258571625, -0.09492829442024231, -0.12313804775476456, -0.11866280436515808, -0.5655552744865417, 0.4449435770511627, 0.1283707469701767, 0.09877664595842361, 0.28936219215393066, 0.28908008337020874, -0.09743496775627136, 0.35473138093948364, 0.8824285864830017, -0.25195637345314026, 0.4375530481338501, -0.11057151854038239, 0.1977449208498001, -0.4559314250946045, 0.44706669449806213, -0.1915610283613205, -0.24549666047096252, -0.032147858291864395, 0.43691349029541016, -0.34267929196357727, 0.202933669090271, -0.349128395318985, 0.6270414590835571, 0.4960431754589081, -0.5306079983711243, -0.24616794288158417, 0.4014080762863159, -0.11718194931745529, -0.023180875927209854, -0.25729450583457947, -0.5032248497009277, -0.08536295592784882, -0.7288933396339417, -0.1584302932024002, 0.3877738118171692, 0.054111625999212265, 0.5468148589134216, -0.37726548314094543, -0.27441900968551636, -0.3887786567211151, -0.36552438139915466, 0.4211118221282959, -0.761930525302887, -0.0997251644730568, -0.2558642029762268, -0.5420984625816345, -0.1403617113828659, -0.06865512579679489, 0.20858018100261688, 0.27494725584983826, -0.10903759300708771, 0.00455873180180788, 0.053461845964193344, -0.2835547924041748, 0.159132719039917, -0.34843626618385315, 0.2507055997848511, 0.2538021504878998, -0.7401432991027832, 0.1120012030005455, 0.40541648864746094, -0.07024647295475006, 0.13164997100830078, -0.33946898579597473, 0.3513653874397278, 0.4925209879875183, 0.0895175188779831, -0.23204082250595093, 0.3982534408569336, -0.046237800270318985, 0.30201688408851624, -0.2921060621738434, -0.11410975456237793, 0.03993114084005356, -0.1510266810655594, -0.3761950731277466, 0.41732341051101685, -0.16666297614574432, -0.2298576831817627, 0.09653577208518982, -0.09573148190975189, 0.2602618336677551, -0.20818667113780975, -0.24687814712524414, -0.9305744171142578, 0.5979317426681519, 0.04228886589407921, 0.6462945938110352, -0.0894150361418724, 0.07126927375793457, -0.20338210463523865, 0.5563376545906067, 0.30844470858573914, -0.15001121163368225, -0.17724105715751648, -0.11650294810533524, -0.2397032380104065, -0.05945378541946411, 0.7755367755889893, 0.17647792398929596, 0.06341859698295593, 0.5117434859275818, -0.18775352835655212], [0.7059125304222107, 0.5384150743484497, 0.03942670300602913, 0.8075343370437622, 0.45257729291915894, -0.5686734914779663, 0.49710333347320557, 0.037842411547899246, 0.8793148994445801, -0.6134041547775269, 0.10120872408151627, 0.046515993773937225, -0.9778649806976318, 0.11571720987558365, -0.9598413109779358, 0.3894200325012207, -0.5175395011901855, 0.7164676189422607, 0.14319808781147003, -0.07030714303255081, 0.34913766384124756, 0.23588253557682037, -0.5467306971549988, -0.49716153740882874, 0.6763491630554199, -0.43779855966567993, 0.4473748207092285, 1.8047716617584229, -0.5815033912658691, 0.5350626707077026, 0.13548454642295837, 0.043333351612091064, -0.016349095851182938, 0.33336901664733887, -0.6954218745231628, 0.17356956005096436, -0.13027127087116241, -0.3133949935436249, -0.26878100633621216, -0.031013866886496544, 0.12074494361877441, 0.4394749104976654, 0.5374127626419067, -0.7004426121711731, 0.4200800061225891, -0.6356525421142578, -0.6251994967460632, 0.5849213600158691, -0.9584551453590393, 1.0055674314498901, 0.3406653106212616, -1.5883285999298096, 0.6552127003669739, 0.466671884059906, 1.0214711427688599, -0.3644368350505829, -0.7654845118522644, 0.5237283110618591, 0.23415586352348328, 0.7797184586524963, -0.48655685782432556, 0.5159931182861328, 1.0065836906433105, 0.23261579871177673, -0.963411808013916, 0.4598357081413269, 0.20972669124603271, -0.5522969961166382, 0.22317232191562653, -0.4536978602409363, 1.5529595613479614, 0.012882957234978676, 0.5063343048095703, -0.62467360496521, 0.008739413693547249, -0.8771803379058838, 0.8548356890678406, 0.015836531296372414, -0.7304803729057312, 0.19867070019245148, 0.7560028433799744, 0.40113505721092224, -0.3873353600502014, 0.029263988137245178, 0.5885915756225586, 1.0554877519607544, -0.48603111505508423, -0.1320943832397461, -0.20929479598999023, -0.46569564938545227, 0.533515453338623, -0.2866379916667938, 0.03983280062675476, -0.30502045154571533, 0.12314565479755402, 0.2689639925956726, -0.14913925528526306, 0.2484353631734848, -0.5142359137535095, -0.24010154604911804, -0.15278297662734985, 0.1408715546131134, 0.11309407651424408, 0.4536733627319336, 0.7796359062194824, -0.5695000886917114, -0.16260696947574615, -1.5040313005447388, -0.005974360276013613, 0.944650411605835, 0.07147057354450226, 0.13628558814525604, -0.18358682096004486, -0.8595557808876038, -0.42841655015945435, 0.6051138639450073, 0.3218255937099457, 0.8575807809829712, 0.9755867123603821, -0.1005270704627037, 0.24763047695159912, -0.1445721983909607, -0.797654390335083, 0.6455510854721069, 0.09489119052886963, 0.37881648540496826, -0.41132214665412903, -0.3953831195831299, 1.139933705329895, -0.0019564067479223013, -0.1792566180229187, -0.15305355191230774, 1.006394386291504, 0.6331642866134644, 0.5785008668899536, -0.15866705775260925, -0.37317490577697754, 0.7195249795913696, -5.6009416580200195, -0.5850444436073303, -0.8551942706108093, 0.024382788687944412, 1.2398571968078613, -0.1490759402513504, -0.16079524159431458, 0.1502716839313507, -0.33604520559310913, 0.5121281147003174, -0.6042127013206482, 0.6315703392028809, -0.40939176082611084, -0.49890151619911194, 0.12264616042375565, -0.4641719460487366, 0.30259597301483154, -0.31842029094696045, 0.3734293580055237, -0.14003613591194153, 0.4732804000377655, -0.21355251967906952, -0.53336501121521, 0.2151292860507965, -0.6359105110168457, -0.05702238157391548, -0.16166655719280243, -0.22919341921806335, 0.6558363437652588, -0.25580671429634094, -0.43358179926872253, 1.1922338008880615, 0.49535396695137024, -0.317462682723999, -0.9978950023651123, -0.003598899347707629, 0.3531179130077362, 0.800617516040802, -0.12814733386039734, 0.30541983246803284, -0.03351377695798874, -1.1091049909591675, 0.38095349073410034, -0.1858028918504715, -0.325751394033432, -0.30426064133644104, -0.33180201053619385, 0.09441179037094116, 0.3322788178920746, 0.8768600225448608, 1.6124141216278076, 0.5141865015029907, 0.5846846103668213, -0.5709006786346436, -0.8815745115280151, -0.18903212249279022, -0.2325165867805481, -0.5614365339279175, -0.8849241733551025, -0.20861680805683136, 0.6151509881019592, 0.5713772177696228, -0.5120552778244019, 0.19023975729942322, -0.8961203694343567, 0.47718584537506104, 0.10082364827394485, -0.5180114507675171, -0.015333651565015316, 0.0952640101313591, -0.5003015995025635, -1.541595458984375, -0.6759516000747681, 0.2924115061759949, 0.19338016211986542, -0.1976594179868698, 0.2386675477027893, -0.2761262059211731, -0.6811901926994324, 0.370713472366333, -0.0485098734498024, -0.027347197756171227, -0.006058220285922289, 0.07411745190620422, 0.2649642527103424, -0.3878655433654785, 0.3666876256465912, 0.6689067482948303, 0.9442811012268066, -0.3478611707687378, 0.6893792748451233, 0.0892796590924263, 0.5183651447296143, 0.18996065855026245, -0.13973546028137207, -0.8805559873580933, -1.0070693492889404, 0.48991674184799194, 0.01264873705804348, 0.22109344601631165, -0.9837756156921387, 0.8055031895637512, -0.17032669484615326, -0.05372416228055954, 1.3358920812606812, -1.1723355054855347, -0.16992627084255219, 0.5609752535820007, 0.38778242468833923, 0.14724093675613403, 0.13607598841190338, 1.0494284629821777, 0.1288364976644516, -0.030681757256388664, -1.0243265628814697, 0.09097234904766083, 0.6378899812698364, 0.5401499271392822, -0.07912719249725342, 0.2555234134197235, -0.8495798707008362, -0.6243563890457153, -0.9592363238334656, 0.20048831403255463, 0.7874393463134766, -0.9104396104812622, 0.22731450200080872, -0.09780287742614746, -0.26907098293304443, 0.6382009983062744, -0.29784095287323, 0.7269652485847473, 0.4361330568790436, -0.888116717338562, 0.013447985053062439, 0.25745919346809387, -0.17032736539840698, 1.0667939186096191, 0.3983031213283539, 0.025446023792028427, -0.29742491245269775, -1.2667601108551025, -0.24806571006774902, 0.733108639717102, -0.22226130962371826, 1.097965121269226, -1.0110034942626953, 0.7799196839332581, 0.080337755382061, 0.8117719292640686, 0.01156624499708414, -0.21341809630393982, -0.19410598278045654, -0.41550663113594055, -1.6043360233306885, 0.26254451274871826, 0.23512624204158783, -0.9316660761833191, -1.261152982711792, -0.009399973787367344, -0.7188665866851807, 0.18821251392364502, 0.7359368205070496, 0.4909217655658722, 0.12062182277441025, -0.0969003364443779, -6.138017177581787, 0.009458929300308228, -0.02230801247060299, 0.751672089099884, -0.06025977060198784, 0.581672191619873, 1.0841615200042725, 0.13334938883781433, 0.12753833830356598, 0.2750832438468933, -0.4535936713218689, -0.8845341801643372, 0.1426974982023239, -0.15693289041519165, -0.46943172812461853, -0.10909224301576614, 0.6404363512992859, 1.2326968908309937, -0.2541940212249756, 0.12066403776407242, -0.9073668122291565, 0.042631596326828, -0.6798120141029358, 1.5018887519836426, 0.7180341482162476, -1.505710244178772, 0.8760848641395569, -0.21727299690246582, -1.014487624168396, -0.1962662637233734, -0.7881886959075928, -0.2882305979728699, -0.5506227016448975, 0.08800391107797623, 0.20755736529827118, 0.03606986626982689, 0.8272880911827087, 0.4875035881996155, 0.2381276786327362, 0.06549779325723648, 0.32474350929260254, 0.03473877161741257, -0.21758629381656647, -0.26399508118629456, -0.029862195253372192, 0.14145243167877197, 0.05173710733652115, -0.07006339728832245, -0.2978997528553009, -0.901675283908844, 0.5318847894668579, -0.9819119572639465, 0.5801762342453003, -0.5933390259742737, 0.004143428057432175, 0.9949687719345093, 0.4129910469055176, -0.08470267057418823, 1.0846257209777832, -0.17916883528232574, -0.7701682448387146, -0.278513103723526, -0.12413690239191055, 0.6763003468513489, 0.1226121112704277, 0.9050076007843018, 1.0006834268569946, 0.10486091673374176, -0.14185082912445068, -0.25039443373680115, 0.25580236315727234, -0.17880064249038696, 0.1106095016002655, 0.1014944538474083, -0.18109436333179474, -0.8750839829444885, -0.17533403635025024, 0.1971154510974884, -0.5933402180671692, -0.3425743281841278, -0.13814270496368408, 0.022381756454706192, -0.8178611993789673, -0.10173175483942032, 1.1684620380401611, 1.0940887928009033, 0.549543023109436, -0.2090393453836441, -0.03683222830295563, -0.9065201878547668, -1.4742956161499023, -0.10377275198698044, -0.7485992908477783, 0.3342810571193695, -0.16847357153892517, -0.04793494939804077, -0.9173969626426697, 0.05967466160655022, -0.9601261019706726, 0.47993090748786926, -1.0281269550323486, -0.30732640624046326, -0.6081751585006714, 0.7315869927406311, -0.17324921488761902, -0.028654804453253746, -0.5378844141960144, -1.0721080303192139, -0.08538715541362762, 1.5097072124481201, 0.271325945854187, -1.388482928276062, 0.630506694316864, 0.5150957703590393, 0.6567561626434326, 0.8992104530334473, -0.12570007145404816, -0.5224989652633667, 0.12220301479101181, -0.4191432297229767, 1.4377734661102295, 0.3444558084011078, 0.2557506859302521, -0.5124765634536743, 0.7429230809211731, 0.7470402717590332, 0.22015270590782166, 0.47770941257476807, -0.8253886699676514, -0.16197866201400757, -0.11515910178422928, -0.6767723560333252, -0.8222851753234863, 0.4858776330947876, -1.1979459524154663, -0.5019733309745789, -0.49148064851760864, -1.06932532787323, -0.01257772371172905, -1.4054274559020996, -0.21418654918670654, -0.7316315174102783, -0.5779169797897339, 0.4033443331718445, 1.0241804122924805, -0.43813368678092957, -0.42548224329948425, 0.020706404000520706, 0.00785826612263918, -0.20860444009304047, 0.008231999352574348, 0.40873458981513977, 1.1473487615585327, 2.7742151360143907e-05, -0.3729117810726166, 1.1447627544403076, -1.3535248041152954, 0.7503213286399841, -1.2937290668487549, 1.2904671430587769, 5.736233234405518, 0.4073044955730438, -0.38244011998176575, 1.3280590772628784, -0.6792604923248291, 0.26383090019226074, -0.438475638628006, 0.15645413100719452, 1.6804211139678955, 1.3080384731292725, -0.6324440240859985, -0.04831385985016823, -0.7627803683280945, 0.42019757628440857, -0.002746948506683111, 0.46452370285987854, 0.735643208026886, 0.12229496985673904, -0.4951505959033966, 0.028447257354855537, 1.662553071975708, 0.6021546721458435, 0.5457013249397278, 0.0674062967300415, -0.4985651969909668, 0.7898123860359192, 0.6973398327827454, 0.5445593595504761, -1.323222041130066, 0.27183255553245544, 0.4360271096229553, 1.0602996349334717, -0.20300021767616272, -0.6824480891227722, -0.2359093278646469, 0.20184309780597687, -0.18261396884918213, -0.11569176614284515, 0.08228466659784317, -0.1537972241640091, 0.007886470295488834, 1.1281925439834595, 0.11236508190631866, -1.272505760192871, -0.39974847435951233, -1.6704809665679932, 0.017848335206508636, -0.9890996813774109, -0.6263805031776428, -0.49133580923080444, -0.3235294222831726, -0.029472243040800095, 0.6117569804191589, -0.30549943447113037, 1.3806746006011963, -0.16309760510921478, -0.4542742669582367, -0.15399549901485443, -1.5416144132614136, -0.8723633885383606, 0.2706359326839447, -0.00686015747487545, 0.25788602232933044, 0.8131648898124695, 0.08449114859104156, -0.40525326132774353, -0.9815348386764526, -0.819222092628479, -0.1856141835451126, -0.02099781483411789, 1.3150020837783813, -0.3536006808280945, 0.1329689621925354, -0.5680076479911804, 0.25304415822029114, 0.31317535042762756, 0.34846431016921997, 0.926896870136261, -0.0434117466211319, -0.9726398587226868, -0.001959119224920869, 0.060933757573366165, -0.27919477224349976, 0.4244065582752228, 0.021916497498750687, 0.49303123354911804, 0.37007254362106323, 0.4476647973060608, -2.051286220550537, 0.5130637884140015, 0.8317803144454956, -0.12138853967189789, -1.3793575763702393, -0.9739692211151123, -0.06848360598087311, 0.621784508228302, 0.34862902760505676, -0.13053277134895325, 0.5905354022979736, -0.13685408234596252, 0.21934519708156586, 1.1072843074798584, 0.5632215738296509, -0.5357711315155029, -0.0008927538292482495, 0.31266266107559204, -0.2653682231903076, -0.17963582277297974, 0.04219263419508934, -0.2586676776409149, -0.11018933355808258, 0.7782351970672607, 0.9393402934074402, 0.6338473558425903, 0.7613471150398254, 0.6691668629646301, -0.13694994151592255, 0.7875717878341675, 0.9159091114997864, -0.3681134283542633, -0.10343728959560394, 0.5040087699890137, -0.4991981089115143, -0.5916514992713928, 0.4833097755908966, 0.14815007150173187, -0.25544261932373047, -0.269014835357666, -1.220723271369934, 0.21412481367588043, 0.6188563704490662, 0.6146092414855957, -1.235170602798462, -0.7314485907554626, 0.09045037627220154, -0.5026233196258545, 1.143217921257019, 0.4874115288257599, -0.3277299106121063, -0.9900208711624146, 0.3357604146003723, 0.22590488195419312, 0.5540683269500732, 5.741217136383057, -0.4480486512184143, 0.09742589294910431, -0.9613202810287476, -1.054923415184021, -0.04849610477685928, -0.27119800448417664, 0.600965142250061, 1.1701247692108154, 0.027652787044644356, -0.4465257227420807, -0.3622826039791107, 1.09793221950531, -0.3446590006351471, -0.9085936546325684, 0.48688700795173645, -1.0597357749938965, 0.27474626898765564, 0.4934140741825104, -1.1572550535202026, -0.5080817937850952, -0.33424168825149536, -0.005237799137830734, 0.009747072122991085, -0.37707316875457764, -0.010142491199076176, -1.0867220163345337, 0.30880725383758545, -0.4284544289112091, -0.4405185282230377, -0.45121848583221436, 1.197447419166565, 0.695860743522644, 0.08763246983289719, 0.04691680148243904, -0.5656752586364746, -0.19134372472763062, 0.03711077943444252, 0.20911332964897156, 0.9808287024497986, -0.23567458987236023, -0.17538240551948547, -0.7589840292930603, 0.5298734307289124, -0.6866000890731812, -0.40691041946411133, -0.0899200588464737, 0.300298810005188, 0.18074876070022583, 0.04882298409938812, -1.3348321914672852, 0.06080382317304611, -0.38959404826164246, -0.750586748123169, 0.47352954745292664, -0.4594588875770569, -0.0029734906274825335, -0.16297884285449982, -0.8809033632278442, 0.8198451399803162, 0.13080079853534698, 0.01930391974747181, 0.4752035140991211, 0.3459879457950592, -0.20287109911441803, 0.5358485579490662, 0.9970248937606812, -0.24642452597618103, 0.45213764905929565, 0.08751654624938965, 0.7868257761001587, -0.8537728190422058, 0.40368136763572693, -0.9413925409317017, -0.07155325263738632, 0.12980416417121887, 0.5845080614089966, -0.9477970004081726, -0.2533901631832123, -0.6809294819831848, 0.8459705114364624, 0.22421637177467346, -0.5985945463180542, -0.5996841788291931, 0.5768924951553345, -0.550929605960846, 0.08029278367757797, -0.25353047251701355, -0.8950948119163513, -0.018491802737116814, -1.1217036247253418, -0.06120387092232704, 0.7180076241493225, 0.3975760340690613, 0.35451045632362366, -0.23772795498371124, -0.7150484323501587, -0.7965186238288879, -0.32415127754211426, 0.9283316731452942, -0.43280819058418274, -0.2227013111114502, -0.7318902611732483, -0.8586293458938599, 0.05046410858631134, -0.3716890811920166, -0.09157532453536987, 0.08568743616342545, -0.2665330171585083, -0.5053387880325317, -0.24115970730781555, -0.23505285382270813, 0.2294202297925949, -1.2503201961517334, 0.025293996557593346, 0.17093180119991302, -0.9708908200263977, 0.015051418915390968, 0.22902646660804749, 0.3126107454299927, -0.15101242065429688, -0.9404045939445496, 0.38667240738868713, 0.8297235369682312, -0.42435139417648315, -0.14924070239067078, 0.8814352750778198, 0.21456646919250488, 0.8467804789543152, -0.05601748824119568, -0.11973876506090164, -0.4295647442340851, -0.25312355160713196, -0.57105952501297, 0.32022958993911743, -0.26517271995544434, 0.09255562722682953, 0.003960726782679558, -0.6657737493515015, -0.16219156980514526, -0.7422204613685608, -0.8092776536941528, -0.7077541351318359, 0.6821964979171753, 0.081983283162117, 0.37058693170547485, -0.5277497172355652, -0.5432083010673523, -0.5216655731201172, 0.633992075920105, 0.7739988565444946, -0.20452414453029633, -0.081454336643219, -0.31857144832611084, -0.20161737501621246, 0.45842674374580383, 1.1205941438674927, 0.21858984231948853, 0.09517838805913925, 0.7683159112930298, -0.44172200560569763]]]\n"
          ]
        }
      ]
    }
  ],
  "metadata": {
    "kernelspec": {
      "display_name": "conda_python3",
      "language": "python",
      "name": "conda_python3"
    },
    "language_info": {
      "codemirror_mode": {
        "name": "ipython",
        "version": 3
      },
      "file_extension": ".py",
      "mimetype": "text/x-python",
      "name": "python",
      "nbconvert_exporter": "python",
      "pygments_lexer": "ipython3",
      "version": "3.6.13"
    },
    "colab": {
      "provenance": [],
      "machine_shape": "hm",
      "gpuType": "T4",
      "include_colab_link": true
    },
    "accelerator": "GPU",
    "widgets": {
      "application/vnd.jupyter.widget-state+json": {
        "3d83ead2106741f3a45006c44fe12505": {
          "model_module": "@jupyter-widgets/controls",
          "model_name": "HBoxModel",
          "model_module_version": "1.5.0",
          "state": {
            "_dom_classes": [],
            "_model_module": "@jupyter-widgets/controls",
            "_model_module_version": "1.5.0",
            "_model_name": "HBoxModel",
            "_view_count": null,
            "_view_module": "@jupyter-widgets/controls",
            "_view_module_version": "1.5.0",
            "_view_name": "HBoxView",
            "box_style": "",
            "children": [
              "IPY_MODEL_0195ac10654d40aeaa6e22189b2cb0e8",
              "IPY_MODEL_555775b4fe6a4d23949a3d1dda451676",
              "IPY_MODEL_0d98de64cf6742189ae540c58e33eaac"
            ],
            "layout": "IPY_MODEL_7ec8339ff6ab4b4dbd0751b6c58c3299"
          }
        },
        "0195ac10654d40aeaa6e22189b2cb0e8": {
          "model_module": "@jupyter-widgets/controls",
          "model_name": "HTMLModel",
          "model_module_version": "1.5.0",
          "state": {
            "_dom_classes": [],
            "_model_module": "@jupyter-widgets/controls",
            "_model_module_version": "1.5.0",
            "_model_name": "HTMLModel",
            "_view_count": null,
            "_view_module": "@jupyter-widgets/controls",
            "_view_module_version": "1.5.0",
            "_view_name": "HTMLView",
            "description": "",
            "description_tooltip": null,
            "layout": "IPY_MODEL_1a4f9abd123b42109a197e81905534c9",
            "placeholder": "​",
            "style": "IPY_MODEL_d3ec43423a5442f4b23241f7509a5bc2",
            "value": "Downloading (…)olve/main/vocab.json: 100%"
          }
        },
        "555775b4fe6a4d23949a3d1dda451676": {
          "model_module": "@jupyter-widgets/controls",
          "model_name": "FloatProgressModel",
          "model_module_version": "1.5.0",
          "state": {
            "_dom_classes": [],
            "_model_module": "@jupyter-widgets/controls",
            "_model_module_version": "1.5.0",
            "_model_name": "FloatProgressModel",
            "_view_count": null,
            "_view_module": "@jupyter-widgets/controls",
            "_view_module_version": "1.5.0",
            "_view_name": "ProgressView",
            "bar_style": "success",
            "description": "",
            "description_tooltip": null,
            "layout": "IPY_MODEL_4a969076124b4aaa87bfa105f81bb05e",
            "max": 898823,
            "min": 0,
            "orientation": "horizontal",
            "style": "IPY_MODEL_6b8363df12444cffa2273de8560af883",
            "value": 898823
          }
        },
        "0d98de64cf6742189ae540c58e33eaac": {
          "model_module": "@jupyter-widgets/controls",
          "model_name": "HTMLModel",
          "model_module_version": "1.5.0",
          "state": {
            "_dom_classes": [],
            "_model_module": "@jupyter-widgets/controls",
            "_model_module_version": "1.5.0",
            "_model_name": "HTMLModel",
            "_view_count": null,
            "_view_module": "@jupyter-widgets/controls",
            "_view_module_version": "1.5.0",
            "_view_name": "HTMLView",
            "description": "",
            "description_tooltip": null,
            "layout": "IPY_MODEL_c5def37700c7408b9ea4e984643c431d",
            "placeholder": "​",
            "style": "IPY_MODEL_09001b1683204d47b9317ede63931bf6",
            "value": " 899k/899k [00:00&lt;00:00, 20.0MB/s]"
          }
        },
        "7ec8339ff6ab4b4dbd0751b6c58c3299": {
          "model_module": "@jupyter-widgets/base",
          "model_name": "LayoutModel",
          "model_module_version": "1.2.0",
          "state": {
            "_model_module": "@jupyter-widgets/base",
            "_model_module_version": "1.2.0",
            "_model_name": "LayoutModel",
            "_view_count": null,
            "_view_module": "@jupyter-widgets/base",
            "_view_module_version": "1.2.0",
            "_view_name": "LayoutView",
            "align_content": null,
            "align_items": null,
            "align_self": null,
            "border": null,
            "bottom": null,
            "display": null,
            "flex": null,
            "flex_flow": null,
            "grid_area": null,
            "grid_auto_columns": null,
            "grid_auto_flow": null,
            "grid_auto_rows": null,
            "grid_column": null,
            "grid_gap": null,
            "grid_row": null,
            "grid_template_areas": null,
            "grid_template_columns": null,
            "grid_template_rows": null,
            "height": null,
            "justify_content": null,
            "justify_items": null,
            "left": null,
            "margin": null,
            "max_height": null,
            "max_width": null,
            "min_height": null,
            "min_width": null,
            "object_fit": null,
            "object_position": null,
            "order": null,
            "overflow": null,
            "overflow_x": null,
            "overflow_y": null,
            "padding": null,
            "right": null,
            "top": null,
            "visibility": null,
            "width": null
          }
        },
        "1a4f9abd123b42109a197e81905534c9": {
          "model_module": "@jupyter-widgets/base",
          "model_name": "LayoutModel",
          "model_module_version": "1.2.0",
          "state": {
            "_model_module": "@jupyter-widgets/base",
            "_model_module_version": "1.2.0",
            "_model_name": "LayoutModel",
            "_view_count": null,
            "_view_module": "@jupyter-widgets/base",
            "_view_module_version": "1.2.0",
            "_view_name": "LayoutView",
            "align_content": null,
            "align_items": null,
            "align_self": null,
            "border": null,
            "bottom": null,
            "display": null,
            "flex": null,
            "flex_flow": null,
            "grid_area": null,
            "grid_auto_columns": null,
            "grid_auto_flow": null,
            "grid_auto_rows": null,
            "grid_column": null,
            "grid_gap": null,
            "grid_row": null,
            "grid_template_areas": null,
            "grid_template_columns": null,
            "grid_template_rows": null,
            "height": null,
            "justify_content": null,
            "justify_items": null,
            "left": null,
            "margin": null,
            "max_height": null,
            "max_width": null,
            "min_height": null,
            "min_width": null,
            "object_fit": null,
            "object_position": null,
            "order": null,
            "overflow": null,
            "overflow_x": null,
            "overflow_y": null,
            "padding": null,
            "right": null,
            "top": null,
            "visibility": null,
            "width": null
          }
        },
        "d3ec43423a5442f4b23241f7509a5bc2": {
          "model_module": "@jupyter-widgets/controls",
          "model_name": "DescriptionStyleModel",
          "model_module_version": "1.5.0",
          "state": {
            "_model_module": "@jupyter-widgets/controls",
            "_model_module_version": "1.5.0",
            "_model_name": "DescriptionStyleModel",
            "_view_count": null,
            "_view_module": "@jupyter-widgets/base",
            "_view_module_version": "1.2.0",
            "_view_name": "StyleView",
            "description_width": ""
          }
        },
        "4a969076124b4aaa87bfa105f81bb05e": {
          "model_module": "@jupyter-widgets/base",
          "model_name": "LayoutModel",
          "model_module_version": "1.2.0",
          "state": {
            "_model_module": "@jupyter-widgets/base",
            "_model_module_version": "1.2.0",
            "_model_name": "LayoutModel",
            "_view_count": null,
            "_view_module": "@jupyter-widgets/base",
            "_view_module_version": "1.2.0",
            "_view_name": "LayoutView",
            "align_content": null,
            "align_items": null,
            "align_self": null,
            "border": null,
            "bottom": null,
            "display": null,
            "flex": null,
            "flex_flow": null,
            "grid_area": null,
            "grid_auto_columns": null,
            "grid_auto_flow": null,
            "grid_auto_rows": null,
            "grid_column": null,
            "grid_gap": null,
            "grid_row": null,
            "grid_template_areas": null,
            "grid_template_columns": null,
            "grid_template_rows": null,
            "height": null,
            "justify_content": null,
            "justify_items": null,
            "left": null,
            "margin": null,
            "max_height": null,
            "max_width": null,
            "min_height": null,
            "min_width": null,
            "object_fit": null,
            "object_position": null,
            "order": null,
            "overflow": null,
            "overflow_x": null,
            "overflow_y": null,
            "padding": null,
            "right": null,
            "top": null,
            "visibility": null,
            "width": null
          }
        },
        "6b8363df12444cffa2273de8560af883": {
          "model_module": "@jupyter-widgets/controls",
          "model_name": "ProgressStyleModel",
          "model_module_version": "1.5.0",
          "state": {
            "_model_module": "@jupyter-widgets/controls",
            "_model_module_version": "1.5.0",
            "_model_name": "ProgressStyleModel",
            "_view_count": null,
            "_view_module": "@jupyter-widgets/base",
            "_view_module_version": "1.2.0",
            "_view_name": "StyleView",
            "bar_color": null,
            "description_width": ""
          }
        },
        "c5def37700c7408b9ea4e984643c431d": {
          "model_module": "@jupyter-widgets/base",
          "model_name": "LayoutModel",
          "model_module_version": "1.2.0",
          "state": {
            "_model_module": "@jupyter-widgets/base",
            "_model_module_version": "1.2.0",
            "_model_name": "LayoutModel",
            "_view_count": null,
            "_view_module": "@jupyter-widgets/base",
            "_view_module_version": "1.2.0",
            "_view_name": "LayoutView",
            "align_content": null,
            "align_items": null,
            "align_self": null,
            "border": null,
            "bottom": null,
            "display": null,
            "flex": null,
            "flex_flow": null,
            "grid_area": null,
            "grid_auto_columns": null,
            "grid_auto_flow": null,
            "grid_auto_rows": null,
            "grid_column": null,
            "grid_gap": null,
            "grid_row": null,
            "grid_template_areas": null,
            "grid_template_columns": null,
            "grid_template_rows": null,
            "height": null,
            "justify_content": null,
            "justify_items": null,
            "left": null,
            "margin": null,
            "max_height": null,
            "max_width": null,
            "min_height": null,
            "min_width": null,
            "object_fit": null,
            "object_position": null,
            "order": null,
            "overflow": null,
            "overflow_x": null,
            "overflow_y": null,
            "padding": null,
            "right": null,
            "top": null,
            "visibility": null,
            "width": null
          }
        },
        "09001b1683204d47b9317ede63931bf6": {
          "model_module": "@jupyter-widgets/controls",
          "model_name": "DescriptionStyleModel",
          "model_module_version": "1.5.0",
          "state": {
            "_model_module": "@jupyter-widgets/controls",
            "_model_module_version": "1.5.0",
            "_model_name": "DescriptionStyleModel",
            "_view_count": null,
            "_view_module": "@jupyter-widgets/base",
            "_view_module_version": "1.2.0",
            "_view_name": "StyleView",
            "description_width": ""
          }
        },
        "c4a60736da7744a99deabd93069dd2e8": {
          "model_module": "@jupyter-widgets/controls",
          "model_name": "HBoxModel",
          "model_module_version": "1.5.0",
          "state": {
            "_dom_classes": [],
            "_model_module": "@jupyter-widgets/controls",
            "_model_module_version": "1.5.0",
            "_model_name": "HBoxModel",
            "_view_count": null,
            "_view_module": "@jupyter-widgets/controls",
            "_view_module_version": "1.5.0",
            "_view_name": "HBoxView",
            "box_style": "",
            "children": [
              "IPY_MODEL_426231d500854bca8918e453d177db3b",
              "IPY_MODEL_e6552f5017a64673b67f958977680d29",
              "IPY_MODEL_8b7d848b461a4f52b42ee0fa6dbf2df3"
            ],
            "layout": "IPY_MODEL_bf5b2e420fdc49ff98ea149582b3d75c"
          }
        },
        "426231d500854bca8918e453d177db3b": {
          "model_module": "@jupyter-widgets/controls",
          "model_name": "HTMLModel",
          "model_module_version": "1.5.0",
          "state": {
            "_dom_classes": [],
            "_model_module": "@jupyter-widgets/controls",
            "_model_module_version": "1.5.0",
            "_model_name": "HTMLModel",
            "_view_count": null,
            "_view_module": "@jupyter-widgets/controls",
            "_view_module_version": "1.5.0",
            "_view_name": "HTMLView",
            "description": "",
            "description_tooltip": null,
            "layout": "IPY_MODEL_fdb8654d41ed46878a82f6ab70e55cf9",
            "placeholder": "​",
            "style": "IPY_MODEL_fbd4f7a9c5b8482192688826c5586626",
            "value": "Downloading (…)olve/main/merges.txt: 100%"
          }
        },
        "e6552f5017a64673b67f958977680d29": {
          "model_module": "@jupyter-widgets/controls",
          "model_name": "FloatProgressModel",
          "model_module_version": "1.5.0",
          "state": {
            "_dom_classes": [],
            "_model_module": "@jupyter-widgets/controls",
            "_model_module_version": "1.5.0",
            "_model_name": "FloatProgressModel",
            "_view_count": null,
            "_view_module": "@jupyter-widgets/controls",
            "_view_module_version": "1.5.0",
            "_view_name": "ProgressView",
            "bar_style": "success",
            "description": "",
            "description_tooltip": null,
            "layout": "IPY_MODEL_4ef43445de294317a2b0ccc3a8598175",
            "max": 456318,
            "min": 0,
            "orientation": "horizontal",
            "style": "IPY_MODEL_f28d7029d0774dddb73c8403fd6de36e",
            "value": 456318
          }
        },
        "8b7d848b461a4f52b42ee0fa6dbf2df3": {
          "model_module": "@jupyter-widgets/controls",
          "model_name": "HTMLModel",
          "model_module_version": "1.5.0",
          "state": {
            "_dom_classes": [],
            "_model_module": "@jupyter-widgets/controls",
            "_model_module_version": "1.5.0",
            "_model_name": "HTMLModel",
            "_view_count": null,
            "_view_module": "@jupyter-widgets/controls",
            "_view_module_version": "1.5.0",
            "_view_name": "HTMLView",
            "description": "",
            "description_tooltip": null,
            "layout": "IPY_MODEL_fd615feabb45440aaaef73d2e4d4f23c",
            "placeholder": "​",
            "style": "IPY_MODEL_9a54548d221e4378a76756b52ee3fb36",
            "value": " 456k/456k [00:00&lt;00:00, 12.0MB/s]"
          }
        },
        "bf5b2e420fdc49ff98ea149582b3d75c": {
          "model_module": "@jupyter-widgets/base",
          "model_name": "LayoutModel",
          "model_module_version": "1.2.0",
          "state": {
            "_model_module": "@jupyter-widgets/base",
            "_model_module_version": "1.2.0",
            "_model_name": "LayoutModel",
            "_view_count": null,
            "_view_module": "@jupyter-widgets/base",
            "_view_module_version": "1.2.0",
            "_view_name": "LayoutView",
            "align_content": null,
            "align_items": null,
            "align_self": null,
            "border": null,
            "bottom": null,
            "display": null,
            "flex": null,
            "flex_flow": null,
            "grid_area": null,
            "grid_auto_columns": null,
            "grid_auto_flow": null,
            "grid_auto_rows": null,
            "grid_column": null,
            "grid_gap": null,
            "grid_row": null,
            "grid_template_areas": null,
            "grid_template_columns": null,
            "grid_template_rows": null,
            "height": null,
            "justify_content": null,
            "justify_items": null,
            "left": null,
            "margin": null,
            "max_height": null,
            "max_width": null,
            "min_height": null,
            "min_width": null,
            "object_fit": null,
            "object_position": null,
            "order": null,
            "overflow": null,
            "overflow_x": null,
            "overflow_y": null,
            "padding": null,
            "right": null,
            "top": null,
            "visibility": null,
            "width": null
          }
        },
        "fdb8654d41ed46878a82f6ab70e55cf9": {
          "model_module": "@jupyter-widgets/base",
          "model_name": "LayoutModel",
          "model_module_version": "1.2.0",
          "state": {
            "_model_module": "@jupyter-widgets/base",
            "_model_module_version": "1.2.0",
            "_model_name": "LayoutModel",
            "_view_count": null,
            "_view_module": "@jupyter-widgets/base",
            "_view_module_version": "1.2.0",
            "_view_name": "LayoutView",
            "align_content": null,
            "align_items": null,
            "align_self": null,
            "border": null,
            "bottom": null,
            "display": null,
            "flex": null,
            "flex_flow": null,
            "grid_area": null,
            "grid_auto_columns": null,
            "grid_auto_flow": null,
            "grid_auto_rows": null,
            "grid_column": null,
            "grid_gap": null,
            "grid_row": null,
            "grid_template_areas": null,
            "grid_template_columns": null,
            "grid_template_rows": null,
            "height": null,
            "justify_content": null,
            "justify_items": null,
            "left": null,
            "margin": null,
            "max_height": null,
            "max_width": null,
            "min_height": null,
            "min_width": null,
            "object_fit": null,
            "object_position": null,
            "order": null,
            "overflow": null,
            "overflow_x": null,
            "overflow_y": null,
            "padding": null,
            "right": null,
            "top": null,
            "visibility": null,
            "width": null
          }
        },
        "fbd4f7a9c5b8482192688826c5586626": {
          "model_module": "@jupyter-widgets/controls",
          "model_name": "DescriptionStyleModel",
          "model_module_version": "1.5.0",
          "state": {
            "_model_module": "@jupyter-widgets/controls",
            "_model_module_version": "1.5.0",
            "_model_name": "DescriptionStyleModel",
            "_view_count": null,
            "_view_module": "@jupyter-widgets/base",
            "_view_module_version": "1.2.0",
            "_view_name": "StyleView",
            "description_width": ""
          }
        },
        "4ef43445de294317a2b0ccc3a8598175": {
          "model_module": "@jupyter-widgets/base",
          "model_name": "LayoutModel",
          "model_module_version": "1.2.0",
          "state": {
            "_model_module": "@jupyter-widgets/base",
            "_model_module_version": "1.2.0",
            "_model_name": "LayoutModel",
            "_view_count": null,
            "_view_module": "@jupyter-widgets/base",
            "_view_module_version": "1.2.0",
            "_view_name": "LayoutView",
            "align_content": null,
            "align_items": null,
            "align_self": null,
            "border": null,
            "bottom": null,
            "display": null,
            "flex": null,
            "flex_flow": null,
            "grid_area": null,
            "grid_auto_columns": null,
            "grid_auto_flow": null,
            "grid_auto_rows": null,
            "grid_column": null,
            "grid_gap": null,
            "grid_row": null,
            "grid_template_areas": null,
            "grid_template_columns": null,
            "grid_template_rows": null,
            "height": null,
            "justify_content": null,
            "justify_items": null,
            "left": null,
            "margin": null,
            "max_height": null,
            "max_width": null,
            "min_height": null,
            "min_width": null,
            "object_fit": null,
            "object_position": null,
            "order": null,
            "overflow": null,
            "overflow_x": null,
            "overflow_y": null,
            "padding": null,
            "right": null,
            "top": null,
            "visibility": null,
            "width": null
          }
        },
        "f28d7029d0774dddb73c8403fd6de36e": {
          "model_module": "@jupyter-widgets/controls",
          "model_name": "ProgressStyleModel",
          "model_module_version": "1.5.0",
          "state": {
            "_model_module": "@jupyter-widgets/controls",
            "_model_module_version": "1.5.0",
            "_model_name": "ProgressStyleModel",
            "_view_count": null,
            "_view_module": "@jupyter-widgets/base",
            "_view_module_version": "1.2.0",
            "_view_name": "StyleView",
            "bar_color": null,
            "description_width": ""
          }
        },
        "fd615feabb45440aaaef73d2e4d4f23c": {
          "model_module": "@jupyter-widgets/base",
          "model_name": "LayoutModel",
          "model_module_version": "1.2.0",
          "state": {
            "_model_module": "@jupyter-widgets/base",
            "_model_module_version": "1.2.0",
            "_model_name": "LayoutModel",
            "_view_count": null,
            "_view_module": "@jupyter-widgets/base",
            "_view_module_version": "1.2.0",
            "_view_name": "LayoutView",
            "align_content": null,
            "align_items": null,
            "align_self": null,
            "border": null,
            "bottom": null,
            "display": null,
            "flex": null,
            "flex_flow": null,
            "grid_area": null,
            "grid_auto_columns": null,
            "grid_auto_flow": null,
            "grid_auto_rows": null,
            "grid_column": null,
            "grid_gap": null,
            "grid_row": null,
            "grid_template_areas": null,
            "grid_template_columns": null,
            "grid_template_rows": null,
            "height": null,
            "justify_content": null,
            "justify_items": null,
            "left": null,
            "margin": null,
            "max_height": null,
            "max_width": null,
            "min_height": null,
            "min_width": null,
            "object_fit": null,
            "object_position": null,
            "order": null,
            "overflow": null,
            "overflow_x": null,
            "overflow_y": null,
            "padding": null,
            "right": null,
            "top": null,
            "visibility": null,
            "width": null
          }
        },
        "9a54548d221e4378a76756b52ee3fb36": {
          "model_module": "@jupyter-widgets/controls",
          "model_name": "DescriptionStyleModel",
          "model_module_version": "1.5.0",
          "state": {
            "_model_module": "@jupyter-widgets/controls",
            "_model_module_version": "1.5.0",
            "_model_name": "DescriptionStyleModel",
            "_view_count": null,
            "_view_module": "@jupyter-widgets/base",
            "_view_module_version": "1.2.0",
            "_view_name": "StyleView",
            "description_width": ""
          }
        },
        "0d454a959984404eb36a5b5c9838cf72": {
          "model_module": "@jupyter-widgets/controls",
          "model_name": "HBoxModel",
          "model_module_version": "1.5.0",
          "state": {
            "_dom_classes": [],
            "_model_module": "@jupyter-widgets/controls",
            "_model_module_version": "1.5.0",
            "_model_name": "HBoxModel",
            "_view_count": null,
            "_view_module": "@jupyter-widgets/controls",
            "_view_module_version": "1.5.0",
            "_view_name": "HBoxView",
            "box_style": "",
            "children": [
              "IPY_MODEL_2afa370de76a418fa1733938c89b895c",
              "IPY_MODEL_1090779dafd54139add525bb65d8a648",
              "IPY_MODEL_2d2543e04e504865bbc8f90693a37ff3"
            ],
            "layout": "IPY_MODEL_1b05f83c05e84ebf84085f88892199c9"
          }
        },
        "2afa370de76a418fa1733938c89b895c": {
          "model_module": "@jupyter-widgets/controls",
          "model_name": "HTMLModel",
          "model_module_version": "1.5.0",
          "state": {
            "_dom_classes": [],
            "_model_module": "@jupyter-widgets/controls",
            "_model_module_version": "1.5.0",
            "_model_name": "HTMLModel",
            "_view_count": null,
            "_view_module": "@jupyter-widgets/controls",
            "_view_module_version": "1.5.0",
            "_view_name": "HTMLView",
            "description": "",
            "description_tooltip": null,
            "layout": "IPY_MODEL_1da534d6163747debbb0532c24d84a4d",
            "placeholder": "​",
            "style": "IPY_MODEL_2dfb6fafa473413a9348840aec6e651f",
            "value": "Downloading model.safetensors: 100%"
          }
        },
        "1090779dafd54139add525bb65d8a648": {
          "model_module": "@jupyter-widgets/controls",
          "model_name": "FloatProgressModel",
          "model_module_version": "1.5.0",
          "state": {
            "_dom_classes": [],
            "_model_module": "@jupyter-widgets/controls",
            "_model_module_version": "1.5.0",
            "_model_name": "FloatProgressModel",
            "_view_count": null,
            "_view_module": "@jupyter-widgets/controls",
            "_view_module_version": "1.5.0",
            "_view_name": "ProgressView",
            "bar_style": "success",
            "description": "",
            "description_tooltip": null,
            "layout": "IPY_MODEL_5caf5439e74b41afa67d6d85386e1431",
            "max": 498818054,
            "min": 0,
            "orientation": "horizontal",
            "style": "IPY_MODEL_759cc0a800ff463eacf308f565f26592",
            "value": 498818054
          }
        },
        "2d2543e04e504865bbc8f90693a37ff3": {
          "model_module": "@jupyter-widgets/controls",
          "model_name": "HTMLModel",
          "model_module_version": "1.5.0",
          "state": {
            "_dom_classes": [],
            "_model_module": "@jupyter-widgets/controls",
            "_model_module_version": "1.5.0",
            "_model_name": "HTMLModel",
            "_view_count": null,
            "_view_module": "@jupyter-widgets/controls",
            "_view_module_version": "1.5.0",
            "_view_name": "HTMLView",
            "description": "",
            "description_tooltip": null,
            "layout": "IPY_MODEL_9cbd239f44a54bb99c6cf166b446a15f",
            "placeholder": "​",
            "style": "IPY_MODEL_23b6dde2483b4f84ba80f14de51c646a",
            "value": " 499M/499M [00:04&lt;00:00, 138MB/s]"
          }
        },
        "1b05f83c05e84ebf84085f88892199c9": {
          "model_module": "@jupyter-widgets/base",
          "model_name": "LayoutModel",
          "model_module_version": "1.2.0",
          "state": {
            "_model_module": "@jupyter-widgets/base",
            "_model_module_version": "1.2.0",
            "_model_name": "LayoutModel",
            "_view_count": null,
            "_view_module": "@jupyter-widgets/base",
            "_view_module_version": "1.2.0",
            "_view_name": "LayoutView",
            "align_content": null,
            "align_items": null,
            "align_self": null,
            "border": null,
            "bottom": null,
            "display": null,
            "flex": null,
            "flex_flow": null,
            "grid_area": null,
            "grid_auto_columns": null,
            "grid_auto_flow": null,
            "grid_auto_rows": null,
            "grid_column": null,
            "grid_gap": null,
            "grid_row": null,
            "grid_template_areas": null,
            "grid_template_columns": null,
            "grid_template_rows": null,
            "height": null,
            "justify_content": null,
            "justify_items": null,
            "left": null,
            "margin": null,
            "max_height": null,
            "max_width": null,
            "min_height": null,
            "min_width": null,
            "object_fit": null,
            "object_position": null,
            "order": null,
            "overflow": null,
            "overflow_x": null,
            "overflow_y": null,
            "padding": null,
            "right": null,
            "top": null,
            "visibility": null,
            "width": null
          }
        },
        "1da534d6163747debbb0532c24d84a4d": {
          "model_module": "@jupyter-widgets/base",
          "model_name": "LayoutModel",
          "model_module_version": "1.2.0",
          "state": {
            "_model_module": "@jupyter-widgets/base",
            "_model_module_version": "1.2.0",
            "_model_name": "LayoutModel",
            "_view_count": null,
            "_view_module": "@jupyter-widgets/base",
            "_view_module_version": "1.2.0",
            "_view_name": "LayoutView",
            "align_content": null,
            "align_items": null,
            "align_self": null,
            "border": null,
            "bottom": null,
            "display": null,
            "flex": null,
            "flex_flow": null,
            "grid_area": null,
            "grid_auto_columns": null,
            "grid_auto_flow": null,
            "grid_auto_rows": null,
            "grid_column": null,
            "grid_gap": null,
            "grid_row": null,
            "grid_template_areas": null,
            "grid_template_columns": null,
            "grid_template_rows": null,
            "height": null,
            "justify_content": null,
            "justify_items": null,
            "left": null,
            "margin": null,
            "max_height": null,
            "max_width": null,
            "min_height": null,
            "min_width": null,
            "object_fit": null,
            "object_position": null,
            "order": null,
            "overflow": null,
            "overflow_x": null,
            "overflow_y": null,
            "padding": null,
            "right": null,
            "top": null,
            "visibility": null,
            "width": null
          }
        },
        "2dfb6fafa473413a9348840aec6e651f": {
          "model_module": "@jupyter-widgets/controls",
          "model_name": "DescriptionStyleModel",
          "model_module_version": "1.5.0",
          "state": {
            "_model_module": "@jupyter-widgets/controls",
            "_model_module_version": "1.5.0",
            "_model_name": "DescriptionStyleModel",
            "_view_count": null,
            "_view_module": "@jupyter-widgets/base",
            "_view_module_version": "1.2.0",
            "_view_name": "StyleView",
            "description_width": ""
          }
        },
        "5caf5439e74b41afa67d6d85386e1431": {
          "model_module": "@jupyter-widgets/base",
          "model_name": "LayoutModel",
          "model_module_version": "1.2.0",
          "state": {
            "_model_module": "@jupyter-widgets/base",
            "_model_module_version": "1.2.0",
            "_model_name": "LayoutModel",
            "_view_count": null,
            "_view_module": "@jupyter-widgets/base",
            "_view_module_version": "1.2.0",
            "_view_name": "LayoutView",
            "align_content": null,
            "align_items": null,
            "align_self": null,
            "border": null,
            "bottom": null,
            "display": null,
            "flex": null,
            "flex_flow": null,
            "grid_area": null,
            "grid_auto_columns": null,
            "grid_auto_flow": null,
            "grid_auto_rows": null,
            "grid_column": null,
            "grid_gap": null,
            "grid_row": null,
            "grid_template_areas": null,
            "grid_template_columns": null,
            "grid_template_rows": null,
            "height": null,
            "justify_content": null,
            "justify_items": null,
            "left": null,
            "margin": null,
            "max_height": null,
            "max_width": null,
            "min_height": null,
            "min_width": null,
            "object_fit": null,
            "object_position": null,
            "order": null,
            "overflow": null,
            "overflow_x": null,
            "overflow_y": null,
            "padding": null,
            "right": null,
            "top": null,
            "visibility": null,
            "width": null
          }
        },
        "759cc0a800ff463eacf308f565f26592": {
          "model_module": "@jupyter-widgets/controls",
          "model_name": "ProgressStyleModel",
          "model_module_version": "1.5.0",
          "state": {
            "_model_module": "@jupyter-widgets/controls",
            "_model_module_version": "1.5.0",
            "_model_name": "ProgressStyleModel",
            "_view_count": null,
            "_view_module": "@jupyter-widgets/base",
            "_view_module_version": "1.2.0",
            "_view_name": "StyleView",
            "bar_color": null,
            "description_width": ""
          }
        },
        "9cbd239f44a54bb99c6cf166b446a15f": {
          "model_module": "@jupyter-widgets/base",
          "model_name": "LayoutModel",
          "model_module_version": "1.2.0",
          "state": {
            "_model_module": "@jupyter-widgets/base",
            "_model_module_version": "1.2.0",
            "_model_name": "LayoutModel",
            "_view_count": null,
            "_view_module": "@jupyter-widgets/base",
            "_view_module_version": "1.2.0",
            "_view_name": "LayoutView",
            "align_content": null,
            "align_items": null,
            "align_self": null,
            "border": null,
            "bottom": null,
            "display": null,
            "flex": null,
            "flex_flow": null,
            "grid_area": null,
            "grid_auto_columns": null,
            "grid_auto_flow": null,
            "grid_auto_rows": null,
            "grid_column": null,
            "grid_gap": null,
            "grid_row": null,
            "grid_template_areas": null,
            "grid_template_columns": null,
            "grid_template_rows": null,
            "height": null,
            "justify_content": null,
            "justify_items": null,
            "left": null,
            "margin": null,
            "max_height": null,
            "max_width": null,
            "min_height": null,
            "min_width": null,
            "object_fit": null,
            "object_position": null,
            "order": null,
            "overflow": null,
            "overflow_x": null,
            "overflow_y": null,
            "padding": null,
            "right": null,
            "top": null,
            "visibility": null,
            "width": null
          }
        },
        "23b6dde2483b4f84ba80f14de51c646a": {
          "model_module": "@jupyter-widgets/controls",
          "model_name": "DescriptionStyleModel",
          "model_module_version": "1.5.0",
          "state": {
            "_model_module": "@jupyter-widgets/controls",
            "_model_module_version": "1.5.0",
            "_model_name": "DescriptionStyleModel",
            "_view_count": null,
            "_view_module": "@jupyter-widgets/base",
            "_view_module_version": "1.2.0",
            "_view_name": "StyleView",
            "description_width": ""
          }
        }
      }
    }
  },
  "nbformat": 4,
  "nbformat_minor": 0
}